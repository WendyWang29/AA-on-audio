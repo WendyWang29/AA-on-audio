{
 "cells": [
  {
   "cell_type": "markdown",
   "source": [
    "# Load the scores"
   ],
   "metadata": {
    "collapsed": false
   },
   "id": "b7f6b397aac030b1"
  },
  {
   "cell_type": "code",
   "outputs": [],
   "source": [
    "import csv\n",
    "import re\n",
    "import sys\n",
    "\n",
    "import matplotlib.pyplot as plt\n",
    "import pandas as pd\n",
    "from src.utils import *\n",
    "from sklearn.metrics import accuracy_score, balanced_accuracy_score, roc_curve, auc"
   ],
   "metadata": {
    "collapsed": false,
    "ExecuteTime": {
     "end_time": "2024-06-21T08:49:03.003172Z",
     "start_time": "2024-06-21T08:48:59.105658Z"
    }
   },
   "id": "b433cfbf0a9e5ef8",
   "execution_count": 1
  },
  {
   "cell_type": "code",
   "outputs": [],
   "source": [
    "probs_RawNet_SSA_5dot0_csv = '../eval/prob_rawnet_eval_SSA_5dot0.csv'\n",
    "probs_RawNet_FGSM_5dot0_csv = '../eval/prob_rawnet_eval_FGSM_5dot0.csv'\n",
    "probs_ResNet_SSA_5dot0_csv = '../eval/prob_resnet_eval_SSA_5dot0.csv'\n",
    "probs_ResNet_FGSM_5dot0_csv = '../eval/prob_resnet_eval_FGSM_5dot0.csv'\n",
    "\n",
    "probs_RawNet_SSA_5dot0 = pd.read_csv(probs_RawNet_SSA_5dot0_csv, header=0, engine='python')\n",
    "probs_RawNet_FGSM_5dot0 = pd.read_csv(probs_RawNet_FGSM_5dot0_csv, header=0, engine='python')\n",
    "\n",
    "probs_ResNet_SSA_5dot0 = pd.read_csv(probs_ResNet_SSA_5dot0_csv, header=0, engine='python')\n",
    "probs_ResNet_FGSM_5dot0 = pd.read_csv(probs_ResNet_FGSM_5dot0_csv, header=0, engine='python')"
   ],
   "metadata": {
    "collapsed": false,
    "ExecuteTime": {
     "end_time": "2024-06-21T08:49:03.058902Z",
     "start_time": "2024-06-21T08:49:03.004415Z"
    }
   },
   "id": "c4ba22753fe3f4aa",
   "execution_count": 2
  },
  {
   "cell_type": "code",
   "outputs": [
    {
     "name": "stdout",
     "output_type": "stream",
     "text": [
      "Lengths are okay: 6024\n"
     ]
    }
   ],
   "source": [
    "if len(probs_RawNet_SSA_5dot0) == len(probs_RawNet_FGSM_5dot0) == len(probs_ResNet_SSA_5dot0) == len(probs_ResNet_FGSM_5dot0):\n",
    "    print(f'Lengths are okay: {len(probs_RawNet_FGSM_5dot0)-1}')\n",
    "else:\n",
    "    sys.exit('Lengths are not okay')"
   ],
   "metadata": {
    "collapsed": false,
    "ExecuteTime": {
     "end_time": "2024-06-21T08:49:03.079022Z",
     "start_time": "2024-06-21T08:49:03.060011Z"
    }
   },
   "id": "9a7531e030ef9bbf",
   "execution_count": 3
  },
  {
   "cell_type": "code",
   "outputs": [
    {
     "data": {
      "text/plain": "   Unnamed: 0                                               path  label\n0           0  /nas/public/dataset/asvspoof2019/LA/ASVspoof20...      1\n1           1  /nas/public/dataset/asvspoof2019/LA/ASVspoof20...      1\n2           2  /nas/public/dataset/asvspoof2019/LA/ASVspoof20...      1",
      "text/html": "<div>\n<style scoped>\n    .dataframe tbody tr th:only-of-type {\n        vertical-align: middle;\n    }\n\n    .dataframe tbody tr th {\n        vertical-align: top;\n    }\n\n    .dataframe thead th {\n        text-align: right;\n    }\n</style>\n<table border=\"1\" class=\"dataframe\">\n  <thead>\n    <tr style=\"text-align: right;\">\n      <th></th>\n      <th>Unnamed: 0</th>\n      <th>path</th>\n      <th>label</th>\n    </tr>\n  </thead>\n  <tbody>\n    <tr>\n      <th>0</th>\n      <td>0</td>\n      <td>/nas/public/dataset/asvspoof2019/LA/ASVspoof20...</td>\n      <td>1</td>\n    </tr>\n    <tr>\n      <th>1</th>\n      <td>1</td>\n      <td>/nas/public/dataset/asvspoof2019/LA/ASVspoof20...</td>\n      <td>1</td>\n    </tr>\n    <tr>\n      <th>2</th>\n      <td>2</td>\n      <td>/nas/public/dataset/asvspoof2019/LA/ASVspoof20...</td>\n      <td>1</td>\n    </tr>\n  </tbody>\n</table>\n</div>"
     },
     "execution_count": 4,
     "metadata": {},
     "output_type": "execute_result"
    }
   ],
   "source": [
    "config_path = '../config/residualnet_train_config.yaml'\n",
    "config = read_yaml(config_path)\n",
    "df_eval = pd.read_csv(os.path.join('..', config['df_eval_path']))\n",
    "df_eval[:3]"
   ],
   "metadata": {
    "collapsed": false,
    "ExecuteTime": {
     "end_time": "2024-06-21T08:49:03.199303Z",
     "start_time": "2024-06-21T08:49:03.079992Z"
    }
   },
   "id": "253a478858bb362e",
   "execution_count": 4
  },
  {
   "cell_type": "markdown",
   "source": [
    "***\n",
    "## Extract PREDICTED labels in the same order given by df_eval_19!"
   ],
   "metadata": {
    "collapsed": false
   },
   "id": "4fa31a8294fa9ab0"
  },
  {
   "cell_type": "code",
   "outputs": [],
   "source": [
    "def extract_id(file_path):\n",
    "    match = re.search(r'LA_E_(\\d+)', file_path)\n",
    "    if match:\n",
    "        return match.group(1)\n",
    "    return None\n",
    "    \n",
    "    \n",
    "def pred_probabilities(file2_path):\n",
    "    # read df_eval_19\n",
    "    file1_path = '../data/df_eval_19.csv'\n",
    "    \n",
    "    file1_ids = []\n",
    "    with open(file1_path, 'r') as file1:\n",
    "        csv_reader = csv.reader(file1)\n",
    "        for row in csv_reader:\n",
    "            file_id = extract_id(row[1])\n",
    "            if file_id:\n",
    "                file1_ids.append(file_id)\n",
    "    \n",
    "    # read second file and store data in a dictionary\n",
    "    file2_data = {}\n",
    "    with open(file2_path, 'r') as file2:\n",
    "        csv_reader = csv.reader(file2)\n",
    "        for row in csv_reader:\n",
    "            file_id = extract_id(row[0])\n",
    "            if file_id:\n",
    "                file2_data[file_id] = (float(row[1]), float(row[2]))\n",
    "                \n",
    "    output_array = []\n",
    "    for file_id in file1_ids:\n",
    "        if file_id in file2_data:\n",
    "            col2, col3 = file2_data[file_id]\n",
    "            output_array.append(0 if col2>col3 else 1)\n",
    "                \n",
    "    return output_array"
   ],
   "metadata": {
    "collapsed": false,
    "ExecuteTime": {
     "end_time": "2024-06-21T08:49:03.255349Z",
     "start_time": "2024-06-21T08:49:03.202958Z"
    }
   },
   "id": "bceba6dba5e34c86",
   "execution_count": 5
  },
  {
   "cell_type": "code",
   "outputs": [],
   "source": [
    "pred_labels_rawnet_SSA_5dot0 = pred_probabilities(file2_path=probs_RawNet_SSA_5dot0_csv)\n",
    "pred_labels_rawnet_FGSM_5dot0 = pred_probabilities(file2_path=probs_RawNet_FGSM_5dot0_csv)\n",
    "\n",
    "pred_labels_resnet_SSA_5dot0 = pred_probabilities(file2_path=probs_ResNet_SSA_5dot0_csv)\n",
    "pred_labels_resnet_FGSM_5dot0 = pred_probabilities(file2_path=probs_ResNet_FGSM_5dot0_csv)"
   ],
   "metadata": {
    "collapsed": false,
    "ExecuteTime": {
     "end_time": "2024-06-21T08:49:03.760027Z",
     "start_time": "2024-06-21T08:49:03.258515Z"
    }
   },
   "id": "493305436d533af",
   "execution_count": 6
  },
  {
   "cell_type": "code",
   "outputs": [],
   "source": [
    "# GT labels\n",
    "GT_labels = df_eval.iloc[:, -1].tolist()"
   ],
   "metadata": {
    "collapsed": false,
    "ExecuteTime": {
     "end_time": "2024-06-21T08:49:03.763479Z",
     "start_time": "2024-06-21T08:49:03.761031Z"
    }
   },
   "id": "9e9ee83e0c5be7ad",
   "execution_count": 7
  },
  {
   "cell_type": "markdown",
   "source": [
    "## Balanced accuracy"
   ],
   "metadata": {
    "collapsed": false
   },
   "id": "19fb937b89c84cab"
  },
  {
   "cell_type": "code",
   "outputs": [
    {
     "name": "stdout",
     "output_type": "stream",
     "text": [
      "The balanced accuracy for RawNet2 on SSA, eps=5.0 is 87.34%\n",
      "The balanced accuracy for RawNet2 on FGSM, eps=5.0 is 80.15%\n",
      "The balanced accuracy for ResNet on SSA, eps=5.0 is 81.66%\n",
      "The balanced accuracy for ResNet on FGSM, eps=5.0 is 1.42%\n"
     ]
    }
   ],
   "source": [
    "bal_acc_rawnet_SSA_5dot0 = balanced_accuracy_score(y_true=GT_labels, y_pred=pred_labels_rawnet_SSA_5dot0)\n",
    "bal_acc_rawnet_FGSM_5dot0 = balanced_accuracy_score(y_true=GT_labels, y_pred=pred_labels_rawnet_FGSM_5dot0)\n",
    "bal_acc_resnet_SSA_5dot0 = balanced_accuracy_score(y_true=GT_labels, y_pred=pred_labels_resnet_SSA_5dot0)\n",
    "bal_acc_resnet_FGSM_5dot0 = balanced_accuracy_score(y_true=GT_labels, y_pred=pred_labels_resnet_FGSM_5dot0)\n",
    "\n",
    "print(f'The balanced accuracy for RawNet2 on SSA, eps=5.0 is {bal_acc_rawnet_SSA_5dot0*100:.2f}%\\n'\n",
    "      f'The balanced accuracy for RawNet2 on FGSM, eps=5.0 is {bal_acc_rawnet_FGSM_5dot0*100:.2f}%\\n'\n",
    "      f'The balanced accuracy for ResNet on SSA, eps=5.0 is {bal_acc_resnet_SSA_5dot0*100:.2f}%\\n'\n",
    "      f'The balanced accuracy for ResNet on FGSM, eps=5.0 is {bal_acc_resnet_FGSM_5dot0*100:.2f}%')"
   ],
   "metadata": {
    "collapsed": false,
    "ExecuteTime": {
     "end_time": "2024-06-21T08:49:03.884499Z",
     "start_time": "2024-06-21T08:49:03.764433Z"
    }
   },
   "id": "81384e7d35136060",
   "execution_count": 8
  },
  {
   "cell_type": "code",
   "outputs": [],
   "source": [
    "def find_index(array1, array2):\n",
    "    indices = []\n",
    "    for index, (val1, val2) in enumerate(zip(array1, array2)):\n",
    "        if val1 == 1 and val2 == 0:\n",
    "            indices.append(index)\n",
    "            if len(indices) == 6:\n",
    "                break\n",
    "    return indices"
   ],
   "metadata": {
    "collapsed": false,
    "ExecuteTime": {
     "end_time": "2024-06-21T09:23:08.043112Z",
     "start_time": "2024-06-21T09:23:08.036672Z"
    }
   },
   "id": "ef58f1a1a0021fa7",
   "execution_count": 24
  },
  {
   "cell_type": "code",
   "outputs": [
    {
     "data": {
      "text/plain": "[21, 38, 41, 105, 114, 119]"
     },
     "execution_count": 25,
     "metadata": {},
     "output_type": "execute_result"
    }
   ],
   "source": [
    "index_1_0 = find_index(GT_labels, pred_labels_rawnet_SSA_5dot0)\n",
    "index_1_0"
   ],
   "metadata": {
    "collapsed": false,
    "ExecuteTime": {
     "end_time": "2024-06-21T09:23:09.815183Z",
     "start_time": "2024-06-21T09:23:09.803325Z"
    }
   },
   "id": "10ea5e202e5827a5",
   "execution_count": 25
  },
  {
   "cell_type": "markdown",
   "source": [
    "## Confusion Matrix\n",
    "* TN true negative, actual class was 0 (BF) and predicted as 0\n",
    "* FP false positive, actual class was 0, but predicted as 1 (deep fake)\n",
    "* FN false negative, actual class was 1, but predicted as 0\n",
    "* TP true positive, actual class was 1 and predicted as 1"
   ],
   "metadata": {
    "collapsed": false
   },
   "id": "137e1d18d17256e5"
  },
  {
   "cell_type": "code",
   "outputs": [],
   "source": [
    "from sklearn.metrics import confusion_matrix\n",
    "\n",
    "# [ TN    FP\n",
    "#   FN    TP ]"
   ],
   "metadata": {
    "collapsed": false,
    "ExecuteTime": {
     "end_time": "2024-06-21T08:51:56.448323Z",
     "start_time": "2024-06-21T08:51:56.440999Z"
    }
   },
   "id": "b57ac4a7d2128b5f",
   "execution_count": 16
  },
  {
   "cell_type": "code",
   "outputs": [
    {
     "name": "stdout",
     "output_type": "stream",
     "text": [
      "[[   0  663]\n",
      " [5210  152]]\n"
     ]
    }
   ],
   "source": [
    "cm_res_FGSM_5dot0 = confusion_matrix(GT_labels, pred_labels_resnet_FGSM_5dot0) \n",
    "print(cm_res_FGSM_5dot0)"
   ],
   "metadata": {
    "collapsed": false,
    "ExecuteTime": {
     "end_time": "2024-06-21T08:52:21.429979Z",
     "start_time": "2024-06-21T08:52:21.404314Z"
    }
   },
   "id": "9f717cf7b7a9f86e",
   "execution_count": 17
  },
  {
   "cell_type": "code",
   "outputs": [
    {
     "name": "stdout",
     "output_type": "stream",
     "text": [
      "[[ 609   54]\n",
      " [1530 3832]]\n"
     ]
    }
   ],
   "source": [
    "cm_res_ssa_5dot0 = confusion_matrix(GT_labels, pred_labels_resnet_SSA_5dot0) \n",
    "print(cm_res_ssa_5dot0)"
   ],
   "metadata": {
    "collapsed": false,
    "ExecuteTime": {
     "end_time": "2024-06-21T08:50:36.251886Z",
     "start_time": "2024-06-21T08:50:36.223746Z"
    }
   },
   "id": "e654541ca11f2d50",
   "execution_count": 13
  },
  {
   "cell_type": "code",
   "outputs": [
    {
     "name": "stdout",
     "output_type": "stream",
     "text": [
      "[[ 522  141]\n",
      " [ 217 5145]]\n"
     ]
    }
   ],
   "source": [
    "cm_raw_ssa_5dot0 = confusion_matrix(GT_labels, pred_labels_rawnet_SSA_5dot0) \n",
    "print(cm_raw_ssa_5dot0)"
   ],
   "metadata": {
    "collapsed": false,
    "ExecuteTime": {
     "end_time": "2024-06-21T08:49:15.010959Z",
     "start_time": "2024-06-21T08:49:15.001694Z"
    }
   },
   "id": "f35baa40842be439",
   "execution_count": 10
  },
  {
   "cell_type": "code",
   "outputs": [
    {
     "name": "stdout",
     "output_type": "stream",
     "text": [
      "[[ 432  231]\n",
      " [ 260 5102]]\n"
     ]
    }
   ],
   "source": [
    "cm_raw_FGSM_5dot0 = confusion_matrix(GT_labels, pred_labels_rawnet_FGSM_5dot0) \n",
    "print(cm_raw_FGSM_5dot0)"
   ],
   "metadata": {
    "collapsed": false,
    "ExecuteTime": {
     "end_time": "2024-06-21T08:49:56.756009Z",
     "start_time": "2024-06-21T08:49:56.746515Z"
    }
   },
   "id": "8417e124f39cf74f",
   "execution_count": 11
  },
  {
   "cell_type": "code",
   "outputs": [],
   "source": [],
   "metadata": {
    "collapsed": false
   },
   "id": "d0983f9efc051918"
  }
 ],
 "metadata": {
  "kernelspec": {
   "display_name": "Python 3",
   "language": "python",
   "name": "python3"
  },
  "language_info": {
   "codemirror_mode": {
    "name": "ipython",
    "version": 2
   },
   "file_extension": ".py",
   "mimetype": "text/x-python",
   "name": "python",
   "nbconvert_exporter": "python",
   "pygments_lexer": "ipython2",
   "version": "2.7.6"
  }
 },
 "nbformat": 4,
 "nbformat_minor": 5
}
