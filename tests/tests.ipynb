{
 "cells": [
  {
   "cell_type": "markdown",
   "source": [
    "# Tests\n",
    "Various tests performed on the files to explore the results coming from the model etc."
   ],
   "metadata": {
    "collapsed": false
   },
   "id": "7fa3618fd755557e"
  },
  {
   "cell_type": "code",
   "outputs": [],
   "source": [
    "import pandas as pd\n",
    "import os\n",
    "import csv\n",
    "from src.utils import *\n",
    "import IPython.display as ipd\n",
    "from src.audio_utils import read_audio\n",
    "import librosa"
   ],
   "metadata": {
    "collapsed": false,
    "ExecuteTime": {
     "end_time": "2024-05-17T14:32:22.163751500Z",
     "start_time": "2024-05-17T14:32:18.530595800Z"
    }
   },
   "id": "2b967f7aba814156",
   "execution_count": 1
  },
  {
   "cell_type": "code",
   "outputs": [],
   "source": [
    "path = '/nas/public/dataset/asvspoof2019/LA/ASVspoof2019_LA_eval/flac'"
   ],
   "metadata": {
    "collapsed": false,
    "ExecuteTime": {
     "end_time": "2024-05-17T14:32:24.307984300Z",
     "start_time": "2024-05-17T14:32:24.300973200Z"
    }
   },
   "id": "bff455ab554050c5",
   "execution_count": 2
  },
  {
   "cell_type": "code",
   "outputs": [
    {
     "data": {
      "text/plain": "['LA_E_6360321.flac',\n 'LA_E_3780130.flac',\n 'LA_E_5748987.flac',\n 'LA_E_9258313.flac',\n 'LA_E_4208002.flac']"
     },
     "execution_count": 3,
     "metadata": {},
     "output_type": "execute_result"
    }
   ],
   "source": [
    "all_items = os.listdir(path)\n",
    "items = all_items[:5]\n",
    "items"
   ],
   "metadata": {
    "collapsed": false,
    "ExecuteTime": {
     "end_time": "2024-05-17T14:32:28.206423500Z",
     "start_time": "2024-05-17T14:32:26.154869100Z"
    }
   },
   "id": "2798ea2d3c4874af",
   "execution_count": 3
  },
  {
   "cell_type": "code",
   "outputs": [
    {
     "data": {
      "text/plain": "71933"
     },
     "execution_count": 14,
     "metadata": {},
     "output_type": "execute_result"
    }
   ],
   "source": [
    "len(all_items)"
   ],
   "metadata": {
    "collapsed": false,
    "ExecuteTime": {
     "end_time": "2024-05-16T10:36:11.371229600Z",
     "start_time": "2024-05-16T10:36:11.324451100Z"
    }
   },
   "id": "653e5929c575b8ee",
   "execution_count": 14
  },
  {
   "cell_type": "code",
   "outputs": [],
   "source": [
    "path_protocols = '/nas/public/dataset/asvspoof2019/LA/ASVspoof2019_LA_cm_protocols/ASVspoof2019.LA.cm.eval.trl.txt'"
   ],
   "metadata": {
    "collapsed": false,
    "ExecuteTime": {
     "end_time": "2024-05-17T14:32:31.255562600Z",
     "start_time": "2024-05-17T14:32:31.246569200Z"
    }
   },
   "id": "766189443c4504a6",
   "execution_count": 4
  },
  {
   "cell_type": "code",
   "outputs": [
    {
     "data": {
      "text/plain": "['LA_E_2834763', 'LA_E_8877452', 'LA_E_6828287']"
     },
     "execution_count": 5,
     "metadata": {},
     "output_type": "execute_result"
    }
   ],
   "source": [
    "with open(path_protocols, 'r') as file:\n",
    "        lines = file.readlines()\n",
    "        \n",
    "file_names = [line.split()[1] for line in lines]   \n",
    "file_names[:3]"
   ],
   "metadata": {
    "collapsed": false,
    "ExecuteTime": {
     "end_time": "2024-05-17T14:32:33.081404400Z",
     "start_time": "2024-05-17T14:32:33.010971900Z"
    }
   },
   "id": "495e0ffa27c98cac",
   "execution_count": 5
  },
  {
   "cell_type": "code",
   "outputs": [
    {
     "data": {
      "text/plain": "71237"
     },
     "execution_count": 6,
     "metadata": {},
     "output_type": "execute_result"
    }
   ],
   "source": [
    "len(file_names)"
   ],
   "metadata": {
    "collapsed": false,
    "ExecuteTime": {
     "end_time": "2024-05-17T14:32:35.160113300Z",
     "start_time": "2024-05-17T14:32:35.158113100Z"
    }
   },
   "id": "1319a9acca042612",
   "execution_count": 6
  },
  {
   "cell_type": "code",
   "outputs": [
    {
     "data": {
      "text/plain": "True"
     },
     "execution_count": 13,
     "metadata": {},
     "output_type": "execute_result"
    }
   ],
   "source": [
    "target_string = 'LA_E_3780130' \n",
    "target_string in file_names\n"
   ],
   "metadata": {
    "collapsed": false,
    "ExecuteTime": {
     "end_time": "2024-05-16T10:34:38.193001900Z",
     "start_time": "2024-05-16T10:34:38.192003Z"
    }
   },
   "id": "9534f2fdc55a37e2",
   "execution_count": 13
  },
  {
   "cell_type": "code",
   "outputs": [],
   "source": [
    "def label_to_int(label):\n",
    "    return 1 if label == 'spoof' else 0"
   ],
   "metadata": {
    "collapsed": false,
    "ExecuteTime": {
     "end_time": "2024-05-17T14:32:40.059421300Z",
     "start_time": "2024-05-17T14:32:40.052428800Z"
    }
   },
   "id": "259105cac470e234",
   "execution_count": 7
  },
  {
   "cell_type": "code",
   "outputs": [
    {
     "data": {
      "text/plain": "['LA_0039 LA_E_2834763 - A11 spoof\\n',\n 'LA_0014 LA_E_8877452 - A14 spoof\\n',\n 'LA_0040 LA_E_6828287 - A16 spoof\\n',\n 'LA_0022 LA_E_6977360 - A09 spoof\\n',\n 'LA_0031 LA_E_5932896 - A13 spoof\\n',\n 'LA_0030 LA_E_5849185 - - bonafide\\n',\n 'LA_0001 LA_E_6163791 - A09 spoof\\n',\n 'LA_0033 LA_E_4581379 - - bonafide\\n',\n 'LA_0002 LA_E_8814547 - A12 spoof\\n',\n 'LA_0048 LA_E_9157999 - A18 spoof\\n']"
     },
     "execution_count": 8,
     "metadata": {},
     "output_type": "execute_result"
    }
   ],
   "source": [
    "# open the txt file for reading\n",
    "\n",
    "with open(path_protocols, 'r') as f:\n",
    "    lines = f.readlines()\n",
    "    \n",
    "lines[:10]"
   ],
   "metadata": {
    "collapsed": false,
    "ExecuteTime": {
     "end_time": "2024-05-17T14:32:41.590104300Z",
     "start_time": "2024-05-17T14:32:41.573110800Z"
    }
   },
   "id": "444cf37945c0a39b",
   "execution_count": 8
  },
  {
   "cell_type": "code",
   "outputs": [],
   "source": [
    "# path_csv = '/nas/home/wwang/SpecResNet/data/df_eval_19.csv'\n",
    "# \n",
    "# with open(path_csv, 'w', newline='') as f:\n",
    "#     writer = csv.writer(f)\n",
    "#     writer.writerow(['', 'path', 'label'])\n",
    "# \n",
    "#     for i, line in enumerate(lines):\n",
    "#         # split line into columns\n",
    "#         columns = line.strip().split(' ')\n",
    "# \n",
    "#         # extract the relevant data\n",
    "#         ordinal= i\n",
    "#         file_path = (f'/nas/public/dataset/asvspoof2019/LA/ASVspoof2019_LA_eval/flac/{columns[1]}.flac')\n",
    "#         label = label_to_int(columns[-1])\n",
    "# \n",
    "#         # write the data on the csv\n",
    "#         writer.writerow([ordinal, file_path, label])\n",
    "\n"
   ],
   "metadata": {
    "collapsed": false,
    "ExecuteTime": {
     "end_time": "2024-05-17T14:32:44.889054900Z",
     "start_time": "2024-05-17T14:32:44.706448700Z"
    }
   },
   "id": "dd541db3b0a05af5",
   "execution_count": 9
  },
  {
   "cell_type": "code",
   "outputs": [],
   "source": [
    "eval_19 = pd.read_csv('/nas/home/wwang/SpecResNet/data/df_eval_19.csv')\n",
    "# ordinal_list = list(eval_19[''])\n",
    "path_list = list(eval_19['path'])\n",
    "label_list = list(eval_19['label'])\n",
    "\n",
    "# extract only basename of files\n",
    "file_names_list = [os.path.basename(file_path) for file_path in path_list]"
   ],
   "metadata": {
    "collapsed": false,
    "ExecuteTime": {
     "end_time": "2024-05-17T14:32:48.430549700Z",
     "start_time": "2024-05-17T14:32:48.327932800Z"
    }
   },
   "id": "651793419addff2a",
   "execution_count": 10
  },
  {
   "cell_type": "code",
   "outputs": [
    {
     "data": {
      "text/plain": "['LA_E_2834763.flac',\n 'LA_E_8877452.flac',\n 'LA_E_6828287.flac',\n 'LA_E_6977360.flac',\n 'LA_E_5932896.flac',\n 'LA_E_5849185.flac',\n 'LA_E_6163791.flac',\n 'LA_E_4581379.flac',\n 'LA_E_8814547.flac',\n 'LA_E_9157999.flac']"
     },
     "execution_count": 11,
     "metadata": {},
     "output_type": "execute_result"
    }
   ],
   "source": [
    "file_names_list[:10]"
   ],
   "metadata": {
    "collapsed": false,
    "ExecuteTime": {
     "end_time": "2024-05-17T14:32:50.601041500Z",
     "start_time": "2024-05-17T14:32:50.556040800Z"
    }
   },
   "id": "4fb521af51deb5c4",
   "execution_count": 11
  },
  {
   "cell_type": "code",
   "outputs": [
    {
     "data": {
      "text/plain": "71237"
     },
     "execution_count": 33,
     "metadata": {},
     "output_type": "execute_result"
    }
   ],
   "source": [
    "len(path_list)"
   ],
   "metadata": {
    "collapsed": false,
    "ExecuteTime": {
     "end_time": "2024-05-16T11:56:17.620025Z",
     "start_time": "2024-05-16T11:56:17.608029600Z"
    }
   },
   "id": "31437db58dac9877",
   "execution_count": 33
  },
  {
   "cell_type": "code",
   "outputs": [
    {
     "data": {
      "text/plain": "['/nas/home/public/dataset/asvspoof2019/LA/ASVSpoof2019_LA_eval/flac/LA_E_2834763.flac',\n '/nas/home/public/dataset/asvspoof2019/LA/ASVSpoof2019_LA_eval/flac/LA_E_8877452.flac',\n '/nas/home/public/dataset/asvspoof2019/LA/ASVSpoof2019_LA_eval/flac/LA_E_6828287.flac',\n '/nas/home/public/dataset/asvspoof2019/LA/ASVSpoof2019_LA_eval/flac/LA_E_6977360.flac',\n '/nas/home/public/dataset/asvspoof2019/LA/ASVSpoof2019_LA_eval/flac/LA_E_5932896.flac',\n '/nas/home/public/dataset/asvspoof2019/LA/ASVSpoof2019_LA_eval/flac/LA_E_5849185.flac',\n '/nas/home/public/dataset/asvspoof2019/LA/ASVSpoof2019_LA_eval/flac/LA_E_6163791.flac',\n '/nas/home/public/dataset/asvspoof2019/LA/ASVSpoof2019_LA_eval/flac/LA_E_4581379.flac',\n '/nas/home/public/dataset/asvspoof2019/LA/ASVSpoof2019_LA_eval/flac/LA_E_8814547.flac',\n '/nas/home/public/dataset/asvspoof2019/LA/ASVSpoof2019_LA_eval/flac/LA_E_9157999.flac']"
     },
     "execution_count": 36,
     "metadata": {},
     "output_type": "execute_result"
    }
   ],
   "source": [
    "path_list[:10]"
   ],
   "metadata": {
    "collapsed": false,
    "ExecuteTime": {
     "end_time": "2024-05-16T12:06:01.108100400Z",
     "start_time": "2024-05-16T12:06:01.063504100Z"
    }
   },
   "id": "18e957f725d3dd47",
   "execution_count": 36
  },
  {
   "cell_type": "code",
   "outputs": [],
   "source": [
    "def get_missing_files(file_names_list, folder_path):\n",
    "    # Get the list of file names in the folder\n",
    "    folder_files = os.listdir(folder_path)\n",
    "    \n",
    "    missing_files = [file_name for file_name in file_names_list if file_name not in folder_files]\n",
    "    return missing_files\n",
    "    "
   ],
   "metadata": {
    "collapsed": false,
    "ExecuteTime": {
     "end_time": "2024-05-16T12:48:26.194138900Z",
     "start_time": "2024-05-16T12:48:26.192134Z"
    }
   },
   "id": "4a7a634ebef626ba",
   "execution_count": 56
  },
  {
   "cell_type": "code",
   "outputs": [
    {
     "data": {
      "text/plain": "[]"
     },
     "execution_count": 57,
     "metadata": {},
     "output_type": "execute_result"
    }
   ],
   "source": [
    "folder_path = '/nas/public/dataset/asvspoof2019/LA/ASVspoof2019_LA_eval/flac'\n",
    "get_missing_files(file_names_list, folder_path)"
   ],
   "metadata": {
    "collapsed": false,
    "ExecuteTime": {
     "end_time": "2024-05-16T12:49:09.424900900Z",
     "start_time": "2024-05-16T12:48:29.846857200Z"
    }
   },
   "id": "f38b6ec22a3f09e9",
   "execution_count": 57
  },
  {
   "cell_type": "code",
   "outputs": [],
   "source": [],
   "metadata": {
    "collapsed": false
   },
   "id": "b2dd84eb402644e8"
  },
  {
   "cell_type": "code",
   "outputs": [],
   "source": [],
   "metadata": {
    "collapsed": false
   },
   "id": "85a62cf50fd60553"
  },
  {
   "cell_type": "code",
   "outputs": [],
   "source": [],
   "metadata": {
    "collapsed": false
   },
   "id": "b911100305550eb5"
  },
  {
   "cell_type": "code",
   "outputs": [],
   "source": [
    "config_path = '../config/residualnet_train_config.yaml'\n",
    "config = read_yaml(config_path)"
   ],
   "metadata": {
    "collapsed": false,
    "ExecuteTime": {
     "end_time": "2024-05-14T09:28:46.727138Z",
     "start_time": "2024-05-14T09:28:46.713536600Z"
    }
   },
   "id": "5136dbc9a6d6a0c5",
   "execution_count": 2
  },
  {
   "cell_type": "code",
   "outputs": [
    {
     "name": "stdout",
     "output_type": "stream",
     "text": [
      "Evaluating file /nas/public/dataset/asvspoof2021/ASVspoof2021_DF_eval/flac/DF_E_4997556.flac with label 1\n"
     ]
    }
   ],
   "source": [
    "df_eval = pd.read_csv(os.path.join('..', config['df_eval_path']))\n",
    "file_eval = list(df_eval['path'])\n",
    "label_eval = list(df_eval['label'])\n",
    "\n",
    "# get the single file path\n",
    "index = -500\n",
    "file = file_eval[index]\n",
    "label = label_eval[index]\n",
    "print(f'Evaluating file {file} with label {label}')"
   ],
   "metadata": {
    "collapsed": false,
    "ExecuteTime": {
     "end_time": "2024-05-14T09:29:25.927639400Z",
     "start_time": "2024-05-14T09:29:24.872737600Z"
    }
   },
   "id": "4caba4f7b682a5f7",
   "execution_count": 5
  },
  {
   "cell_type": "code",
   "outputs": [
    {
     "data": {
      "text/plain": "611829"
     },
     "execution_count": 6,
     "metadata": {},
     "output_type": "execute_result"
    }
   ],
   "source": [
    "len(file_eval)"
   ],
   "metadata": {
    "collapsed": false,
    "ExecuteTime": {
     "end_time": "2024-05-14T10:17:58.352907400Z",
     "start_time": "2024-05-14T10:17:58.346774Z"
    }
   },
   "id": "80bd32aaec51c344",
   "execution_count": 6
  },
  {
   "cell_type": "code",
   "outputs": [],
   "source": [
    "X, fs = read_audio(file)\n",
    "print(f'File {0} is {X.size} samples long with fs={fs}')"
   ],
   "metadata": {
    "collapsed": false,
    "ExecuteTime": {
     "start_time": "2024-05-13T22:34:27.859116100Z"
    }
   },
   "id": "5038046675b14264",
   "execution_count": null
  },
  {
   "cell_type": "code",
   "outputs": [],
   "source": [
    "ipd.Audio(file)"
   ],
   "metadata": {
    "collapsed": false,
    "ExecuteTime": {
     "start_time": "2024-05-13T22:34:27.859116100Z"
    }
   },
   "id": "3470d00e00c36659",
   "execution_count": null
  },
  {
   "cell_type": "code",
   "outputs": [],
   "source": [
    "s = librosa.core.stft(X, n_fft=2048, win_length=2048, hop_length=512, center=False)\n",
    "s.shape"
   ],
   "metadata": {
    "collapsed": false,
    "ExecuteTime": {
     "start_time": "2024-05-13T22:34:27.859116100Z"
    }
   },
   "id": "78cbaec86b0312ff",
   "execution_count": null
  },
  {
   "cell_type": "code",
   "outputs": [],
   "source": [
    "\n"
   ],
   "metadata": {
    "collapsed": false,
    "ExecuteTime": {
     "start_time": "2024-05-13T22:34:27.859116100Z"
    }
   },
   "id": "f4ff775a56aec4e0",
   "execution_count": null
  },
  {
   "cell_type": "code",
   "outputs": [],
   "source": [],
   "metadata": {
    "collapsed": false,
    "ExecuteTime": {
     "start_time": "2024-05-13T22:34:27.859116100Z"
    }
   },
   "id": "31eda14641c60b78",
   "execution_count": null
  },
  {
   "cell_type": "code",
   "outputs": [],
   "source": [],
   "metadata": {
    "collapsed": false,
    "ExecuteTime": {
     "start_time": "2024-05-13T22:34:27.859116100Z"
    }
   },
   "id": "5c4ec1943c737f1f",
   "execution_count": null
  },
  {
   "cell_type": "code",
   "outputs": [],
   "source": [],
   "metadata": {
    "collapsed": false,
    "ExecuteTime": {
     "end_time": "2024-05-13T22:34:27.863116Z",
     "start_time": "2024-05-13T22:34:27.859116100Z"
    }
   },
   "id": "3b1f0388207467d5",
   "execution_count": null
  },
  {
   "cell_type": "code",
   "outputs": [],
   "source": [],
   "metadata": {
    "collapsed": false,
    "ExecuteTime": {
     "start_time": "2024-05-13T22:34:27.859116100Z"
    }
   },
   "id": "92d34a52229fa38b",
   "execution_count": null
  },
  {
   "cell_type": "code",
   "outputs": [],
   "source": [
    "# checks on evaluation files list and scores obtained\n",
    "print(f'Number of evaluation files is {len(file_eval)}')\n",
    "print(f'Number of evaluation files labels is {len(label_eval)}')\n",
    "print(f'The last 10 evaluated files are:\\n {file_eval[len(file_eval)-10:len(file_eval)]}')"
   ],
   "metadata": {
    "collapsed": false,
    "ExecuteTime": {
     "start_time": "2024-05-13T22:34:27.859116100Z"
    }
   },
   "id": "dad22e34632f8fef",
   "execution_count": null
  },
  {
   "cell_type": "code",
   "outputs": [],
   "source": [
    "eval_scores_path = '../eval/scores_resnet_spec_eval.csv'\n",
    "eval_scores_list = []\n",
    "\n",
    "import csv\n",
    "with open(eval_scores_path, 'r') as file:\n",
    "    csv_reader = csv.reader(file)\n",
    "    for row in csv_reader:\n",
    "        if row:\n",
    "            eval_scores_list.append(row[0])\n",
    "            \n",
    "print(f'The length of the score list is {len(eval_scores_list)}')"
   ],
   "metadata": {
    "collapsed": false,
    "ExecuteTime": {
     "start_time": "2024-05-13T22:34:27.859116100Z"
    }
   },
   "id": "454c10a90b5154c1",
   "execution_count": null
  },
  {
   "cell_type": "code",
   "outputs": [],
   "source": [
    "eval_scores_list[0]"
   ],
   "metadata": {
    "collapsed": false,
    "ExecuteTime": {
     "start_time": "2024-05-13T22:34:27.860119500Z"
    }
   },
   "id": "19a2ae410df7e0e4",
   "execution_count": null
  },
  {
   "cell_type": "code",
   "outputs": [],
   "source": [],
   "metadata": {
    "collapsed": false,
    "ExecuteTime": {
     "start_time": "2024-05-13T22:34:27.865117700Z"
    }
   },
   "id": "2387c18d11a3f4",
   "execution_count": null
  },
  {
   "cell_type": "code",
   "outputs": [],
   "source": [],
   "metadata": {
    "collapsed": false,
    "ExecuteTime": {
     "start_time": "2024-05-13T22:34:27.865117700Z"
    }
   },
   "id": "fe3158603e7733f3",
   "execution_count": null
  },
  {
   "cell_type": "code",
   "outputs": [],
   "source": [
    "file_path = '../attacks/FGSM_data/p_audio/FGSM_DF_E_2000011_0.3.flac'"
   ],
   "metadata": {
    "collapsed": false,
    "ExecuteTime": {
     "end_time": "2024-05-13T22:34:27.866116400Z",
     "start_time": "2024-05-13T22:34:27.865117700Z"
    }
   },
   "id": "ebbe5015b3de87bd",
   "execution_count": null
  },
  {
   "cell_type": "code",
   "outputs": [],
   "source": [
    "ipd.Audio(file_path)"
   ],
   "metadata": {
    "collapsed": false,
    "ExecuteTime": {
     "start_time": "2024-05-13T22:34:27.865117700Z"
    }
   },
   "id": "58c136bd594100d9",
   "execution_count": null
  },
  {
   "cell_type": "code",
   "outputs": [],
   "source": [],
   "metadata": {
    "collapsed": false,
    "ExecuteTime": {
     "start_time": "2024-05-13T22:34:27.865117700Z"
    }
   },
   "id": "f45cc3101d957b9d"
  }
 ],
 "metadata": {
  "kernelspec": {
   "display_name": "Python 3",
   "language": "python",
   "name": "python3"
  },
  "language_info": {
   "codemirror_mode": {
    "name": "ipython",
    "version": 2
   },
   "file_extension": ".py",
   "mimetype": "text/x-python",
   "name": "python",
   "nbconvert_exporter": "python",
   "pygments_lexer": "ipython2",
   "version": "2.7.6"
  }
 },
 "nbformat": 4,
 "nbformat_minor": 5
}
