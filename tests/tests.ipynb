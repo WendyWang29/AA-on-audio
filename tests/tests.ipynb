{
 "cells": [
  {
   "cell_type": "markdown",
   "source": [
    "# Tests\n",
    "Various tests performed on the files to explore the results coming from the model etc."
   ],
   "metadata": {
    "collapsed": false
   },
   "id": "7fa3618fd755557e"
  },
  {
   "cell_type": "code",
   "outputs": [],
   "source": [
    "import pandas as pd\n",
    "from src.utils import *\n",
    "import IPython.display as ipd\n",
    "from src.audio_utils import read_audio\n",
    "import librosa"
   ],
   "metadata": {
    "collapsed": false,
    "ExecuteTime": {
     "end_time": "2024-05-14T09:28:44.432371100Z",
     "start_time": "2024-05-14T09:28:39.572400400Z"
    }
   },
   "id": "2b967f7aba814156",
   "execution_count": 1
  },
  {
   "cell_type": "code",
   "outputs": [],
   "source": [
    "config_path = '../config/residualnet_train_config.yaml'\n",
    "config = read_yaml(config_path)"
   ],
   "metadata": {
    "collapsed": false,
    "ExecuteTime": {
     "end_time": "2024-05-14T09:28:46.727138Z",
     "start_time": "2024-05-14T09:28:46.713536600Z"
    }
   },
   "id": "5136dbc9a6d6a0c5",
   "execution_count": 2
  },
  {
   "cell_type": "code",
   "outputs": [
    {
     "name": "stdout",
     "output_type": "stream",
     "text": [
      "Evaluating file /nas/public/dataset/asvspoof2021/ASVspoof2021_DF_eval/flac/DF_E_4997556.flac with label 1\n"
     ]
    }
   ],
   "source": [
    "df_eval = pd.read_csv(os.path.join('..', config['df_eval_path']))\n",
    "file_eval = list(df_eval['path'])\n",
    "label_eval = list(df_eval['label'])\n",
    "\n",
    "# get the single file path\n",
    "index = -500\n",
    "file = file_eval[index]\n",
    "label = label_eval[index]\n",
    "print(f'Evaluating file {file} with label {label}')"
   ],
   "metadata": {
    "collapsed": false,
    "ExecuteTime": {
     "end_time": "2024-05-14T09:29:25.927639400Z",
     "start_time": "2024-05-14T09:29:24.872737600Z"
    }
   },
   "id": "4caba4f7b682a5f7",
   "execution_count": 5
  },
  {
   "cell_type": "code",
   "outputs": [
    {
     "data": {
      "text/plain": "611829"
     },
     "execution_count": 6,
     "metadata": {},
     "output_type": "execute_result"
    }
   ],
   "source": [
    "len(file_eval)"
   ],
   "metadata": {
    "collapsed": false,
    "ExecuteTime": {
     "end_time": "2024-05-14T10:17:58.352907400Z",
     "start_time": "2024-05-14T10:17:58.346774Z"
    }
   },
   "id": "80bd32aaec51c344",
   "execution_count": 6
  },
  {
   "cell_type": "code",
   "outputs": [],
   "source": [
    "X, fs = read_audio(file)\n",
    "print(f'File {0} is {X.size} samples long with fs={fs}')"
   ],
   "metadata": {
    "collapsed": false,
    "ExecuteTime": {
     "start_time": "2024-05-13T22:34:27.859116100Z"
    }
   },
   "id": "5038046675b14264",
   "execution_count": null
  },
  {
   "cell_type": "code",
   "outputs": [],
   "source": [
    "ipd.Audio(file)"
   ],
   "metadata": {
    "collapsed": false,
    "ExecuteTime": {
     "start_time": "2024-05-13T22:34:27.859116100Z"
    }
   },
   "id": "3470d00e00c36659",
   "execution_count": null
  },
  {
   "cell_type": "code",
   "outputs": [],
   "source": [
    "s = librosa.core.stft(X, n_fft=2048, win_length=2048, hop_length=512, center=False)\n",
    "s.shape"
   ],
   "metadata": {
    "collapsed": false,
    "ExecuteTime": {
     "start_time": "2024-05-13T22:34:27.859116100Z"
    }
   },
   "id": "78cbaec86b0312ff",
   "execution_count": null
  },
  {
   "cell_type": "code",
   "outputs": [],
   "source": [
    "\n"
   ],
   "metadata": {
    "collapsed": false,
    "ExecuteTime": {
     "start_time": "2024-05-13T22:34:27.859116100Z"
    }
   },
   "id": "f4ff775a56aec4e0",
   "execution_count": null
  },
  {
   "cell_type": "code",
   "outputs": [],
   "source": [],
   "metadata": {
    "collapsed": false,
    "ExecuteTime": {
     "start_time": "2024-05-13T22:34:27.859116100Z"
    }
   },
   "id": "31eda14641c60b78",
   "execution_count": null
  },
  {
   "cell_type": "code",
   "outputs": [],
   "source": [],
   "metadata": {
    "collapsed": false,
    "ExecuteTime": {
     "start_time": "2024-05-13T22:34:27.859116100Z"
    }
   },
   "id": "5c4ec1943c737f1f",
   "execution_count": null
  },
  {
   "cell_type": "code",
   "outputs": [],
   "source": [],
   "metadata": {
    "collapsed": false,
    "ExecuteTime": {
     "end_time": "2024-05-13T22:34:27.863116Z",
     "start_time": "2024-05-13T22:34:27.859116100Z"
    }
   },
   "id": "3b1f0388207467d5",
   "execution_count": null
  },
  {
   "cell_type": "code",
   "outputs": [],
   "source": [],
   "metadata": {
    "collapsed": false,
    "ExecuteTime": {
     "start_time": "2024-05-13T22:34:27.859116100Z"
    }
   },
   "id": "92d34a52229fa38b",
   "execution_count": null
  },
  {
   "cell_type": "code",
   "outputs": [],
   "source": [
    "# checks on evaluation files list and scores obtained\n",
    "print(f'Number of evaluation files is {len(file_eval)}')\n",
    "print(f'Number of evaluation files labels is {len(label_eval)}')\n",
    "print(f'The last 10 evaluated files are:\\n {file_eval[len(file_eval)-10:len(file_eval)]}')"
   ],
   "metadata": {
    "collapsed": false,
    "ExecuteTime": {
     "start_time": "2024-05-13T22:34:27.859116100Z"
    }
   },
   "id": "dad22e34632f8fef",
   "execution_count": null
  },
  {
   "cell_type": "code",
   "outputs": [],
   "source": [
    "eval_scores_path = '../eval/scores_resnet_spec_eval.csv'\n",
    "eval_scores_list = []\n",
    "\n",
    "import csv\n",
    "with open(eval_scores_path, 'r') as file:\n",
    "    csv_reader = csv.reader(file)\n",
    "    for row in csv_reader:\n",
    "        if row:\n",
    "            eval_scores_list.append(row[0])\n",
    "            \n",
    "print(f'The length of the score list is {len(eval_scores_list)}')"
   ],
   "metadata": {
    "collapsed": false,
    "ExecuteTime": {
     "start_time": "2024-05-13T22:34:27.859116100Z"
    }
   },
   "id": "454c10a90b5154c1",
   "execution_count": null
  },
  {
   "cell_type": "code",
   "outputs": [],
   "source": [
    "eval_scores_list[0]"
   ],
   "metadata": {
    "collapsed": false,
    "ExecuteTime": {
     "start_time": "2024-05-13T22:34:27.860119500Z"
    }
   },
   "id": "19a2ae410df7e0e4",
   "execution_count": null
  },
  {
   "cell_type": "code",
   "outputs": [],
   "source": [],
   "metadata": {
    "collapsed": false,
    "ExecuteTime": {
     "start_time": "2024-05-13T22:34:27.865117700Z"
    }
   },
   "id": "2387c18d11a3f4",
   "execution_count": null
  },
  {
   "cell_type": "code",
   "outputs": [],
   "source": [],
   "metadata": {
    "collapsed": false,
    "ExecuteTime": {
     "start_time": "2024-05-13T22:34:27.865117700Z"
    }
   },
   "id": "fe3158603e7733f3",
   "execution_count": null
  },
  {
   "cell_type": "code",
   "outputs": [],
   "source": [
    "file_path = '../attacks/FGSM_data/p_audio/FGSM_DF_E_2000011_0.3.flac'"
   ],
   "metadata": {
    "collapsed": false,
    "ExecuteTime": {
     "end_time": "2024-05-13T22:34:27.866116400Z",
     "start_time": "2024-05-13T22:34:27.865117700Z"
    }
   },
   "id": "ebbe5015b3de87bd",
   "execution_count": null
  },
  {
   "cell_type": "code",
   "outputs": [],
   "source": [
    "ipd.Audio(file_path)"
   ],
   "metadata": {
    "collapsed": false,
    "ExecuteTime": {
     "start_time": "2024-05-13T22:34:27.865117700Z"
    }
   },
   "id": "58c136bd594100d9",
   "execution_count": null
  },
  {
   "cell_type": "code",
   "outputs": [],
   "source": [],
   "metadata": {
    "collapsed": false,
    "ExecuteTime": {
     "start_time": "2024-05-13T22:34:27.865117700Z"
    }
   },
   "id": "f45cc3101d957b9d"
  }
 ],
 "metadata": {
  "kernelspec": {
   "display_name": "Python 3",
   "language": "python",
   "name": "python3"
  },
  "language_info": {
   "codemirror_mode": {
    "name": "ipython",
    "version": 2
   },
   "file_extension": ".py",
   "mimetype": "text/x-python",
   "name": "python",
   "nbconvert_exporter": "python",
   "pygments_lexer": "ipython2",
   "version": "2.7.6"
  }
 },
 "nbformat": 4,
 "nbformat_minor": 5
}
