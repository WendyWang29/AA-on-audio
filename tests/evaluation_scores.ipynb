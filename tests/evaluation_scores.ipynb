{
 "cells": [
  {
   "cell_type": "markdown",
   "source": [
    "# Evaluation scores\n",
    "\n"
   ],
   "metadata": {
    "collapsed": false
   },
   "id": "e72e876c1cd569fb"
  },
  {
   "cell_type": "markdown",
   "source": [
    "example: <br>\n",
    "higher log probability ==> predicted class\n",
    "if [score 0]=-2 and [score 1]=-3 then it means that the predicted class is class 0 <br>\n",
    "[score] = -2+3 = 1 > 0 --> class 0\n",
    "<br>\n",
    "###########\n",
    "<br>\n",
    "if [score 0]=-3 and [score 1]=-2 then it means that the predicted class is class 1 <br>\n",
    "[score] = -3+2 = -1 < 0 --> class 1"
   ],
   "metadata": {
    "collapsed": false
   },
   "id": "91fad8d613b40b5"
  },
  {
   "cell_type": "markdown",
   "source": [
    "***\n",
    "## Load the scores"
   ],
   "metadata": {
    "collapsed": false
   },
   "id": "8e997dc3e96b5904"
  },
  {
   "cell_type": "code",
   "outputs": [],
   "source": [
    "import csv\n",
    "import pandas as pd\n",
    "from src.utils import *\n",
    "from sklearn.metrics import accuracy_score, balanced_accuracy_score, roc_curve, auc"
   ],
   "metadata": {
    "collapsed": false,
    "ExecuteTime": {
     "end_time": "2024-05-21T22:37:53.351290Z",
     "start_time": "2024-05-21T22:37:41.623401800Z"
    }
   },
   "id": "142b35be13b9255",
   "execution_count": 1
  },
  {
   "cell_type": "code",
   "outputs": [],
   "source": [
    "# paths to csv score files\n",
    "probs_clean_csv = '../eval/prob_resnet_spec_eval.csv'\n",
    "#score_2dot0_csv = '../eval/scores_resnet_spec_eval_FGSM_2dot0.csv' \n",
    "#score_3dot0_csv = '../eval/scores_resnet_spec_eval_FGSM_3dot0.csv'\n",
    "\n",
    "probs_clean = pd.read_csv(probs_clean_csv, delimiter=' ', header=None, engine='python')\n",
    "#scores_2dot0 = pd.read_csv(score_2dot0_csv, delimiter=' ', header=None, engine='python')\n",
    "#scores_3dot0 = pd.read_csv(score_3dot0_csv, delimiter=' ', header=None, engine='python')"
   ],
   "metadata": {
    "collapsed": false,
    "ExecuteTime": {
     "end_time": "2024-05-21T22:38:17.796351400Z",
     "start_time": "2024-05-21T22:38:17.593747600Z"
    }
   },
   "id": "2e0dfecac7f3448f",
   "execution_count": 3
  },
  {
   "cell_type": "code",
   "outputs": [],
   "source": [
    "# ground truth file of evaluation dataset (ASVSpoof2019)\n",
    "config_path = '../config/residualnet_train_config.yaml'\n",
    "config = read_yaml(config_path)\n",
    "df_eval = pd.read_csv(os.path.join('..', config['df_eval_path']))"
   ],
   "metadata": {
    "collapsed": false,
    "ExecuteTime": {
     "end_time": "2024-05-21T22:38:18.803569600Z",
     "start_time": "2024-05-21T22:38:18.621385Z"
    }
   },
   "id": "1d24f73447dcc84d",
   "execution_count": 4
  },
  {
   "cell_type": "code",
   "outputs": [],
   "source": [
    "# print(f'The length of the evaluation file list is {len(df_eval)}\\n'\n",
    "#     f'The length of the clean score list is {len(scores_clean)}\\n'\n",
    "#     f'The length of the epsilon=2.0 score list is {len(scores_2dot0)}\\n'\n",
    "#     f'The length of the epsilon=3.0 score list is {len(scores_3dot0)}')"
   ],
   "metadata": {
    "collapsed": false,
    "ExecuteTime": {
     "start_time": "2024-05-21T22:37:53.693293900Z"
    }
   },
   "id": "bc0f2f5e23c73129",
   "execution_count": null
  },
  {
   "cell_type": "markdown",
   "source": [
    "***\n",
    "## Accuracies"
   ],
   "metadata": {
    "collapsed": false
   },
   "id": "9e461ee5cbb054fb"
  },
  {
   "cell_type": "code",
   "outputs": [],
   "source": [
    "# the score values .csv uses a space as a delimiter between the file path and the score\n",
    "\n",
    "def convert_column_to_binary(csv_file):\n",
    "    binary_list = []\n",
    "    \n",
    "    with open(csv_file, 'r') as file:\n",
    "        reader = csv.reader(file)\n",
    "        next(reader) # skip the header\n",
    "        for line in reader:\n",
    "            val_1 = float(line[1])\n",
    "            val_2 = float(line[2])\n",
    "            \n",
    "            try:\n",
    "                if val_1 > val_2:\n",
    "                    binary_list.append(0)\n",
    "                else:\n",
    "                    binary_list.append(1)\n",
    "            except ValueError:\n",
    "                pass\n",
    "        \n",
    "    return binary_list"
   ],
   "metadata": {
    "collapsed": false,
    "ExecuteTime": {
     "end_time": "2024-05-21T22:44:39.084990900Z",
     "start_time": "2024-05-21T22:44:39.042989400Z"
    }
   },
   "id": "7c08eb7c873e49ef",
   "execution_count": 12
  },
  {
   "cell_type": "code",
   "outputs": [],
   "source": [
    "pred_labels_clean = convert_column_to_binary(csv_file=probs_clean_csv)\n",
    "#pred_labels_2dot0 = convert_column_to_binary(csv_file=score_2dot0_csv)\n",
    "#pred_labels_3dot0 = convert_column_to_binary(csv_file=score_3dot0_csv)"
   ],
   "metadata": {
    "collapsed": false,
    "ExecuteTime": {
     "end_time": "2024-05-21T22:44:40.812465700Z",
     "start_time": "2024-05-21T22:44:40.745200900Z"
    }
   },
   "id": "44b08a1d9c8d33f2",
   "execution_count": 13
  },
  {
   "cell_type": "code",
   "outputs": [],
   "source": [
    "# get the GT labels\n",
    "GT_labels = df_eval.iloc[:, -1].tolist()"
   ],
   "metadata": {
    "collapsed": false,
    "ExecuteTime": {
     "end_time": "2024-05-21T22:38:24.705042200Z",
     "start_time": "2024-05-21T22:38:24.704042Z"
    }
   },
   "id": "516387f94a0af361",
   "execution_count": 6
  },
  {
   "cell_type": "markdown",
   "source": [
    "### Unbalanced accuracy"
   ],
   "metadata": {
    "collapsed": false
   },
   "id": "66e00a28df8b80"
  },
  {
   "cell_type": "code",
   "outputs": [],
   "source": [
    "unb_acc_clean = accuracy_score(y_true=GT_labels, y_pred=pred_labels_clean)\n",
    "#unb_acc_2dot0 = accuracy_score(y_true=GT_labels, y_pred=pred_labels_2dot0)\n",
    "#unb_acc_3dot0 = accuracy_score(y_true=GT_labels, y_pred=pred_labels_3dot0)\n",
    "\n",
    "# print(f'The unbalanced acc for clean eval set is {unb_acc_clean*100:.2f}%\\n'\n",
    "#       f'The unbalanced acc for epsilon = 2.0 set is {unb_acc_2dot0*100:.2f}%\\n'\n",
    "#       f'The unbalanced acc for epsilon = 3.0 set is {unb_acc_3dot0*100:.2f}%')\n"
   ],
   "metadata": {
    "collapsed": false,
    "ExecuteTime": {
     "end_time": "2024-05-21T22:45:33.162795900Z",
     "start_time": "2024-05-21T22:45:33.118796500Z"
    }
   },
   "id": "976020a289e74015",
   "execution_count": 16
  },
  {
   "cell_type": "code",
   "outputs": [
    {
     "data": {
      "text/plain": "0.7715232252902284"
     },
     "execution_count": 17,
     "metadata": {},
     "output_type": "execute_result"
    }
   ],
   "source": [
    "unb_acc_clean"
   ],
   "metadata": {
    "collapsed": false,
    "ExecuteTime": {
     "end_time": "2024-05-21T22:45:44.329710700Z",
     "start_time": "2024-05-21T22:45:44.318710300Z"
    }
   },
   "id": "a4b8f3eef87d8fe7",
   "execution_count": 17
  },
  {
   "cell_type": "markdown",
   "source": [
    "### Balanced accuracy"
   ],
   "metadata": {
    "collapsed": false
   },
   "id": "4ee223319e273960"
  },
  {
   "cell_type": "code",
   "outputs": [],
   "source": [
    "bal_acc_clean = balanced_accuracy_score(y_true=GT_labels, y_pred=pred_labels_clean)\n",
    "#bal_acc_2dot0 = balanced_accuracy_score(y_true=GT_labels, y_pred=pred_labels_2dot0)\n",
    "#bal_acc_3dot0 = balanced_accuracy_score(y_true=GT_labels, y_pred=pred_labels_3dot0)\n",
    "\n",
    "# print(f'The balanced acc for clean eval set is {bal_acc_clean*100:.2f}%\\n'\n",
    "#       f'The balanced acc for epsilon = 2.0 set is {bal_acc_2dot0*100:.2f}%\\n'\n",
    "#       f'The balanced acc for epsilon = 3.0 set is {bal_acc_3dot0*100:.2f}%')"
   ],
   "metadata": {
    "collapsed": false,
    "ExecuteTime": {
     "end_time": "2024-05-21T22:45:57.785936800Z",
     "start_time": "2024-05-21T22:45:57.765943Z"
    }
   },
   "id": "7dbe85893dd35774",
   "execution_count": 18
  },
  {
   "cell_type": "code",
   "outputs": [
    {
     "data": {
      "text/plain": "0.8421107771549647"
     },
     "execution_count": 19,
     "metadata": {},
     "output_type": "execute_result"
    }
   ],
   "source": [
    "bal_acc_clean"
   ],
   "metadata": {
    "collapsed": false,
    "ExecuteTime": {
     "end_time": "2024-05-21T22:45:59.437588300Z",
     "start_time": "2024-05-21T22:45:59.435578400Z"
    }
   },
   "id": "72dc17c4afd54ceb",
   "execution_count": 19
  },
  {
   "cell_type": "markdown",
   "source": [
    "***\n",
    "## ROC curve and AUC"
   ],
   "metadata": {
    "collapsed": false
   },
   "id": "437d1a260a27df1"
  },
  {
   "cell_type": "code",
   "outputs": [],
   "source": [
    "def create_prob_pos_class_list(csv_file):\n",
    "    probs_pos_class = []\n",
    "    with open(csv_file, 'r') as file:\n",
    "        reader = csv.reader(file)\n",
    "        next(reader) # skip the header\n",
    "        for row in reader:\n",
    "            val = float(row[2])\n",
    "            probs_pos_class.append(val)\n",
    "    return probs_pos_class"
   ],
   "metadata": {
    "collapsed": false,
    "ExecuteTime": {
     "end_time": "2024-05-21T22:52:46.822380400Z",
     "start_time": "2024-05-21T22:52:46.818378800Z"
    }
   },
   "id": "23b46a244c70e7f5",
   "execution_count": 27
  },
  {
   "cell_type": "code",
   "outputs": [],
   "source": [
    "positive_class_probs = create_prob_pos_class_list(probs_clean_csv)"
   ],
   "metadata": {
    "collapsed": false,
    "ExecuteTime": {
     "end_time": "2024-05-21T22:52:49.034632Z",
     "start_time": "2024-05-21T22:52:48.975301700Z"
    }
   },
   "id": "220495e2b172c29d",
   "execution_count": 28
  },
  {
   "cell_type": "code",
   "outputs": [
    {
     "data": {
      "text/plain": "[0.48780534,\n 1.0,\n 1.0,\n 0.9817407,\n 0.96985245,\n 0.07430472,\n 0.9997313,\n 0.029095853,\n 0.6075092,\n 0.03741779,\n 0.31055078,\n 1.0,\n 0.37272164,\n 1.0,\n 0.12848933,\n 0.00052772835,\n 1.0,\n 0.00028928535,\n 0.99998045,\n 0.60022813,\n 0.09772603,\n 0.99962693,\n 0.29501596,\n 0.99999976,\n 0.23267157,\n 0.1571131,\n 0.06307104,\n 0.6207094,\n 1.0,\n 0.01925409,\n 0.1486297,\n 0.9990645,\n 0.5588632,\n 0.30918857,\n 0.9999982,\n 1.0,\n 0.9999937,\n 0.9999999,\n 0.020048494,\n 0.003612324,\n 0.99979,\n 0.05620907,\n 0.9816051,\n 0.41404644,\n 0.9999999,\n 0.007935146,\n 0.64915484,\n 0.60640705,\n 0.0072276103,\n 0.99930555,\n 0.5688105,\n 0.31794983,\n 0.010342249,\n 1.0,\n 1.0,\n 0.99374634,\n 0.4234997,\n 1.0,\n 1.0,\n 0.9985207,\n 1.0,\n 0.5984714,\n 0.7706817,\n 0.29410684,\n 0.40603596,\n 0.99999964,\n 0.9999976,\n 1.0,\n 0.58013266,\n 0.98969275,\n 0.039306313,\n 0.9999993,\n 0.7350455,\n 0.9878923,\n 0.0005229655,\n 0.2860555,\n 0.9965755,\n 1.0,\n 0.33980805,\n 0.763775,\n 1.0,\n 1.0,\n 0.2829819,\n 0.9998956,\n 1.0,\n 0.9656887,\n 0.011791069,\n 0.001140573,\n 1.0,\n 0.9997917,\n 1.0,\n 0.044662744,\n 0.022363286,\n 0.45226952,\n 0.2346248,\n 1.0,\n 0.0046448535,\n 0.49734658,\n 0.51459455,\n 1.0,\n 1.0,\n 0.99999785,\n 0.29538536,\n 0.8939701,\n 1.0,\n 0.010428734,\n 0.63333774,\n 0.57307816,\n 0.9975601,\n 0.9999941,\n 0.7500982,\n 0.43077877,\n 0.9793935,\n 0.020041369,\n 0.99943197,\n 0.626333,\n 1.0,\n 0.79939705,\n 0.87966543,\n 0.04154635,\n 0.0013462239,\n 0.9401559,\n 0.9401602,\n 0.36935094,\n 0.6465786,\n 0.035493936,\n 0.3380064,\n 1.0,\n 0.7345845,\n 0.99956995,\n 0.99997205,\n 0.52822614,\n 0.9839393,\n 0.6511631,\n 1.0,\n 0.9999528,\n 1.0,\n 0.0123934485,\n 1.0,\n 0.09962276,\n 0.0789932,\n 0.10658863,\n 0.9520423,\n 0.9954496,\n 1.0,\n 0.09622901,\n 1.0,\n 0.7288849,\n 0.32734442,\n 0.9889409,\n 0.0013174859,\n 0.15432206,\n 0.06542772,\n 0.16661505,\n 0.9988959,\n 0.53574187,\n 0.9999999,\n 0.0033825191,\n 0.010244154,\n 0.39192346,\n 1.0,\n 0.40989098,\n 1.0,\n 1.0,\n 0.45068705,\n 0.15563127,\n 0.05787287,\n 0.99999464,\n 0.9837723,\n 0.12791182,\n 0.7756581,\n 0.9828166,\n 0.99948514,\n 1.0,\n 0.9999999,\n 0.9994536,\n 1.0,\n 0.85845923,\n 0.005627278,\n 0.99881333,\n 1.0,\n 1.0,\n 0.33761975,\n 0.8702773,\n 1.0,\n 0.04310842,\n 1.0,\n 0.0012101529,\n 0.011253938,\n 0.99999976,\n 0.9918479,\n 0.9995656,\n 0.25348434,\n 1.0,\n 0.22042827,\n 0.0006856751,\n 0.0145751545,\n 0.9999913,\n 1.0,\n 0.9295915,\n 0.9664071,\n 0.08951709,\n 0.104258,\n 1.0,\n 0.99999666,\n 1.0,\n 0.97934604,\n 0.09829691,\n 0.99999964,\n 0.03214874,\n 1.0,\n 1.0,\n 0.014551565,\n 1.0,\n 1.0,\n 0.33453298,\n 0.005134571,\n 1.0,\n 1.0,\n 1.0,\n 0.98590755,\n 0.9999995,\n 0.99996865,\n 0.9935042,\n 0.9999082,\n 0.030452609,\n 0.8824854,\n 0.025784891,\n 0.00043018544,\n 1.0,\n 1.0,\n 0.99999976,\n 0.83799946,\n 1.0,\n 0.025685579,\n 0.7033285,\n 0.57000065,\n 0.19752376,\n 1.0,\n 0.09880676,\n 0.37928775,\n 0.21405806,\n 1.0,\n 0.0035181371,\n 0.6624951,\n 1.0,\n 0.9999958,\n 0.9999707,\n 1.0,\n 1.0,\n 0.57063586,\n 1.0,\n 0.6602714,\n 0.9797123,\n 0.75875807,\n 0.9762783,\n 0.0046137115,\n 0.9566392,\n 0.9999268,\n 0.981142,\n 0.942662,\n 0.8727488,\n 0.65235627,\n 1.0,\n 0.00083794113,\n 0.670506,\n 0.2397814,\n 1.0,\n 1.0,\n 0.19830228,\n 0.85369116,\n 1.0,\n 0.6392718,\n 0.64438856,\n 0.22762646,\n 0.9958622,\n 0.97067124,\n 0.88935906,\n 0.0016390522,\n 0.9988117,\n 0.99909014,\n 0.2882616,\n 1.0,\n 0.8694579,\n 0.055509135,\n 1.0,\n 0.9999999,\n 0.9576044,\n 1.0,\n 0.067503765,\n 0.9873259,\n 1.0,\n 1.0,\n 0.9987822,\n 0.020968802,\n 1.0,\n 1.0,\n 1.0,\n 0.39745393,\n 0.6546429,\n 0.99881333,\n 1.0,\n 1.0,\n 0.9835874,\n 0.99993837,\n 1.0,\n 0.58675265,\n 1.0,\n 0.9999991,\n 0.96710736,\n 0.36909205,\n 1.0,\n 1.0,\n 1.0,\n 0.37420774,\n 0.08122449,\n 1.0,\n 0.9982824,\n 1.0,\n 0.7255881,\n 1.0,\n 0.9991922,\n 0.85111904,\n 0.019090053,\n 0.35595214,\n 1.0,\n 0.99057454,\n 1.0,\n 0.2622444,\n 0.98458326,\n 0.020649834,\n 0.30156505,\n 0.004742671,\n 1.0,\n 1.0,\n 0.45792085,\n 0.09643144,\n 0.031559747,\n 0.9999999,\n 0.0077240774,\n 1.0,\n 0.091935836,\n 0.36943367,\n 0.37994912,\n 0.7522118,\n 0.21983974,\n 0.87774795,\n 0.9997688,\n 0.005614758,\n 1.0,\n 1.0,\n 0.0023940916,\n 0.002755488,\n 0.03392297,\n 0.9162896,\n 1.0,\n 0.92918915,\n 0.4274476,\n 0.02307408,\n 0.9161796,\n 1.0,\n 1.0,\n 1.0,\n 0.4298439,\n 1.0,\n 0.022607146,\n 0.67146546,\n 0.999961,\n 0.038722724,\n 0.9789503,\n 0.9999999,\n 0.9914985,\n 0.7199489,\n 0.025671031,\n 0.6255281,\n 0.9995023,\n 0.9999939,\n 0.99468976,\n 0.0010565117,\n 0.00038209758,\n 0.976135,\n 0.40808353,\n 1.0,\n 0.06404203,\n 0.9999999,\n 0.9999941,\n 0.014909685,\n 0.9999906,\n 1.0,\n 0.1431644,\n 0.12122309,\n 0.05848188,\n 1.0,\n 0.0054530106,\n 0.61917627,\n 0.35046473,\n 0.5377522,\n 0.41121927,\n 0.26849496,\n 0.0033911364,\n 0.999603,\n 0.18897223,\n 0.11436788,\n 0.9821607,\n 1.0,\n 0.70011944,\n 0.06426553,\n 0.9854561,\n 0.9999695,\n 0.9999999,\n 0.802677,\n 0.8530207,\n 0.980275,\n 0.8064061,\n 0.06220577,\n 0.999741,\n 0.8045137,\n 0.83718705,\n 1.0,\n 0.5048654,\n 0.9978394,\n 0.9963715,\n 1.0,\n 0.39184475,\n 0.9966526,\n 0.007883719,\n 0.44254464,\n 0.38997242,\n 0.9384021,\n 0.98150575,\n 0.99998254,\n 0.05430849,\n 1.0,\n 0.0006284435,\n 0.6841071,\n 0.23056899,\n 0.013745824,\n 0.7115137,\n 1.0,\n 0.44311762,\n 0.812375,\n 0.9999968,\n 1.0,\n 0.095491424,\n 1.0,\n 0.561659,\n 0.9915085,\n 1.0,\n 1.0,\n 0.23355146,\n 1.0,\n 0.17940392,\n 1.0,\n 1.0,\n 0.99848145,\n 0.20734869,\n 0.9997472,\n 0.023365175,\n 1.0,\n 0.9999999,\n 0.012851666,\n 0.0019897835,\n 1.0,\n 1.0,\n 0.003271505,\n 1.0,\n 0.5215551,\n 1.0,\n 9.51436e-05,\n 0.9985551,\n 0.2197019,\n 1.0,\n 1.0,\n 1.0,\n 1.0,\n 0.0012788352,\n 1.0,\n 0.00017782811,\n 1.0,\n 0.99999934,\n 0.70776135,\n 0.33007845,\n 0.9939514,\n 0.9995969,\n 1.0,\n 1.0,\n 0.86506253,\n 0.170588,\n 1.0,\n 0.03902283,\n 0.6279113,\n 0.009711026,\n 0.9990573,\n 0.92180794,\n 0.9420168,\n 0.009331257,\n 0.0011262527,\n 0.52947885,\n 1.0,\n 0.5476501,\n 0.989124,\n 0.5662298,\n 0.9942308,\n 0.98958087,\n 0.9409449,\n 0.57776284,\n 0.007402096,\n 0.9840806,\n 1.0,\n 0.020000815,\n 0.13600083,\n 0.7561934,\n 0.4471535,\n 0.46397948,\n 1.0,\n 1.0,\n 1.0,\n 1.0,\n 0.6209691,\n 1.0,\n 0.5947081,\n 1.0,\n 0.99999857,\n 1.0,\n 0.9999987,\n 0.9998371,\n 0.947111,\n 0.99999785,\n 0.9999999,\n 0.95938796,\n 0.89191324,\n 0.9557261,\n 0.5067106,\n 1.0,\n 0.7615066,\n 0.30887806,\n 0.0031999005,\n 0.8545937,\n 0.53026724,\n 1.0,\n 0.36954582,\n 0.9998865,\n 0.04217322,\n 0.9957976,\n 0.9998803,\n 0.99313813,\n 0.61648995,\n 1.0,\n 1.0,\n 0.13553248,\n 0.5683463,\n 0.9990724,\n 0.19088729,\n 0.8014354,\n 0.1417072,\n 0.9968735,\n 0.98682445,\n 1.0,\n 1.0,\n 1.0,\n 0.122791566,\n 0.7588634,\n 0.99995995,\n 1.0,\n 1.0,\n 0.997807,\n 0.99535555,\n 0.056529775,\n 0.36849302,\n 0.87780315,\n 0.99937195,\n 0.3576172,\n 0.0135553,\n 0.92500067,\n 0.01013682,\n 0.03661401,\n 1.0,\n 0.99987733,\n 0.3973631,\n 0.79536426,\n 1.0,\n 0.9064538,\n 1.0,\n 0.95222205,\n 0.7537912,\n 0.999986,\n 0.8422849,\n 0.5073047,\n 0.5819333,\n 0.9662625,\n 0.76706403,\n 0.99999934,\n 1.0,\n 0.96015775,\n 0.024802292,\n 0.9981568,\n 1.0,\n 0.39120042,\n 0.011285875,\n 0.13083664,\n 1.0,\n 0.34714168,\n 0.99999976,\n 1.0,\n 1.0,\n 0.9829245,\n 0.039578762,\n 0.99994254,\n 0.13208157,\n 0.43810973,\n 0.9833613,\n 0.53134936,\n 1.0,\n 0.1316435,\n 0.4020224,\n 1.0,\n 0.4428,\n 1.0,\n 1.0,\n 0.6144561,\n 1.0,\n 0.111447334,\n 0.19915026,\n 0.9763409,\n 0.0023136572,\n 0.70950466,\n 0.0005716204,\n 0.5141635,\n 0.49532956,\n 0.39068034,\n 0.55120736,\n 1.0,\n 0.0809999,\n 0.008489512,\n 0.23358636,\n 0.79388994,\n 0.6693322,\n 1.0,\n 0.0033279918,\n 0.9745598,\n 1.0,\n 1.0,\n 0.002814872,\n 1.0,\n 0.048934683,\n 1.0,\n 0.09539887,\n 1.0,\n 0.0021965806,\n 0.0018395252,\n 0.09590188,\n 1.0,\n 1.0,\n 0.26547086,\n 0.6187984,\n 0.934147,\n 0.9966377,\n 1.0,\n 0.9154126,\n 0.025975013,\n 0.9999999,\n 0.99999654,\n 0.9243163,\n 0.38974988,\n 0.999987,\n 1.0,\n 0.010342141,\n 0.13398373,\n 1.0,\n 0.9230916,\n 0.54812706,\n 0.6140149,\n 0.0014958815,\n 0.9999454,\n 0.0059593935,\n 1.0,\n 1.0,\n 1.0,\n 0.9998848,\n 0.9928655,\n 0.9997168,\n 1.0,\n 1.0,\n 0.03171948,\n 0.5998442,\n 0.9908848,\n 0.3639653,\n 0.26537317,\n 1.0,\n 0.82988495,\n 0.036808517,\n 0.9965322,\n 0.004119304,\n 0.8489738,\n 0.9737414,\n 0.78723675,\n 0.6562314,\n 0.8663123,\n 0.99993676,\n 1.0,\n 0.052395973,\n 0.2947071,\n 0.98731303,\n 1.0,\n 1.0,\n 0.0046046544,\n 0.009060684,\n 0.70237756,\n 1.0,\n 1.0,\n 1.0,\n 0.99430084,\n 0.8274443,\n 0.99900347,\n 0.6674491,\n 0.13457741,\n 0.047854993,\n 1.0,\n 0.66615015,\n 0.99999964,\n 0.9857274,\n 1.0,\n 1.0,\n 0.9979831,\n 0.9999975,\n 1.0,\n 1.0,\n 0.0010714134,\n 0.01047986,\n 0.2504177,\n 0.059357867,\n 0.99999857,\n 1.0,\n 1.0,\n 1.0,\n 0.9999989,\n 0.98696506,\n 0.99999976,\n 0.4565934,\n 1.0,\n 0.9130173,\n 1.0,\n 1.0,\n 1.0,\n 0.6680905,\n 1.0,\n 0.97206366,\n 1.0,\n 0.80482185,\n 0.012792293,\n 0.62619853,\n 0.013853508,\n 0.6920768,\n 0.9999991,\n 0.9999995,\n 0.9876472,\n 0.9999999,\n 0.95231175,\n 1.0,\n 0.015296826,\n 0.0033252558,\n 0.6863044,\n 1.0,\n 1.0,\n 1.0,\n 0.014399559,\n 0.8964019,\n 1.0,\n 0.99983424,\n 0.9999993,\n 0.21181235,\n 0.9686324,\n 0.10618874,\n 0.9999969,\n 0.004972244,\n 1.0,\n 0.84110945,\n 0.0018887175,\n 0.85900414,\n 1.0,\n 1.0,\n 0.5277244,\n 0.99824595,\n 0.7659483,\n 1.0,\n 0.999934,\n 0.98828554,\n 0.9909441,\n 0.999974,\n 0.14648019,\n 1.0,\n 0.8795631,\n 0.054462273,\n 0.73112184,\n 0.6783321,\n 0.21919031,\n 0.003924047,\n 0.9991891,\n 1.0,\n 0.99015826,\n 1.0,\n 0.99676454,\n 1.0,\n 0.97176254,\n 0.005636236,\n 1.0,\n 1.0,\n 0.96029955,\n 1.0,\n 1.0,\n 1.0,\n 1.0,\n 1.0,\n 0.9587848,\n 0.99943763,\n 0.08777165,\n 0.9992274,\n 0.9732601,\n 0.067294784,\n 0.0067399875,\n 0.94084114,\n 1.0,\n 1.0,\n 0.8761683,\n 1.0,\n 1.0,\n 0.928819,\n 0.05229167,\n 0.5268939,\n 0.9999991,\n 1.0,\n 0.0015364129,\n 0.057169683,\n 0.018458141,\n 0.2929978,\n 0.5709201,\n 0.9764385,\n 0.9997442,\n 0.99140835,\n 1.0,\n 0.45400518,\n 0.0069133076,\n 0.0037231776,\n 0.63635296,\n 0.99613637,\n 0.7624706,\n 0.9158128,\n 0.5184542,\n 0.9997365,\n 0.40062955,\n 0.29028586,\n 0.02210195,\n 0.9267074,\n 0.0009905797,\n 0.99997723,\n 1.0,\n 0.27574575,\n 0.9554765,\n 0.020701557,\n 0.49083054,\n 1.0,\n 0.0067989323,\n 0.9999989,\n 1.0,\n 0.9999969,\n 0.9999993,\n 1.0,\n 1.0,\n 0.0015962825,\n 0.5709908,\n 1.0,\n 0.841401,\n 0.6776957,\n 0.016204858,\n 0.9935013,\n 0.99686867,\n 1.0,\n 1.0,\n 1.0,\n 1.0,\n 0.011656766,\n 0.9850545,\n 0.08041575,\n 0.55010355,\n 0.09971466,\n 1.0,\n 0.9328695,\n 0.018714575,\n 0.8447143,\n 1.0,\n 0.99999857,\n 0.98974484,\n 0.32345447,\n 0.14541078,\n 0.030539993,\n 0.98501784,\n 0.080701254,\n 1.0,\n 0.010589088,\n 1.0,\n 0.99940884,\n 0.999426,\n 0.9767145,\n 0.92469853,\n 1.0,\n 1.0,\n 0.99993914,\n 0.9999941,\n 0.86588836,\n 0.999441,\n 0.34752223,\n 1.0,\n 0.9999999,\n 0.99937975,\n 0.9999999,\n 0.00089017145,\n 0.0010856786,\n 0.07921026,\n 1.0,\n 0.47971,\n 0.9464423,\n 0.6875982,\n 0.022898912,\n 1.0,\n 0.002631343,\n 0.054933034,\n 0.8812549,\n 0.00097066414,\n 0.0024253046,\n 0.5162391,\n 0.9990681,\n 0.9994106,\n 1.0,\n 0.99999976,\n 1.0,\n 0.9997408,\n 1.0,\n 0.010419632,\n 0.0064503243,\n 1.0,\n 0.8979181,\n 0.0028414873,\n 0.7031676,\n 0.6147727,\n 1.0,\n 0.031534124,\n 0.99999976,\n 1.0,\n 1.0,\n 0.2465991,\n 0.99993294,\n 0.9931827,\n 0.001317599,\n 0.65714806,\n 0.0006947266,\n 0.9999976,\n 0.8712112,\n 1.0,\n 1.0,\n 0.39854005,\n 0.5649395,\n 0.17060246,\n 0.7080729,\n 0.57396835,\n 1.0,\n 0.6713423,\n 0.0026426197,\n 1.0,\n 1.0,\n 0.7819966,\n 0.6527628,\n 0.57693374,\n 0.9993516,\n 0.09928031,\n 0.99999976,\n 0.9998946,\n 0.19604841,\n 0.30328372,\n 0.82623535,\n 0.11791319,\n 1.0,\n 0.99532557,\n 0.6340657,\n 0.99964166,\n 1.0,\n 1.0,\n 0.12739827,\n 0.019089147,\n 0.99767715,\n 0.5488154,\n 0.9721978,\n 1.0,\n 0.015664658,\n 0.6202671,\n 0.0004964386,\n 0.2978807,\n 1.0,\n 0.6721331,\n 0.5883808,\n 0.96441936,\n ...]"
     },
     "execution_count": 29,
     "metadata": {},
     "output_type": "execute_result"
    }
   ],
   "source": [
    "positive_class_probs"
   ],
   "metadata": {
    "collapsed": false,
    "ExecuteTime": {
     "end_time": "2024-05-21T22:52:50.790908600Z",
     "start_time": "2024-05-21T22:52:50.757903200Z"
    }
   },
   "id": "6b9647f501bf2c73",
   "execution_count": 29
  },
  {
   "cell_type": "code",
   "outputs": [],
   "source": [
    "FP_clean, TP_clean, _ = roc_curve(GT_labels, positive_class_probs)\n",
    "ROC_AUC_clean = auc(FP_clean, TP_clean)\n",
    "\n",
    "# FP_2dot0, TP_2dot0, _ = roc_curve(GT_labels, pred_labels_2dot0)\n",
    "# ROC_AUC_2dot0 = auc(FP_2dot0, TP_2dot0)\n",
    "# \n",
    "# FP_3dot0, TP_3dot0, _ = roc_curve(GT_labels, pred_labels_3dot0)\n",
    "# ROC_AUC_3dot0 = auc(FP_3dot0, TP_3dot0)"
   ],
   "metadata": {
    "collapsed": false,
    "ExecuteTime": {
     "end_time": "2024-05-21T22:52:53.943251700Z",
     "start_time": "2024-05-21T22:52:53.929252300Z"
    }
   },
   "id": "fd6cac62e264e0a4",
   "execution_count": 30
  },
  {
   "cell_type": "code",
   "outputs": [
    {
     "data": {
      "text/plain": "<Figure size 640x480 with 1 Axes>",
      "image/png": "[encoded data removed]"
     },
     "metadata": {},
     "output_type": "display_data"
    }
   ],
   "source": [
    "plt.figure()\n",
    "plt.plot(FP_clean, TP_clean, color='blue', lw=2, label=f'Clean (AUC = {ROC_AUC_clean:.2f})')\n",
    "# plt.plot(FP_2dot0, TP_2dot0, color='green', lw=2, label=f'FGSM eps=2.0 (AUC = {ROC_AUC_2dot0:.2f})')\n",
    "# plt.plot(FP_3dot0, TP_3dot0, color='red', lw=2, label=f'FGSM eps=3.0 (AUC = {ROC_AUC_3dot0:.2f})')\n",
    "plt.plot([0, 1], [0, 1], color='gray', lw=2, linestyle='--')\n",
    "plt.xlim([0.0, 1.0])\n",
    "plt.ylim([0.0, 1.0])\n",
    "plt.xlabel('False Positive Rate')\n",
    "plt.ylabel('True Positive Rate')\n",
    "plt.title('Receiver Operating Characteristic (ROC) Curve')\n",
    "plt.legend(loc='lower right')\n",
    "plt.show()"
   ],
   "metadata": {
    "collapsed": false,
    "ExecuteTime": {
     "end_time": "2024-05-21T22:52:56.587085100Z",
     "start_time": "2024-05-21T22:52:56.395066200Z"
    }
   },
   "id": "319426c1a55e3415",
   "execution_count": 31
  },
  {
   "cell_type": "markdown",
   "source": [
    "## Computing the confusion matrix\n",
    "* TN true negative, actual class was 0 (BF) and predicted as 0\n",
    "* FP false positive, actual class was 0, but predicted as 1 (deep fake)\n",
    "* FN false negative, actual class was 1, but predicted as 0\n",
    "* TP true positive, actual class was 1 and predicted as 1"
   ],
   "metadata": {
    "collapsed": false
   },
   "id": "48f4b18197487837"
  },
  {
   "cell_type": "code",
   "outputs": [],
   "source": [
    "from sklearn.metrics import confusion_matrix"
   ],
   "metadata": {
    "collapsed": false,
    "ExecuteTime": {
     "start_time": "2024-05-21T22:37:53.726811300Z"
    }
   },
   "id": "c85846e97bd9153c",
   "execution_count": null
  },
  {
   "cell_type": "code",
   "outputs": [],
   "source": [
    "cm = confusion_matrix(GT_labels, pred_labels_2dot0)\n",
    "print(cm)\n",
    "\n",
    "# [ TN    FP\n",
    "#   FN    TP ]"
   ],
   "metadata": {
    "collapsed": false,
    "ExecuteTime": {
     "start_time": "2024-05-21T22:37:53.726811300Z"
    }
   },
   "id": "7c996f58fa3fe1ff",
   "execution_count": null
  },
  {
   "cell_type": "markdown",
   "source": [
    "## Computing the indices of true positives\n",
    "aka those audios with GT=1 and prediction=1, which means they are DF and the model correctly identified them as DF\n"
   ],
   "metadata": {
    "collapsed": false
   },
   "id": "350964644441d7cc"
  },
  {
   "cell_type": "code",
   "outputs": [],
   "source": [
    "# def find_TP(list1, list2):\n",
    "#     if len(list1) != len(list2):\n",
    "#         raise ValueError\n",
    "#     list = []\n",
    "#     for i in range(len(list1)):\n",
    "#         if (list1[i]==1 & list2[i]==1):\n",
    "#             list.append(i)\n",
    "#     return list    \n",
    "# \n",
    "# TP_indices = find_TP(true_labels, pred_labels)\n",
    "# TP_indices[:10]"
   ],
   "metadata": {
    "collapsed": false,
    "ExecuteTime": {
     "start_time": "2024-05-21T22:37:53.726811300Z"
    }
   },
   "id": "cf5ee06e69ad88f0",
   "execution_count": null
  },
  {
   "cell_type": "code",
   "outputs": [],
   "source": [],
   "metadata": {
    "collapsed": false,
    "ExecuteTime": {
     "start_time": "2024-05-21T22:37:53.726811300Z"
    }
   },
   "id": "ba545e7e0fc24627"
  }
 ],
 "metadata": {
  "kernelspec": {
   "display_name": "Python 3",
   "language": "python",
   "name": "python3"
  },
  "language_info": {
   "codemirror_mode": {
    "name": "ipython",
    "version": 2
   },
   "file_extension": ".py",
   "mimetype": "text/x-python",
   "name": "python",
   "nbconvert_exporter": "python",
   "pygments_lexer": "ipython2",
   "version": "2.7.6"
  }
 },
 "nbformat": 4,
 "nbformat_minor": 5
}
