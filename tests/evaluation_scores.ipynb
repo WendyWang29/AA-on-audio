{
 "cells": [
  {
   "cell_type": "markdown",
   "source": [
    "# Evaluation scores\n",
    "\n"
   ],
   "metadata": {
    "collapsed": false
   },
   "id": "e72e876c1cd569fb"
  },
  {
   "cell_type": "markdown",
   "source": [
    "example: <br>\n",
    "higher log probability ==> predicted class\n",
    "if [score 0]=-2 and [score 1]=-3 then it means that the predicted class is class 0 <br>\n",
    "[score] = -2+3 = 1 > 0 --> class 0\n",
    "<br>\n",
    "###########\n",
    "<br>\n",
    "if [score 0]=-3 and [score 1]=-2 then it means that the predicted class is class 1 <br>\n",
    "[score] = -3+2 = -1 < 0 --> class 1"
   ],
   "metadata": {
    "collapsed": false
   },
   "id": "91fad8d613b40b5"
  },
  {
   "cell_type": "markdown",
   "source": [
    "***\n",
    "## Load the scores"
   ],
   "metadata": {
    "collapsed": false
   },
   "id": "8e997dc3e96b5904"
  },
  {
   "cell_type": "code",
   "outputs": [],
   "source": [
    "import csv\n",
    "import pandas as pd\n",
    "from src.utils import *\n",
    "from sklearn.metrics import accuracy_score, balanced_accuracy_score"
   ],
   "metadata": {
    "collapsed": false,
    "ExecuteTime": {
     "end_time": "2024-05-21T09:50:01.099194600Z",
     "start_time": "2024-05-21T09:50:01.094655Z"
    }
   },
   "id": "142b35be13b9255",
   "execution_count": 18
  },
  {
   "cell_type": "code",
   "outputs": [],
   "source": [
    "# paths to csv score files\n",
    "score_clean_csv = '../eval/scores_resnet_spec_eval.csv'\n",
    "score_2dot0_csv = '../eval/scores_resnet_spec_eval_FGSM_2dot0.csv' \n",
    "\n",
    "scores_clean = pd.read_csv(score_clean_csv, delimiter=' ', header=None, engine='python')\n",
    "scores_2dot0 = pd.read_csv(score_2dot0_csv, delimiter=' ', header=None, engine='python')"
   ],
   "metadata": {
    "collapsed": false,
    "ExecuteTime": {
     "end_time": "2024-05-21T09:37:56.661163300Z",
     "start_time": "2024-05-21T09:37:56.156213900Z"
    }
   },
   "id": "2e0dfecac7f3448f",
   "execution_count": 4
  },
  {
   "cell_type": "code",
   "outputs": [],
   "source": [
    "# ground truth file of evaluation dataset (ASVSpoof2019)\n",
    "config_path = '../config/residualnet_train_config.yaml'\n",
    "config = read_yaml(config_path)\n",
    "df_eval = pd.read_csv(os.path.join('..', config['df_eval_path']))"
   ],
   "metadata": {
    "collapsed": false,
    "ExecuteTime": {
     "end_time": "2024-05-21T09:37:59.785068200Z",
     "start_time": "2024-05-21T09:37:59.440074200Z"
    }
   },
   "id": "1d24f73447dcc84d",
   "execution_count": 5
  },
  {
   "cell_type": "code",
   "outputs": [
    {
     "name": "stdout",
     "output_type": "stream",
     "text": [
      "The length of the evaluation file list is 71237\n",
      "The length of the clean score list is 71237\n",
      "The length of the epsilon=2.0 score list is 71237\n"
     ]
    }
   ],
   "source": [
    "print(f'The length of the evaluation file list is {len(df_eval)}\\n'\n",
    "    f'The length of the clean score list is {len(scores_clean)}\\n'\n",
    "    f'The length of the epsilon=2.0 score list is {len(scores_2dot0)}')"
   ],
   "metadata": {
    "collapsed": false,
    "ExecuteTime": {
     "end_time": "2024-05-21T09:39:29.305675300Z",
     "start_time": "2024-05-21T09:39:29.298893500Z"
    }
   },
   "id": "bc0f2f5e23c73129",
   "execution_count": 6
  },
  {
   "cell_type": "code",
   "outputs": [],
   "source": [
    "# the score values .csv uses a space as a delimiter between the file path and the score\n",
    "\n",
    "def convert_column_to_binary(csv_file):\n",
    "    binary_list = []\n",
    "    \n",
    "    with open(csv_file, 'r') as file:\n",
    "        for line in file:\n",
    "            # Split each line based on space \n",
    "            parts = line.strip().split()\n",
    "            value = float(parts[1])\n",
    "            \n",
    "            try:\n",
    "                if value > 0:\n",
    "                    binary_list.append(0)\n",
    "                else:\n",
    "                    binary_list.append(1)\n",
    "            except ValueError:\n",
    "                pass\n",
    "        \n",
    "    return binary_list"
   ],
   "metadata": {
    "collapsed": false,
    "ExecuteTime": {
     "end_time": "2024-05-21T09:41:37.289895700Z",
     "start_time": "2024-05-21T09:41:37.234967600Z"
    }
   },
   "id": "7c08eb7c873e49ef",
   "execution_count": 8
  },
  {
   "cell_type": "code",
   "outputs": [],
   "source": [
    "pred_labels_clean = convert_column_to_binary(csv_file=score_clean_csv)\n",
    "pred_labels_2dot0 = convert_column_to_binary(csv_file=score_2dot0_csv)"
   ],
   "metadata": {
    "collapsed": false,
    "ExecuteTime": {
     "end_time": "2024-05-21T09:42:40.242912400Z",
     "start_time": "2024-05-21T09:42:40.128624500Z"
    }
   },
   "id": "44b08a1d9c8d33f2",
   "execution_count": 10
  },
  {
   "cell_type": "code",
   "outputs": [],
   "source": [
    "# get the GT labels\n",
    "GT_labels = df_eval.iloc[:, -1].tolist()"
   ],
   "metadata": {
    "collapsed": false,
    "ExecuteTime": {
     "end_time": "2024-05-21T09:48:11.172392100Z",
     "start_time": "2024-05-21T09:48:11.133103200Z"
    }
   },
   "id": "516387f94a0af361",
   "execution_count": 16
  },
  {
   "cell_type": "markdown",
   "source": [
    "***\n",
    "## Unbalanced accuracy"
   ],
   "metadata": {
    "collapsed": false
   },
   "id": "66e00a28df8b80"
  },
  {
   "cell_type": "code",
   "outputs": [
    {
     "name": "stdout",
     "output_type": "stream",
     "text": [
      "The unbalanced acc for clean eval set is 77.15%\n",
      "The unblanaced acc for epsilon = 2.0 set is 36.29%\n"
     ]
    }
   ],
   "source": [
    "unb_acc_clean = accuracy_score(y_true=GT_labels, y_pred=pred_labels_clean)\n",
    "unb_acc_2dot0 = accuracy_score(y_true=GT_labels, y_pred=pred_labels_2dot0)\n",
    "\n",
    "print(f'The unbalanced acc for clean eval set is {unb_acc_clean*100:.2f}%\\n'\n",
    "      f'The unblanaced acc for epsilon = 2.0 set is {unb_acc_2dot0*100:.2f}%')\n"
   ],
   "metadata": {
    "collapsed": false,
    "ExecuteTime": {
     "end_time": "2024-05-21T09:53:00.514502500Z",
     "start_time": "2024-05-21T09:53:00.467755500Z"
    }
   },
   "id": "976020a289e74015",
   "execution_count": 22
  },
  {
   "cell_type": "markdown",
   "source": [
    "## Balanced accuracy"
   ],
   "metadata": {
    "collapsed": false
   },
   "id": "4ee223319e273960"
  },
  {
   "cell_type": "code",
   "outputs": [
    {
     "name": "stdout",
     "output_type": "stream",
     "text": [
      "The balanced acc for clean eval set is 84.21%\n",
      "The blanaced acc for epsilon = 2.0 set is 49.97%\n"
     ]
    }
   ],
   "source": [
    "bal_acc_clean = balanced_accuracy_score(y_true=GT_labels, y_pred=pred_labels_clean)\n",
    "bal_acc_2dot0 = balanced_accuracy_score(y_true=GT_labels, y_pred=pred_labels_2dot0)\n",
    "\n",
    "print(f'The balanced acc for clean eval set is {bal_acc_clean*100:.2f}%\\n'\n",
    "      f'The blanaced acc for epsilon = 2.0 set is {bal_acc_2dot0*100:.2f}%')"
   ],
   "metadata": {
    "collapsed": false,
    "ExecuteTime": {
     "end_time": "2024-05-21T09:53:53.854627500Z",
     "start_time": "2024-05-21T09:53:53.799602Z"
    }
   },
   "id": "7dbe85893dd35774",
   "execution_count": 23
  },
  {
   "cell_type": "markdown",
   "source": [
    "## Computing the ROC and EER"
   ],
   "metadata": {
    "collapsed": false
   },
   "id": "437d1a260a27df1"
  },
  {
   "cell_type": "code",
   "outputs": [],
   "source": [
    "from sklearn.metrics import roc_curve\n",
    "import numpy as np"
   ],
   "metadata": {
    "collapsed": false,
    "ExecuteTime": {
     "end_time": "2024-05-19T14:20:45.442119800Z",
     "start_time": "2024-05-19T14:20:45.439118400Z"
    }
   },
   "id": "a9d09ca033b027b3",
   "execution_count": 9
  },
  {
   "cell_type": "code",
   "outputs": [],
   "source": [
    "def compute_eer(y_true, y_score):\n",
    "    # compute the ROC curve\n",
    "    fpr, tpr, thresholds = roc_curve(y_true, y_score)\n",
    "    \n",
    "    # find threshold\n",
    "    eer_threshold_idx = np.argmin(np.abs(fpr-(1-tpr)))\n",
    "    eer_threshold = thresholds[eer_threshold_idx]\n",
    "    \n",
    "    # Calculate EER (FPR or TPR at the EER threshold)\n",
    "    eer_fpr = fpr[eer_threshold_idx]\n",
    "    eer_tpr = tpr[eer_threshold_idx]\n",
    "    eer = (eer_fpr + (1 - eer_tpr)) / 2.0\n",
    "    \n",
    "    return eer, eer_threshold"
   ],
   "metadata": {
    "collapsed": false,
    "ExecuteTime": {
     "end_time": "2024-05-19T14:20:45.443635400Z",
     "start_time": "2024-05-19T14:20:45.439118400Z"
    }
   },
   "id": "4e7406923eca13c1",
   "execution_count": 10
  },
  {
   "cell_type": "code",
   "outputs": [],
   "source": [
    "eer, eer_threshold = compute_eer(true_labels, pred_labels)"
   ],
   "metadata": {
    "collapsed": false,
    "ExecuteTime": {
     "end_time": "2024-05-19T14:20:45.443635400Z",
     "start_time": "2024-05-19T14:20:45.440118700Z"
    }
   },
   "id": "33ed15b2ca7aac95",
   "execution_count": 11
  },
  {
   "cell_type": "code",
   "outputs": [
    {
     "data": {
      "text/plain": "0.15788922284503523"
     },
     "execution_count": 12,
     "metadata": {},
     "output_type": "execute_result"
    }
   ],
   "source": [
    "eer"
   ],
   "metadata": {
    "collapsed": false,
    "ExecuteTime": {
     "end_time": "2024-05-19T14:20:45.653102500Z",
     "start_time": "2024-05-19T14:20:45.440118700Z"
    }
   },
   "id": "2634bf5d0a5d75ac",
   "execution_count": 12
  },
  {
   "cell_type": "markdown",
   "source": [
    "## Computing the confusion matrix\n",
    "* TN true negative, actual class was 0 (BF) and predicted as 0\n",
    "* FP false positive, actual class was 0, but predicted as 1 (deep fake)\n",
    "* FN false negative, actual class was 1, but predicted as 0\n",
    "* TP true positive, actual class was 1 and predicted as 1"
   ],
   "metadata": {
    "collapsed": false
   },
   "id": "48f4b18197487837"
  },
  {
   "cell_type": "code",
   "outputs": [],
   "source": [
    "from sklearn.metrics import confusion_matrix"
   ],
   "metadata": {
    "collapsed": false,
    "ExecuteTime": {
     "end_time": "2024-05-19T14:20:45.653102500Z",
     "start_time": "2024-05-19T14:20:45.652104500Z"
    }
   },
   "id": "c85846e97bd9153c",
   "execution_count": 13
  },
  {
   "cell_type": "code",
   "outputs": [
    {
     "name": "stdout",
     "output_type": "stream",
     "text": [
      "[[ 6848   507]\n",
      " [15769 48113]]\n"
     ]
    }
   ],
   "source": [
    "cm = confusion_matrix(true_labels, pred_labels)\n",
    "print(cm)\n",
    "\n",
    "# [ TN    FP\n",
    "#   FN    TP ]"
   ],
   "metadata": {
    "collapsed": false,
    "ExecuteTime": {
     "end_time": "2024-05-19T14:20:45.659099100Z",
     "start_time": "2024-05-19T14:20:45.652104500Z"
    }
   },
   "id": "7c996f58fa3fe1ff",
   "execution_count": 14
  },
  {
   "cell_type": "markdown",
   "source": [
    "## Computing the indices of true positives\n",
    "aka those audios with GT=1 and prediction=1, which means they are DF and the model correctly identified them as DF\n"
   ],
   "metadata": {
    "collapsed": false
   },
   "id": "350964644441d7cc"
  },
  {
   "cell_type": "code",
   "outputs": [
    {
     "data": {
      "text/plain": "[1, 2, 3, 4, 6, 8, 11, 13, 16, 18]"
     },
     "execution_count": 26,
     "metadata": {},
     "output_type": "execute_result"
    }
   ],
   "source": [
    "def find_TP(list1, list2):\n",
    "    if len(list1) != len(list2):\n",
    "        raise ValueError\n",
    "    list = []\n",
    "    for i in range(len(list1)):\n",
    "        if (list1[i]==1 & list2[i]==1):\n",
    "            list.append(i)\n",
    "    return list    \n",
    "\n",
    "TP_indices = find_TP(true_labels, pred_labels)\n",
    "TP_indices[:10]"
   ],
   "metadata": {
    "collapsed": false,
    "ExecuteTime": {
     "end_time": "2024-05-19T14:32:07.130152300Z",
     "start_time": "2024-05-19T14:32:07.130152300Z"
    }
   },
   "id": "cf5ee06e69ad88f0",
   "execution_count": 26
  },
  {
   "cell_type": "code",
   "outputs": [
    {
     "data": {
      "text/plain": "48113"
     },
     "execution_count": 24,
     "metadata": {},
     "output_type": "execute_result"
    }
   ],
   "source": [
    "len(TP_indices)"
   ],
   "metadata": {
    "collapsed": false,
    "ExecuteTime": {
     "end_time": "2024-05-19T14:31:40.686670700Z",
     "start_time": "2024-05-19T14:31:40.680669700Z"
    }
   },
   "id": "b7ea0e98d6e4deb1",
   "execution_count": 24
  },
  {
   "cell_type": "code",
   "outputs": [],
   "source": [],
   "metadata": {
    "collapsed": false
   },
   "id": "ba545e7e0fc24627"
  }
 ],
 "metadata": {
  "kernelspec": {
   "display_name": "Python 3",
   "language": "python",
   "name": "python3"
  },
  "language_info": {
   "codemirror_mode": {
    "name": "ipython",
    "version": 2
   },
   "file_extension": ".py",
   "mimetype": "text/x-python",
   "name": "python",
   "nbconvert_exporter": "python",
   "pygments_lexer": "ipython2",
   "version": "2.7.6"
  }
 },
 "nbformat": 4,
 "nbformat_minor": 5
}
