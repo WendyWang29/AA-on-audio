{
 "cells": [
  {
   "cell_type": "markdown",
   "source": [
    "# Evaluation scores\n",
    "Using the file ../eval/scores_resnet_spec_eval.csv I evaluate the model performance of the evaluation process, performed on the ASVSpoof2021 dataset.\n"
   ],
   "metadata": {
    "collapsed": false
   },
   "id": "e72e876c1cd569fb"
  },
  {
   "cell_type": "markdown",
   "source": [
    "## Computing the % of correct predictions"
   ],
   "metadata": {
    "collapsed": false
   },
   "id": "8e997dc3e96b5904"
  },
  {
   "cell_type": "code",
   "outputs": [],
   "source": [
    "import csv\n",
    "import pandas as pd\n",
    "from src.utils import *\n",
    "from sklearn.metrics import balanced_accuracy_score"
   ],
   "metadata": {
    "collapsed": false,
    "ExecuteTime": {
     "end_time": "2024-05-19T14:20:44.659214900Z",
     "start_time": "2024-05-19T14:20:39.875012600Z"
    }
   },
   "id": "142b35be13b9255",
   "execution_count": 1
  },
  {
   "cell_type": "code",
   "outputs": [],
   "source": [
    "csv_score_file = '../eval/scores_resnet_spec_eval.csv' \n",
    "scores_eval = pd.read_csv(csv_score_file, delimiter=' ', header=None, engine='python')"
   ],
   "metadata": {
    "collapsed": false
   },
   "id": "2e0dfecac7f3448f"
  },
  {
   "cell_type": "code",
   "outputs": [
    {
     "data": {
      "text/plain": "   Unnamed: 0                                               path  label\n0           0  /nas/public/dataset/asvspoof2019/LA/ASVspoof20...      1\n1           1  /nas/public/dataset/asvspoof2019/LA/ASVspoof20...      1\n2           2  /nas/public/dataset/asvspoof2019/LA/ASVspoof20...      1",
      "text/html": "<div>\n<style scoped>\n    .dataframe tbody tr th:only-of-type {\n        vertical-align: middle;\n    }\n\n    .dataframe tbody tr th {\n        vertical-align: top;\n    }\n\n    .dataframe thead th {\n        text-align: right;\n    }\n</style>\n<table border=\"1\" class=\"dataframe\">\n  <thead>\n    <tr style=\"text-align: right;\">\n      <th></th>\n      <th>Unnamed: 0</th>\n      <th>path</th>\n      <th>label</th>\n    </tr>\n  </thead>\n  <tbody>\n    <tr>\n      <th>0</th>\n      <td>0</td>\n      <td>/nas/public/dataset/asvspoof2019/LA/ASVspoof20...</td>\n      <td>1</td>\n    </tr>\n    <tr>\n      <th>1</th>\n      <td>1</td>\n      <td>/nas/public/dataset/asvspoof2019/LA/ASVspoof20...</td>\n      <td>1</td>\n    </tr>\n    <tr>\n      <th>2</th>\n      <td>2</td>\n      <td>/nas/public/dataset/asvspoof2019/LA/ASVspoof20...</td>\n      <td>1</td>\n    </tr>\n  </tbody>\n</table>\n</div>"
     },
     "execution_count": 2,
     "metadata": {},
     "output_type": "execute_result"
    }
   ],
   "source": [
    "config_path = '../config/residualnet_train_config.yaml'\n",
    "config = read_yaml(config_path)\n",
    "df_eval = pd.read_csv(os.path.join('..', config['df_eval_path']))"
   ],
   "metadata": {
    "collapsed": false,
    "ExecuteTime": {
     "end_time": "2024-05-19T14:20:44.787300300Z",
     "start_time": "2024-05-19T14:20:44.701227100Z"
    }
   },
   "id": "1d24f73447dcc84d",
   "execution_count": 2
  },
  {
   "cell_type": "code",
   "outputs": [
    {
     "data": {
      "text/plain": "                                                   0          1\n0  /nas/public/dataset/asvspoof2019/LA/ASVspoof20...   0.048788\n1  /nas/public/dataset/asvspoof2019/LA/ASVspoof20... -25.825459\n2  /nas/public/dataset/asvspoof2019/LA/ASVspoof20... -39.204910",
      "text/html": "<div>\n<style scoped>\n    .dataframe tbody tr th:only-of-type {\n        vertical-align: middle;\n    }\n\n    .dataframe tbody tr th {\n        vertical-align: top;\n    }\n\n    .dataframe thead th {\n        text-align: right;\n    }\n</style>\n<table border=\"1\" class=\"dataframe\">\n  <thead>\n    <tr style=\"text-align: right;\">\n      <th></th>\n      <th>0</th>\n      <th>1</th>\n    </tr>\n  </thead>\n  <tbody>\n    <tr>\n      <th>0</th>\n      <td>/nas/public/dataset/asvspoof2019/LA/ASVspoof20...</td>\n      <td>0.048788</td>\n    </tr>\n    <tr>\n      <th>1</th>\n      <td>/nas/public/dataset/asvspoof2019/LA/ASVspoof20...</td>\n      <td>-25.825459</td>\n    </tr>\n    <tr>\n      <th>2</th>\n      <td>/nas/public/dataset/asvspoof2019/LA/ASVspoof20...</td>\n      <td>-39.204910</td>\n    </tr>\n  </tbody>\n</table>\n</div>"
     },
     "execution_count": 3,
     "metadata": {},
     "output_type": "execute_result"
    }
   ],
   "source": [
    " print(f'The length of the evaluation file list is {len(df_eval)}\\nThe length of the evaluation score list is {len(scores_eval)}')"
   ],
   "metadata": {
    "collapsed": false,
    "ExecuteTime": {
     "end_time": "2024-05-19T14:20:45.169374800Z",
     "start_time": "2024-05-19T14:20:44.787300300Z"
    }
   },
   "id": "bc0f2f5e23c73129",
   "execution_count": 3
  },
  {
   "cell_type": "code",
   "outputs": [
    {
     "name": "stdout",
     "output_type": "stream",
     "text": [
      "The length of the evaluation file list is 71237\n",
      "The length of the evaluation score list is 71237\n"
     ]
    }
   ],
   "source": [],
   "metadata": {
    "collapsed": false,
    "ExecuteTime": {
     "end_time": "2024-05-19T14:20:45.177371100Z",
     "start_time": "2024-05-19T14:20:45.173374300Z"
    }
   },
   "id": "55541c821c668631",
   "execution_count": 4
  },
  {
   "cell_type": "markdown",
   "source": [
    "example: <br>\n",
    "higher log probability ==> predicted class\n",
    "if [score 0]=-2 and [score 1]=-3 then it means that the predicted class is class 0 <br>\n",
    "[score] = -2+3 = 1 > 0 --> class 0\n",
    "<br>\n",
    "###########\n",
    "<br>\n",
    "if [score 0]=-3 and [score 1]=-2 then it means that the predicted class is class 1 <br>\n",
    "[score] = -3+2 = -1 < 0 --> class 1"
   ],
   "metadata": {
    "collapsed": false
   },
   "id": "8631c469c2221c1a"
  },
  {
   "cell_type": "code",
   "outputs": [],
   "source": [
    "# the score values .csv uses a space as a delimiter between the file path and the score\n",
    "\n",
    "def convert_column_to_binary(csv_file):\n",
    "    binary_list = []\n",
    "    \n",
    "    with open(csv_file, 'r') as file:\n",
    "        for line in file:\n",
    "            # Split each line based on space \n",
    "            parts = line.strip().split()\n",
    "            value = float(parts[1])\n",
    "            \n",
    "            try:\n",
    "                if value > 0:\n",
    "                    binary_list.append(0)\n",
    "                else:\n",
    "                    binary_list.append(1)\n",
    "            except ValueError:\n",
    "                pass\n",
    "        \n",
    "    return binary_list"
   ],
   "metadata": {
    "collapsed": false,
    "ExecuteTime": {
     "end_time": "2024-05-19T14:20:45.240392Z",
     "start_time": "2024-05-19T14:20:45.177371100Z"
    }
   },
   "id": "7c08eb7c873e49ef",
   "execution_count": 5
  },
  {
   "cell_type": "code",
   "outputs": [
    {
     "data": {
      "text/plain": "[0, 1, 1]"
     },
     "execution_count": 6,
     "metadata": {},
     "output_type": "execute_result"
    }
   ],
   "source": [
    "pred_labels = convert_column_to_binary(csv_score_file)\n",
    "pred_labels[:3]"
   ],
   "metadata": {
    "collapsed": false,
    "ExecuteTime": {
     "end_time": "2024-05-19T14:20:45.438119200Z",
     "start_time": "2024-05-19T14:20:45.199371600Z"
    }
   },
   "id": "44b08a1d9c8d33f2",
   "execution_count": 6
  },
  {
   "cell_type": "markdown",
   "source": [
    "## Unbalanced accuracy"
   ],
   "metadata": {
    "collapsed": false
   },
   "id": "66e00a28df8b80"
  },
  {
   "cell_type": "code",
   "outputs": [
    {
     "name": "stdout",
     "output_type": "stream",
     "text": [
      "The unbalanced accuracy is 77.15%\n"
     ]
    }
   ],
   "source": [
    "# column at which I have the GT labels\n",
    "csv_column_index = 2\n",
    "csv_GT_file = '../data/df_eval_19.csv'\n",
    "\n",
    "# extract the GT labels \n",
    "with open(csv_GT_file, 'r') as file:\n",
    "    reader = csv.reader(file)\n",
    "    next(reader)\n",
    "    csv_GT_values = [int(row[csv_column_index]) for row in reader]\n",
    "\n",
    "true_labels = csv_GT_values\n",
    "total_values = len(pred_labels)\n",
    "identical_count = sum(1 for x,y in zip(pred_labels, csv_GT_values) if x==y)\n",
    "unbalanced_acc = (identical_count/total_values)*100\n",
    "print(f'The unbalanced accuracy is {unbalanced_acc:.2f}%')\n"
   ],
   "metadata": {
    "collapsed": false,
    "ExecuteTime": {
     "end_time": "2024-05-19T14:20:45.442119800Z",
     "start_time": "2024-05-19T14:20:45.248580500Z"
    }
   },
   "id": "976020a289e74015",
   "execution_count": 7
  },
  {
   "cell_type": "markdown",
   "source": [
    "## Balanced accuracy"
   ],
   "metadata": {
    "collapsed": false
   },
   "id": "4ee223319e273960"
  },
  {
   "cell_type": "code",
   "outputs": [
    {
     "name": "stdout",
     "output_type": "stream",
     "text": [
      "The balanced accuracy is 84.21%\n"
     ]
    }
   ],
   "source": [
    "balanced_acc = balanced_accuracy_score(y_true=true_labels, y_pred=pred_labels)\n",
    "print(f'The balanced accuracy is {balanced_acc*100:.2f}%')"
   ],
   "metadata": {
    "collapsed": false,
    "ExecuteTime": {
     "end_time": "2024-05-19T14:20:45.442119800Z",
     "start_time": "2024-05-19T14:20:45.439118400Z"
    }
   },
   "id": "7dbe85893dd35774",
   "execution_count": 8
  },
  {
   "cell_type": "markdown",
   "source": [
    "## Computing the ROC and EER"
   ],
   "metadata": {
    "collapsed": false
   },
   "id": "437d1a260a27df1"
  },
  {
   "cell_type": "code",
   "outputs": [],
   "source": [
    "from sklearn.metrics import roc_curve\n",
    "import numpy as np"
   ],
   "metadata": {
    "collapsed": false,
    "ExecuteTime": {
     "end_time": "2024-05-19T14:20:45.442119800Z",
     "start_time": "2024-05-19T14:20:45.439118400Z"
    }
   },
   "id": "a9d09ca033b027b3",
   "execution_count": 9
  },
  {
   "cell_type": "code",
   "outputs": [],
   "source": [
    "def compute_eer(y_true, y_score):\n",
    "    # compute the ROC curve\n",
    "    fpr, tpr, thresholds = roc_curve(y_true, y_score)\n",
    "    \n",
    "    # find threshold\n",
    "    eer_threshold_idx = np.argmin(np.abs(fpr-(1-tpr)))\n",
    "    eer_threshold = thresholds[eer_threshold_idx]\n",
    "    \n",
    "    # Calculate EER (FPR or TPR at the EER threshold)\n",
    "    eer_fpr = fpr[eer_threshold_idx]\n",
    "    eer_tpr = tpr[eer_threshold_idx]\n",
    "    eer = (eer_fpr + (1 - eer_tpr)) / 2.0\n",
    "    \n",
    "    return eer, eer_threshold"
   ],
   "metadata": {
    "collapsed": false,
    "ExecuteTime": {
     "end_time": "2024-05-19T14:20:45.443635400Z",
     "start_time": "2024-05-19T14:20:45.439118400Z"
    }
   },
   "id": "4e7406923eca13c1",
   "execution_count": 10
  },
  {
   "cell_type": "code",
   "outputs": [],
   "source": [
    "eer, eer_threshold = compute_eer(true_labels, pred_labels)"
   ],
   "metadata": {
    "collapsed": false,
    "ExecuteTime": {
     "end_time": "2024-05-19T14:20:45.443635400Z",
     "start_time": "2024-05-19T14:20:45.440118700Z"
    }
   },
   "id": "33ed15b2ca7aac95",
   "execution_count": 11
  },
  {
   "cell_type": "code",
   "outputs": [
    {
     "data": {
      "text/plain": "0.15788922284503523"
     },
     "execution_count": 12,
     "metadata": {},
     "output_type": "execute_result"
    }
   ],
   "source": [
    "eer"
   ],
   "metadata": {
    "collapsed": false,
    "ExecuteTime": {
     "end_time": "2024-05-19T14:20:45.653102500Z",
     "start_time": "2024-05-19T14:20:45.440118700Z"
    }
   },
   "id": "2634bf5d0a5d75ac",
   "execution_count": 12
  },
  {
   "cell_type": "markdown",
   "source": [
    "## Computing the confusion matrix\n",
    "* TN true negative, actual class was 0 (BF) and predicted as 0\n",
    "* FP false positive, actual class was 0, but predicted as 1 (deep fake)\n",
    "* FN false negative, actual class was 1, but predicted as 0\n",
    "* TP true positive, actual class was 1 and predicted as 1"
   ],
   "metadata": {
    "collapsed": false
   },
   "id": "48f4b18197487837"
  },
  {
   "cell_type": "code",
   "outputs": [],
   "source": [
    "from sklearn.metrics import confusion_matrix"
   ],
   "metadata": {
    "collapsed": false,
    "ExecuteTime": {
     "end_time": "2024-05-19T14:20:45.653102500Z",
     "start_time": "2024-05-19T14:20:45.652104500Z"
    }
   },
   "id": "c85846e97bd9153c",
   "execution_count": 13
  },
  {
   "cell_type": "code",
   "outputs": [
    {
     "name": "stdout",
     "output_type": "stream",
     "text": [
      "[[ 6848   507]\n",
      " [15769 48113]]\n"
     ]
    }
   ],
   "source": [
    "cm = confusion_matrix(true_labels, pred_labels)\n",
    "print(cm)\n",
    "\n",
    "# [ TN    FP\n",
    "#   FN    TP ]"
   ],
   "metadata": {
    "collapsed": false,
    "ExecuteTime": {
     "end_time": "2024-05-19T14:20:45.659099100Z",
     "start_time": "2024-05-19T14:20:45.652104500Z"
    }
   },
   "id": "7c996f58fa3fe1ff",
   "execution_count": 14
  },
  {
   "cell_type": "markdown",
   "source": [
    "## Computing the indices of true positives\n",
    "aka those audios with GT=1 and prediction=1, which means they are DF and the model correctly identified them as DF\n"
   ],
   "metadata": {
    "collapsed": false
   },
   "id": "350964644441d7cc"
  },
  {
   "cell_type": "code",
   "outputs": [
    {
     "data": {
      "text/plain": "[1, 2, 3, 4, 6, 8, 11, 13, 16, 18]"
     },
     "execution_count": 26,
     "metadata": {},
     "output_type": "execute_result"
    }
   ],
   "source": [
    "def find_TP(list1, list2):\n",
    "    if len(list1) != len(list2):\n",
    "        raise ValueError\n",
    "    list = []\n",
    "    for i in range(len(list1)):\n",
    "        if (list1[i]==1 & list2[i]==1):\n",
    "            list.append(i)\n",
    "    return list    \n",
    "\n",
    "TP_indices = find_TP(true_labels, pred_labels)\n",
    "TP_indices[:10]"
   ],
   "metadata": {
    "collapsed": false,
    "ExecuteTime": {
     "end_time": "2024-05-19T14:32:07.130152300Z",
     "start_time": "2024-05-19T14:32:07.130152300Z"
    }
   },
   "id": "cf5ee06e69ad88f0",
   "execution_count": 26
  },
  {
   "cell_type": "code",
   "outputs": [
    {
     "data": {
      "text/plain": "48113"
     },
     "execution_count": 24,
     "metadata": {},
     "output_type": "execute_result"
    }
   ],
   "source": [
    "len(TP_indices)"
   ],
   "metadata": {
    "collapsed": false,
    "ExecuteTime": {
     "end_time": "2024-05-19T14:31:40.686670700Z",
     "start_time": "2024-05-19T14:31:40.680669700Z"
    }
   },
   "id": "b7ea0e98d6e4deb1",
   "execution_count": 24
  },
  {
   "cell_type": "code",
   "outputs": [],
   "source": [],
   "metadata": {
    "collapsed": false
   },
   "id": "ba545e7e0fc24627"
  }
 ],
 "metadata": {
  "kernelspec": {
   "display_name": "Python 3",
   "language": "python",
   "name": "python3"
  },
  "language_info": {
   "codemirror_mode": {
    "name": "ipython",
    "version": 2
   },
   "file_extension": ".py",
   "mimetype": "text/x-python",
   "name": "python",
   "nbconvert_exporter": "python",
   "pygments_lexer": "ipython2",
   "version": "2.7.6"
  }
 },
 "nbformat": 4,
 "nbformat_minor": 5
}
