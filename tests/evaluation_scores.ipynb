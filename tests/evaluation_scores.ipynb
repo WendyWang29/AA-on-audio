{
 "cells": [
  {
   "cell_type": "markdown",
   "source": [
    "# Evaluation scores\n",
    "\n"
   ],
   "metadata": {
    "collapsed": false
   },
   "id": "e72e876c1cd569fb"
  },
  {
   "cell_type": "markdown",
   "source": [
    "example: <br>\n",
    "higher log probability ==> predicted class\n",
    "if [score 0]=-2 and [score 1]=-3 then it means that the predicted class is class 0 <br>\n",
    "[score] = -2+3 = 1 > 0 --> class 0\n",
    "<br>\n",
    "###########\n",
    "<br>\n",
    "if [score 0]=-3 and [score 1]=-2 then it means that the predicted class is class 1 <br>\n",
    "[score] = -3+2 = -1 < 0 --> class 1"
   ],
   "metadata": {
    "collapsed": false
   },
   "id": "91fad8d613b40b5"
  },
  {
   "cell_type": "markdown",
   "source": [
    "***\n",
    "## Load the scores"
   ],
   "metadata": {
    "collapsed": false
   },
   "id": "8e997dc3e96b5904"
  },
  {
   "cell_type": "code",
   "outputs": [],
   "source": [
    "import csv\n",
    "import sys\n",
    "\n",
    "import pandas as pd\n",
    "from src.utils import *\n",
    "from sklearn.metrics import accuracy_score, balanced_accuracy_score, roc_curve, auc"
   ],
   "metadata": {
    "collapsed": false,
    "ExecuteTime": {
     "end_time": "2024-05-21T23:05:56.896598800Z",
     "start_time": "2024-05-21T23:05:56.894598600Z"
    }
   },
   "id": "142b35be13b9255",
   "execution_count": 32
  },
  {
   "cell_type": "code",
   "outputs": [
    {
     "name": "stdout",
     "output_type": "stream",
     "text": [
      "Lengths are okay\n"
     ]
    }
   ],
   "source": [
    "# paths to csv score files\n",
    "probs_clean_csv = '../eval/prob_resnet_spec_eval.csv'\n",
    "probs_1dot0_csv = '../eval/prob_resnet_spec_eval_FGSM_1dot0.csv'\n",
    "probs_2dot0_csv = '../eval/prob_resnet_spec_eval_FGSM_2dot0.csv' \n",
    "probs_3dot0_csv = '../eval/prob_resnet_spec_eval_FGSM_3dot0.csv'\n",
    "\n",
    "# check the lengths\n",
    "probs_clean = pd.read_csv(probs_clean_csv, delimiter=' ', header=None, engine='python')\n",
    "probs_1dot0 = pd.read_csv(probs_1dot0_csv, delimiter=' ', header=None, engine='python')\n",
    "probs_2dot0 = pd.read_csv(probs_2dot0_csv, delimiter=' ', header=None, engine='python')\n",
    "probs_3dot0 = pd.read_csv(probs_3dot0_csv, delimiter=' ', header=None, engine='python')\n",
    "\n",
    "if len(probs_clean) == len(probs_1dot0) == len(probs_2dot0) == len(probs_3dot0):\n",
    "    print('Lengths are okay')\n",
    "else:\n",
    "    sys.exit('Lengths are not okay')"
   ],
   "metadata": {
    "collapsed": false,
    "ExecuteTime": {
     "end_time": "2024-05-21T23:05:57.820682500Z",
     "start_time": "2024-05-21T23:05:56.927599300Z"
    }
   },
   "id": "2e0dfecac7f3448f",
   "execution_count": 33
  },
  {
   "cell_type": "code",
   "outputs": [],
   "source": [
    "# ground truth file of evaluation dataset (ASVSpoof2019)\n",
    "config_path = '../config/residualnet_train_config.yaml'\n",
    "config = read_yaml(config_path)\n",
    "df_eval = pd.read_csv(os.path.join('..', config['df_eval_path']))"
   ],
   "metadata": {
    "collapsed": false,
    "ExecuteTime": {
     "end_time": "2024-05-21T23:05:57.976308100Z",
     "start_time": "2024-05-21T23:05:57.817682100Z"
    }
   },
   "id": "1d24f73447dcc84d",
   "execution_count": 34
  },
  {
   "cell_type": "markdown",
   "source": [
    "***\n",
    "## Accuracies"
   ],
   "metadata": {
    "collapsed": false
   },
   "id": "9e461ee5cbb054fb"
  },
  {
   "cell_type": "code",
   "outputs": [],
   "source": [
    "# the score values .csv uses a space as a delimiter between the file path and the score\n",
    "\n",
    "def convert_probs_to_labels(csv_file):\n",
    "    binary_list = []\n",
    "    \n",
    "    with open(csv_file, 'r') as file:\n",
    "        reader = csv.reader(file)\n",
    "        next(reader) # skip the header\n",
    "        for line in reader:\n",
    "            val_1 = float(line[1])\n",
    "            val_2 = float(line[2])\n",
    "            \n",
    "            try:\n",
    "                if val_1 > val_2:\n",
    "                    binary_list.append(0)\n",
    "                else:\n",
    "                    binary_list.append(1)\n",
    "            except ValueError:\n",
    "                pass\n",
    "        \n",
    "    return binary_list"
   ],
   "metadata": {
    "collapsed": false,
    "ExecuteTime": {
     "end_time": "2024-05-21T23:05:57.985305200Z",
     "start_time": "2024-05-21T23:05:57.980309800Z"
    }
   },
   "id": "7c08eb7c873e49ef",
   "execution_count": 35
  },
  {
   "cell_type": "code",
   "outputs": [],
   "source": [
    "pred_labels_clean = convert_probs_to_labels(csv_file=probs_clean_csv)\n",
    "pred_labels_1dot0 = convert_probs_to_labels(csv_file=probs_1dot0_csv)\n",
    "pred_labels_2dot0 = convert_probs_to_labels(csv_file=probs_2dot0_csv)\n",
    "pred_labels_3dot0 = convert_probs_to_labels(csv_file=probs_3dot0_csv)"
   ],
   "metadata": {
    "collapsed": false,
    "ExecuteTime": {
     "end_time": "2024-05-21T23:05:58.322235300Z",
     "start_time": "2024-05-21T23:05:57.984305400Z"
    }
   },
   "id": "44b08a1d9c8d33f2",
   "execution_count": 36
  },
  {
   "cell_type": "code",
   "outputs": [],
   "source": [
    "# get the GT labels\n",
    "GT_labels = df_eval.iloc[:, -1].tolist()"
   ],
   "metadata": {
    "collapsed": false,
    "ExecuteTime": {
     "end_time": "2024-05-21T23:05:58.328236Z",
     "start_time": "2024-05-21T23:05:58.324238300Z"
    }
   },
   "id": "516387f94a0af361",
   "execution_count": 37
  },
  {
   "cell_type": "markdown",
   "source": [
    "### Unbalanced accuracy"
   ],
   "metadata": {
    "collapsed": false
   },
   "id": "66e00a28df8b80"
  },
  {
   "cell_type": "code",
   "outputs": [
    {
     "name": "stdout",
     "output_type": "stream",
     "text": [
      "The unbalanced acc for clean eval set is 77.15%\n",
      "The unbalanced acc for epsilon = 1.0 set is 43.69%\n",
      "The unbalanced acc for epsilon = 2.0 set is 36.29%\n",
      "The unbalanced acc for epsilon = 3.0 set is 27.98%\n"
     ]
    }
   ],
   "source": [
    "unb_acc_clean = accuracy_score(y_true=GT_labels, y_pred=pred_labels_clean)\n",
    "unb_acc_1dot0 = accuracy_score(y_true=GT_labels, y_pred=pred_labels_1dot0)\n",
    "unb_acc_2dot0 = accuracy_score(y_true=GT_labels, y_pred=pred_labels_2dot0)\n",
    "unb_acc_3dot0 = accuracy_score(y_true=GT_labels, y_pred=pred_labels_3dot0)\n",
    "\n",
    "print(f'The unbalanced acc for clean eval set is {unb_acc_clean*100:.2f}%\\n'\n",
    "      f'The unbalanced acc for epsilon = 1.0 set is {unb_acc_1dot0*100:.2f}%\\n'\n",
    "      f'The unbalanced acc for epsilon = 2.0 set is {unb_acc_2dot0*100:.2f}%\\n'\n",
    "      f'The unbalanced acc for epsilon = 3.0 set is {unb_acc_3dot0*100:.2f}%')\n"
   ],
   "metadata": {
    "collapsed": false,
    "ExecuteTime": {
     "end_time": "2024-05-21T23:05:58.506080200Z",
     "start_time": "2024-05-21T23:05:58.327235900Z"
    }
   },
   "id": "976020a289e74015",
   "execution_count": 38
  },
  {
   "cell_type": "markdown",
   "source": [
    "### Balanced accuracy"
   ],
   "metadata": {
    "collapsed": false
   },
   "id": "4ee223319e273960"
  },
  {
   "cell_type": "code",
   "outputs": [
    {
     "name": "stdout",
     "output_type": "stream",
     "text": [
      "The balanced acc for clean eval set is 84.21%\n",
      "The balanced acc for epsilon = 1.0 set is 49.68%\n",
      "The balanced acc for epsilon = 2.0 set is 49.97%\n",
      "The balanced acc for epsilon = 3.0 set is 50.18%\n"
     ]
    }
   ],
   "source": [
    "bal_acc_clean = balanced_accuracy_score(y_true=GT_labels, y_pred=pred_labels_clean)\n",
    "bal_acc_1dot0 = balanced_accuracy_score(y_true=GT_labels, y_pred=pred_labels_1dot0)\n",
    "bal_acc_2dot0 = balanced_accuracy_score(y_true=GT_labels, y_pred=pred_labels_2dot0)\n",
    "bal_acc_3dot0 = balanced_accuracy_score(y_true=GT_labels, y_pred=pred_labels_3dot0)\n",
    "\n",
    "print(f'The balanced acc for clean eval set is {bal_acc_clean*100:.2f}%\\n'\n",
    "      f'The balanced acc for epsilon = 1.0 set is {bal_acc_1dot0*100:.2f}%\\n'\n",
    "      f'The balanced acc for epsilon = 2.0 set is {bal_acc_2dot0*100:.2f}%\\n'\n",
    "      f'The balanced acc for epsilon = 3.0 set is {bal_acc_3dot0*100:.2f}%')"
   ],
   "metadata": {
    "collapsed": false,
    "ExecuteTime": {
     "end_time": "2024-05-21T23:05:58.685948100Z",
     "start_time": "2024-05-21T23:05:58.504081600Z"
    }
   },
   "id": "7dbe85893dd35774",
   "execution_count": 39
  },
  {
   "cell_type": "markdown",
   "source": [
    "***\n",
    "## ROC curve and AUC"
   ],
   "metadata": {
    "collapsed": false
   },
   "id": "437d1a260a27df1"
  },
  {
   "cell_type": "code",
   "outputs": [],
   "source": [
    "def create_prob_pos_class_list(csv_file):\n",
    "    probs_pos_class = []\n",
    "    with open(csv_file, 'r') as file:\n",
    "        reader = csv.reader(file)\n",
    "        next(reader) # skip the header\n",
    "        for row in reader:\n",
    "            val = float(row[2])\n",
    "            probs_pos_class.append(val)\n",
    "    return probs_pos_class"
   ],
   "metadata": {
    "collapsed": false,
    "ExecuteTime": {
     "end_time": "2024-05-21T23:05:58.729967400Z",
     "start_time": "2024-05-21T23:05:58.687944100Z"
    }
   },
   "id": "23b46a244c70e7f5",
   "execution_count": 40
  },
  {
   "cell_type": "code",
   "outputs": [],
   "source": [
    "positive_class_probs = create_prob_pos_class_list(probs_clean_csv)\n",
    "positive_class_probs_1dot0 = create_prob_pos_class_list(probs_1dot0_csv)\n",
    "positive_class_probs_2dot0 = create_prob_pos_class_list(probs_2dot0_csv)\n",
    "positive_class_probs_3dot0 = create_prob_pos_class_list(probs_3dot0_csv)"
   ],
   "metadata": {
    "collapsed": false,
    "ExecuteTime": {
     "end_time": "2024-05-21T23:05:59.024442700Z",
     "start_time": "2024-05-21T23:05:58.729967400Z"
    }
   },
   "id": "220495e2b172c29d",
   "execution_count": 41
  },
  {
   "cell_type": "code",
   "outputs": [],
   "source": [
    "FP_clean, TP_clean, _ = roc_curve(GT_labels, positive_class_probs)\n",
    "ROC_AUC_clean = auc(FP_clean, TP_clean)\n",
    "\n",
    "FP_1dot0, TP_1dot0, _ = roc_curve(GT_labels, positive_class_probs_1dot0)\n",
    "ROC_AUC_1dot0 = auc(FP_1dot0, TP_1dot0)\n",
    "\n",
    "FP_2dot0, TP_2dot0, _ = roc_curve(GT_labels, positive_class_probs_2dot0)\n",
    "ROC_AUC_2dot0 = auc(FP_2dot0, TP_2dot0)\n",
    "\n",
    "FP_3dot0, TP_3dot0, _ = roc_curve(GT_labels, positive_class_probs_3dot0)\n",
    "ROC_AUC_3dot0 = auc(FP_3dot0, TP_3dot0)\n",
    "\n",
    "\n"
   ],
   "metadata": {
    "collapsed": false,
    "ExecuteTime": {
     "end_time": "2024-05-21T23:05:59.097167900Z",
     "start_time": "2024-05-21T23:05:59.028441800Z"
    }
   },
   "id": "fd6cac62e264e0a4",
   "execution_count": 42
  },
  {
   "cell_type": "code",
   "outputs": [
    {
     "data": {
      "text/plain": "<Figure size 640x480 with 1 Axes>",
      "image/png": "[encoded data removed]"
     },
     "metadata": {},
     "output_type": "display_data"
    }
   ],
   "source": [
    "plt.figure()\n",
    "plt.plot(FP_clean, TP_clean, color='blue', lw=2, label=f'Clean (AUC = {ROC_AUC_clean:.2f})')\n",
    "plt.plot(FP_1dot0, TP_1dot0, color='magenta', lw=2, label=f'FGSM eps=1.0 (AUC = {ROC_AUC_1dot0:.2f})')\n",
    "plt.plot(FP_2dot0, TP_2dot0, color='green', lw=2, label=f'FGSM eps=2.0 (AUC = {ROC_AUC_2dot0:.2f})')\n",
    "plt.plot(FP_3dot0, TP_3dot0, color='red', lw=2, label=f'FGSM eps=3.0 (AUC = {ROC_AUC_3dot0:.2f})')\n",
    "\n",
    "plt.plot([0, 1], [0, 1], color='gray', lw=2, linestyle='--')\n",
    "plt.xlim([0.0, 1.0])\n",
    "plt.ylim([0.0, 1.0])\n",
    "plt.xlabel('False Positive Rate')\n",
    "plt.ylabel('True Positive Rate')\n",
    "plt.title('Receiver Operating Characteristic (ROC) Curve')\n",
    "plt.legend(loc='lower right')\n",
    "plt.show()"
   ],
   "metadata": {
    "collapsed": false,
    "ExecuteTime": {
     "end_time": "2024-05-21T23:05:59.695633400Z",
     "start_time": "2024-05-21T23:05:59.097167900Z"
    }
   },
   "id": "319426c1a55e3415",
   "execution_count": 43
  },
  {
   "cell_type": "markdown",
   "source": [
    "## Computing the confusion matrix\n",
    "* TN true negative, actual class was 0 (BF) and predicted as 0\n",
    "* FP false positive, actual class was 0, but predicted as 1 (deep fake)\n",
    "* FN false negative, actual class was 1, but predicted as 0\n",
    "* TP true positive, actual class was 1 and predicted as 1"
   ],
   "metadata": {
    "collapsed": false
   },
   "id": "48f4b18197487837"
  },
  {
   "cell_type": "code",
   "outputs": [],
   "source": [
    "from sklearn.metrics import confusion_matrix\n",
    "\n",
    "# [ TN    FP\n",
    "#   FN    TP ]"
   ],
   "metadata": {
    "collapsed": false,
    "ExecuteTime": {
     "end_time": "2024-05-21T23:05:59.702632700Z",
     "start_time": "2024-05-21T23:05:59.695633400Z"
    }
   },
   "id": "c85846e97bd9153c",
   "execution_count": 44
  },
  {
   "cell_type": "code",
   "outputs": [
    {
     "name": "stdout",
     "output_type": "stream",
     "text": [
      "[[ 6848   507]\n",
      " [15769 48113]]\n"
     ]
    }
   ],
   "source": [
    "cm = confusion_matrix(GT_labels, pred_labels_clean)\n",
    "print(cm)"
   ],
   "metadata": {
    "collapsed": false,
    "ExecuteTime": {
     "end_time": "2024-05-21T23:11:43.791258Z",
     "start_time": "2024-05-21T23:11:43.788248100Z"
    }
   },
   "id": "7c996f58fa3fe1ff",
   "execution_count": 52
  },
  {
   "cell_type": "code",
   "outputs": [
    {
     "name": "stdout",
     "output_type": "stream",
     "text": [
      "[[ 4209  3146]\n",
      " [36964 26918]]\n"
     ]
    }
   ],
   "source": [
    "cm = confusion_matrix(GT_labels, pred_labels_1dot0)\n",
    "print(cm)"
   ],
   "metadata": {
    "collapsed": false,
    "ExecuteTime": {
     "end_time": "2024-05-21T23:11:17.892213900Z",
     "start_time": "2024-05-21T23:11:17.849502500Z"
    }
   },
   "id": "dce79440b989ffe2",
   "execution_count": 51
  },
  {
   "cell_type": "code",
   "outputs": [
    {
     "name": "stdout",
     "output_type": "stream",
     "text": [
      "[[ 4944  2411]\n",
      " [42976 20906]]\n"
     ]
    }
   ],
   "source": [
    "cm = confusion_matrix(GT_labels, pred_labels_2dot0)\n",
    "print(cm)"
   ],
   "metadata": {
    "collapsed": false,
    "ExecuteTime": {
     "end_time": "2024-05-21T23:06:51.972782700Z",
     "start_time": "2024-05-21T23:06:51.938054400Z"
    }
   },
   "id": "3ee31f83edba882b",
   "execution_count": 48
  },
  {
   "cell_type": "code",
   "outputs": [
    {
     "name": "stdout",
     "output_type": "stream",
     "text": [
      "[[ 5748  1607]\n",
      " [49696 14186]]\n"
     ]
    }
   ],
   "source": [
    "cm = confusion_matrix(GT_labels, pred_labels_3dot0)\n",
    "print(cm)"
   ],
   "metadata": {
    "collapsed": false,
    "ExecuteTime": {
     "end_time": "2024-05-21T23:07:12.214613700Z",
     "start_time": "2024-05-21T23:07:12.168638400Z"
    }
   },
   "id": "33e2e1c3a5887ed0",
   "execution_count": 49
  },
  {
   "cell_type": "markdown",
   "source": [
    "## Computing the indices of true positives\n",
    "aka those audios with GT=1 and prediction=1, which means they are DF and the model correctly identified them as DF\n"
   ],
   "metadata": {
    "collapsed": false
   },
   "id": "350964644441d7cc"
  },
  {
   "cell_type": "code",
   "outputs": [],
   "source": [
    "# def find_TP(list1, list2):\n",
    "#     if len(list1) != len(list2):\n",
    "#         raise ValueError\n",
    "#     list = []\n",
    "#     for i in range(len(list1)):\n",
    "#         if (list1[i]==1 & list2[i]==1):\n",
    "#             list.append(i)\n",
    "#     return list    \n",
    "# \n",
    "# TP_indices = find_TP(true_labels, pred_labels)\n",
    "# TP_indices[:10]"
   ],
   "metadata": {
    "collapsed": false,
    "ExecuteTime": {
     "end_time": "2024-05-21T23:05:59.825823300Z",
     "start_time": "2024-05-21T23:05:59.740386100Z"
    }
   },
   "id": "cf5ee06e69ad88f0",
   "execution_count": 46
  },
  {
   "cell_type": "code",
   "outputs": [],
   "source": [],
   "metadata": {
    "collapsed": false,
    "ExecuteTime": {
     "end_time": "2024-05-21T23:05:59.873822400Z",
     "start_time": "2024-05-21T23:05:59.828819300Z"
    }
   },
   "id": "ba545e7e0fc24627",
   "execution_count": 46
  }
 ],
 "metadata": {
  "kernelspec": {
   "display_name": "Python 3",
   "language": "python",
   "name": "python3"
  },
  "language_info": {
   "codemirror_mode": {
    "name": "ipython",
    "version": 2
   },
   "file_extension": ".py",
   "mimetype": "text/x-python",
   "name": "python",
   "nbconvert_exporter": "python",
   "pygments_lexer": "ipython2",
   "version": "2.7.6"
  }
 },
 "nbformat": 4,
 "nbformat_minor": 5
}
