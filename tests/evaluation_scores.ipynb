{
 "cells": [
  {
   "cell_type": "markdown",
   "source": [
    "# Evaluation scores\n",
    "Using the file ../eval/scores_resnet_spec_eval.csv I evaluate the model performance of the evaluation process, performed on the ASVSpoof2021 dataset.\n"
   ],
   "metadata": {
    "collapsed": false
   },
   "id": "e72e876c1cd569fb"
  },
  {
   "cell_type": "markdown",
   "source": [
    "## Computing the % of correct predictions"
   ],
   "metadata": {
    "collapsed": false
   },
   "id": "8e997dc3e96b5904"
  },
  {
   "cell_type": "code",
   "outputs": [],
   "source": [
    "import csv"
   ],
   "metadata": {
    "collapsed": false,
    "ExecuteTime": {
     "end_time": "2024-04-23T10:16:26.634393700Z",
     "start_time": "2024-04-23T10:16:26.597392Z"
    }
   },
   "id": "142b35be13b9255",
   "execution_count": 2
  },
  {
   "cell_type": "code",
   "outputs": [],
   "source": [
    "# the score values .csv uses a space as a delimiter between the file path and the score\n",
    "\n",
    "def convert_column_to_binary(csv_file):\n",
    "    binary_list = []\n",
    "    \n",
    "    with open(csv_file, 'r') as file:\n",
    "        for line in file:\n",
    "            # Split each line based on space \n",
    "            parts = line.strip().split()\n",
    "            value = float(parts[1])\n",
    "            \n",
    "            try:\n",
    "                if value > 0:\n",
    "                    binary_list.append(0)\n",
    "                else:\n",
    "                    binary_list.append(1)\n",
    "            except ValueError:\n",
    "                pass\n",
    "        \n",
    "    return binary_list"
   ],
   "metadata": {
    "collapsed": false,
    "ExecuteTime": {
     "end_time": "2024-04-23T10:16:26.638392Z",
     "start_time": "2024-04-23T10:16:26.633392700Z"
    }
   },
   "id": "7c08eb7c873e49ef",
   "execution_count": 3
  },
  {
   "cell_type": "code",
   "outputs": [],
   "source": [
    "csv_score_file = '../eval/scores_resnet_spec_eval.csv'\n",
    "scores_binary_list = convert_column_to_binary(csv_score_file)"
   ],
   "metadata": {
    "collapsed": false,
    "ExecuteTime": {
     "end_time": "2024-04-23T10:16:27.286080900Z",
     "start_time": "2024-04-23T10:16:26.647402800Z"
    }
   },
   "id": "44b08a1d9c8d33f2",
   "execution_count": 4
  },
  {
   "cell_type": "code",
   "outputs": [
    {
     "data": {
      "text/plain": "611829"
     },
     "execution_count": 5,
     "metadata": {},
     "output_type": "execute_result"
    }
   ],
   "source": [
    "len(scores_binary_list)"
   ],
   "metadata": {
    "collapsed": false,
    "ExecuteTime": {
     "end_time": "2024-04-23T10:16:27.335089Z",
     "start_time": "2024-04-23T10:16:27.334094Z"
    }
   },
   "id": "e0232b48279c1e6c",
   "execution_count": 5
  },
  {
   "cell_type": "code",
   "outputs": [],
   "source": [
    "# column at which I have the GT labels\n",
    "csv_column_index = 2\n",
    "csv_GT_file = '../data/df_eval.csv'\n",
    "\n",
    "with open(csv_GT_file, 'r') as file:\n",
    "    reader = csv.reader(file)\n",
    "    next(reader)\n",
    "    csv_GT_values = [int(row[csv_column_index]) for row in reader]\n",
    "    \n",
    "total_values = len(scores_binary_list)\n",
    "identical_count = sum(1 for x,y in zip(scores_binary_list, csv_GT_values) if x==y)\n",
    "percentage_identical = (identical_count/total_values)*100\n"
   ],
   "metadata": {
    "collapsed": false,
    "ExecuteTime": {
     "end_time": "2024-04-23T10:16:28.022193300Z",
     "start_time": "2024-04-23T10:16:27.334094Z"
    }
   },
   "id": "976020a289e74015",
   "execution_count": 6
  },
  {
   "cell_type": "code",
   "outputs": [
    {
     "data": {
      "text/plain": "89.25647525697539"
     },
     "execution_count": 7,
     "metadata": {},
     "output_type": "execute_result"
    }
   ],
   "source": [
    "percentage_identical"
   ],
   "metadata": {
    "collapsed": false,
    "ExecuteTime": {
     "end_time": "2024-04-23T10:16:28.032171900Z",
     "start_time": "2024-04-23T10:16:28.023168200Z"
    }
   },
   "id": "c50202531fff47af",
   "execution_count": 7
  },
  {
   "cell_type": "markdown",
   "source": [
    "## Computingh the ROC and EER"
   ],
   "metadata": {
    "collapsed": false
   },
   "id": "437d1a260a27df1"
  },
  {
   "cell_type": "code",
   "outputs": [],
   "source": [
    "from sklearn.metrics import roc_curve\n",
    "import numpy as np"
   ],
   "metadata": {
    "collapsed": false,
    "ExecuteTime": {
     "end_time": "2024-04-23T10:16:29.073928400Z",
     "start_time": "2024-04-23T10:16:28.030167Z"
    }
   },
   "id": "a9d09ca033b027b3",
   "execution_count": 8
  },
  {
   "cell_type": "code",
   "outputs": [],
   "source": [
    "def compute_eer(y_true, y_score):\n",
    "    # compute the ROC curve\n",
    "    fpr, tpr, thresholds = roc_curve(y_true, y_score)\n",
    "    \n",
    "    # find threshold\n",
    "    eer_threshold_idx = np.argmin(np.abs(fpr-(1-tpr)))\n",
    "    eer_threshold = thresholds[eer_threshold_idx]\n",
    "    \n",
    "    # Calculate EER (FPR or TPR at the EER threshold)\n",
    "    eer_fpr = fpr[eer_threshold_idx]\n",
    "    eer_tpr = tpr[eer_threshold_idx]\n",
    "    eer = (eer_fpr + (1 - eer_tpr)) / 2.0\n",
    "    \n",
    "    return eer, eer_threshold"
   ],
   "metadata": {
    "collapsed": false,
    "ExecuteTime": {
     "end_time": "2024-04-23T10:16:29.083104400Z",
     "start_time": "2024-04-23T10:16:29.075937Z"
    }
   },
   "id": "4e7406923eca13c1",
   "execution_count": 9
  },
  {
   "cell_type": "code",
   "outputs": [],
   "source": [
    "eer, eer_threshold = compute_eer(csv_GT_values, scores_binary_list)"
   ],
   "metadata": {
    "collapsed": false,
    "ExecuteTime": {
     "end_time": "2024-04-23T10:16:29.307106300Z",
     "start_time": "2024-04-23T10:16:29.081135600Z"
    }
   },
   "id": "33ed15b2ca7aac95",
   "execution_count": 10
  },
  {
   "cell_type": "code",
   "outputs": [
    {
     "data": {
      "text/plain": "0.2700244945842659"
     },
     "execution_count": 11,
     "metadata": {},
     "output_type": "execute_result"
    }
   ],
   "source": [
    "eer"
   ],
   "metadata": {
    "collapsed": false,
    "ExecuteTime": {
     "end_time": "2024-04-23T10:16:29.315058Z",
     "start_time": "2024-04-23T10:16:29.307106300Z"
    }
   },
   "id": "2634bf5d0a5d75ac",
   "execution_count": 11
  },
  {
   "cell_type": "markdown",
   "source": [
    "## Computing the confusion matrix\n",
    "* TN true negative, actual class was 0 (BF) and predicted as 0\n",
    "* FP false positive, actual class was 0, but predicted as 1 (deep fake)\n",
    "* FN false negative, actual class was 1, but predicted as 0\n",
    "* TP true positive, actual class was 1 and predicted as 1"
   ],
   "metadata": {
    "collapsed": false
   },
   "id": "48f4b18197487837"
  },
  {
   "cell_type": "code",
   "outputs": [],
   "source": [
    "from sklearn.metrics import confusion_matrix"
   ],
   "metadata": {
    "collapsed": false,
    "ExecuteTime": {
     "end_time": "2024-04-23T10:16:29.354101900Z",
     "start_time": "2024-04-23T10:16:29.312049400Z"
    }
   },
   "id": "c85846e97bd9153c",
   "execution_count": 12
  },
  {
   "cell_type": "code",
   "outputs": [
    {
     "name": "stdout",
     "output_type": "stream",
     "text": [
      "[[ 12539  10078]\n",
      " [ 55654 533558]]\n"
     ]
    }
   ],
   "source": [
    "cm = confusion_matrix(csv_GT_values, scores_binary_list)\n",
    "print(cm)\n",
    "\n",
    "# [ TN    FP\n",
    "#   FN    TP ]"
   ],
   "metadata": {
    "collapsed": false,
    "ExecuteTime": {
     "end_time": "2024-04-23T10:16:29.696487700Z",
     "start_time": "2024-04-23T10:16:29.354101900Z"
    }
   },
   "id": "7c996f58fa3fe1ff",
   "execution_count": 13
  },
  {
   "cell_type": "markdown",
   "source": [
    "## Computing the indices of wrong predictions"
   ],
   "metadata": {
    "collapsed": false
   },
   "id": "350964644441d7cc"
  },
  {
   "cell_type": "code",
   "outputs": [],
   "source": [
    "def find_different_indices(list1, list2):\n",
    "    if len(list1) != len(list2):\n",
    "        raise ValueError\n",
    "    diff_idx = [i for i, (x,y) in enumerate(zip(list1, list2)) if x!=y]\n",
    "    return diff_idx\n",
    "\n",
    "wrong_preds_idx = find_different_indices(csv_GT_values, scores_binary_list)"
   ],
   "metadata": {
    "collapsed": false,
    "ExecuteTime": {
     "end_time": "2024-04-23T10:16:29.750483200Z",
     "start_time": "2024-04-23T10:16:29.743488800Z"
    }
   },
   "id": "cf5ee06e69ad88f0",
   "execution_count": 14
  },
  {
   "cell_type": "code",
   "outputs": [
    {
     "data": {
      "text/plain": "[1, 7, 13, 18, 20, 59, 60, 61, 64, 72]"
     },
     "execution_count": 15,
     "metadata": {},
     "output_type": "execute_result"
    }
   ],
   "source": [
    "wrong_preds_idx[:10]"
   ],
   "metadata": {
    "collapsed": false,
    "ExecuteTime": {
     "end_time": "2024-04-23T10:16:39.260138700Z",
     "start_time": "2024-04-23T10:16:39.252139400Z"
    }
   },
   "id": "b669d88d1e9fd61e",
   "execution_count": 15
  },
  {
   "cell_type": "code",
   "outputs": [],
   "source": [],
   "metadata": {
    "collapsed": false
   },
   "id": "b7ea0e98d6e4deb1"
  }
 ],
 "metadata": {
  "kernelspec": {
   "display_name": "Python 3",
   "language": "python",
   "name": "python3"
  },
  "language_info": {
   "codemirror_mode": {
    "name": "ipython",
    "version": 2
   },
   "file_extension": ".py",
   "mimetype": "text/x-python",
   "name": "python",
   "nbconvert_exporter": "python",
   "pygments_lexer": "ipython2",
   "version": "2.7.6"
  }
 },
 "nbformat": 4,
 "nbformat_minor": 5
}
