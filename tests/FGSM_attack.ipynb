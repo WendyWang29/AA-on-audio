{
 "cells": [
  {
   "cell_type": "markdown",
   "source": [
    "# FGSM attack on a single spectrogram"
   ],
   "metadata": {
    "collapsed": false
   },
   "id": "f9172be2aebc290b"
  },
  {
   "cell_type": "code",
   "outputs": [],
   "source": [
    "from src.utils import *\n",
    "import librosa\n",
    "import IPython.display as ipd\n",
    "import torch.nn as nn\n",
    "from src.resnet_model import SpectrogramModel\n",
    "from src.resnet_utils import get_features"
   ],
   "metadata": {
    "collapsed": false,
    "ExecuteTime": {
     "end_time": "2024-04-23T13:52:43.573099600Z",
     "start_time": "2024-04-23T13:52:43.531085200Z"
    }
   },
   "id": "d1aecac66d16abf",
   "execution_count": 31
  },
  {
   "cell_type": "markdown",
   "source": [
    "## Preliminaries"
   ],
   "metadata": {
    "collapsed": false
   },
   "id": "5998d968a79d2ebc"
  },
  {
   "cell_type": "code",
   "outputs": [
    {
     "name": "stdout",
     "output_type": "stream",
     "text": [
      "GPU selected: 0 - Quadro P6000\n"
     ]
    }
   ],
   "source": [
    "seed_everything(1234)\n",
    "set_gpu(-1)\n",
    "device = 'cuda' if torch.cuda.is_available() else 'cpu'\n",
    "\n",
    "config_path = '../config/residualnet_train_config.yaml'\n",
    "config = read_yaml(config_path)"
   ],
   "metadata": {
    "collapsed": false,
    "ExecuteTime": {
     "end_time": "2024-04-23T13:51:03.452745900Z",
     "start_time": "2024-04-23T13:51:03.374524800Z"
    }
   },
   "id": "789f9150bd34ee0e",
   "execution_count": 2
  },
  {
   "cell_type": "code",
   "outputs": [
    {
     "name": "stdout",
     "output_type": "stream",
     "text": [
      "Evaluating file /nas/public/dataset/asvspoof2021/ASVspoof2021_DF_eval/flac/DF_E_2000011.flac with label 1\n"
     ]
    }
   ],
   "source": [
    "df_eval = pd.read_csv(os.path.join('..', config[\"df_eval_path\"]))\n",
    "\n",
    "# get the list of evaluation files and labels\n",
    "file_eval = list(df_eval['path'])\n",
    "label_eval = list(df_eval['label'])\n",
    "\n",
    "# get one single file (given the index)\n",
    "index = 0\n",
    "file = file_eval[index]\n",
    "label = label_eval[index]\n",
    "print(f'Evaluating file {file} with label {label}')"
   ],
   "metadata": {
    "collapsed": false,
    "ExecuteTime": {
     "end_time": "2024-04-23T13:51:04.565713600Z",
     "start_time": "2024-04-23T13:51:03.452745900Z"
    }
   },
   "id": "8411fb22935119c9",
   "execution_count": 3
  },
  {
   "cell_type": "markdown",
   "source": [
    "## Load the model"
   ],
   "metadata": {
    "collapsed": false
   },
   "id": "a38182316cfc6761"
  },
  {
   "cell_type": "code",
   "outputs": [
    {
     "name": "stdout",
     "output_type": "stream",
     "text": [
      "Model loaded\n",
      "Is the model on GPU? True\n"
     ]
    }
   ],
   "source": [
    "model = SpectrogramModel().to(device)\n",
    "model.load_state_dict(torch.load(os.path.join('..', config[\"model_path_spec\"]), map_location=device))\n",
    "model.eval()\n",
    "print('Model loaded')\n",
    "print(f'Is the model on GPU? {next(model.parameters()).is_cuda}')"
   ],
   "metadata": {
    "collapsed": false,
    "ExecuteTime": {
     "end_time": "2024-04-23T13:51:04.809715100Z",
     "start_time": "2024-04-23T13:51:04.564712500Z"
    }
   },
   "id": "e4692a303f6ffad5",
   "execution_count": 4
  },
  {
   "cell_type": "markdown",
   "source": [
    "## Load the data (cached spec)"
   ],
   "metadata": {
    "collapsed": false
   },
   "id": "29cbff800afd5f7"
  },
  {
   "cell_type": "code",
   "outputs": [
    {
     "name": "stdout",
     "output_type": "stream",
     "text": [
      "Spectrogram shape is (1025, 41)\n"
     ]
    }
   ],
   "source": [
    "spec= get_features(wav_path=file,\n",
    "                   features=config['features'],\n",
    "                   args=config,\n",
    "                   X=None,\n",
    "                   cached=True,\n",
    "                   force=False)\n",
    "print(f'Spectrogram shape is {spec.shape}')"
   ],
   "metadata": {
    "collapsed": false,
    "ExecuteTime": {
     "end_time": "2024-04-23T13:51:04.817716Z",
     "start_time": "2024-04-23T13:51:04.816727700Z"
    }
   },
   "id": "e833d1793c4d8c0f",
   "execution_count": 5
  },
  {
   "cell_type": "code",
   "outputs": [],
   "source": [
    "# plot the spectrogram\n",
    "\n",
    "# librosa.display.specshow(spec, x_axis='time', y_axis='linear', hop_length=512, sr=16000, cmap='magma')\n",
    "# plt.title('Power spectrogram')\n",
    "# plt.colorbar(format='%+2.0f dB')\n",
    "# plt.show()"
   ],
   "metadata": {
    "collapsed": false,
    "ExecuteTime": {
     "end_time": "2024-04-23T13:51:04.850239800Z",
     "start_time": "2024-04-23T13:51:04.816727700Z"
    }
   },
   "id": "4a2c12720629d08c",
   "execution_count": 6
  },
  {
   "cell_type": "code",
   "outputs": [
    {
     "data": {
      "text/plain": "array([-38.86148834,  41.13851166])"
     },
     "execution_count": 7,
     "metadata": {},
     "output_type": "execute_result"
    }
   ],
   "source": [
    "def find_range(matrix):\n",
    "    range = np.empty(2)\n",
    "    range[0] = np.min(matrix)\n",
    "    range[1] = np.max(matrix)\n",
    "    return range\n",
    "\n",
    "range_clean_spec = find_range(spec)\n",
    "range_clean_spec"
   ],
   "metadata": {
    "collapsed": false,
    "ExecuteTime": {
     "end_time": "2024-04-23T13:51:04.851239800Z",
     "start_time": "2024-04-23T13:51:04.835732300Z"
    }
   },
   "id": "d1cf5fdf938d4863",
   "execution_count": 7
  },
  {
   "cell_type": "markdown",
   "source": [
    "## Run the attack"
   ],
   "metadata": {
    "collapsed": false
   },
   "id": "ed1b753146f01a1e"
  },
  {
   "cell_type": "code",
   "outputs": [
    {
     "data": {
      "text/plain": "torch.Size([1, 1025, 41])"
     },
     "execution_count": 8,
     "metadata": {},
     "output_type": "execute_result"
    }
   ],
   "source": [
    "# transform into a mini batch and to a tensor\n",
    "X_batch = np.expand_dims(spec, axis=0)  # ndarray \n",
    "X_batch_tensor = torch.from_numpy(X_batch).to(device) # tensor \n",
    "\n",
    "X_batch_tensor.size()"
   ],
   "metadata": {
    "collapsed": false,
    "ExecuteTime": {
     "end_time": "2024-04-23T13:51:04.852240Z",
     "start_time": "2024-04-23T13:51:04.847242500Z"
    }
   },
   "id": "9b9e4fc1bd7e7b78",
   "execution_count": 8
  },
  {
   "cell_type": "code",
   "outputs": [],
   "source": [
    "# FGSM attack requires grad wrt the data\n",
    "X = X_batch_tensor\n",
    "X.requires_grad = True"
   ],
   "metadata": {
    "collapsed": false,
    "ExecuteTime": {
     "end_time": "2024-04-23T13:51:04.899240400Z",
     "start_time": "2024-04-23T13:51:04.851239800Z"
    }
   },
   "id": "40b31a46805e2772",
   "execution_count": 9
  },
  {
   "cell_type": "code",
   "outputs": [
    {
     "data": {
      "text/plain": "tensor([[-8.0389e+00, -3.2277e-04]], device='cuda:0',\n       grad_fn=<LogSoftmaxBackward0>)"
     },
     "execution_count": 10,
     "metadata": {},
     "output_type": "execute_result"
    }
   ],
   "source": [
    "out = model(X)\n",
    "out"
   ],
   "metadata": {
    "collapsed": false,
    "ExecuteTime": {
     "end_time": "2024-04-23T13:51:05.235372400Z",
     "start_time": "2024-04-23T13:51:04.895240Z"
    }
   },
   "id": "6134b6237ea4c8",
   "execution_count": 10
  },
  {
   "cell_type": "code",
   "outputs": [
    {
     "name": "stdout",
     "output_type": "stream",
     "text": [
      "The predicted class is 1 and the GT label is 1\n"
     ]
    }
   ],
   "source": [
    "score = out[0,0]-out[0,1]\n",
    "if score >0:\n",
    "    pred = 0\n",
    "else:\n",
    "    pred = 1\n",
    "    \n",
    "print(f'The predicted class is {pred} and the GT label is {label}')"
   ],
   "metadata": {
    "collapsed": false,
    "ExecuteTime": {
     "end_time": "2024-04-23T13:51:05.240364300Z",
     "start_time": "2024-04-23T13:51:05.236364300Z"
    }
   },
   "id": "da5c45fa6e42813f",
   "execution_count": 11
  },
  {
   "cell_type": "code",
   "outputs": [],
   "source": [
    "epsilon = 0.4\n",
    "\n",
    "# initialize loss object\n",
    "L = nn.NLLLoss()"
   ],
   "metadata": {
    "collapsed": false,
    "ExecuteTime": {
     "end_time": "2024-04-23T13:51:05.275901800Z",
     "start_time": "2024-04-23T13:51:05.241372600Z"
    }
   },
   "id": "ef57f53d704543a8",
   "execution_count": 12
  },
  {
   "cell_type": "code",
   "outputs": [],
   "source": [
    "loss = None\n",
    "label_tensor = torch.tensor([1]).to(device)\n",
    "loss = L(out, label_tensor)"
   ],
   "metadata": {
    "collapsed": false,
    "ExecuteTime": {
     "end_time": "2024-04-23T13:51:05.303894100Z",
     "start_time": "2024-04-23T13:51:05.259906600Z"
    }
   },
   "id": "d0e9580110b19a19",
   "execution_count": 13
  },
  {
   "cell_type": "code",
   "outputs": [],
   "source": [
    "# zero out all existing gradients\n",
    "model.zero_grad()\n",
    "\n",
    "# compute gradients\n",
    "loss.backward()\n",
    "X_grad = X.grad"
   ],
   "metadata": {
    "collapsed": false,
    "ExecuteTime": {
     "end_time": "2024-04-23T13:51:05.709233300Z",
     "start_time": "2024-04-23T13:51:05.302902400Z"
    }
   },
   "id": "8dcc925111807649",
   "execution_count": 14
  },
  {
   "cell_type": "code",
   "outputs": [],
   "source": [
    "def perturb(X, epsilon, grad):\n",
    "    X_prime = X + epsilon * grad.sign()\n",
    "    return X_prime"
   ],
   "metadata": {
    "collapsed": false,
    "ExecuteTime": {
     "end_time": "2024-04-23T13:51:05.720222400Z",
     "start_time": "2024-04-23T13:51:05.711225600Z"
    }
   },
   "id": "3791cc6fd283b01e",
   "execution_count": 15
  },
  {
   "cell_type": "code",
   "outputs": [],
   "source": [
    "perturbed_spec = perturb(X, epsilon, X_grad)"
   ],
   "metadata": {
    "collapsed": false,
    "ExecuteTime": {
     "end_time": "2024-04-23T13:51:05.741239Z",
     "start_time": "2024-04-23T13:51:05.716223100Z"
    }
   },
   "id": "d506889ebbc6bc99",
   "execution_count": 16
  },
  {
   "cell_type": "code",
   "outputs": [],
   "source": [
    "p_spec = perturbed_spec.squeeze(0).detach()\n",
    "p_spec = p_spec.cpu().numpy()"
   ],
   "metadata": {
    "collapsed": false,
    "ExecuteTime": {
     "end_time": "2024-04-23T13:51:05.750308600Z",
     "start_time": "2024-04-23T13:51:05.740238200Z"
    }
   },
   "id": "54d482eb1f335199",
   "execution_count": 17
  },
  {
   "cell_type": "code",
   "outputs": [
    {
     "data": {
      "text/plain": "(1025, 41)"
     },
     "execution_count": 18,
     "metadata": {},
     "output_type": "execute_result"
    }
   ],
   "source": [
    "p_spec.shape"
   ],
   "metadata": {
    "collapsed": false,
    "ExecuteTime": {
     "end_time": "2024-04-23T13:51:05.795309200Z",
     "start_time": "2024-04-23T13:51:05.745238300Z"
    }
   },
   "id": "c795b1364f707ed6",
   "execution_count": 18
  },
  {
   "cell_type": "code",
   "outputs": [
    {
     "data": {
      "text/plain": "array([-39.26148987,  41.53851318])"
     },
     "execution_count": 19,
     "metadata": {},
     "output_type": "execute_result"
    }
   ],
   "source": [
    "range_p_spec = find_range(p_spec)\n",
    "range_p_spec"
   ],
   "metadata": {
    "collapsed": false,
    "ExecuteTime": {
     "end_time": "2024-04-23T13:51:05.796310200Z",
     "start_time": "2024-04-23T13:51:05.794316600Z"
    }
   },
   "id": "6321670ddcfa5d7c",
   "execution_count": 19
  },
  {
   "cell_type": "markdown",
   "source": [
    "## Evaluate the attack"
   ],
   "metadata": {
    "collapsed": false
   },
   "id": "e7a587fa21bc63b6"
  },
  {
   "cell_type": "code",
   "outputs": [],
   "source": [
    "X_p_batch = np.expand_dims(p_spec, axis=0)  # ndarray \n",
    "X_p_batch_tensor = torch.from_numpy(X_p_batch).to(device) # tensor \n",
    "X_p = X_p_batch_tensor\n",
    "X_p.requires_grad = True"
   ],
   "metadata": {
    "collapsed": false,
    "ExecuteTime": {
     "end_time": "2024-04-23T13:51:05.796310200Z",
     "start_time": "2024-04-23T13:51:05.795309200Z"
    }
   },
   "id": "54d56fd1463e4b8b",
   "execution_count": 20
  },
  {
   "cell_type": "code",
   "outputs": [
    {
     "data": {
      "text/plain": "tensor([[-0.4349, -1.0421]], device='cuda:0', grad_fn=<LogSoftmaxBackward0>)"
     },
     "execution_count": 21,
     "metadata": {},
     "output_type": "execute_result"
    }
   ],
   "source": [
    "out_p = model(X_p)\n",
    "out_p"
   ],
   "metadata": {
    "collapsed": false,
    "ExecuteTime": {
     "end_time": "2024-04-23T13:51:05.796310200Z",
     "start_time": "2024-04-23T13:51:05.795309200Z"
    }
   },
   "id": "44b547efda9fec69",
   "execution_count": 21
  },
  {
   "cell_type": "code",
   "outputs": [
    {
     "name": "stdout",
     "output_type": "stream",
     "text": [
      "The predicted class is 0 and the GT label is 1\n"
     ]
    }
   ],
   "source": [
    "score_p = out_p[0,0]-out_p[0,1]\n",
    "if score_p >0:\n",
    "    pred_p = 0\n",
    "else:\n",
    "    pred_p = 1\n",
    "    \n",
    "print(f'The predicted class is {pred_p} and the GT label is {label}')"
   ],
   "metadata": {
    "collapsed": false,
    "ExecuteTime": {
     "end_time": "2024-04-23T13:51:05.797309700Z",
     "start_time": "2024-04-23T13:51:05.795309200Z"
    }
   },
   "id": "684c30065f7e9dd8",
   "execution_count": 22
  },
  {
   "cell_type": "markdown",
   "source": [
    "## Reconstruct the audio"
   ],
   "metadata": {
    "collapsed": false
   },
   "id": "1b6dc55de9f74500"
  },
  {
   "cell_type": "code",
   "outputs": [],
   "source": [
    "from tests import recover_mag_spec, spsi, griffin_lim"
   ],
   "metadata": {
    "collapsed": false,
    "ExecuteTime": {
     "end_time": "2024-04-23T13:51:05.799308800Z",
     "start_time": "2024-04-23T13:51:05.795309200Z"
    }
   },
   "id": "a5b8ee28baef214d",
   "execution_count": 23
  },
  {
   "cell_type": "code",
   "outputs": [],
   "source": [
    "mag_spec_p = recover_mag_spec(p_spec)"
   ],
   "metadata": {
    "collapsed": false,
    "ExecuteTime": {
     "end_time": "2024-04-23T13:51:19.159291900Z",
     "start_time": "2024-04-23T13:51:19.155463900Z"
    }
   },
   "id": "e0e855347b360d2b",
   "execution_count": 26
  },
  {
   "cell_type": "code",
   "outputs": [],
   "source": [
    "SPSI_audio_p = spsi(msgram=mag_spec_p, n_fft=2048, hop_length=512)"
   ],
   "metadata": {
    "collapsed": false,
    "ExecuteTime": {
     "end_time": "2024-04-23T13:51:07.134122100Z",
     "start_time": "2024-04-23T13:51:06.974306300Z"
    }
   },
   "id": "577679464aec27e0",
   "execution_count": 25
  },
  {
   "cell_type": "code",
   "outputs": [],
   "source": [
    "p = np.angle(librosa.stft(y=SPSI_audio_p, n_fft=2048, hop_length=512, center=False))"
   ],
   "metadata": {
    "collapsed": false,
    "ExecuteTime": {
     "end_time": "2024-04-23T13:51:54.830426100Z",
     "start_time": "2024-04-23T13:51:54.825426100Z"
    }
   },
   "id": "7f90cc0951b66b26",
   "execution_count": 28
  },
  {
   "cell_type": "code",
   "outputs": [],
   "source": [
    "SPSI_GL_audio_p = griffin_lim(magnitude_spectrogram=mag_spec_p,\n",
    "                            n_fft=2048,\n",
    "                            hop_length=512,\n",
    "                            num_iterations=100,\n",
    "                            init_phase=p)"
   ],
   "metadata": {
    "collapsed": false,
    "ExecuteTime": {
     "end_time": "2024-04-23T13:52:16.164746600Z",
     "start_time": "2024-04-23T13:52:15.630952300Z"
    }
   },
   "id": "38f9ecd2d99c4690",
   "execution_count": 29
  },
  {
   "cell_type": "code",
   "outputs": [
    {
     "data": {
      "text/plain": "<IPython.lib.display.Audio object>",
      "text/html": "\n                <audio  controls=\"controls\" >\n                    <source src=\"data:audio/wav;base64,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\" type=\"audio/wav\" />\n                    Your browser does not support the audio element.\n                </audio>\n              "
     },
     "execution_count": 32,
     "metadata": {},
     "output_type": "execute_result"
    }
   ],
   "source": [
    "ipd.Audio(SPSI_GL_audio_p, rate=16000)"
   ],
   "metadata": {
    "collapsed": false,
    "ExecuteTime": {
     "end_time": "2024-04-23T13:52:51.004040500Z",
     "start_time": "2024-04-23T13:52:50.929552200Z"
    }
   },
   "id": "73e3e578d8e2ecc8",
   "execution_count": 32
  },
  {
   "cell_type": "code",
   "outputs": [],
   "source": [],
   "metadata": {
    "collapsed": false
   },
   "id": "77d3e3d31f299b29"
  }
 ],
 "metadata": {
  "kernelspec": {
   "display_name": "Python 3",
   "language": "python",
   "name": "python3"
  },
  "language_info": {
   "codemirror_mode": {
    "name": "ipython",
    "version": 2
   },
   "file_extension": ".py",
   "mimetype": "text/x-python",
   "name": "python",
   "nbconvert_exporter": "python",
   "pygments_lexer": "ipython2",
   "version": "2.7.6"
  }
 },
 "nbformat": 4,
 "nbformat_minor": 5
}
