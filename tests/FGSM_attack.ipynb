{
 "cells": [
  {
   "cell_type": "markdown",
   "source": [
    "# FGSM attack on a single spectrogram\n",
    "* load the model\n",
    "* load the state dictionary\n",
    "* set model to eval\n",
    "* get the data (spectrogram) and target\n",
    "* send them to the device\n",
    "* get the prediction and check if it is right (go on)\n",
    "* ... or wrong already (pass)\n",
    "* compute the loss\n",
    "* "
   ],
   "metadata": {
    "collapsed": false
   },
   "id": "f9172be2aebc290b"
  },
  {
   "cell_type": "code",
   "outputs": [],
   "source": [],
   "metadata": {
    "collapsed": false
   },
   "id": "d1aecac66d16abf"
  }
 ],
 "metadata": {
  "kernelspec": {
   "display_name": "Python 3",
   "language": "python",
   "name": "python3"
  },
  "language_info": {
   "codemirror_mode": {
    "name": "ipython",
    "version": 2
   },
   "file_extension": ".py",
   "mimetype": "text/x-python",
   "name": "python",
   "nbconvert_exporter": "python",
   "pygments_lexer": "ipython2",
   "version": "2.7.6"
  }
 },
 "nbformat": 4,
 "nbformat_minor": 5
}
