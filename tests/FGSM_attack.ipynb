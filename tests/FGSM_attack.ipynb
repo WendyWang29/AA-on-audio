{
 "cells": [
  {
   "cell_type": "markdown",
   "source": [
    "# FGSM attack on a single spectrogram"
   ],
   "metadata": {
    "collapsed": false
   },
   "id": "f9172be2aebc290b"
  },
  {
   "cell_type": "code",
   "outputs": [],
   "source": [
    "from src.utils import *\n",
    "import librosa\n",
    "import IPython.display as ipd\n",
    "import torch.nn as nn\n",
    "from src.resnet_model import SpectrogramModel\n",
    "from src.resnet_utils import get_features"
   ],
   "metadata": {
    "collapsed": false,
    "ExecuteTime": {
     "end_time": "2024-04-27T20:13:03.811233Z",
     "start_time": "2024-04-27T20:13:00.329031300Z"
    }
   },
   "id": "d1aecac66d16abf",
   "execution_count": 1
  },
  {
   "cell_type": "markdown",
   "source": [
    "## Preliminaries"
   ],
   "metadata": {
    "collapsed": false
   },
   "id": "5998d968a79d2ebc"
  },
  {
   "cell_type": "code",
   "outputs": [
    {
     "name": "stdout",
     "output_type": "stream",
     "text": [
      "GPU selected: 0 - NVIDIA GeForce RTX 3060\n"
     ]
    }
   ],
   "source": [
    "seed_everything(1234)\n",
    "set_gpu(-1)\n",
    "device = 'cuda' if torch.cuda.is_available() else 'cpu'\n",
    "\n",
    "config_path = '../config/residualnet_train_config.yaml'\n",
    "config = read_yaml(config_path)"
   ],
   "metadata": {
    "collapsed": false,
    "ExecuteTime": {
     "end_time": "2024-04-27T20:13:03.917512500Z",
     "start_time": "2024-04-27T20:13:03.852336Z"
    }
   },
   "id": "789f9150bd34ee0e",
   "execution_count": 2
  },
  {
   "cell_type": "code",
   "outputs": [
    {
     "name": "stdout",
     "output_type": "stream",
     "text": [
      "Evaluating file /nas/public/dataset/asvspoof2021/ASVspoof2021_DF_eval/flac/DF_E_2000011.flac with label 1\n"
     ]
    }
   ],
   "source": [
    "df_eval = pd.read_csv(os.path.join('..', config[\"df_eval_path\"]))\n",
    "\n",
    "# get the list of evaluation files and labels\n",
    "file_eval = list(df_eval['path'])\n",
    "label_eval = list(df_eval['label'])\n",
    "\n",
    "# get one single file (given the index)\n",
    "index = 0\n",
    "file = file_eval[index]\n",
    "label = label_eval[index]\n",
    "print(f'Evaluating file {file} with label {label}')"
   ],
   "metadata": {
    "collapsed": false,
    "ExecuteTime": {
     "end_time": "2024-04-27T20:13:04.642745700Z",
     "start_time": "2024-04-27T20:13:03.917512500Z"
    }
   },
   "id": "8411fb22935119c9",
   "execution_count": 3
  },
  {
   "cell_type": "markdown",
   "source": [
    "## Load the model"
   ],
   "metadata": {
    "collapsed": false
   },
   "id": "a38182316cfc6761"
  },
  {
   "cell_type": "code",
   "outputs": [
    {
     "name": "stdout",
     "output_type": "stream",
     "text": [
      "Model loaded\n",
      "Is the model on GPU? True\n"
     ]
    }
   ],
   "source": [
    "model = SpectrogramModel().to(device)\n",
    "model.load_state_dict(torch.load(os.path.join('..', config[\"model_path_spec\"]), map_location=device))\n",
    "model.eval()\n",
    "print('Model loaded')\n",
    "print(f'Is the model on GPU? {next(model.parameters()).is_cuda}')"
   ],
   "metadata": {
    "collapsed": false,
    "ExecuteTime": {
     "end_time": "2024-04-27T20:13:04.799983400Z",
     "start_time": "2024-04-27T20:13:04.642745700Z"
    }
   },
   "id": "e4692a303f6ffad5",
   "execution_count": 4
  },
  {
   "cell_type": "markdown",
   "source": [
    "## Load the data (cached spec)"
   ],
   "metadata": {
    "collapsed": false
   },
   "id": "29cbff800afd5f7"
  },
  {
   "cell_type": "code",
   "outputs": [
    {
     "name": "stdout",
     "output_type": "stream",
     "text": [
      "Spectrogram shape is (1025, 41)\n"
     ]
    }
   ],
   "source": [
    "spec= get_features(wav_path=file,\n",
    "                   features=config['features'],\n",
    "                   args=config,\n",
    "                   X=None,\n",
    "                   cached=True,\n",
    "                   force=False)\n",
    "print(f'Spectrogram shape is {spec.shape}')"
   ],
   "metadata": {
    "collapsed": false,
    "ExecuteTime": {
     "end_time": "2024-04-27T20:13:04.815999500Z",
     "start_time": "2024-04-27T20:13:04.804999800Z"
    }
   },
   "id": "e833d1793c4d8c0f",
   "execution_count": 5
  },
  {
   "cell_type": "code",
   "outputs": [],
   "source": [
    "# plot the spectrogram\n",
    "\n",
    "# librosa.display.specshow(spec, x_axis='time', y_axis='linear', hop_length=512, sr=16000, cmap='magma')\n",
    "# plt.title('Power spectrogram')\n",
    "# plt.colorbar(format='%+2.0f dB')\n",
    "# plt.show()"
   ],
   "metadata": {
    "collapsed": false,
    "ExecuteTime": {
     "end_time": "2024-04-27T20:13:04.915454100Z",
     "start_time": "2024-04-27T20:13:04.834437600Z"
    }
   },
   "id": "4a2c12720629d08c",
   "execution_count": 6
  },
  {
   "cell_type": "code",
   "outputs": [
    {
     "data": {
      "text/plain": "array([-38.86148834,  41.13851166])"
     },
     "execution_count": 7,
     "metadata": {},
     "output_type": "execute_result"
    }
   ],
   "source": [
    "def find_range(matrix):\n",
    "    range = np.empty(2)\n",
    "    range[0] = np.min(matrix)\n",
    "    range[1] = np.max(matrix)\n",
    "    return range\n",
    "\n",
    "range_clean_spec = find_range(spec)\n",
    "range_clean_spec"
   ],
   "metadata": {
    "collapsed": false,
    "ExecuteTime": {
     "end_time": "2024-04-27T20:13:05.044360900Z",
     "start_time": "2024-04-27T20:13:04.917454600Z"
    }
   },
   "id": "d1cf5fdf938d4863",
   "execution_count": 7
  },
  {
   "cell_type": "markdown",
   "source": [
    "## Run the attack"
   ],
   "metadata": {
    "collapsed": false
   },
   "id": "ed1b753146f01a1e"
  },
  {
   "cell_type": "code",
   "outputs": [
    {
     "data": {
      "text/plain": "torch.Size([1, 1025, 41])"
     },
     "execution_count": 8,
     "metadata": {},
     "output_type": "execute_result"
    }
   ],
   "source": [
    "# transform into a mini batch and to a tensor\n",
    "X_batch = np.expand_dims(spec, axis=0)  # ndarray \n",
    "X_batch_tensor = torch.from_numpy(X_batch).to(device) # tensor \n",
    "\n",
    "X_batch_tensor.size()"
   ],
   "metadata": {
    "collapsed": false,
    "ExecuteTime": {
     "end_time": "2024-04-27T20:13:05.132467200Z",
     "start_time": "2024-04-27T20:13:05.047358400Z"
    }
   },
   "id": "9b9e4fc1bd7e7b78",
   "execution_count": 8
  },
  {
   "cell_type": "code",
   "outputs": [],
   "source": [
    "# FGSM attack requires grad wrt the data\n",
    "X = X_batch_tensor\n",
    "X.requires_grad = True"
   ],
   "metadata": {
    "collapsed": false,
    "ExecuteTime": {
     "end_time": "2024-04-27T20:13:05.243020400Z",
     "start_time": "2024-04-27T20:13:05.133469700Z"
    }
   },
   "id": "40b31a46805e2772",
   "execution_count": 9
  },
  {
   "cell_type": "code",
   "outputs": [
    {
     "data": {
      "text/plain": "tensor([[-8.0388e+00, -3.2277e-04]], device='cuda:0',\n       grad_fn=<LogSoftmaxBackward0>)"
     },
     "execution_count": 10,
     "metadata": {},
     "output_type": "execute_result"
    }
   ],
   "source": [
    "out = model(X)\n",
    "out"
   ],
   "metadata": {
    "collapsed": false,
    "ExecuteTime": {
     "end_time": "2024-04-27T20:13:05.761210800Z",
     "start_time": "2024-04-27T20:13:05.243020400Z"
    }
   },
   "id": "6134b6237ea4c8",
   "execution_count": 10
  },
  {
   "cell_type": "code",
   "outputs": [
    {
     "name": "stdout",
     "output_type": "stream",
     "text": [
      "The predicted class is 1 and the GT label is 1\n"
     ]
    }
   ],
   "source": [
    "score = out[0,0]-out[0,1]\n",
    "if score >0:\n",
    "    pred = 0\n",
    "else:\n",
    "    pred = 1\n",
    "    \n",
    "print(f'The predicted class is {pred} and the GT label is {label}')"
   ],
   "metadata": {
    "collapsed": false,
    "ExecuteTime": {
     "end_time": "2024-04-27T20:13:05.763208100Z",
     "start_time": "2024-04-27T20:13:05.761210800Z"
    }
   },
   "id": "da5c45fa6e42813f",
   "execution_count": 11
  },
  {
   "cell_type": "code",
   "outputs": [],
   "source": [
    "epsilon = 0.4\n",
    "\n",
    "# initialize loss object\n",
    "L = nn.NLLLoss()"
   ],
   "metadata": {
    "collapsed": false,
    "ExecuteTime": {
     "end_time": "2024-04-27T20:13:05.862283400Z",
     "start_time": "2024-04-27T20:13:05.762210Z"
    }
   },
   "id": "ef57f53d704543a8",
   "execution_count": 12
  },
  {
   "cell_type": "code",
   "outputs": [],
   "source": [
    "loss = None\n",
    "label_tensor = torch.tensor([1]).to(device)\n",
    "loss = L(out, label_tensor)"
   ],
   "metadata": {
    "collapsed": false,
    "ExecuteTime": {
     "end_time": "2024-04-27T20:13:06.010563700Z",
     "start_time": "2024-04-27T20:13:05.867281500Z"
    }
   },
   "id": "d0e9580110b19a19",
   "execution_count": 13
  },
  {
   "cell_type": "code",
   "outputs": [],
   "source": [
    "# zero out all existing gradients\n",
    "model.zero_grad()\n",
    "\n",
    "# compute gradients\n",
    "loss.backward()\n",
    "X_grad = X.grad"
   ],
   "metadata": {
    "collapsed": false,
    "ExecuteTime": {
     "end_time": "2024-04-27T20:13:06.360224100Z",
     "start_time": "2024-04-27T20:13:06.019569900Z"
    }
   },
   "id": "8dcc925111807649",
   "execution_count": 14
  },
  {
   "cell_type": "code",
   "outputs": [],
   "source": [
    "def perturb(X, epsilon, grad):\n",
    "    X_prime = X + epsilon * grad.sign()\n",
    "    return X_prime"
   ],
   "metadata": {
    "collapsed": false,
    "ExecuteTime": {
     "end_time": "2024-04-27T20:13:06.365224500Z",
     "start_time": "2024-04-27T20:13:06.361224600Z"
    }
   },
   "id": "3791cc6fd283b01e",
   "execution_count": 15
  },
  {
   "cell_type": "code",
   "outputs": [],
   "source": [
    "perturbed_spec = perturb(X, epsilon, X_grad)"
   ],
   "metadata": {
    "collapsed": false,
    "ExecuteTime": {
     "end_time": "2024-04-27T20:13:06.506366800Z",
     "start_time": "2024-04-27T20:13:06.364224200Z"
    }
   },
   "id": "d506889ebbc6bc99",
   "execution_count": 16
  },
  {
   "cell_type": "code",
   "outputs": [],
   "source": [
    "p_spec = perturbed_spec.squeeze(0).detach()\n",
    "p_spec = p_spec.cpu().numpy()"
   ],
   "metadata": {
    "collapsed": false,
    "ExecuteTime": {
     "end_time": "2024-04-27T20:13:06.592422600Z",
     "start_time": "2024-04-27T20:13:06.506366800Z"
    }
   },
   "id": "54d482eb1f335199",
   "execution_count": 17
  },
  {
   "cell_type": "code",
   "outputs": [
    {
     "data": {
      "text/plain": "(1025, 41)"
     },
     "execution_count": 18,
     "metadata": {},
     "output_type": "execute_result"
    }
   ],
   "source": [
    "p_spec.shape"
   ],
   "metadata": {
    "collapsed": false,
    "ExecuteTime": {
     "end_time": "2024-04-27T20:13:06.692926100Z",
     "start_time": "2024-04-27T20:13:06.593410900Z"
    }
   },
   "id": "c795b1364f707ed6",
   "execution_count": 18
  },
  {
   "cell_type": "code",
   "outputs": [
    {
     "data": {
      "text/plain": "array([-39.26148987,  41.53851318])"
     },
     "execution_count": 19,
     "metadata": {},
     "output_type": "execute_result"
    }
   ],
   "source": [
    "range_p_spec = find_range(p_spec)\n",
    "range_p_spec"
   ],
   "metadata": {
    "collapsed": false,
    "ExecuteTime": {
     "end_time": "2024-04-27T20:13:06.788467200Z",
     "start_time": "2024-04-27T20:13:06.695926200Z"
    }
   },
   "id": "6321670ddcfa5d7c",
   "execution_count": 19
  },
  {
   "cell_type": "markdown",
   "source": [
    "## Evaluate the attack"
   ],
   "metadata": {
    "collapsed": false
   },
   "id": "e7a587fa21bc63b6"
  },
  {
   "cell_type": "code",
   "outputs": [],
   "source": [
    "X_p_batch = np.expand_dims(p_spec, axis=0)  # ndarray \n",
    "X_p_batch_tensor = torch.from_numpy(X_p_batch).to(device) # tensor \n",
    "X_p = X_p_batch_tensor\n",
    "X_p.requires_grad = True"
   ],
   "metadata": {
    "collapsed": false,
    "ExecuteTime": {
     "end_time": "2024-04-27T20:13:06.893853900Z",
     "start_time": "2024-04-27T20:13:06.788467200Z"
    }
   },
   "id": "54d56fd1463e4b8b",
   "execution_count": 20
  },
  {
   "cell_type": "code",
   "outputs": [
    {
     "data": {
      "text/plain": "tensor([[-0.4350, -1.0421]], device='cuda:0', grad_fn=<LogSoftmaxBackward0>)"
     },
     "execution_count": 21,
     "metadata": {},
     "output_type": "execute_result"
    }
   ],
   "source": [
    "out_p = model(X_p)\n",
    "out_p"
   ],
   "metadata": {
    "collapsed": false,
    "ExecuteTime": {
     "end_time": "2024-04-27T20:13:07.006716400Z",
     "start_time": "2024-04-27T20:13:06.895856400Z"
    }
   },
   "id": "44b547efda9fec69",
   "execution_count": 21
  },
  {
   "cell_type": "code",
   "outputs": [
    {
     "name": "stdout",
     "output_type": "stream",
     "text": [
      "The predicted class is 0 and the GT label is 1\n"
     ]
    }
   ],
   "source": [
    "score_p = out_p[0,0]-out_p[0,1]\n",
    "if score_p >0:\n",
    "    pred_p = 0\n",
    "else:\n",
    "    pred_p = 1\n",
    "    \n",
    "print(f'The predicted class is {pred_p} and the GT label is {label}')"
   ],
   "metadata": {
    "collapsed": false,
    "ExecuteTime": {
     "end_time": "2024-04-27T20:13:07.095836900Z",
     "start_time": "2024-04-27T20:13:07.010713400Z"
    }
   },
   "id": "684c30065f7e9dd8",
   "execution_count": 22
  },
  {
   "cell_type": "markdown",
   "source": [
    "## Reconstruct the audio"
   ],
   "metadata": {
    "collapsed": false
   },
   "id": "1b6dc55de9f74500"
  },
  {
   "cell_type": "code",
   "outputs": [],
   "source": [
    "from tests import recover_mag_spec, spsi, griffin_lim"
   ],
   "metadata": {
    "collapsed": false,
    "ExecuteTime": {
     "end_time": "2024-04-27T20:13:07.210351100Z",
     "start_time": "2024-04-27T20:13:07.095836900Z"
    }
   },
   "id": "a5b8ee28baef214d",
   "execution_count": 23
  },
  {
   "cell_type": "code",
   "outputs": [
    {
     "name": "stderr",
     "output_type": "stream",
     "text": [
      "DEBUG:numba.core.byteflow:bytecode dump:\n",
      ">          0\tNOP(arg=None, lineno=1135)\n",
      "           2\tRESUME(arg=0, lineno=1135)\n",
      "           4\tLOAD_FAST(arg=0, lineno=1138)\n",
      "           6\tLOAD_CONST(arg=1, lineno=1138)\n",
      "           8\tBINARY_SUBSCR(arg=None, lineno=1138)\n",
      "          18\tSTORE_FAST(arg=3, lineno=1138)\n",
      "          20\tLOAD_FAST(arg=1, lineno=1139)\n",
      "          22\tUNARY_NEGATIVE(arg=None, lineno=1139)\n",
      "          24\tLOAD_FAST(arg=3, lineno=1139)\n",
      "          26\tSWAP(arg=2, lineno=1139)\n",
      "          28\tCOPY(arg=2, lineno=1139)\n",
      "          30\tCOMPARE_OP(arg=1, lineno=1139)\n",
      "          36\tPOP_JUMP_FORWARD_IF_FALSE(arg=6, lineno=1139)\n",
      "          38\tLOAD_FAST(arg=1, lineno=1139)\n",
      "          40\tCOMPARE_OP(arg=1, lineno=1139)\n",
      "          46\tPOP_JUMP_FORWARD_IF_FALSE(arg=5, lineno=1139)\n",
      "          48\tJUMP_FORWARD(arg=2, lineno=1139)\n",
      ">         50\tPOP_TOP(arg=None, lineno=1139)\n",
      "          52\tJUMP_FORWARD(arg=2, lineno=1139)\n",
      ">         54\tLOAD_CONST(arg=1, lineno=1140)\n",
      "          56\tSTORE_FAST(arg=3, lineno=1140)\n",
      ">         58\tLOAD_FAST(arg=0, lineno=1142)\n",
      "          60\tLOAD_CONST(arg=2, lineno=1142)\n",
      "          62\tBINARY_SUBSCR(arg=None, lineno=1142)\n",
      "          72\tSTORE_FAST(arg=4, lineno=1142)\n",
      "          74\tLOAD_FAST(arg=1, lineno=1143)\n",
      "          76\tUNARY_NEGATIVE(arg=None, lineno=1143)\n",
      "          78\tLOAD_FAST(arg=4, lineno=1143)\n",
      "          80\tSWAP(arg=2, lineno=1143)\n",
      "          82\tCOPY(arg=2, lineno=1143)\n",
      "          84\tCOMPARE_OP(arg=1, lineno=1143)\n",
      "          90\tPOP_JUMP_FORWARD_IF_FALSE(arg=6, lineno=1143)\n",
      "          92\tLOAD_FAST(arg=1, lineno=1143)\n",
      "          94\tCOMPARE_OP(arg=1, lineno=1143)\n",
      "         100\tPOP_JUMP_FORWARD_IF_FALSE(arg=5, lineno=1143)\n",
      "         102\tJUMP_FORWARD(arg=2, lineno=1143)\n",
      ">        104\tPOP_TOP(arg=None, lineno=1143)\n",
      "         106\tJUMP_FORWARD(arg=2, lineno=1143)\n",
      ">        108\tLOAD_CONST(arg=1, lineno=1144)\n",
      "         110\tSTORE_FAST(arg=4, lineno=1144)\n",
      ">        112\tLOAD_FAST(arg=2, lineno=1146)\n",
      "         114\tPOP_JUMP_FORWARD_IF_FALSE(arg=42, lineno=1146)\n",
      "         116\tLOAD_GLOBAL(arg=1, lineno=1147)\n",
      "         128\tLOAD_ATTR(arg=1, lineno=1147)\n",
      "         138\tLOAD_FAST(arg=3, lineno=1147)\n",
      "         140\tPRECALL(arg=1, lineno=1147)\n",
      "         144\tCALL(arg=1, lineno=1147)\n",
      "         154\tLOAD_GLOBAL(arg=1, lineno=1147)\n",
      "         166\tLOAD_ATTR(arg=1, lineno=1147)\n",
      "         176\tLOAD_FAST(arg=4, lineno=1147)\n",
      "         178\tPRECALL(arg=1, lineno=1147)\n",
      "         182\tCALL(arg=1, lineno=1147)\n",
      "         192\tCOMPARE_OP(arg=3, lineno=1147)\n",
      "         198\tRETURN_VALUE(arg=None, lineno=1147)\n",
      ">        200\tLOAD_GLOBAL(arg=1, lineno=1149)\n",
      "         212\tLOAD_ATTR(arg=2, lineno=1149)\n",
      "         222\tLOAD_FAST(arg=3, lineno=1149)\n",
      "         224\tPRECALL(arg=1, lineno=1149)\n",
      "         228\tCALL(arg=1, lineno=1149)\n",
      "         238\tLOAD_GLOBAL(arg=1, lineno=1149)\n",
      "         250\tLOAD_ATTR(arg=2, lineno=1149)\n",
      "         260\tLOAD_FAST(arg=4, lineno=1149)\n",
      "         262\tPRECALL(arg=1, lineno=1149)\n",
      "         266\tCALL(arg=1, lineno=1149)\n",
      "         276\tCOMPARE_OP(arg=3, lineno=1149)\n",
      "         282\tRETURN_VALUE(arg=None, lineno=1149)\n",
      "DEBUG:numba.core.byteflow:pending: deque([State(pc_initial=0 nstack_initial=0)])\n",
      "DEBUG:numba.core.byteflow:stack: []\n",
      "DEBUG:numba.core.byteflow:state.pc_initial: State(pc_initial=0 nstack_initial=0)\n",
      "DEBUG:numba.core.byteflow:dispatch pc=0, inst=NOP(arg=None, lineno=1135)\n",
      "DEBUG:numba.core.byteflow:stack []\n",
      "DEBUG:numba.core.byteflow:dispatch pc=2, inst=RESUME(arg=0, lineno=1135)\n",
      "DEBUG:numba.core.byteflow:stack []\n",
      "DEBUG:numba.core.byteflow:dispatch pc=4, inst=LOAD_FAST(arg=0, lineno=1138)\n",
      "DEBUG:numba.core.byteflow:stack []\n",
      "DEBUG:numba.core.byteflow:dispatch pc=6, inst=LOAD_CONST(arg=1, lineno=1138)\n",
      "DEBUG:numba.core.byteflow:stack ['$x4.0']\n",
      "DEBUG:numba.core.byteflow:dispatch pc=8, inst=BINARY_SUBSCR(arg=None, lineno=1138)\n",
      "DEBUG:numba.core.byteflow:stack ['$x4.0', '$const6.1']\n",
      "DEBUG:numba.core.byteflow:dispatch pc=18, inst=STORE_FAST(arg=3, lineno=1138)\n",
      "DEBUG:numba.core.byteflow:stack ['$8binary_subscr.2']\n",
      "DEBUG:numba.core.byteflow:dispatch pc=20, inst=LOAD_FAST(arg=1, lineno=1139)\n",
      "DEBUG:numba.core.byteflow:stack []\n",
      "DEBUG:numba.core.byteflow:dispatch pc=22, inst=UNARY_NEGATIVE(arg=None, lineno=1139)\n",
      "DEBUG:numba.core.byteflow:stack ['$threshold20.3']\n",
      "DEBUG:numba.core.byteflow:dispatch pc=24, inst=LOAD_FAST(arg=3, lineno=1139)\n",
      "DEBUG:numba.core.byteflow:stack ['$22unary_negative.4']\n",
      "DEBUG:numba.core.byteflow:dispatch pc=26, inst=SWAP(arg=2, lineno=1139)\n",
      "DEBUG:numba.core.byteflow:stack ['$22unary_negative.4', '$x024.5']\n",
      "DEBUG:numba.core.byteflow:dispatch pc=28, inst=COPY(arg=2, lineno=1139)\n",
      "DEBUG:numba.core.byteflow:stack ['$x024.5', '$22unary_negative.4']\n",
      "DEBUG:numba.core.byteflow:dispatch pc=30, inst=COMPARE_OP(arg=1, lineno=1139)\n",
      "DEBUG:numba.core.byteflow:stack ['$x024.5', '$22unary_negative.4', '$x024.5']\n",
      "DEBUG:numba.core.byteflow:dispatch pc=36, inst=POP_JUMP_FORWARD_IF_FALSE(arg=6, lineno=1139)\n",
      "DEBUG:numba.core.byteflow:stack ['$x024.5', '$30compare_op.6']\n",
      "DEBUG:numba.core.byteflow:end state. edges=[Edge(pc=38, stack=('$x024.5',), blockstack=(), npush=0), Edge(pc=50, stack=('$x024.5',), blockstack=(), npush=0)]\n",
      "DEBUG:numba.core.byteflow:pending: deque([State(pc_initial=38 nstack_initial=1), State(pc_initial=50 nstack_initial=1)])\n",
      "DEBUG:numba.core.byteflow:stack: ['$phi38.0']\n",
      "DEBUG:numba.core.byteflow:state.pc_initial: State(pc_initial=38 nstack_initial=1)\n",
      "DEBUG:numba.core.byteflow:dispatch pc=38, inst=LOAD_FAST(arg=1, lineno=1139)\n",
      "DEBUG:numba.core.byteflow:stack ['$phi38.0']\n",
      "DEBUG:numba.core.byteflow:dispatch pc=40, inst=COMPARE_OP(arg=1, lineno=1139)\n",
      "DEBUG:numba.core.byteflow:stack ['$phi38.0', '$threshold38.1']\n",
      "DEBUG:numba.core.byteflow:dispatch pc=46, inst=POP_JUMP_FORWARD_IF_FALSE(arg=5, lineno=1139)\n",
      "DEBUG:numba.core.byteflow:stack ['$40compare_op.2']\n",
      "DEBUG:numba.core.byteflow:end state. edges=[Edge(pc=48, stack=(), blockstack=(), npush=0), Edge(pc=58, stack=(), blockstack=(), npush=0)]\n",
      "DEBUG:numba.core.byteflow:pending: deque([State(pc_initial=50 nstack_initial=1), State(pc_initial=48 nstack_initial=0), State(pc_initial=58 nstack_initial=0)])\n",
      "DEBUG:numba.core.byteflow:stack: ['$phi50.0']\n",
      "DEBUG:numba.core.byteflow:state.pc_initial: State(pc_initial=50 nstack_initial=1)\n",
      "DEBUG:numba.core.byteflow:dispatch pc=50, inst=POP_TOP(arg=None, lineno=1139)\n",
      "DEBUG:numba.core.byteflow:stack ['$phi50.0']\n",
      "DEBUG:numba.core.byteflow:dispatch pc=52, inst=JUMP_FORWARD(arg=2, lineno=1139)\n",
      "DEBUG:numba.core.byteflow:stack []\n",
      "DEBUG:numba.core.byteflow:end state. edges=[Edge(pc=58, stack=(), blockstack=(), npush=0)]\n",
      "DEBUG:numba.core.byteflow:pending: deque([State(pc_initial=48 nstack_initial=0), State(pc_initial=58 nstack_initial=0), State(pc_initial=58 nstack_initial=0)])\n",
      "DEBUG:numba.core.byteflow:stack: []\n",
      "DEBUG:numba.core.byteflow:state.pc_initial: State(pc_initial=48 nstack_initial=0)\n",
      "DEBUG:numba.core.byteflow:dispatch pc=48, inst=JUMP_FORWARD(arg=2, lineno=1139)\n",
      "DEBUG:numba.core.byteflow:stack []\n",
      "DEBUG:numba.core.byteflow:end state. edges=[Edge(pc=54, stack=(), blockstack=(), npush=0)]\n",
      "DEBUG:numba.core.byteflow:pending: deque([State(pc_initial=58 nstack_initial=0), State(pc_initial=58 nstack_initial=0), State(pc_initial=54 nstack_initial=0)])\n",
      "DEBUG:numba.core.byteflow:stack: []\n",
      "DEBUG:numba.core.byteflow:state.pc_initial: State(pc_initial=58 nstack_initial=0)\n",
      "DEBUG:numba.core.byteflow:dispatch pc=58, inst=LOAD_FAST(arg=0, lineno=1142)\n",
      "DEBUG:numba.core.byteflow:stack []\n",
      "DEBUG:numba.core.byteflow:dispatch pc=60, inst=LOAD_CONST(arg=2, lineno=1142)\n",
      "DEBUG:numba.core.byteflow:stack ['$x58.0']\n",
      "DEBUG:numba.core.byteflow:dispatch pc=62, inst=BINARY_SUBSCR(arg=None, lineno=1142)\n",
      "DEBUG:numba.core.byteflow:stack ['$x58.0', '$const60.1']\n",
      "DEBUG:numba.core.byteflow:dispatch pc=72, inst=STORE_FAST(arg=4, lineno=1142)\n",
      "DEBUG:numba.core.byteflow:stack ['$62binary_subscr.2']\n",
      "DEBUG:numba.core.byteflow:dispatch pc=74, inst=LOAD_FAST(arg=1, lineno=1143)\n",
      "DEBUG:numba.core.byteflow:stack []\n",
      "DEBUG:numba.core.byteflow:dispatch pc=76, inst=UNARY_NEGATIVE(arg=None, lineno=1143)\n",
      "DEBUG:numba.core.byteflow:stack ['$threshold74.3']\n",
      "DEBUG:numba.core.byteflow:dispatch pc=78, inst=LOAD_FAST(arg=4, lineno=1143)\n",
      "DEBUG:numba.core.byteflow:stack ['$76unary_negative.4']\n",
      "DEBUG:numba.core.byteflow:dispatch pc=80, inst=SWAP(arg=2, lineno=1143)\n",
      "DEBUG:numba.core.byteflow:stack ['$76unary_negative.4', '$x178.5']\n",
      "DEBUG:numba.core.byteflow:dispatch pc=82, inst=COPY(arg=2, lineno=1143)\n",
      "DEBUG:numba.core.byteflow:stack ['$x178.5', '$76unary_negative.4']\n",
      "DEBUG:numba.core.byteflow:dispatch pc=84, inst=COMPARE_OP(arg=1, lineno=1143)\n",
      "DEBUG:numba.core.byteflow:stack ['$x178.5', '$76unary_negative.4', '$x178.5']\n",
      "DEBUG:numba.core.byteflow:dispatch pc=90, inst=POP_JUMP_FORWARD_IF_FALSE(arg=6, lineno=1143)\n",
      "DEBUG:numba.core.byteflow:stack ['$x178.5', '$84compare_op.6']\n",
      "DEBUG:numba.core.byteflow:end state. edges=[Edge(pc=92, stack=('$x178.5',), blockstack=(), npush=0), Edge(pc=104, stack=('$x178.5',), blockstack=(), npush=0)]\n",
      "DEBUG:numba.core.byteflow:pending: deque([State(pc_initial=58 nstack_initial=0), State(pc_initial=54 nstack_initial=0), State(pc_initial=92 nstack_initial=1), State(pc_initial=104 nstack_initial=1)])\n",
      "DEBUG:numba.core.byteflow:pending: deque([State(pc_initial=54 nstack_initial=0), State(pc_initial=92 nstack_initial=1), State(pc_initial=104 nstack_initial=1)])\n",
      "DEBUG:numba.core.byteflow:stack: []\n",
      "DEBUG:numba.core.byteflow:state.pc_initial: State(pc_initial=54 nstack_initial=0)\n",
      "DEBUG:numba.core.byteflow:dispatch pc=54, inst=LOAD_CONST(arg=1, lineno=1140)\n",
      "DEBUG:numba.core.byteflow:stack []\n",
      "DEBUG:numba.core.byteflow:dispatch pc=56, inst=STORE_FAST(arg=3, lineno=1140)\n",
      "DEBUG:numba.core.byteflow:stack ['$const54.0']\n",
      "DEBUG:numba.core.byteflow:end state. edges=[Edge(pc=58, stack=(), blockstack=(), npush=0)]\n",
      "DEBUG:numba.core.byteflow:pending: deque([State(pc_initial=92 nstack_initial=1), State(pc_initial=104 nstack_initial=1), State(pc_initial=58 nstack_initial=0)])\n",
      "DEBUG:numba.core.byteflow:stack: ['$phi92.0']\n",
      "DEBUG:numba.core.byteflow:state.pc_initial: State(pc_initial=92 nstack_initial=1)\n",
      "DEBUG:numba.core.byteflow:dispatch pc=92, inst=LOAD_FAST(arg=1, lineno=1143)\n",
      "DEBUG:numba.core.byteflow:stack ['$phi92.0']\n",
      "DEBUG:numba.core.byteflow:dispatch pc=94, inst=COMPARE_OP(arg=1, lineno=1143)\n",
      "DEBUG:numba.core.byteflow:stack ['$phi92.0', '$threshold92.1']\n",
      "DEBUG:numba.core.byteflow:dispatch pc=100, inst=POP_JUMP_FORWARD_IF_FALSE(arg=5, lineno=1143)\n",
      "DEBUG:numba.core.byteflow:stack ['$94compare_op.2']\n",
      "DEBUG:numba.core.byteflow:end state. edges=[Edge(pc=102, stack=(), blockstack=(), npush=0), Edge(pc=112, stack=(), blockstack=(), npush=0)]\n",
      "DEBUG:numba.core.byteflow:pending: deque([State(pc_initial=104 nstack_initial=1), State(pc_initial=58 nstack_initial=0), State(pc_initial=102 nstack_initial=0), State(pc_initial=112 nstack_initial=0)])\n",
      "DEBUG:numba.core.byteflow:stack: ['$phi104.0']\n",
      "DEBUG:numba.core.byteflow:state.pc_initial: State(pc_initial=104 nstack_initial=1)\n",
      "DEBUG:numba.core.byteflow:dispatch pc=104, inst=POP_TOP(arg=None, lineno=1143)\n",
      "DEBUG:numba.core.byteflow:stack ['$phi104.0']\n",
      "DEBUG:numba.core.byteflow:dispatch pc=106, inst=JUMP_FORWARD(arg=2, lineno=1143)\n",
      "DEBUG:numba.core.byteflow:stack []\n",
      "DEBUG:numba.core.byteflow:end state. edges=[Edge(pc=112, stack=(), blockstack=(), npush=0)]\n",
      "DEBUG:numba.core.byteflow:pending: deque([State(pc_initial=58 nstack_initial=0), State(pc_initial=102 nstack_initial=0), State(pc_initial=112 nstack_initial=0), State(pc_initial=112 nstack_initial=0)])\n",
      "DEBUG:numba.core.byteflow:pending: deque([State(pc_initial=102 nstack_initial=0), State(pc_initial=112 nstack_initial=0), State(pc_initial=112 nstack_initial=0)])\n",
      "DEBUG:numba.core.byteflow:stack: []\n",
      "DEBUG:numba.core.byteflow:state.pc_initial: State(pc_initial=102 nstack_initial=0)\n",
      "DEBUG:numba.core.byteflow:dispatch pc=102, inst=JUMP_FORWARD(arg=2, lineno=1143)\n",
      "DEBUG:numba.core.byteflow:stack []\n",
      "DEBUG:numba.core.byteflow:end state. edges=[Edge(pc=108, stack=(), blockstack=(), npush=0)]\n",
      "DEBUG:numba.core.byteflow:pending: deque([State(pc_initial=112 nstack_initial=0), State(pc_initial=112 nstack_initial=0), State(pc_initial=108 nstack_initial=0)])\n",
      "DEBUG:numba.core.byteflow:stack: []\n",
      "DEBUG:numba.core.byteflow:state.pc_initial: State(pc_initial=112 nstack_initial=0)\n",
      "DEBUG:numba.core.byteflow:dispatch pc=112, inst=LOAD_FAST(arg=2, lineno=1146)\n",
      "DEBUG:numba.core.byteflow:stack []\n",
      "DEBUG:numba.core.byteflow:dispatch pc=114, inst=POP_JUMP_FORWARD_IF_FALSE(arg=42, lineno=1146)\n",
      "DEBUG:numba.core.byteflow:stack ['$zero_pos112.0']\n",
      "DEBUG:numba.core.byteflow:end state. edges=[Edge(pc=116, stack=(), blockstack=(), npush=0), Edge(pc=200, stack=(), blockstack=(), npush=0)]\n",
      "DEBUG:numba.core.byteflow:pending: deque([State(pc_initial=112 nstack_initial=0), State(pc_initial=108 nstack_initial=0), State(pc_initial=116 nstack_initial=0), State(pc_initial=200 nstack_initial=0)])\n",
      "DEBUG:numba.core.byteflow:pending: deque([State(pc_initial=108 nstack_initial=0), State(pc_initial=116 nstack_initial=0), State(pc_initial=200 nstack_initial=0)])\n",
      "DEBUG:numba.core.byteflow:stack: []\n",
      "DEBUG:numba.core.byteflow:state.pc_initial: State(pc_initial=108 nstack_initial=0)\n",
      "DEBUG:numba.core.byteflow:dispatch pc=108, inst=LOAD_CONST(arg=1, lineno=1144)\n",
      "DEBUG:numba.core.byteflow:stack []\n",
      "DEBUG:numba.core.byteflow:dispatch pc=110, inst=STORE_FAST(arg=4, lineno=1144)\n",
      "DEBUG:numba.core.byteflow:stack ['$const108.0']\n",
      "DEBUG:numba.core.byteflow:end state. edges=[Edge(pc=112, stack=(), blockstack=(), npush=0)]\n",
      "DEBUG:numba.core.byteflow:pending: deque([State(pc_initial=116 nstack_initial=0), State(pc_initial=200 nstack_initial=0), State(pc_initial=112 nstack_initial=0)])\n",
      "DEBUG:numba.core.byteflow:stack: []\n",
      "DEBUG:numba.core.byteflow:state.pc_initial: State(pc_initial=116 nstack_initial=0)\n",
      "DEBUG:numba.core.byteflow:dispatch pc=116, inst=LOAD_GLOBAL(arg=1, lineno=1147)\n",
      "DEBUG:numba.core.byteflow:stack []\n",
      "DEBUG:numba.core.byteflow:dispatch pc=128, inst=LOAD_ATTR(arg=1, lineno=1147)\n",
      "DEBUG:numba.core.byteflow:stack ['$null$116.1', '$116load_global.0']\n",
      "DEBUG:numba.core.byteflow:dispatch pc=138, inst=LOAD_FAST(arg=3, lineno=1147)\n",
      "DEBUG:numba.core.byteflow:stack ['$null$116.1', '$128load_attr.2']\n",
      "DEBUG:numba.core.byteflow:dispatch pc=140, inst=PRECALL(arg=1, lineno=1147)\n",
      "DEBUG:numba.core.byteflow:stack ['$null$116.1', '$128load_attr.2', '$x0138.3']\n",
      "DEBUG:numba.core.byteflow:dispatch pc=144, inst=CALL(arg=1, lineno=1147)\n",
      "DEBUG:numba.core.byteflow:stack ['$null$116.1', '$128load_attr.2', '$x0138.3']\n",
      "DEBUG:numba.core.byteflow:dispatch pc=154, inst=LOAD_GLOBAL(arg=1, lineno=1147)\n",
      "DEBUG:numba.core.byteflow:stack ['$144call.4']\n",
      "DEBUG:numba.core.byteflow:dispatch pc=166, inst=LOAD_ATTR(arg=1, lineno=1147)\n",
      "DEBUG:numba.core.byteflow:stack ['$144call.4', '$null$154.6', '$154load_global.5']\n",
      "DEBUG:numba.core.byteflow:dispatch pc=176, inst=LOAD_FAST(arg=4, lineno=1147)\n",
      "DEBUG:numba.core.byteflow:stack ['$144call.4', '$null$154.6', '$166load_attr.7']\n",
      "DEBUG:numba.core.byteflow:dispatch pc=178, inst=PRECALL(arg=1, lineno=1147)\n",
      "DEBUG:numba.core.byteflow:stack ['$144call.4', '$null$154.6', '$166load_attr.7', '$x1176.8']\n",
      "DEBUG:numba.core.byteflow:dispatch pc=182, inst=CALL(arg=1, lineno=1147)\n",
      "DEBUG:numba.core.byteflow:stack ['$144call.4', '$null$154.6', '$166load_attr.7', '$x1176.8']\n",
      "DEBUG:numba.core.byteflow:dispatch pc=192, inst=COMPARE_OP(arg=3, lineno=1147)\n",
      "DEBUG:numba.core.byteflow:stack ['$144call.4', '$182call.9']\n",
      "DEBUG:numba.core.byteflow:dispatch pc=198, inst=RETURN_VALUE(arg=None, lineno=1147)\n",
      "DEBUG:numba.core.byteflow:stack ['$192compare_op.10']\n",
      "DEBUG:numba.core.byteflow:end state. edges=[]\n",
      "DEBUG:numba.core.byteflow:pending: deque([State(pc_initial=200 nstack_initial=0), State(pc_initial=112 nstack_initial=0)])\n",
      "DEBUG:numba.core.byteflow:stack: []\n",
      "DEBUG:numba.core.byteflow:state.pc_initial: State(pc_initial=200 nstack_initial=0)\n",
      "DEBUG:numba.core.byteflow:dispatch pc=200, inst=LOAD_GLOBAL(arg=1, lineno=1149)\n",
      "DEBUG:numba.core.byteflow:stack []\n",
      "DEBUG:numba.core.byteflow:dispatch pc=212, inst=LOAD_ATTR(arg=2, lineno=1149)\n",
      "DEBUG:numba.core.byteflow:stack ['$null$200.1', '$200load_global.0']\n",
      "DEBUG:numba.core.byteflow:dispatch pc=222, inst=LOAD_FAST(arg=3, lineno=1149)\n",
      "DEBUG:numba.core.byteflow:stack ['$null$200.1', '$212load_attr.2']\n",
      "DEBUG:numba.core.byteflow:dispatch pc=224, inst=PRECALL(arg=1, lineno=1149)\n",
      "DEBUG:numba.core.byteflow:stack ['$null$200.1', '$212load_attr.2', '$x0222.3']\n",
      "DEBUG:numba.core.byteflow:dispatch pc=228, inst=CALL(arg=1, lineno=1149)\n",
      "DEBUG:numba.core.byteflow:stack ['$null$200.1', '$212load_attr.2', '$x0222.3']\n",
      "DEBUG:numba.core.byteflow:dispatch pc=238, inst=LOAD_GLOBAL(arg=1, lineno=1149)\n",
      "DEBUG:numba.core.byteflow:stack ['$228call.4']\n",
      "DEBUG:numba.core.byteflow:dispatch pc=250, inst=LOAD_ATTR(arg=2, lineno=1149)\n",
      "DEBUG:numba.core.byteflow:stack ['$228call.4', '$null$238.6', '$238load_global.5']\n",
      "DEBUG:numba.core.byteflow:dispatch pc=260, inst=LOAD_FAST(arg=4, lineno=1149)\n",
      "DEBUG:numba.core.byteflow:stack ['$228call.4', '$null$238.6', '$250load_attr.7']\n",
      "DEBUG:numba.core.byteflow:dispatch pc=262, inst=PRECALL(arg=1, lineno=1149)\n",
      "DEBUG:numba.core.byteflow:stack ['$228call.4', '$null$238.6', '$250load_attr.7', '$x1260.8']\n",
      "DEBUG:numba.core.byteflow:dispatch pc=266, inst=CALL(arg=1, lineno=1149)\n",
      "DEBUG:numba.core.byteflow:stack ['$228call.4', '$null$238.6', '$250load_attr.7', '$x1260.8']\n",
      "DEBUG:numba.core.byteflow:dispatch pc=276, inst=COMPARE_OP(arg=3, lineno=1149)\n",
      "DEBUG:numba.core.byteflow:stack ['$228call.4', '$266call.9']\n",
      "DEBUG:numba.core.byteflow:dispatch pc=282, inst=RETURN_VALUE(arg=None, lineno=1149)\n",
      "DEBUG:numba.core.byteflow:stack ['$276compare_op.10']\n",
      "DEBUG:numba.core.byteflow:end state. edges=[]\n",
      "DEBUG:numba.core.byteflow:pending: deque([State(pc_initial=112 nstack_initial=0)])\n",
      "DEBUG:numba.core.byteflow:-------------------------Prune PHIs-------------------------\n",
      "DEBUG:numba.core.byteflow:Used_phis: defaultdict(<class 'set'>,\n",
      "            {State(pc_initial=0 nstack_initial=0): set(),\n",
      "             State(pc_initial=38 nstack_initial=1): {'$phi38.0'},\n",
      "             State(pc_initial=48 nstack_initial=0): set(),\n",
      "             State(pc_initial=50 nstack_initial=1): set(),\n",
      "             State(pc_initial=54 nstack_initial=0): set(),\n",
      "             State(pc_initial=58 nstack_initial=0): set(),\n",
      "             State(pc_initial=92 nstack_initial=1): {'$phi92.0'},\n",
      "             State(pc_initial=102 nstack_initial=0): set(),\n",
      "             State(pc_initial=104 nstack_initial=1): set(),\n",
      "             State(pc_initial=108 nstack_initial=0): set(),\n",
      "             State(pc_initial=112 nstack_initial=0): set(),\n",
      "             State(pc_initial=116 nstack_initial=0): set(),\n",
      "             State(pc_initial=200 nstack_initial=0): set()})\n",
      "DEBUG:numba.core.byteflow:defmap: {'$phi104.0': State(pc_initial=58 nstack_initial=0),\n",
      " '$phi38.0': State(pc_initial=0 nstack_initial=0),\n",
      " '$phi50.0': State(pc_initial=0 nstack_initial=0),\n",
      " '$phi92.0': State(pc_initial=58 nstack_initial=0)}\n",
      "DEBUG:numba.core.byteflow:phismap: defaultdict(<class 'set'>,\n",
      "            {'$phi104.0': {('$x178.5', State(pc_initial=58 nstack_initial=0))},\n",
      "             '$phi38.0': {('$x024.5', State(pc_initial=0 nstack_initial=0))},\n",
      "             '$phi50.0': {('$x024.5', State(pc_initial=0 nstack_initial=0))},\n",
      "             '$phi92.0': {('$x178.5', State(pc_initial=58 nstack_initial=0))}})\n",
      "DEBUG:numba.core.byteflow:changing phismap: defaultdict(<class 'set'>,\n",
      "            {'$phi104.0': {('$x178.5', State(pc_initial=58 nstack_initial=0))},\n",
      "             '$phi38.0': {('$x024.5', State(pc_initial=0 nstack_initial=0))},\n",
      "             '$phi50.0': {('$x024.5', State(pc_initial=0 nstack_initial=0))},\n",
      "             '$phi92.0': {('$x178.5', State(pc_initial=58 nstack_initial=0))}})\n",
      "DEBUG:numba.core.byteflow:keep phismap: {'$phi38.0': {('$x024.5', State(pc_initial=0 nstack_initial=0))},\n",
      " '$phi92.0': {('$x178.5', State(pc_initial=58 nstack_initial=0))}}\n",
      "DEBUG:numba.core.byteflow:new_out: defaultdict(<class 'dict'>,\n",
      "            {State(pc_initial=0 nstack_initial=0): {'$phi38.0': '$x024.5'},\n",
      "             State(pc_initial=58 nstack_initial=0): {'$phi92.0': '$x178.5'}})\n",
      "DEBUG:numba.core.byteflow:----------------------DONE Prune PHIs-----------------------\n",
      "DEBUG:numba.core.byteflow:block_infos State(pc_initial=0 nstack_initial=0):\n",
      "AdaptBlockInfo(insts=((0, {}), (2, {}), (4, {'res': '$x4.0'}), (6, {'res': '$const6.1'}), (8, {'index': '$const6.1', 'target': '$x4.0', 'res': '$8binary_subscr.2'}), (10, {}), (12, {}), (14, {}), (16, {}), (18, {'value': '$8binary_subscr.2'}), (20, {'res': '$threshold20.3'}), (22, {'value': '$threshold20.3', 'res': '$22unary_negative.4'}), (24, {'res': '$x024.5'}), (30, {'lhs': '$22unary_negative.4', 'rhs': '$x024.5', 'res': '$30compare_op.6'}), (32, {}), (34, {}), (36, {'pred': '$30compare_op.6'})), outgoing_phis={'$phi38.0': '$x024.5'}, blockstack=(), active_try_block=None, outgoing_edgepushed={38: ('$x024.5',), 50: ('$x024.5',)})\n",
      "DEBUG:numba.core.byteflow:block_infos State(pc_initial=38 nstack_initial=1):\n",
      "AdaptBlockInfo(insts=((38, {'res': '$threshold38.1'}), (40, {'lhs': '$phi38.0', 'rhs': '$threshold38.1', 'res': '$40compare_op.2'}), (42, {}), (44, {}), (46, {'pred': '$40compare_op.2'})), outgoing_phis={}, blockstack=(), active_try_block=None, outgoing_edgepushed={48: (), 58: ()})\n",
      "DEBUG:numba.core.byteflow:block_infos State(pc_initial=48 nstack_initial=0):\n",
      "AdaptBlockInfo(insts=((48, {}),), outgoing_phis={}, blockstack=(), active_try_block=None, outgoing_edgepushed={54: ()})\n",
      "DEBUG:numba.core.byteflow:block_infos State(pc_initial=50 nstack_initial=1):\n",
      "AdaptBlockInfo(insts=((52, {}),), outgoing_phis={}, blockstack=(), active_try_block=None, outgoing_edgepushed={58: ()})\n",
      "DEBUG:numba.core.byteflow:block_infos State(pc_initial=54 nstack_initial=0):\n",
      "AdaptBlockInfo(insts=((54, {'res': '$const54.0'}), (56, {'value': '$const54.0'})), outgoing_phis={}, blockstack=(), active_try_block=None, outgoing_edgepushed={58: ()})\n",
      "DEBUG:numba.core.byteflow:block_infos State(pc_initial=58 nstack_initial=0):\n",
      "AdaptBlockInfo(insts=((58, {'res': '$x58.0'}), (60, {'res': '$const60.1'}), (62, {'index': '$const60.1', 'target': '$x58.0', 'res': '$62binary_subscr.2'}), (64, {}), (66, {}), (68, {}), (70, {}), (72, {'value': '$62binary_subscr.2'}), (74, {'res': '$threshold74.3'}), (76, {'value': '$threshold74.3', 'res': '$76unary_negative.4'}), (78, {'res': '$x178.5'}), (84, {'lhs': '$76unary_negative.4', 'rhs': '$x178.5', 'res': '$84compare_op.6'}), (86, {}), (88, {}), (90, {'pred': '$84compare_op.6'})), outgoing_phis={'$phi92.0': '$x178.5'}, blockstack=(), active_try_block=None, outgoing_edgepushed={92: ('$x178.5',), 104: ('$x178.5',)})\n",
      "DEBUG:numba.core.byteflow:block_infos State(pc_initial=92 nstack_initial=1):\n",
      "AdaptBlockInfo(insts=((92, {'res': '$threshold92.1'}), (94, {'lhs': '$phi92.0', 'rhs': '$threshold92.1', 'res': '$94compare_op.2'}), (96, {}), (98, {}), (100, {'pred': '$94compare_op.2'})), outgoing_phis={}, blockstack=(), active_try_block=None, outgoing_edgepushed={102: (), 112: ()})\n",
      "DEBUG:numba.core.byteflow:block_infos State(pc_initial=102 nstack_initial=0):\n",
      "AdaptBlockInfo(insts=((102, {}),), outgoing_phis={}, blockstack=(), active_try_block=None, outgoing_edgepushed={108: ()})\n",
      "DEBUG:numba.core.byteflow:block_infos State(pc_initial=104 nstack_initial=1):\n",
      "AdaptBlockInfo(insts=((106, {}),), outgoing_phis={}, blockstack=(), active_try_block=None, outgoing_edgepushed={112: ()})\n",
      "DEBUG:numba.core.byteflow:block_infos State(pc_initial=108 nstack_initial=0):\n",
      "AdaptBlockInfo(insts=((108, {'res': '$const108.0'}), (110, {'value': '$const108.0'})), outgoing_phis={}, blockstack=(), active_try_block=None, outgoing_edgepushed={112: ()})\n",
      "DEBUG:numba.core.byteflow:block_infos State(pc_initial=112 nstack_initial=0):\n",
      "AdaptBlockInfo(insts=((112, {'res': '$zero_pos112.0'}), (114, {'pred': '$zero_pos112.0'})), outgoing_phis={}, blockstack=(), active_try_block=None, outgoing_edgepushed={116: (), 200: ()})\n",
      "DEBUG:numba.core.byteflow:block_infos State(pc_initial=116 nstack_initial=0):\n",
      "AdaptBlockInfo(insts=((116, {'idx': 0, 'res': '$116load_global.0'}), (118, {}), (120, {}), (122, {}), (124, {}), (126, {}), (128, {'item': '$116load_global.0', 'res': '$128load_attr.2'}), (130, {}), (132, {}), (134, {}), (136, {}), (138, {'res': '$x0138.3'}), (140, {}), (142, {}), (144, {'func': '$128load_attr.2', 'args': ['$x0138.3'], 'kw_names': None, 'res': '$144call.4'}), (146, {}), (148, {}), (150, {}), (152, {}), (154, {'idx': 0, 'res': '$154load_global.5'}), (156, {}), (158, {}), (160, {}), (162, {}), (164, {}), (166, {'item': '$154load_global.5', 'res': '$166load_attr.7'}), (168, {}), (170, {}), (172, {}), (174, {}), (176, {'res': '$x1176.8'}), (178, {}), (180, {}), (182, {'func': '$166load_attr.7', 'args': ['$x1176.8'], 'kw_names': None, 'res': '$182call.9'}), (184, {}), (186, {}), (188, {}), (190, {}), (192, {'lhs': '$144call.4', 'rhs': '$182call.9', 'res': '$192compare_op.10'}), (194, {}), (196, {}), (198, {'retval': '$192compare_op.10', 'castval': '$198return_value.11'})), outgoing_phis={}, blockstack=(), active_try_block=None, outgoing_edgepushed={})\n",
      "DEBUG:numba.core.byteflow:block_infos State(pc_initial=200 nstack_initial=0):\n",
      "AdaptBlockInfo(insts=((200, {'idx': 0, 'res': '$200load_global.0'}), (202, {}), (204, {}), (206, {}), (208, {}), (210, {}), (212, {'item': '$200load_global.0', 'res': '$212load_attr.2'}), (214, {}), (216, {}), (218, {}), (220, {}), (222, {'res': '$x0222.3'}), (224, {}), (226, {}), (228, {'func': '$212load_attr.2', 'args': ['$x0222.3'], 'kw_names': None, 'res': '$228call.4'}), (230, {}), (232, {}), (234, {}), (236, {}), (238, {'idx': 0, 'res': '$238load_global.5'}), (240, {}), (242, {}), (244, {}), (246, {}), (248, {}), (250, {'item': '$238load_global.5', 'res': '$250load_attr.7'}), (252, {}), (254, {}), (256, {}), (258, {}), (260, {'res': '$x1260.8'}), (262, {}), (264, {}), (266, {'func': '$250load_attr.7', 'args': ['$x1260.8'], 'kw_names': None, 'res': '$266call.9'}), (268, {}), (270, {}), (272, {}), (274, {}), (276, {'lhs': '$228call.4', 'rhs': '$266call.9', 'res': '$276compare_op.10'}), (278, {}), (280, {}), (282, {'retval': '$276compare_op.10', 'castval': '$282return_value.11'})), outgoing_phis={}, blockstack=(), active_try_block=None, outgoing_edgepushed={})\n",
      "DEBUG:numba.core.interpreter:label 0:\n",
      "    x = arg(0, name=x)                       ['x']\n",
      "    threshold = arg(1, name=threshold)       ['threshold']\n",
      "    zero_pos = arg(2, name=zero_pos)         ['zero_pos']\n",
      "    $const6.1 = const(int, 0)                ['$const6.1']\n",
      "    x0 = getitem(value=x, index=$const6.1, fn=<built-in function getitem>) ['$const6.1', 'x', 'x0']\n",
      "    $22unary_negative.4 = unary(fn=<built-in function neg>, value=threshold) ['$22unary_negative.4', 'threshold']\n",
      "    $30compare_op.6 = $22unary_negative.4 <= x0 ['$22unary_negative.4', '$30compare_op.6', 'x0']\n",
      "    bool36 = global(bool: <class 'bool'>)    ['bool36']\n",
      "    $36pred = call bool36($30compare_op.6, func=bool36, args=(Var($30compare_op.6, audio.py:1139),), kws=(), vararg=None, varkwarg=None, target=None) ['$30compare_op.6', '$36pred', 'bool36']\n",
      "    $phi38.0 = x0                            ['$phi38.0', 'x0']\n",
      "    branch $36pred, 38, 50                   ['$36pred']\n",
      "label 38:\n",
      "    $40compare_op.2 = $phi38.0 <= threshold  ['$40compare_op.2', '$phi38.0', 'threshold']\n",
      "    bool46 = global(bool: <class 'bool'>)    ['bool46']\n",
      "    $46pred = call bool46($40compare_op.2, func=bool46, args=(Var($40compare_op.2, audio.py:1139),), kws=(), vararg=None, varkwarg=None, target=None) ['$40compare_op.2', '$46pred', 'bool46']\n",
      "    branch $46pred, 48, 58                   ['$46pred']\n",
      "label 48:\n",
      "    jump 54                                  []\n",
      "label 50:\n",
      "    jump 58                                  []\n",
      "label 54:\n",
      "    x0 = const(int, 0)                       ['x0']\n",
      "    jump 58                                  []\n",
      "label 58:\n",
      "    $const60.1 = const(int, -1)              ['$const60.1']\n",
      "    x1 = getitem(value=x, index=$const60.1, fn=<built-in function getitem>) ['$const60.1', 'x', 'x1']\n",
      "    $76unary_negative.4 = unary(fn=<built-in function neg>, value=threshold) ['$76unary_negative.4', 'threshold']\n",
      "    $84compare_op.6 = $76unary_negative.4 <= x1 ['$76unary_negative.4', '$84compare_op.6', 'x1']\n",
      "    bool90 = global(bool: <class 'bool'>)    ['bool90']\n",
      "    $90pred = call bool90($84compare_op.6, func=bool90, args=(Var($84compare_op.6, audio.py:1143),), kws=(), vararg=None, varkwarg=None, target=None) ['$84compare_op.6', '$90pred', 'bool90']\n",
      "    $phi92.0 = x1                            ['$phi92.0', 'x1']\n",
      "    branch $90pred, 92, 104                  ['$90pred']\n",
      "label 92:\n",
      "    $94compare_op.2 = $phi92.0 <= threshold  ['$94compare_op.2', '$phi92.0', 'threshold']\n",
      "    bool100 = global(bool: <class 'bool'>)   ['bool100']\n",
      "    $100pred = call bool100($94compare_op.2, func=bool100, args=(Var($94compare_op.2, audio.py:1143),), kws=(), vararg=None, varkwarg=None, target=None) ['$100pred', '$94compare_op.2', 'bool100']\n",
      "    branch $100pred, 102, 112                ['$100pred']\n",
      "label 102:\n",
      "    jump 108                                 []\n",
      "label 104:\n",
      "    jump 112                                 []\n",
      "label 108:\n",
      "    x1 = const(int, 0)                       ['x1']\n",
      "    jump 112                                 []\n",
      "label 112:\n",
      "    bool114 = global(bool: <class 'bool'>)   ['bool114']\n",
      "    $114pred = call bool114(zero_pos, func=bool114, args=(Var(zero_pos, audio.py:1135),), kws=(), vararg=None, varkwarg=None, target=None) ['$114pred', 'bool114', 'zero_pos']\n",
      "    branch $114pred, 116, 200                ['$114pred']\n",
      "label 116:\n",
      "    $116load_global.0 = global(np: <module 'numpy' from '/nas/home/wwang/miniconda3/envs/thesis/lib/python3.11/site-packages/numpy/__init__.py'>) ['$116load_global.0']\n",
      "    $128load_attr.2 = getattr(value=$116load_global.0, attr=signbit) ['$116load_global.0', '$128load_attr.2']\n",
      "    $144call.4 = call $128load_attr.2(x0, func=$128load_attr.2, args=[Var(x0, audio.py:1138)], kws=(), vararg=None, varkwarg=None, target=None) ['$128load_attr.2', '$144call.4', 'x0']\n",
      "    $154load_global.5 = global(np: <module 'numpy' from '/nas/home/wwang/miniconda3/envs/thesis/lib/python3.11/site-packages/numpy/__init__.py'>) ['$154load_global.5']\n",
      "    $166load_attr.7 = getattr(value=$154load_global.5, attr=signbit) ['$154load_global.5', '$166load_attr.7']\n",
      "    $182call.9 = call $166load_attr.7(x1, func=$166load_attr.7, args=[Var(x1, audio.py:1142)], kws=(), vararg=None, varkwarg=None, target=None) ['$166load_attr.7', '$182call.9', 'x1']\n",
      "    $192compare_op.10 = $144call.4 != $182call.9 ['$144call.4', '$182call.9', '$192compare_op.10']\n",
      "    $198return_value.11 = cast(value=$192compare_op.10) ['$192compare_op.10', '$198return_value.11']\n",
      "    return $198return_value.11               ['$198return_value.11']\n",
      "label 200:\n",
      "    $200load_global.0 = global(np: <module 'numpy' from '/nas/home/wwang/miniconda3/envs/thesis/lib/python3.11/site-packages/numpy/__init__.py'>) ['$200load_global.0']\n",
      "    $212load_attr.2 = getattr(value=$200load_global.0, attr=sign) ['$200load_global.0', '$212load_attr.2']\n",
      "    $228call.4 = call $212load_attr.2(x0, func=$212load_attr.2, args=[Var(x0, audio.py:1138)], kws=(), vararg=None, varkwarg=None, target=None) ['$212load_attr.2', '$228call.4', 'x0']\n",
      "    $238load_global.5 = global(np: <module 'numpy' from '/nas/home/wwang/miniconda3/envs/thesis/lib/python3.11/site-packages/numpy/__init__.py'>) ['$238load_global.5']\n",
      "    $250load_attr.7 = getattr(value=$238load_global.5, attr=sign) ['$238load_global.5', '$250load_attr.7']\n",
      "    $266call.9 = call $250load_attr.7(x1, func=$250load_attr.7, args=[Var(x1, audio.py:1142)], kws=(), vararg=None, varkwarg=None, target=None) ['$250load_attr.7', '$266call.9', 'x1']\n",
      "    $276compare_op.10 = $228call.4 != $266call.9 ['$228call.4', '$266call.9', '$276compare_op.10']\n",
      "    $282return_value.11 = cast(value=$276compare_op.10) ['$276compare_op.10', '$282return_value.11']\n",
      "    return $282return_value.11               ['$282return_value.11']\n",
      "\n"
     ]
    }
   ],
   "source": [
    "mag_spec_p = recover_mag_spec(p_spec)"
   ],
   "metadata": {
    "collapsed": false,
    "ExecuteTime": {
     "end_time": "2024-04-27T20:13:08.266723500Z",
     "start_time": "2024-04-27T20:13:07.216354900Z"
    }
   },
   "id": "e0e855347b360d2b",
   "execution_count": 24
  },
  {
   "cell_type": "code",
   "outputs": [],
   "source": [
    "SPSI_audio_p = spsi(msgram=mag_spec_p, n_fft=2048, hop_length=512)"
   ],
   "metadata": {
    "collapsed": false,
    "ExecuteTime": {
     "end_time": "2024-04-27T20:13:08.267723Z",
     "start_time": "2024-04-27T20:13:08.264723200Z"
    }
   },
   "id": "577679464aec27e0",
   "execution_count": 25
  },
  {
   "cell_type": "code",
   "outputs": [
    {
     "name": "stderr",
     "output_type": "stream",
     "text": [
      "DEBUG:numba.core.byteflow:bytecode dump:\n",
      ">          0\tNOP(arg=None, lineno=1039)\n",
      "           2\tRESUME(arg=0, lineno=1039)\n",
      "           4\tLOAD_FAST(arg=0, lineno=1042)\n",
      "           6\tLOAD_CONST(arg=1, lineno=1042)\n",
      "           8\tBINARY_SUBSCR(arg=None, lineno=1042)\n",
      "          18\tLOAD_FAST(arg=0, lineno=1042)\n",
      "          20\tLOAD_CONST(arg=2, lineno=1042)\n",
      "          22\tBINARY_SUBSCR(arg=None, lineno=1042)\n",
      "          32\tCOMPARE_OP(arg=4, lineno=1042)\n",
      "          38\tLOAD_FAST(arg=0, lineno=1042)\n",
      "          40\tLOAD_CONST(arg=1, lineno=1042)\n",
      "          42\tBINARY_SUBSCR(arg=None, lineno=1042)\n",
      "          52\tLOAD_FAST(arg=0, lineno=1042)\n",
      "          54\tLOAD_CONST(arg=3, lineno=1042)\n",
      "          56\tBINARY_SUBSCR(arg=None, lineno=1042)\n",
      "          66\tCOMPARE_OP(arg=5, lineno=1042)\n",
      "          72\tBINARY_OP(arg=1, lineno=1042)\n",
      "          76\tRETURN_VALUE(arg=None, lineno=1042)\n",
      "DEBUG:numba.core.byteflow:pending: deque([State(pc_initial=0 nstack_initial=0)])\n",
      "DEBUG:numba.core.byteflow:stack: []\n",
      "DEBUG:numba.core.byteflow:state.pc_initial: State(pc_initial=0 nstack_initial=0)\n",
      "DEBUG:numba.core.byteflow:dispatch pc=0, inst=NOP(arg=None, lineno=1039)\n",
      "DEBUG:numba.core.byteflow:stack []\n",
      "DEBUG:numba.core.byteflow:dispatch pc=2, inst=RESUME(arg=0, lineno=1039)\n",
      "DEBUG:numba.core.byteflow:stack []\n",
      "DEBUG:numba.core.byteflow:dispatch pc=4, inst=LOAD_FAST(arg=0, lineno=1042)\n",
      "DEBUG:numba.core.byteflow:stack []\n",
      "DEBUG:numba.core.byteflow:dispatch pc=6, inst=LOAD_CONST(arg=1, lineno=1042)\n",
      "DEBUG:numba.core.byteflow:stack ['$x4.0']\n",
      "DEBUG:numba.core.byteflow:dispatch pc=8, inst=BINARY_SUBSCR(arg=None, lineno=1042)\n",
      "DEBUG:numba.core.byteflow:stack ['$x4.0', '$const6.1']\n",
      "DEBUG:numba.core.byteflow:dispatch pc=18, inst=LOAD_FAST(arg=0, lineno=1042)\n",
      "DEBUG:numba.core.byteflow:stack ['$8binary_subscr.2']\n",
      "DEBUG:numba.core.byteflow:dispatch pc=20, inst=LOAD_CONST(arg=2, lineno=1042)\n",
      "DEBUG:numba.core.byteflow:stack ['$8binary_subscr.2', '$x18.3']\n",
      "DEBUG:numba.core.byteflow:dispatch pc=22, inst=BINARY_SUBSCR(arg=None, lineno=1042)\n",
      "DEBUG:numba.core.byteflow:stack ['$8binary_subscr.2', '$x18.3', '$const20.4']\n",
      "DEBUG:numba.core.byteflow:dispatch pc=32, inst=COMPARE_OP(arg=4, lineno=1042)\n",
      "DEBUG:numba.core.byteflow:stack ['$8binary_subscr.2', '$22binary_subscr.5']\n",
      "DEBUG:numba.core.byteflow:dispatch pc=38, inst=LOAD_FAST(arg=0, lineno=1042)\n",
      "DEBUG:numba.core.byteflow:stack ['$32compare_op.6']\n",
      "DEBUG:numba.core.byteflow:dispatch pc=40, inst=LOAD_CONST(arg=1, lineno=1042)\n",
      "DEBUG:numba.core.byteflow:stack ['$32compare_op.6', '$x38.7']\n",
      "DEBUG:numba.core.byteflow:dispatch pc=42, inst=BINARY_SUBSCR(arg=None, lineno=1042)\n",
      "DEBUG:numba.core.byteflow:stack ['$32compare_op.6', '$x38.7', '$const40.8']\n",
      "DEBUG:numba.core.byteflow:dispatch pc=52, inst=LOAD_FAST(arg=0, lineno=1042)\n",
      "DEBUG:numba.core.byteflow:stack ['$32compare_op.6', '$42binary_subscr.9']\n",
      "DEBUG:numba.core.byteflow:dispatch pc=54, inst=LOAD_CONST(arg=3, lineno=1042)\n",
      "DEBUG:numba.core.byteflow:stack ['$32compare_op.6', '$42binary_subscr.9', '$x52.10']\n",
      "DEBUG:numba.core.byteflow:dispatch pc=56, inst=BINARY_SUBSCR(arg=None, lineno=1042)\n",
      "DEBUG:numba.core.byteflow:stack ['$32compare_op.6', '$42binary_subscr.9', '$x52.10', '$const54.11']\n",
      "DEBUG:numba.core.byteflow:dispatch pc=66, inst=COMPARE_OP(arg=5, lineno=1042)\n",
      "DEBUG:numba.core.byteflow:stack ['$32compare_op.6', '$42binary_subscr.9', '$56binary_subscr.12']\n",
      "DEBUG:numba.core.byteflow:dispatch pc=72, inst=BINARY_OP(arg=1, lineno=1042)\n",
      "DEBUG:numba.core.byteflow:stack ['$32compare_op.6', '$66compare_op.13']\n",
      "DEBUG:numba.core.byteflow:dispatch pc=76, inst=RETURN_VALUE(arg=None, lineno=1042)\n",
      "DEBUG:numba.core.byteflow:stack ['$binop_and_72.14']\n",
      "DEBUG:numba.core.byteflow:end state. edges=[]\n",
      "DEBUG:numba.core.byteflow:-------------------------Prune PHIs-------------------------\n",
      "DEBUG:numba.core.byteflow:Used_phis: defaultdict(<class 'set'>, {State(pc_initial=0 nstack_initial=0): set()})\n",
      "DEBUG:numba.core.byteflow:defmap: {}\n",
      "DEBUG:numba.core.byteflow:phismap: defaultdict(<class 'set'>, {})\n",
      "DEBUG:numba.core.byteflow:changing phismap: defaultdict(<class 'set'>, {})\n",
      "DEBUG:numba.core.byteflow:keep phismap: {}\n",
      "DEBUG:numba.core.byteflow:new_out: defaultdict(<class 'dict'>, {})\n",
      "DEBUG:numba.core.byteflow:----------------------DONE Prune PHIs-----------------------\n",
      "DEBUG:numba.core.byteflow:block_infos State(pc_initial=0 nstack_initial=0):\n",
      "AdaptBlockInfo(insts=((0, {}), (2, {}), (4, {'res': '$x4.0'}), (6, {'res': '$const6.1'}), (8, {'index': '$const6.1', 'target': '$x4.0', 'res': '$8binary_subscr.2'}), (10, {}), (12, {}), (14, {}), (16, {}), (18, {'res': '$x18.3'}), (20, {'res': '$const20.4'}), (22, {'index': '$const20.4', 'target': '$x18.3', 'res': '$22binary_subscr.5'}), (24, {}), (26, {}), (28, {}), (30, {}), (32, {'lhs': '$8binary_subscr.2', 'rhs': '$22binary_subscr.5', 'res': '$32compare_op.6'}), (34, {}), (36, {}), (38, {'res': '$x38.7'}), (40, {'res': '$const40.8'}), (42, {'index': '$const40.8', 'target': '$x38.7', 'res': '$42binary_subscr.9'}), (44, {}), (46, {}), (48, {}), (50, {}), (52, {'res': '$x52.10'}), (54, {'res': '$const54.11'}), (56, {'index': '$const54.11', 'target': '$x52.10', 'res': '$56binary_subscr.12'}), (58, {}), (60, {}), (62, {}), (64, {}), (66, {'lhs': '$42binary_subscr.9', 'rhs': '$56binary_subscr.12', 'res': '$66compare_op.13'}), (68, {}), (70, {}), (72, {'op': '&', 'lhs': '$32compare_op.6', 'rhs': '$66compare_op.13', 'res': '$binop_and_72.14'}), (74, {}), (76, {'retval': '$binop_and_72.14', 'castval': '$76return_value.15'})), outgoing_phis={}, blockstack=(), active_try_block=None, outgoing_edgepushed={})\n",
      "DEBUG:numba.core.interpreter:label 0:\n",
      "    x = arg(0, name=x)                       ['x']\n",
      "    $const6.1 = const(int, 0)                ['$const6.1']\n",
      "    $8binary_subscr.2 = getitem(value=x, index=$const6.1, fn=<built-in function getitem>) ['$8binary_subscr.2', '$const6.1', 'x']\n",
      "    $const20.4 = const(int, -1)              ['$const20.4']\n",
      "    $22binary_subscr.5 = getitem(value=x, index=$const20.4, fn=<built-in function getitem>) ['$22binary_subscr.5', '$const20.4', 'x']\n",
      "    $32compare_op.6 = $8binary_subscr.2 > $22binary_subscr.5 ['$22binary_subscr.5', '$32compare_op.6', '$8binary_subscr.2']\n",
      "    $const40.8 = const(int, 0)               ['$const40.8']\n",
      "    $42binary_subscr.9 = getitem(value=x, index=$const40.8, fn=<built-in function getitem>) ['$42binary_subscr.9', '$const40.8', 'x']\n",
      "    $const54.11 = const(int, 1)              ['$const54.11']\n",
      "    $56binary_subscr.12 = getitem(value=x, index=$const54.11, fn=<built-in function getitem>) ['$56binary_subscr.12', '$const54.11', 'x']\n",
      "    $66compare_op.13 = $42binary_subscr.9 >= $56binary_subscr.12 ['$42binary_subscr.9', '$56binary_subscr.12', '$66compare_op.13']\n",
      "    $binop_and_72.14 = $32compare_op.6 & $66compare_op.13 ['$32compare_op.6', '$66compare_op.13', '$binop_and_72.14']\n",
      "    $76return_value.15 = cast(value=$binop_and_72.14) ['$76return_value.15', '$binop_and_72.14']\n",
      "    return $76return_value.15                ['$76return_value.15']\n",
      "\n",
      "DEBUG:numba.core.byteflow:bytecode dump:\n",
      ">          0\tNOP(arg=None, lineno=1045)\n",
      "           2\tRESUME(arg=0, lineno=1045)\n",
      "           4\tLOAD_FAST(arg=0, lineno=1048)\n",
      "           6\tLOAD_CONST(arg=1, lineno=1048)\n",
      "           8\tBINARY_SUBSCR(arg=None, lineno=1048)\n",
      "          18\tLOAD_FAST(arg=0, lineno=1048)\n",
      "          20\tLOAD_CONST(arg=2, lineno=1048)\n",
      "          22\tBINARY_SUBSCR(arg=None, lineno=1048)\n",
      "          32\tCOMPARE_OP(arg=0, lineno=1048)\n",
      "          38\tLOAD_FAST(arg=0, lineno=1048)\n",
      "          40\tLOAD_CONST(arg=1, lineno=1048)\n",
      "          42\tBINARY_SUBSCR(arg=None, lineno=1048)\n",
      "          52\tLOAD_FAST(arg=0, lineno=1048)\n",
      "          54\tLOAD_CONST(arg=3, lineno=1048)\n",
      "          56\tBINARY_SUBSCR(arg=None, lineno=1048)\n",
      "          66\tCOMPARE_OP(arg=1, lineno=1048)\n",
      "          72\tBINARY_OP(arg=1, lineno=1048)\n",
      "          76\tRETURN_VALUE(arg=None, lineno=1048)\n",
      "DEBUG:numba.core.byteflow:pending: deque([State(pc_initial=0 nstack_initial=0)])\n",
      "DEBUG:numba.core.byteflow:stack: []\n",
      "DEBUG:numba.core.byteflow:state.pc_initial: State(pc_initial=0 nstack_initial=0)\n",
      "DEBUG:numba.core.byteflow:dispatch pc=0, inst=NOP(arg=None, lineno=1045)\n",
      "DEBUG:numba.core.byteflow:stack []\n",
      "DEBUG:numba.core.byteflow:dispatch pc=2, inst=RESUME(arg=0, lineno=1045)\n",
      "DEBUG:numba.core.byteflow:stack []\n",
      "DEBUG:numba.core.byteflow:dispatch pc=4, inst=LOAD_FAST(arg=0, lineno=1048)\n",
      "DEBUG:numba.core.byteflow:stack []\n",
      "DEBUG:numba.core.byteflow:dispatch pc=6, inst=LOAD_CONST(arg=1, lineno=1048)\n",
      "DEBUG:numba.core.byteflow:stack ['$x4.0']\n",
      "DEBUG:numba.core.byteflow:dispatch pc=8, inst=BINARY_SUBSCR(arg=None, lineno=1048)\n",
      "DEBUG:numba.core.byteflow:stack ['$x4.0', '$const6.1']\n",
      "DEBUG:numba.core.byteflow:dispatch pc=18, inst=LOAD_FAST(arg=0, lineno=1048)\n",
      "DEBUG:numba.core.byteflow:stack ['$8binary_subscr.2']\n",
      "DEBUG:numba.core.byteflow:dispatch pc=20, inst=LOAD_CONST(arg=2, lineno=1048)\n",
      "DEBUG:numba.core.byteflow:stack ['$8binary_subscr.2', '$x18.3']\n",
      "DEBUG:numba.core.byteflow:dispatch pc=22, inst=BINARY_SUBSCR(arg=None, lineno=1048)\n",
      "DEBUG:numba.core.byteflow:stack ['$8binary_subscr.2', '$x18.3', '$const20.4']\n",
      "DEBUG:numba.core.byteflow:dispatch pc=32, inst=COMPARE_OP(arg=0, lineno=1048)\n",
      "DEBUG:numba.core.byteflow:stack ['$8binary_subscr.2', '$22binary_subscr.5']\n",
      "DEBUG:numba.core.byteflow:dispatch pc=38, inst=LOAD_FAST(arg=0, lineno=1048)\n",
      "DEBUG:numba.core.byteflow:stack ['$32compare_op.6']\n",
      "DEBUG:numba.core.byteflow:dispatch pc=40, inst=LOAD_CONST(arg=1, lineno=1048)\n",
      "DEBUG:numba.core.byteflow:stack ['$32compare_op.6', '$x38.7']\n",
      "DEBUG:numba.core.byteflow:dispatch pc=42, inst=BINARY_SUBSCR(arg=None, lineno=1048)\n",
      "DEBUG:numba.core.byteflow:stack ['$32compare_op.6', '$x38.7', '$const40.8']\n",
      "DEBUG:numba.core.byteflow:dispatch pc=52, inst=LOAD_FAST(arg=0, lineno=1048)\n",
      "DEBUG:numba.core.byteflow:stack ['$32compare_op.6', '$42binary_subscr.9']\n",
      "DEBUG:numba.core.byteflow:dispatch pc=54, inst=LOAD_CONST(arg=3, lineno=1048)\n",
      "DEBUG:numba.core.byteflow:stack ['$32compare_op.6', '$42binary_subscr.9', '$x52.10']\n",
      "DEBUG:numba.core.byteflow:dispatch pc=56, inst=BINARY_SUBSCR(arg=None, lineno=1048)\n",
      "DEBUG:numba.core.byteflow:stack ['$32compare_op.6', '$42binary_subscr.9', '$x52.10', '$const54.11']\n",
      "DEBUG:numba.core.byteflow:dispatch pc=66, inst=COMPARE_OP(arg=1, lineno=1048)\n",
      "DEBUG:numba.core.byteflow:stack ['$32compare_op.6', '$42binary_subscr.9', '$56binary_subscr.12']\n",
      "DEBUG:numba.core.byteflow:dispatch pc=72, inst=BINARY_OP(arg=1, lineno=1048)\n",
      "DEBUG:numba.core.byteflow:stack ['$32compare_op.6', '$66compare_op.13']\n",
      "DEBUG:numba.core.byteflow:dispatch pc=76, inst=RETURN_VALUE(arg=None, lineno=1048)\n",
      "DEBUG:numba.core.byteflow:stack ['$binop_and_72.14']\n",
      "DEBUG:numba.core.byteflow:end state. edges=[]\n",
      "DEBUG:numba.core.byteflow:-------------------------Prune PHIs-------------------------\n",
      "DEBUG:numba.core.byteflow:Used_phis: defaultdict(<class 'set'>, {State(pc_initial=0 nstack_initial=0): set()})\n",
      "DEBUG:numba.core.byteflow:defmap: {}\n",
      "DEBUG:numba.core.byteflow:phismap: defaultdict(<class 'set'>, {})\n",
      "DEBUG:numba.core.byteflow:changing phismap: defaultdict(<class 'set'>, {})\n",
      "DEBUG:numba.core.byteflow:keep phismap: {}\n",
      "DEBUG:numba.core.byteflow:new_out: defaultdict(<class 'dict'>, {})\n",
      "DEBUG:numba.core.byteflow:----------------------DONE Prune PHIs-----------------------\n",
      "DEBUG:numba.core.byteflow:block_infos State(pc_initial=0 nstack_initial=0):\n",
      "AdaptBlockInfo(insts=((0, {}), (2, {}), (4, {'res': '$x4.0'}), (6, {'res': '$const6.1'}), (8, {'index': '$const6.1', 'target': '$x4.0', 'res': '$8binary_subscr.2'}), (10, {}), (12, {}), (14, {}), (16, {}), (18, {'res': '$x18.3'}), (20, {'res': '$const20.4'}), (22, {'index': '$const20.4', 'target': '$x18.3', 'res': '$22binary_subscr.5'}), (24, {}), (26, {}), (28, {}), (30, {}), (32, {'lhs': '$8binary_subscr.2', 'rhs': '$22binary_subscr.5', 'res': '$32compare_op.6'}), (34, {}), (36, {}), (38, {'res': '$x38.7'}), (40, {'res': '$const40.8'}), (42, {'index': '$const40.8', 'target': '$x38.7', 'res': '$42binary_subscr.9'}), (44, {}), (46, {}), (48, {}), (50, {}), (52, {'res': '$x52.10'}), (54, {'res': '$const54.11'}), (56, {'index': '$const54.11', 'target': '$x52.10', 'res': '$56binary_subscr.12'}), (58, {}), (60, {}), (62, {}), (64, {}), (66, {'lhs': '$42binary_subscr.9', 'rhs': '$56binary_subscr.12', 'res': '$66compare_op.13'}), (68, {}), (70, {}), (72, {'op': '&', 'lhs': '$32compare_op.6', 'rhs': '$66compare_op.13', 'res': '$binop_and_72.14'}), (74, {}), (76, {'retval': '$binop_and_72.14', 'castval': '$76return_value.15'})), outgoing_phis={}, blockstack=(), active_try_block=None, outgoing_edgepushed={})\n",
      "DEBUG:numba.core.interpreter:label 0:\n",
      "    x = arg(0, name=x)                       ['x']\n",
      "    $const6.1 = const(int, 0)                ['$const6.1']\n",
      "    $8binary_subscr.2 = getitem(value=x, index=$const6.1, fn=<built-in function getitem>) ['$8binary_subscr.2', '$const6.1', 'x']\n",
      "    $const20.4 = const(int, -1)              ['$const20.4']\n",
      "    $22binary_subscr.5 = getitem(value=x, index=$const20.4, fn=<built-in function getitem>) ['$22binary_subscr.5', '$const20.4', 'x']\n",
      "    $32compare_op.6 = $8binary_subscr.2 < $22binary_subscr.5 ['$22binary_subscr.5', '$32compare_op.6', '$8binary_subscr.2']\n",
      "    $const40.8 = const(int, 0)               ['$const40.8']\n",
      "    $42binary_subscr.9 = getitem(value=x, index=$const40.8, fn=<built-in function getitem>) ['$42binary_subscr.9', '$const40.8', 'x']\n",
      "    $const54.11 = const(int, 1)              ['$const54.11']\n",
      "    $56binary_subscr.12 = getitem(value=x, index=$const54.11, fn=<built-in function getitem>) ['$56binary_subscr.12', '$const54.11', 'x']\n",
      "    $66compare_op.13 = $42binary_subscr.9 <= $56binary_subscr.12 ['$42binary_subscr.9', '$56binary_subscr.12', '$66compare_op.13']\n",
      "    $binop_and_72.14 = $32compare_op.6 & $66compare_op.13 ['$32compare_op.6', '$66compare_op.13', '$binop_and_72.14']\n",
      "    $76return_value.15 = cast(value=$binop_and_72.14) ['$76return_value.15', '$binop_and_72.14']\n",
      "    return $76return_value.15                ['$76return_value.15']\n",
      "\n"
     ]
    }
   ],
   "source": [
    "p = np.angle(librosa.stft(y=SPSI_audio_p, n_fft=2048, hop_length=512, center=False))"
   ],
   "metadata": {
    "collapsed": false,
    "ExecuteTime": {
     "end_time": "2024-04-27T20:13:08.495817700Z",
     "start_time": "2024-04-27T20:13:08.264723200Z"
    }
   },
   "id": "7f90cc0951b66b26",
   "execution_count": 26
  },
  {
   "cell_type": "code",
   "outputs": [],
   "source": [
    "SPSI_GL_audio_p = griffin_lim(magnitude_spectrogram=mag_spec_p,\n",
    "                            n_fft=2048,\n",
    "                            hop_length=512,\n",
    "                            num_iterations=100,\n",
    "                            init_phase=p)"
   ],
   "metadata": {
    "collapsed": false,
    "ExecuteTime": {
     "end_time": "2024-04-27T20:13:08.627881800Z",
     "start_time": "2024-04-27T20:13:08.494818100Z"
    }
   },
   "id": "38f9ecd2d99c4690",
   "execution_count": 27
  },
  {
   "cell_type": "code",
   "outputs": [
    {
     "data": {
      "text/plain": "<IPython.lib.display.Audio object>",
      "text/html": "\n                <audio  controls=\"controls\" >\n                    <source src=\"data:audio/wav;base64,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\" type=\"audio/wav\" />\n                    Your browser does not support the audio element.\n                </audio>\n              "
     },
     "execution_count": 28,
     "metadata": {},
     "output_type": "execute_result"
    }
   ],
   "source": [
    "ipd.Audio(SPSI_GL_audio_p, rate=16000)"
   ],
   "metadata": {
    "collapsed": false,
    "ExecuteTime": {
     "end_time": "2024-04-27T20:13:08.762425600Z",
     "start_time": "2024-04-27T20:13:08.632881900Z"
    }
   },
   "id": "73e3e578d8e2ecc8",
   "execution_count": 28
  },
  {
   "cell_type": "code",
   "outputs": [],
   "source": [],
   "metadata": {
    "collapsed": false,
    "ExecuteTime": {
     "end_time": "2024-04-27T20:13:08.763442900Z",
     "start_time": "2024-04-27T20:13:08.759427300Z"
    }
   },
   "id": "77d3e3d31f299b29",
   "execution_count": 28
  }
 ],
 "metadata": {
  "kernelspec": {
   "display_name": "Python 3",
   "language": "python",
   "name": "python3"
  },
  "language_info": {
   "codemirror_mode": {
    "name": "ipython",
    "version": 2
   },
   "file_extension": ".py",
   "mimetype": "text/x-python",
   "name": "python",
   "nbconvert_exporter": "python",
   "pygments_lexer": "ipython2",
   "version": "2.7.6"
  }
 },
 "nbformat": 4,
 "nbformat_minor": 5
}
