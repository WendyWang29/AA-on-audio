{
 "cells": [
  {
   "cell_type": "markdown",
   "source": [
    "# Evaluations\n",
    "<br>\n",
    "Notebook for evaluating models."
   ],
   "metadata": {
    "collapsed": false
   },
   "id": "91985267f07d2d2f"
  },
  {
   "cell_type": "code",
   "outputs": [],
   "source": [
    "import torch\n",
    "from src.utils import *\n",
    "import sys\n",
    "import csv\n",
    "import re\n",
    "from sklearn.metrics import accuracy_score, balanced_accuracy_score, roc_curve, auc"
   ],
   "metadata": {
    "collapsed": false,
    "ExecuteTime": {
     "end_time": "2024-09-09T09:37:34.384078Z",
     "start_time": "2024-09-09T09:37:06.022790Z"
    }
   },
   "id": "f785e0f5498b313f",
   "execution_count": 1
  },
  {
   "cell_type": "code",
   "outputs": [],
   "source": [
    "probs_resnet_clean_csv = '../eval/prob_resnet_spec_eval.csv'\n",
    "probs_LCNN_clean_csv = '../eval/prob_LCNN_spec_eval.csv'\n",
    "probs_SENet_clean_csv = '../eval/prob_SENet_spec_eval.csv'\n",
    "\n",
    "probs_resnet_clean_mag_csv = '../eval/prob_ResNet_spec_eval_mag.csv'\n",
    "probs_SENet_clean_mag_csv = '../eval/prob_SENet_spec_eval_mag.csv'\n",
    "\n",
    "probs_resnet_clean = pd.read_csv(probs_resnet_clean_csv, header=0, engine='python')\n",
    "probs_LCNN_clean = pd.read_csv(probs_LCNN_clean_csv, header=0, engine='python')\n",
    "probs_SENet_clean = pd.read_csv(probs_SENet_clean_csv, header=0, engine='python')\n",
    "\n",
    "probs_resnet_clean_mag = pd.read_csv(probs_resnet_clean_mag_csv, header=0, engine='python')\n",
    "probs_SENet_clean_mag = pd.read_csv(probs_SENet_clean_mag_csv, header=0, engine='python')"
   ],
   "metadata": {
    "collapsed": false,
    "ExecuteTime": {
     "end_time": "2024-09-09T09:47:59.759218Z",
     "start_time": "2024-09-09T09:47:56.731090Z"
    }
   },
   "id": "aa113646bf9daa7a",
   "execution_count": 7
  },
  {
   "cell_type": "code",
   "outputs": [
    {
     "data": {
      "text/plain": "71237"
     },
     "execution_count": 8,
     "metadata": {},
     "output_type": "execute_result"
    }
   ],
   "source": [
    "len(probs_resnet_clean_mag)"
   ],
   "metadata": {
    "collapsed": false,
    "ExecuteTime": {
     "end_time": "2024-09-09T09:48:00.488262Z",
     "start_time": "2024-09-09T09:48:00.484923Z"
    }
   },
   "id": "be3a31768cea141f",
   "execution_count": 8
  },
  {
   "cell_type": "code",
   "outputs": [
    {
     "name": "stdout",
     "output_type": "stream",
     "text": [
      "OK. Lengths are the same: 71236\n"
     ]
    }
   ],
   "source": [
    "if len(probs_LCNN_clean) == len(probs_SENet_clean) == len(probs_resnet_clean_mag) == len(probs_SENet_clean_mag):\n",
    "    print(f'OK. Lengths are the same: {len(probs_resnet_clean_mag)-1}')\n",
    "else:\n",
    "    sys.exit('Not OK. Lengths are not the same')"
   ],
   "metadata": {
    "collapsed": false,
    "ExecuteTime": {
     "end_time": "2024-09-09T09:48:01.272195Z",
     "start_time": "2024-09-09T09:48:01.269016Z"
    }
   },
   "id": "c0dd75f2f365d2be",
   "execution_count": 9
  },
  {
   "cell_type": "code",
   "outputs": [],
   "source": [
    "# ground truth labels of the evaluation dataset (ASVSpoof2019)\n",
    "config_path_resnet = '../config/residualnet_train_config.yaml'\n",
    "config_resnet = read_yaml(config_path_resnet)\n",
    "df_eval = pd.read_csv(os.path.join('..', config_resnet['df_eval_path']))"
   ],
   "metadata": {
    "collapsed": false,
    "ExecuteTime": {
     "end_time": "2024-09-09T09:48:02.933580Z",
     "start_time": "2024-09-09T09:48:02.395315Z"
    }
   },
   "id": "a2d10fafabd060d4",
   "execution_count": 10
  },
  {
   "cell_type": "markdown",
   "source": [
    "***\n",
    "## Extract predicted labels in the same order as in df_eval_19"
   ],
   "metadata": {
    "collapsed": false
   },
   "id": "34a1632a2ee96a7e"
  },
  {
   "cell_type": "code",
   "outputs": [],
   "source": [
    "def extract_id(file_path):\n",
    "    match = re.search(r'LA_E_(\\d+)', file_path)\n",
    "    if match:\n",
    "        return match.group(1)\n",
    "    return None\n",
    "    \n",
    "    \n",
    "def pred_probabilities(file2_path):\n",
    "    # read df_eval_19\n",
    "    file1_path = '../data/df_eval_19.csv'\n",
    "    \n",
    "    file1_ids = []\n",
    "    with open(file1_path, 'r') as file1:\n",
    "        csv_reader = csv.reader(file1)\n",
    "        for row in csv_reader:\n",
    "            file_id = extract_id(row[1])\n",
    "            if file_id:\n",
    "                file1_ids.append(file_id)\n",
    "    \n",
    "    # read second file and store data in a dictionary\n",
    "    file2_data = {}\n",
    "    with open(file2_path, 'r') as file2:\n",
    "        csv_reader = csv.reader(file2)\n",
    "        for row in csv_reader:\n",
    "            file_id = extract_id(row[0])\n",
    "            if file_id:\n",
    "                file2_data[file_id] = (float(row[1]), float(row[2]))\n",
    "                \n",
    "    output_array = []\n",
    "    for file_id in file1_ids:\n",
    "        if file_id in file2_data:\n",
    "            col2, col3 = file2_data[file_id]\n",
    "            output_array.append(0 if col2>col3 else 1)\n",
    "                \n",
    "    return output_array"
   ],
   "metadata": {
    "collapsed": false,
    "ExecuteTime": {
     "end_time": "2024-09-09T09:48:04.510941Z",
     "start_time": "2024-09-09T09:48:04.504008Z"
    }
   },
   "id": "1f35687f4c947307",
   "execution_count": 11
  },
  {
   "cell_type": "markdown",
   "source": [
    "***\n",
    "## Accuracies on clean dataset"
   ],
   "metadata": {
    "collapsed": false
   },
   "id": "ae114b5dcb6d0705"
  },
  {
   "cell_type": "code",
   "outputs": [],
   "source": [
    "pred_labels_clean_resnet = pred_probabilities(file2_path=probs_resnet_clean_csv)\n",
    "pred_labels_clean_LCNN = pred_probabilities(file2_path=probs_LCNN_clean_csv)\n",
    "pred_labels_clean_SeNet = pred_probabilities(file2_path=probs_SENet_clean_csv)"
   ],
   "metadata": {
    "collapsed": false,
    "ExecuteTime": {
     "end_time": "2024-09-09T09:48:06.928493Z",
     "start_time": "2024-09-09T09:48:05.628511Z"
    }
   },
   "id": "e203e67c21a44914",
   "execution_count": 12
  },
  {
   "cell_type": "code",
   "outputs": [],
   "source": [
    "pred_labels_clean_mag_resnet = pred_probabilities(file2_path=probs_resnet_clean_mag_csv)\n",
    "pred_labels_clean_mag_SeNet = pred_probabilities(file2_path=probs_SENet_clean_mag_csv)"
   ],
   "metadata": {
    "collapsed": false,
    "ExecuteTime": {
     "end_time": "2024-09-09T09:48:07.914947Z",
     "start_time": "2024-09-09T09:48:06.929708Z"
    }
   },
   "id": "4833ee69e3845f4",
   "execution_count": 13
  },
  {
   "cell_type": "code",
   "outputs": [
    {
     "name": "stdout",
     "output_type": "stream",
     "text": [
      "71237\n"
     ]
    }
   ],
   "source": [
    "GT_labels = df_eval.iloc[:,-1].tolist()\n",
    "print(len(GT_labels))"
   ],
   "metadata": {
    "collapsed": false,
    "ExecuteTime": {
     "end_time": "2024-09-09T09:48:07.920363Z",
     "start_time": "2024-09-09T09:48:07.915924Z"
    }
   },
   "id": "488ef69172e97a7c",
   "execution_count": 14
  },
  {
   "cell_type": "markdown",
   "source": [
    "***\n",
    "## Unbalanced accuracies for ALL MODELS on clean dataset"
   ],
   "metadata": {
    "collapsed": false
   },
   "id": "bd221bb14da905aa"
  },
  {
   "cell_type": "code",
   "outputs": [
    {
     "name": "stdout",
     "output_type": "stream",
     "text": [
      "The unb.acc. for clean dataset for ResNet is 77.14%\n",
      "The unb.acc. for clean dataset for LCNN is 52.85%\n",
      "The unb.acc. for clean dataset for SENet is 82.80%\n",
      "\n",
      "The unb.acc. for clean dataset for ResNet (mag spec) is 88.26%\n",
      "The unb.acc. for clean dataset for SENet (mag spec) is 80.11%\n"
     ]
    }
   ],
   "source": [
    "UA_resnet_clean = accuracy_score(y_true=GT_labels, y_pred=pred_labels_clean_resnet)\n",
    "UA_LCNN_clean = accuracy_score(y_true=GT_labels, y_pred=pred_labels_clean_LCNN)\n",
    "UA_SeNet_clean = accuracy_score(y_true=GT_labels, y_pred=pred_labels_clean_SeNet)\n",
    "UA_resnet_clean_mag = accuracy_score(y_true=GT_labels, y_pred=pred_labels_clean_mag_resnet)\n",
    "UA_SeNet_clean_mag = accuracy_score(y_true=GT_labels, y_pred=pred_labels_clean_mag_SeNet)\n",
    "\n",
    "print(f'The unb.acc. for clean dataset for ResNet is {UA_resnet_clean*100:.2f}%\\n'\n",
    "      f'The unb.acc. for clean dataset for LCNN is {UA_LCNN_clean*100:.2f}%\\n'\n",
    "      f'The unb.acc. for clean dataset for SENet is {UA_SeNet_clean*100:.2f}%\\n\\n'\n",
    "      f'The unb.acc. for clean dataset for ResNet (mag spec) is {UA_resnet_clean_mag*100:.2f}%\\n'\n",
    "      f'The unb.acc. for clean dataset for SENet (mag spec) is {UA_SeNet_clean_mag*100:.2f}%')"
   ],
   "metadata": {
    "collapsed": false,
    "ExecuteTime": {
     "end_time": "2024-09-09T09:49:05.427651Z",
     "start_time": "2024-09-09T09:49:05.245497Z"
    }
   },
   "id": "99e1d3ec2f212709",
   "execution_count": 17
  },
  {
   "cell_type": "markdown",
   "source": [
    "***\n",
    "## Balanced accuracy for ALL MODELS on clean dataset"
   ],
   "metadata": {
    "collapsed": false
   },
   "id": "430a72350497bb6d"
  },
  {
   "cell_type": "code",
   "outputs": [
    {
     "name": "stdout",
     "output_type": "stream",
     "text": [
      "The balanced acc. for clean dataset for ResNet is 84.21%\n",
      "The balanced acc. for clean dataset for LCNN is 72.98%\n",
      "The balanced acc. for clean dataset for SENet is 88.35%\n",
      "\n",
      "The balanced acc. for clean dataset for ResNet (mag spec) is 90.52%\n",
      "The balanced acc. for clean dataset for SENet (mag spec) is 87.38%\n"
     ]
    }
   ],
   "source": [
    "BA_resnet_clean = balanced_accuracy_score(y_true=GT_labels, y_pred=pred_labels_clean_resnet)\n",
    "BA_LCNN_clean = balanced_accuracy_score(y_true=GT_labels, y_pred=pred_labels_clean_LCNN)\n",
    "BA_SeNet_clean = balanced_accuracy_score(y_true=GT_labels, y_pred=pred_labels_clean_SeNet)\n",
    "BA_resnet_clean_mag = balanced_accuracy_score(y_true=GT_labels, y_pred=pred_labels_clean_mag_resnet)\n",
    "BA_SeNet_clean_mag = balanced_accuracy_score(y_true=GT_labels, y_pred=pred_labels_clean_mag_SeNet)\n",
    "\n",
    "print(f'The balanced acc. for clean dataset for ResNet is {BA_resnet_clean*100:.2f}%\\n'\n",
    "      f'The balanced acc. for clean dataset for LCNN is {BA_LCNN_clean*100:.2f}%\\n'\n",
    "      f'The balanced acc. for clean dataset for SENet is {BA_SeNet_clean*100:.2f}%\\n\\n'\n",
    "      f'The balanced acc. for clean dataset for ResNet (mag spec) is {BA_resnet_clean_mag*100:.2f}%\\n'\n",
    "      f'The balanced acc. for clean dataset for SENet (mag spec) is {BA_SeNet_clean_mag*100:.2f}%')"
   ],
   "metadata": {
    "collapsed": false,
    "ExecuteTime": {
     "end_time": "2024-09-09T09:49:56.974574Z",
     "start_time": "2024-09-09T09:49:56.746285Z"
    }
   },
   "id": "cff153018fb2d73",
   "execution_count": 19
  },
  {
   "cell_type": "markdown",
   "source": [
    "***\n",
    "## Balanced accuracies of LCNN and SENet on FGSM attack performed with ResNet \n",
    "\n"
   ],
   "metadata": {
    "collapsed": false
   },
   "id": "90e80f6191fb959f"
  },
  {
   "cell_type": "code",
   "outputs": [],
   "source": [
    "def compute_and_print_bal_accuracy(values, model, attack, at_model, GT_labels, flag=None):\n",
    "    \n",
    "    for i in values:\n",
    "        if flag == None:\n",
    "            epsilon_str = str(i).replace('.', 'dot')\n",
    "            csv_file = f'../eval/prob_{model}_{attack}_{at_model}_{epsilon_str}.csv'\n",
    "            probs = pred_probabilities(file2_path=csv_file)\n",
    "            BA = balanced_accuracy_score(y_true=GT_labels, y_pred=probs)\n",
    "            print(f'Balanced accuracy for {model} on {attack} {at_model} for eps={i} is {BA*100:.2f}%')\n",
    "        elif flag == 'ResLow':\n",
    "            epsilon_str = str(i).replace('.', 'dot')\n",
    "            csv_file = f'../eval/prob_resnet_spec_eval_FGSM_{epsilon_str}.csv'\n",
    "            probs = pred_probabilities(file2_path=csv_file)\n",
    "            BA = balanced_accuracy_score(y_true=GT_labels, y_pred=probs)\n",
    "            print(f'Balanced accuracy for {model} on {attack} {at_model} for eps={i} is {BA*100:.2f}%')\n",
    "        elif flag == 'Res1':\n",
    "            epsilon_str = str(i).replace('.', 'dot')\n",
    "            csv_file = f'../eval/prob_{model}_{attack}_{at_model}_{epsilon_str}_1.csv'\n",
    "            probs = pred_probabilities(file2_path=csv_file)\n",
    "            BA = balanced_accuracy_score(y_true=GT_labels, y_pred=probs)\n",
    "            print(f'Balanced accuracy for {model} on {attack} {at_model} for eps={i} is {BA*100:.2f}%')\n",
    "        \n",
    "            \n",
    "    # if model == 'ResNet' and at_model == 'ResNet' and attack == 'FGSM':\n",
    "    #     for i in values:\n",
    "    #         epsilon_str = str(i).replace('.', 'dot')\n",
    "    #         csv_file = f'../eval/prob_resnet_spec_eval_FGSM_{epsilon_str}.csv'\n",
    "    #         probs = pred_probabilities(file2_path=csv_file)\n",
    "    #         BA = balanced_accuracy_score(y_true=GT_labels, y_pred=probs)\n",
    "    #     \n",
    "    #         print(f'Balanced accuracy for {model} on {attack} {at_model} for eps={i} is {BA*100:.2f}%')\n",
    "    # else:\n",
    "    #     for i in values:\n",
    "    #         epsilon_str = str(i).replace('.', 'dot')\n",
    "    #         csv_file = f'../eval/prob_{model}_{attack}_{at_model}_{epsilon_str}.csv'\n",
    "    #         probs = pred_probabilities(file2_path=csv_file)\n",
    "    #         probs = pred_probabilities(file2_path=csv_file)\n",
    "    #         BA = balanced_accuracy_score(y_true=GT_labels, y_pred=probs)\n",
    "    #         print(f'Balanced accuracy for {model} on {attack} {at_model} for eps={i} is {BA*100:.2f}%')\n",
    "    \n",
    "def compute_and_print_unbal_accuracy(values, model, attack, at_model, GT_labels):\n",
    "    for i in values:\n",
    "        epsilon_str = str(i).replace('.', 'dot')\n",
    "        csv_file = f'../eval/prob_{model}_{attack}_{at_model}_{epsilon_str}.csv'\n",
    "        probs = pred_probabilities(file2_path=csv_file)\n",
    "        probs = pred_probabilities(file2_path=csv_file)\n",
    "        A = accuracy_score(y_true=GT_labels, y_pred=probs)\n",
    "        print(f'Unbalanced accuracy for {model} on {attack} {at_model} for eps={i} is {A*100:.2f}%')\n",
    "    \n",
    "    \n",
    "    # if model != 'ResNet':\n",
    "    #     for i in values:\n",
    "    #         epsilon_str = str(i).replace('.', 'dot')\n",
    "    #         csv_file = f'../eval/prob_{model}_{attack}_{at_model}_{epsilon_str}.csv'\n",
    "    #         probs = pred_probabilities(file2_path=csv_file)\n",
    "    #         UBA = accuracy_score(y_true=GT_labels, y_pred=probs)\n",
    "    #     \n",
    "    #         print(f'Unbalanced accuracy for {model} on {attack} {at_model} for eps={i} is {UBA*100:.2f}%')\n",
    "    # elif model == 'ResNet' and at_model == 'ResNet':\n",
    "    #     for i in values:\n",
    "    #         epsilon_str = str(i).replace('.', 'dot')\n",
    "    #         csv_file = f'../eval/prob_resnet_spec_eval_{attack}_{epsilon_str}.csv'\n",
    "    #         probs = pred_probabilities(file2_path=csv_file)\n",
    "    #         UBA = accuracy_score(y_true=GT_labels, y_pred=probs)\n",
    "    #     \n",
    "    #         print(f'Balanced accuracy for {model} on {attack} {at_model} for eps={i} is {UBA*100:.2f}%')\n",
    "    # elif model == 'ResNet' and at_model == 'SENet':\n",
    "    #     for i in values:\n",
    "    #         epsilon_str = str(i).replace('.', 'dot')\n",
    "    #         csv_file = f'../eval/prob_ResNet_{attack}_{at_model}_{epsilon_str}.csv'\n",
    "    #         probs = pred_probabilities(file2_path=csv_file)\n",
    "    #         probs = pred_probabilities(file2_path=csv_file)\n",
    "    #         UBA = accuracy_score(y_true=GT_labels, y_pred=probs)\n",
    "    #         print(f'Balanced accuracy for {model} on {attack} {at_model} for eps={i} is {UBA*100:.2f}%')\n",
    "    # \n",
    "    # else:\n",
    "    #     print('TODO')    \n",
    "    "
   ],
   "metadata": {
    "collapsed": false,
    "ExecuteTime": {
     "end_time": "2024-08-21T08:59:55.416572Z",
     "start_time": "2024-08-21T08:59:55.385122Z"
    }
   },
   "id": "1dd8e9a4980c7c02",
   "execution_count": 1
  },
  {
   "cell_type": "code",
   "outputs": [
    {
     "name": "stdout",
     "output_type": "stream",
     "text": [
      "Balanced accuracy for ResNet on FGSM ResNet for eps=0.2 is 77.53%\n",
      "Balanced accuracy for ResNet on FGSM ResNet for eps=0.4 is 70.05%\n",
      "Balanced accuracy for ResNet on FGSM ResNet for eps=0.6 is 62.14%\n",
      "Balanced accuracy for ResNet on FGSM ResNet for eps=0.8 is 53.36%\n",
      "Balanced accuracy for ResNet on FGSM ResNet for eps=1.0 is 43.81%\n",
      "Balanced accuracy for ResNet on FGSM ResNet for eps=2.0 is 13.89%\n",
      "Balanced accuracy for ResNet on FGSM ResNet for eps=3.0 is 6.63%\n"
     ]
    }
   ],
   "source": [
    "compute_and_print_bal_accuracy([0.2, 0.4, 0.6, 0.8, 1.0, 2.0, 3.0], 'ResNet', 'FGSM', 'ResNet', GT_labels, flag='ResLow')"
   ],
   "metadata": {
    "collapsed": false,
    "ExecuteTime": {
     "end_time": "2024-08-20T09:42:20.059765Z",
     "start_time": "2024-08-20T09:42:18.182795Z"
    }
   },
   "id": "1d46b5646cdc0d4",
   "execution_count": 12
  },
  {
   "cell_type": "code",
   "outputs": [
    {
     "name": "stdout",
     "output_type": "stream",
     "text": [
      "Balanced accuracy for LCNN on FGSM ResNet for eps=0.2 is 69.04%\n",
      "Balanced accuracy for LCNN on FGSM ResNet for eps=0.4 is 68.48%\n",
      "Balanced accuracy for LCNN on FGSM ResNet for eps=0.6 is 67.94%\n",
      "Balanced accuracy for LCNN on FGSM ResNet for eps=0.8 is 67.41%\n",
      "Balanced accuracy for LCNN on FGSM ResNet for eps=1.0 is 66.91%\n",
      "Balanced accuracy for LCNN on FGSM ResNet for eps=2.0 is 64.53%\n",
      "Balanced accuracy for LCNN on FGSM ResNet for eps=3.0 is 62.24%\n"
     ]
    }
   ],
   "source": [
    "compute_and_print_bal_accuracy([0.2, 0.4, 0.6, 0.8, 1.0, 2.0, 3.0], 'LCNN', 'FGSM', 'ResNet', GT_labels)"
   ],
   "metadata": {
    "collapsed": false,
    "ExecuteTime": {
     "end_time": "2024-08-20T09:42:22.017674Z",
     "start_time": "2024-08-20T09:42:20.060695Z"
    }
   },
   "id": "ee58031fd00288df",
   "execution_count": 13
  },
  {
   "cell_type": "code",
   "outputs": [
    {
     "name": "stdout",
     "output_type": "stream",
     "text": [
      "Balanced accuracy for SENet on FGSM ResNet for eps=0.2 is 88.00%\n",
      "Balanced accuracy for SENet on FGSM ResNet for eps=0.4 is 87.56%\n",
      "Balanced accuracy for SENet on FGSM ResNet for eps=0.6 is 87.10%\n",
      "Balanced accuracy for SENet on FGSM ResNet for eps=0.8 is 86.54%\n",
      "Balanced accuracy for SENet on FGSM ResNet for eps=1.0 is 85.89%\n",
      "Balanced accuracy for SENet on FGSM ResNet for eps=2.0 is 83.29%\n",
      "Balanced accuracy for SENet on FGSM ResNet for eps=3.0 is 80.79%\n"
     ]
    }
   ],
   "source": [
    "compute_and_print_bal_accuracy([0.2, 0.4, 0.6, 0.8, 1.0, 2.0, 3.0], 'SENet', 'FGSM', 'ResNet', GT_labels)"
   ],
   "metadata": {
    "collapsed": false,
    "ExecuteTime": {
     "end_time": "2024-08-20T09:42:23.849444Z",
     "start_time": "2024-08-20T09:42:22.018490Z"
    }
   },
   "id": "782f78098db8ce4c",
   "execution_count": 14
  },
  {
   "cell_type": "markdown",
   "source": [
    "***\n",
    "## SENet FGSM attack\n"
   ],
   "metadata": {
    "collapsed": false
   },
   "id": "8007631fafcc574b"
  },
  {
   "cell_type": "code",
   "outputs": [
    {
     "name": "stdout",
     "output_type": "stream",
     "text": [
      "Balanced accuracy for SENet on FGSM SENet for eps=0.2 is 87.04%\n",
      "Balanced accuracy for SENet on FGSM SENet for eps=1.0 is 80.19%\n",
      "Balanced accuracy for SENet on FGSM SENet for eps=2.0 is 71.97%\n",
      "Balanced accuracy for SENet on FGSM SENet for eps=3.0 is 65.29%\n"
     ]
    }
   ],
   "source": [
    "compute_and_print_bal_accuracy([0.2, 1.0, 2.0, 3.0], 'SENet', 'FGSM', 'SENet', GT_labels)"
   ],
   "metadata": {
    "collapsed": false,
    "ExecuteTime": {
     "end_time": "2024-08-20T18:33:08.224353Z",
     "start_time": "2024-08-20T18:33:06.502545Z"
    }
   },
   "id": "e29cb1b5db2c3f2c",
   "execution_count": 9
  },
  {
   "cell_type": "markdown",
   "source": [
    "***\n",
    "## SENet FGSM UNCUT attack"
   ],
   "metadata": {
    "collapsed": false
   },
   "id": "ebff967a3e4838c5"
  },
  {
   "cell_type": "code",
   "outputs": [
    {
     "name": "stdout",
     "output_type": "stream",
     "text": [
      "Balanced accuracy for SENet on FGSM_UNCUT SENet for eps=1.0 is 79.24%\n",
      "Balanced accuracy for SENet on FGSM_UNCUT SENet for eps=2.0 is 70.04%\n",
      "Balanced accuracy for SENet on FGSM_UNCUT SENet for eps=3.0 is 62.76%\n",
      "Unbalanced accuracy for SENet on FGSM_UNCUT SENet for eps=1.0 is 70.26%\n",
      "Unbalanced accuracy for SENet on FGSM_UNCUT SENet for eps=2.0 is 59.52%\n",
      "Unbalanced accuracy for SENet on FGSM_UNCUT SENet for eps=3.0 is 52.61%\n"
     ]
    }
   ],
   "source": [
    "compute_and_print_bal_accuracy([1.0, 2.0, 3.0], 'SENet', 'FGSM_UNCUT', 'SENet', GT_labels)\n",
    "compute_and_print_unbal_accuracy([1.0, 2.0, 3.0], 'SENet', 'FGSM_UNCUT', 'SENet', GT_labels)"
   ],
   "metadata": {
    "collapsed": false,
    "ExecuteTime": {
     "end_time": "2024-08-20T18:34:54.957343Z",
     "start_time": "2024-08-20T18:34:52.872426Z"
    }
   },
   "id": "360fdb05ffc7cd1b",
   "execution_count": 12
  },
  {
   "cell_type": "markdown",
   "source": [
    "***\n",
    "## Transferability of SENet FGSM on ResNet"
   ],
   "metadata": {
    "collapsed": false
   },
   "id": "13923b2d05329bee"
  },
  {
   "cell_type": "code",
   "outputs": [
    {
     "name": "stdout",
     "output_type": "stream",
     "text": [
      "Balanced accuracy for ResNet on FGSM SENet for eps=1.0 is 83.91%\n",
      "Balanced accuracy for ResNet on FGSM SENet for eps=2.0 is 83.32%\n",
      "Balanced accuracy for ResNet on FGSM SENet for eps=3.0 is 82.65%\n"
     ]
    }
   ],
   "source": [
    "compute_and_print_bal_accuracy([1.0, 2.0, 3.0], 'ResNet', 'FGSM', 'SENet', GT_labels)"
   ],
   "metadata": {
    "collapsed": false,
    "ExecuteTime": {
     "end_time": "2024-08-20T18:49:10.307741Z",
     "start_time": "2024-08-20T18:49:09.373065Z"
    }
   },
   "id": "4e16dc12df4c48de",
   "execution_count": 16
  },
  {
   "cell_type": "markdown",
   "source": [
    "## Transferability of SENet FGSM on LCNN"
   ],
   "metadata": {
    "collapsed": false
   },
   "id": "b545de1369b4de19"
  },
  {
   "cell_type": "code",
   "outputs": [
    {
     "name": "stdout",
     "output_type": "stream",
     "text": [
      "Balanced accuracy for LCNN on FGSM SENet for eps=1.0 is 69.07%\n"
     ]
    }
   ],
   "source": [
    "compute_and_print_bal_accuracy([1.0], 'LCNN', 'FGSM', 'SENet', GT_labels)"
   ],
   "metadata": {
    "collapsed": false,
    "ExecuteTime": {
     "end_time": "2024-08-20T11:22:08.607976Z",
     "start_time": "2024-08-20T11:22:08.118671Z"
    }
   },
   "id": "3e9ed09ecee410fa",
   "execution_count": 25
  },
  {
   "cell_type": "markdown",
   "source": [
    "***\n",
    "## Transferability of LCNN FGSM on ResNet"
   ],
   "metadata": {
    "collapsed": false
   },
   "id": "3f460390abcfc06e"
  },
  {
   "cell_type": "code",
   "outputs": [
    {
     "name": "stdout",
     "output_type": "stream",
     "text": [
      "Balanced accuracy for ResNet on FGSM LCNN for eps=2.0 is 82.96%\n",
      "Balanced accuracy for ResNet on FGSM LCNN for eps=3.0 is 82.18%\n"
     ]
    }
   ],
   "source": [
    "compute_and_print_bal_accuracy([2.0, 3.0], 'ResNet', 'FGSM', 'LCNN', GT_labels)"
   ],
   "metadata": {
    "collapsed": false,
    "ExecuteTime": {
     "end_time": "2024-08-20T11:21:05.986675Z",
     "start_time": "2024-08-20T11:21:05.074943Z"
    }
   },
   "id": "f99a1fa8b2eb6137",
   "execution_count": 22
  },
  {
   "cell_type": "markdown",
   "source": [
    "## Transferability of LCNN FGSM on SENet"
   ],
   "metadata": {
    "collapsed": false
   },
   "id": "d5de24dfd91bb8b0"
  },
  {
   "cell_type": "code",
   "outputs": [
    {
     "name": "stdout",
     "output_type": "stream",
     "text": [
      "Balanced accuracy for SENet on FGSM LCNN for eps=2.0 is 86.34%\n"
     ]
    }
   ],
   "source": [
    "compute_and_print_bal_accuracy([2.0], 'SENet', 'FGSM', 'LCNN', GT_labels)"
   ],
   "metadata": {
    "collapsed": false,
    "ExecuteTime": {
     "end_time": "2024-08-20T11:21:31.117943Z",
     "start_time": "2024-08-20T11:21:30.656694Z"
    }
   },
   "id": "56c52aa42af3f08f",
   "execution_count": 24
  },
  {
   "cell_type": "markdown",
   "source": [
    "***\n",
    "## FGSM on LCNN"
   ],
   "metadata": {
    "collapsed": false
   },
   "id": "d3b1256ab1d3a610"
  },
  {
   "cell_type": "code",
   "outputs": [
    {
     "name": "stdout",
     "output_type": "stream",
     "text": [
      "Balanced accuracy for LCNN on FGSM LCNN for eps=2.0 is 66.75%\n",
      "Balanced accuracy for LCNN on FGSM LCNN for eps=3.0 is 65.65%\n"
     ]
    }
   ],
   "source": [
    "compute_and_print_bal_accuracy([2.0, 3.0], 'LCNN', 'FGSM', 'LCNN', GT_labels)"
   ],
   "metadata": {
    "collapsed": false,
    "ExecuteTime": {
     "end_time": "2024-08-20T11:22:27.298419Z",
     "start_time": "2024-08-20T11:22:26.278483Z"
    }
   },
   "id": "ea7162602b82eae0",
   "execution_count": 26
  },
  {
   "cell_type": "markdown",
   "source": [
    "***\n",
    "# FGSM (double test) on ResNet\n",
    "Basically I re-run the FGSM attack using the same code I used for LCNN and SENet because with those two models I was getting low success rates."
   ],
   "metadata": {
    "collapsed": false
   },
   "id": "85a6951c9b52fe32"
  },
  {
   "cell_type": "code",
   "outputs": [
    {
     "name": "stdout",
     "output_type": "stream",
     "text": [
      "Balanced accuracy for ResNet on FGSM ResNet for eps=1.0 is 41.51%\n"
     ]
    }
   ],
   "source": [
    "compute_and_print_unbal_accuracy([1.0,], 'ResNet', 'FGSM', 'ResNet', GT_labels)\n",
    "# with 1.0 but you have to add a _1 to the csv name"
   ],
   "metadata": {
    "collapsed": false,
    "ExecuteTime": {
     "end_time": "2024-08-20T15:36:07.311659Z",
     "start_time": "2024-08-20T15:36:05.698858Z"
    }
   },
   "id": "bb98ad896213c686",
   "execution_count": 15
  },
  {
   "cell_type": "code",
   "outputs": [
    {
     "name": "stdout",
     "output_type": "stream",
     "text": [
      "Balanced accuracy for ResNet on FGSM ResNet for eps=2.0 is 22.92%\n",
      "Balanced accuracy for ResNet on FGSM ResNet for eps=3.0 is 11.86%\n"
     ]
    }
   ],
   "source": [
    "compute_and_print_unbal_accuracy([2.0, 3.0], 'ResNet', 'FGSM', 'ResNet', GT_labels)"
   ],
   "metadata": {
    "collapsed": false,
    "ExecuteTime": {
     "end_time": "2024-08-20T15:48:51.847843Z",
     "start_time": "2024-08-20T15:48:50.684876Z"
    }
   },
   "id": "a75a2fc9d8b761a1",
   "execution_count": 19
  },
  {
   "cell_type": "code",
   "outputs": [],
   "source": [],
   "metadata": {
    "collapsed": false
   },
   "id": "9e2c44524d97bd35"
  },
  {
   "cell_type": "markdown",
   "source": [
    "***\n",
    "## FGSM uncut on LCNN"
   ],
   "metadata": {
    "collapsed": false
   },
   "id": "58d591b126b966e3"
  },
  {
   "cell_type": "code",
   "outputs": [
    {
     "name": "stdout",
     "output_type": "stream",
     "text": [
      "Balanced accuracy for LCNN on FGSM_UNCUT LCNN for eps=3.0 is 65.81%\n"
     ]
    }
   ],
   "source": [
    "compute_and_print_bal_accuracy([3.0], 'LCNN', 'FGSM_UNCUT', 'LCNN', GT_labels)"
   ],
   "metadata": {
    "collapsed": false,
    "ExecuteTime": {
     "end_time": "2024-08-20T09:42:29.032551Z",
     "start_time": "2024-08-20T09:42:28.777051Z"
    }
   },
   "id": "840cd4a60e51eca5",
   "execution_count": 21
  },
  {
   "cell_type": "markdown",
   "source": [
    "***\n",
    "## BIM classic (no grad cut, yes audio cut) on SENet"
   ],
   "metadata": {
    "collapsed": false
   },
   "id": "ec1c0b7b13aae867"
  },
  {
   "cell_type": "code",
   "outputs": [
    {
     "name": "stdout",
     "output_type": "stream",
     "text": [
      "Balanced accuracy for SENet on BIM SENet for eps=1.0 is 85.27%\n"
     ]
    }
   ],
   "source": [
    "compute_and_print_bal_accuracy([1.0], 'SENet', 'BIM', 'SENet', GT_labels)"
   ],
   "metadata": {
    "collapsed": false,
    "ExecuteTime": {
     "end_time": "2024-08-20T11:22:40.780804Z",
     "start_time": "2024-08-20T11:22:40.229311Z"
    }
   },
   "id": "6ba289527b33a3ad",
   "execution_count": 27
  },
  {
   "cell_type": "code",
   "outputs": [],
   "source": [],
   "metadata": {
    "collapsed": false
   },
   "id": "9de4d52cece84cf2"
  }
 ],
 "metadata": {
  "kernelspec": {
   "display_name": "Python 3",
   "language": "python",
   "name": "python3"
  },
  "language_info": {
   "codemirror_mode": {
    "name": "ipython",
    "version": 2
   },
   "file_extension": ".py",
   "mimetype": "text/x-python",
   "name": "python",
   "nbconvert_exporter": "python",
   "pygments_lexer": "ipython2",
   "version": "2.7.6"
  }
 },
 "nbformat": 4,
 "nbformat_minor": 5
}
