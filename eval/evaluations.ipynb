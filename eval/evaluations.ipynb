{
 "cells": [
  {
   "cell_type": "markdown",
   "source": [
    "# Evaluation\n",
    "<br>\n",
    "Notebook for evaluating models."
   ],
   "metadata": {
    "collapsed": false
   },
   "id": "91985267f07d2d2f"
  },
  {
   "cell_type": "code",
   "outputs": [],
   "source": [
    "import torch\n",
    "from src.utils import *\n",
    "import sys\n",
    "import csv\n",
    "import re\n",
    "from sklearn.metrics import accuracy_score, balanced_accuracy_score, roc_curve, auc"
   ],
   "metadata": {
    "collapsed": false,
    "ExecuteTime": {
     "end_time": "2024-08-17T19:57:39.542422Z",
     "start_time": "2024-08-17T19:57:39.536492Z"
    }
   },
   "id": "f785e0f5498b313f",
   "execution_count": 17
  },
  {
   "cell_type": "code",
   "outputs": [
    {
     "name": "stdout",
     "output_type": "stream",
     "text": [
      "OK. Lengths are the same: 71236\n"
     ]
    }
   ],
   "source": [
    "probs_resnet_clean_csv = '../eval/prob_resnet_spec_eval.csv'\n",
    "probs_LCNN_clean_csv = '../eval/prob_LCNN_spec_eval.csv'\n",
    "probs_SENet_clean_csv = '../eval/prob_SENet_spec_eval.csv'\n",
    "\n",
    "probs_resnet_clean = pd.read_csv(probs_resnet_clean_csv, header=0, engine='python')\n",
    "probs_LCNN_clean = pd.read_csv(probs_LCNN_clean_csv, header=0, engine='python')\n",
    "probs_SENet_clean = pd.read_csv(probs_SENet_clean_csv, header=0, engine='python')\n",
    "\n",
    "if len(probs_resnet_clean) == len(probs_LCNN_clean) == len(probs_SENet_clean):\n",
    "    print(f'OK. Lengths are the same: {len(probs_resnet_clean)-1}')\n",
    "else:\n",
    "    sys.exit('Not OK. Lengths are not the same')\n"
   ],
   "metadata": {
    "collapsed": false,
    "ExecuteTime": {
     "end_time": "2024-08-17T19:57:40.429964Z",
     "start_time": "2024-08-17T19:57:39.592297Z"
    }
   },
   "id": "aa113646bf9daa7a",
   "execution_count": 18
  },
  {
   "cell_type": "code",
   "outputs": [],
   "source": [
    "# ground truth labels of the evaluation dataset (ASVSpoof2019)\n",
    "config_path_resnet = '../config/residualnet_train_config.yaml'\n",
    "config_resnet = read_yaml(config_path_resnet)\n",
    "df_eval = pd.read_csv(os.path.join('..', config_resnet['df_eval_path']))"
   ],
   "metadata": {
    "collapsed": false,
    "ExecuteTime": {
     "end_time": "2024-08-17T19:57:40.503336Z",
     "start_time": "2024-08-17T19:57:40.431198Z"
    }
   },
   "id": "a2d10fafabd060d4",
   "execution_count": 19
  },
  {
   "cell_type": "markdown",
   "source": [
    "***\n",
    "## Extract predicted labels in the same order as in df_eval_19"
   ],
   "metadata": {
    "collapsed": false
   },
   "id": "34a1632a2ee96a7e"
  },
  {
   "cell_type": "code",
   "outputs": [],
   "source": [
    "def extract_id(file_path):\n",
    "    match = re.search(r'LA_E_(\\d+)', file_path)\n",
    "    if match:\n",
    "        return match.group(1)\n",
    "    return None\n",
    "    \n",
    "    \n",
    "def pred_probabilities(file2_path):\n",
    "    # read df_eval_19\n",
    "    file1_path = '../data/df_eval_19.csv'\n",
    "    \n",
    "    file1_ids = []\n",
    "    with open(file1_path, 'r') as file1:\n",
    "        csv_reader = csv.reader(file1)\n",
    "        for row in csv_reader:\n",
    "            file_id = extract_id(row[1])\n",
    "            if file_id:\n",
    "                file1_ids.append(file_id)\n",
    "    \n",
    "    # read second file and store data in a dictionary\n",
    "    file2_data = {}\n",
    "    with open(file2_path, 'r') as file2:\n",
    "        csv_reader = csv.reader(file2)\n",
    "        for row in csv_reader:\n",
    "            file_id = extract_id(row[0])\n",
    "            if file_id:\n",
    "                file2_data[file_id] = (float(row[1]), float(row[2]))\n",
    "                \n",
    "    output_array = []\n",
    "    for file_id in file1_ids:\n",
    "        if file_id in file2_data:\n",
    "            col2, col3 = file2_data[file_id]\n",
    "            output_array.append(0 if col2>col3 else 1)\n",
    "                \n",
    "    return output_array"
   ],
   "metadata": {
    "collapsed": false,
    "ExecuteTime": {
     "end_time": "2024-08-17T19:57:40.515974Z",
     "start_time": "2024-08-17T19:57:40.504222Z"
    }
   },
   "id": "1f35687f4c947307",
   "execution_count": 20
  },
  {
   "cell_type": "markdown",
   "source": [
    "***\n",
    "## Accuracies on clean dataset"
   ],
   "metadata": {
    "collapsed": false
   },
   "id": "ae114b5dcb6d0705"
  },
  {
   "cell_type": "code",
   "outputs": [],
   "source": [
    "pred_labels_clean_resnet = pred_probabilities(file2_path=probs_resnet_clean_csv)\n",
    "pred_labels_clean_LCNN = pred_probabilities(file2_path=probs_LCNN_clean_csv)\n",
    "pred_labels_clean_SeNet = pred_probabilities(file2_path=probs_SENet_clean_csv)"
   ],
   "metadata": {
    "collapsed": false,
    "ExecuteTime": {
     "end_time": "2024-08-17T19:57:41.254017Z",
     "start_time": "2024-08-17T19:57:40.517528Z"
    }
   },
   "id": "e203e67c21a44914",
   "execution_count": 21
  },
  {
   "cell_type": "code",
   "outputs": [
    {
     "name": "stdout",
     "output_type": "stream",
     "text": [
      "71237\n"
     ]
    }
   ],
   "source": [
    "GT_labels = df_eval.iloc[:,-1].tolist()\n",
    "print(len(GT_labels))"
   ],
   "metadata": {
    "collapsed": false,
    "ExecuteTime": {
     "end_time": "2024-08-17T19:57:41.258053Z",
     "start_time": "2024-08-17T19:57:41.254914Z"
    }
   },
   "id": "488ef69172e97a7c",
   "execution_count": 22
  },
  {
   "cell_type": "markdown",
   "source": [
    "***\n",
    "## Unbalanced accuracies on clean dataset"
   ],
   "metadata": {
    "collapsed": false
   },
   "id": "bd221bb14da905aa"
  },
  {
   "cell_type": "code",
   "outputs": [
    {
     "name": "stdout",
     "output_type": "stream",
     "text": [
      "The unb.acc. for clean dataset for ResNet is 77.14%\n",
      "The unb.acc. for clean dataset for LCNN is 52.85%\n",
      "The unb.acc. for clean dataset for SENet is 82.80%\n"
     ]
    }
   ],
   "source": [
    "UA_resnet_clean = accuracy_score(y_true=GT_labels, y_pred=pred_labels_clean_resnet)\n",
    "UA_LCNN_clean = accuracy_score(y_true=GT_labels, y_pred=pred_labels_clean_LCNN)\n",
    "UA_SeNet_clean = accuracy_score(y_true=GT_labels, y_pred=pred_labels_clean_SeNet)\n",
    "\n",
    "print(f'The unb.acc. for clean dataset for ResNet is {UA_resnet_clean*100:.2f}%\\n'\n",
    "      f'The unb.acc. for clean dataset for LCNN is {UA_LCNN_clean*100:.2f}%\\n'\n",
    "      f'The unb.acc. for clean dataset for SENet is {UA_SeNet_clean*100:.2f}%\\n')"
   ],
   "metadata": {
    "collapsed": false,
    "ExecuteTime": {
     "end_time": "2024-08-17T19:57:41.449617Z",
     "start_time": "2024-08-17T19:57:41.258736Z"
    }
   },
   "id": "99e1d3ec2f212709",
   "execution_count": 23
  },
  {
   "cell_type": "markdown",
   "source": [
    "***\n",
    "## Balanced accuracy for LCNN and SENet on clean dataset"
   ],
   "metadata": {
    "collapsed": false
   },
   "id": "430a72350497bb6d"
  },
  {
   "cell_type": "code",
   "outputs": [
    {
     "name": "stdout",
     "output_type": "stream",
     "text": [
      "The balanced acc. for clean dataset for ResNet is 84.21%\n",
      "The balanced acc. for clean dataset for LCNN is 72.98%\n",
      "The balanced acc. for clean dataset for SENet is 88.35%\n"
     ]
    }
   ],
   "source": [
    "BA_resnet_clean = balanced_accuracy_score(y_true=GT_labels, y_pred=pred_labels_clean_resnet)\n",
    "BA_LCNN_clean = balanced_accuracy_score(y_true=GT_labels, y_pred=pred_labels_clean_LCNN)\n",
    "BA_SeNet_clean = balanced_accuracy_score(y_true=GT_labels, y_pred=pred_labels_clean_SeNet)\n",
    "\n",
    "print(f'The balanced acc. for clean dataset for ResNet is {BA_resnet_clean*100:.2f}%\\n'\n",
    "      f'The balanced acc. for clean dataset for LCNN is {BA_LCNN_clean*100:.2f}%\\n'\n",
    "      f'The balanced acc. for clean dataset for SENet is {BA_SeNet_clean*100:.2f}%\\n')"
   ],
   "metadata": {
    "collapsed": false,
    "ExecuteTime": {
     "end_time": "2024-08-17T19:57:41.544806Z",
     "start_time": "2024-08-17T19:57:41.450497Z"
    }
   },
   "id": "cff153018fb2d73",
   "execution_count": 24
  },
  {
   "cell_type": "markdown",
   "source": [
    "***\n",
    "## Balanced accuracies of LCNN and SENet on FGSM attack performed with ResNet \n"
   ],
   "metadata": {
    "collapsed": false
   },
   "id": "90e80f6191fb959f"
  },
  {
   "cell_type": "code",
   "outputs": [],
   "source": [
    "def compute_and_print_bal_accuracy(values, model, attack, at_model, GT_labels):\n",
    "    if model != 'ResNet':\n",
    "        for i in values:\n",
    "            epsilon_str = str(i).replace('.', 'dot')\n",
    "            csv_file = f'../eval/prob_{model}_{attack}_{at_model}_{epsilon_str}.csv'\n",
    "            probs = pred_probabilities(file2_path=csv_file)\n",
    "            BA = balanced_accuracy_score(y_true=GT_labels, y_pred=probs)\n",
    "        \n",
    "            print(f'Balanced accuracy for {model} on {attack} {at_model} for eps={i} is {BA*100:.2f}%')\n",
    "    elif model == 'ResNet' and at_model == 'ResNet':\n",
    "        for i in values:\n",
    "            epsilon_str = str(i).replace('.', 'dot')\n",
    "            csv_file = f'../eval/prob_resnet_spec_eval_{attack}_{epsilon_str}.csv'\n",
    "            probs = pred_probabilities(file2_path=csv_file)\n",
    "            BA = balanced_accuracy_score(y_true=GT_labels, y_pred=probs)\n",
    "        \n",
    "            print(f'Balanced accuracy for {model} on {attack} {at_model} for eps={i} is {BA*100:.2f}%')\n",
    "    elif model == 'ResNet' and at_model == 'SENet':\n",
    "        for i in values:\n",
    "            epsilon_str = str(i).replace('.', 'dot')\n",
    "            csv_file = f'../eval/prob_ResNet_{attack}_{at_model}_{epsilon_str}.csv'\n",
    "            probs = pred_probabilities(file2_path=csv_file)\n",
    "            probs = pred_probabilities(file2_path=csv_file)\n",
    "            BA = balanced_accuracy_score(y_true=GT_labels, y_pred=probs)\n",
    "            print(f'Balanced accuracy for {model} on {attack} {at_model} for eps={i} is {BA*100:.2f}%')\n",
    "    elif model == 'LCNN' and at_model == 'LCNN':\n",
    "        for i in values:\n",
    "            epsilon_str = str(i).replace('.', 'dot')\n",
    "            csv_file = f'../eval/prob_LCNN_{attack}_{at_model}_{epsilon_str}.csv'\n",
    "            probs = pred_probabilities(file2_path=csv_file)\n",
    "            probs = pred_probabilities(file2_path=csv_file)\n",
    "            BA = balanced_accuracy_score(y_true=GT_labels, y_pred=probs)\n",
    "            print(f'Balanced accuracy for {model} on {attack} {at_model} for eps={i} is {BA*100:.2f}%')\n",
    "    else:\n",
    "        print('TODO')\n",
    "    \n",
    "    \n",
    "    "
   ],
   "metadata": {
    "collapsed": false,
    "ExecuteTime": {
     "end_time": "2024-08-17T19:57:41.567160Z",
     "start_time": "2024-08-17T19:57:41.545782Z"
    }
   },
   "id": "1dd8e9a4980c7c02",
   "execution_count": 25
  },
  {
   "cell_type": "code",
   "outputs": [
    {
     "name": "stdout",
     "output_type": "stream",
     "text": [
      "Balanced accuracy for ResNet on FGSM ResNet for eps=0.2 is 77.53%\n",
      "Balanced accuracy for ResNet on FGSM ResNet for eps=1.0 is 43.81%\n",
      "Balanced accuracy for ResNet on FGSM ResNet for eps=2.0 is 13.89%\n"
     ]
    }
   ],
   "source": [
    "compute_and_print_bal_accuracy([0.2, 1.0, 2.0], 'ResNet', 'FGSM', 'ResNet', GT_labels)"
   ],
   "metadata": {
    "collapsed": false,
    "ExecuteTime": {
     "end_time": "2024-08-17T19:57:42.556686Z",
     "start_time": "2024-08-17T19:57:41.568214Z"
    }
   },
   "id": "1d46b5646cdc0d4",
   "execution_count": 26
  },
  {
   "cell_type": "code",
   "outputs": [
    {
     "name": "stdout",
     "output_type": "stream",
     "text": [
      "Balanced accuracy for LCNN on FGSM ResNet for eps=0.2 is 69.04%\n",
      "Balanced accuracy for LCNN on FGSM ResNet for eps=0.4 is 68.48%\n",
      "Balanced accuracy for LCNN on FGSM ResNet for eps=0.6 is 67.94%\n",
      "Balanced accuracy for LCNN on FGSM ResNet for eps=0.8 is 67.41%\n",
      "Balanced accuracy for LCNN on FGSM ResNet for eps=1.0 is 66.91%\n",
      "Balanced accuracy for LCNN on FGSM ResNet for eps=2.0 is 64.53%\n",
      "Balanced accuracy for LCNN on FGSM ResNet for eps=3.0 is 62.24%\n"
     ]
    }
   ],
   "source": [
    "compute_and_print_bal_accuracy([0.2, 0.4, 0.6, 0.8, 1.0, 2.0, 3.0], 'LCNN', 'FGSM', 'ResNet', GT_labels)"
   ],
   "metadata": {
    "collapsed": false,
    "ExecuteTime": {
     "end_time": "2024-08-17T19:57:44.445080Z",
     "start_time": "2024-08-17T19:57:42.558313Z"
    }
   },
   "id": "ee58031fd00288df",
   "execution_count": 27
  },
  {
   "cell_type": "code",
   "outputs": [
    {
     "name": "stdout",
     "output_type": "stream",
     "text": [
      "Balanced accuracy for SENet on FGSM ResNet for eps=0.2 is 88.00%\n",
      "Balanced accuracy for SENet on FGSM ResNet for eps=0.4 is 87.56%\n",
      "Balanced accuracy for SENet on FGSM ResNet for eps=0.6 is 87.10%\n",
      "Balanced accuracy for SENet on FGSM ResNet for eps=0.8 is 86.54%\n",
      "Balanced accuracy for SENet on FGSM ResNet for eps=1.0 is 85.89%\n",
      "Balanced accuracy for SENet on FGSM ResNet for eps=2.0 is 83.29%\n",
      "Balanced accuracy for SENet on FGSM ResNet for eps=3.0 is 80.79%\n"
     ]
    }
   ],
   "source": [
    "compute_and_print_bal_accuracy([0.2, 0.4, 0.6, 0.8, 1.0, 2.0, 3.0], 'SENet', 'FGSM', 'ResNet', GT_labels)"
   ],
   "metadata": {
    "collapsed": false,
    "ExecuteTime": {
     "end_time": "2024-08-17T19:57:46.691663Z",
     "start_time": "2024-08-17T19:57:44.445921Z"
    }
   },
   "id": "782f78098db8ce4c",
   "execution_count": 28
  },
  {
   "cell_type": "markdown",
   "source": [
    "***\n",
    "## SENet FGSM attack\n"
   ],
   "metadata": {
    "collapsed": false
   },
   "id": "8007631fafcc574b"
  },
  {
   "cell_type": "code",
   "outputs": [
    {
     "name": "stdout",
     "output_type": "stream",
     "text": [
      "Balanced accuracy for SENet on FGSM SENet for eps=0.2 is 87.04%\n",
      "Balanced accuracy for SENet on FGSM SENet for eps=1.0 is 80.19%\n",
      "Balanced accuracy for SENet on FGSM SENet for eps=2.0 is 71.97%\n",
      "Balanced accuracy for SENet on FGSM SENet for eps=3.0 is 65.29%\n"
     ]
    }
   ],
   "source": [
    "compute_and_print_bal_accuracy([0.2, 1.0, 2.0, 3.0], 'SENet', 'FGSM', 'SENet', GT_labels)"
   ],
   "metadata": {
    "collapsed": false,
    "ExecuteTime": {
     "end_time": "2024-08-17T19:57:47.826133Z",
     "start_time": "2024-08-17T19:57:46.692510Z"
    }
   },
   "id": "e29cb1b5db2c3f2c",
   "execution_count": 29
  },
  {
   "cell_type": "markdown",
   "source": [
    "***\n",
    "## Transferability of SENet FGSM on ResNet"
   ],
   "metadata": {
    "collapsed": false
   },
   "id": "13923b2d05329bee"
  },
  {
   "cell_type": "code",
   "outputs": [
    {
     "name": "stdout",
     "output_type": "stream",
     "text": [
      "Balanced accuracy for ResNet on FGSM SENet for eps=1.0 is 83.91%\n"
     ]
    }
   ],
   "source": [
    "compute_and_print_bal_accuracy([1.0], 'ResNet', 'FGSM', 'SENet', GT_labels)"
   ],
   "metadata": {
    "collapsed": false,
    "ExecuteTime": {
     "end_time": "2024-08-17T19:57:48.299403Z",
     "start_time": "2024-08-17T19:57:47.827100Z"
    }
   },
   "id": "4e16dc12df4c48de",
   "execution_count": 30
  },
  {
   "cell_type": "markdown",
   "source": [
    "***\n",
    "## FGSM on LCNN"
   ],
   "metadata": {
    "collapsed": false
   },
   "id": "d3b1256ab1d3a610"
  },
  {
   "cell_type": "code",
   "outputs": [
    {
     "name": "stdout",
     "output_type": "stream",
     "text": [
      "Balanced accuracy for LCNN on FGSM LCNN for eps=2.0 is 66.75%\n"
     ]
    }
   ],
   "source": [
    "compute_and_print_bal_accuracy([2.0], 'LCNN', 'FGSM', 'LCNN', GT_labels)"
   ],
   "metadata": {
    "collapsed": false,
    "ExecuteTime": {
     "end_time": "2024-08-17T19:57:48.671628Z",
     "start_time": "2024-08-17T19:57:48.300273Z"
    }
   },
   "id": "ea7162602b82eae0",
   "execution_count": 31
  },
  {
   "cell_type": "markdown",
   "source": [
    "***\n",
    "# FGSM (double test) on ResNet\n",
    "Basically I re-run the FGSM attack using the same code I used for LCNN and SENet because with those two models I was getting low success rates."
   ],
   "metadata": {
    "collapsed": false
   },
   "id": "85a6951c9b52fe32"
  },
  {
   "cell_type": "code",
   "outputs": [
    {
     "name": "stdout",
     "output_type": "stream",
     "text": [
      "Balanced accuracy for ResNet on FGSM ResNet for eps=0.0 is 84.36%\n",
      "Balanced accuracy for ResNet on FGSM ResNet for eps=2.0 is 13.89%\n"
     ]
    }
   ],
   "source": [
    "compute_and_print_bal_accuracy([0.0, 2.0], 'ResNet', 'FGSM', 'ResNet', GT_labels)"
   ],
   "metadata": {
    "collapsed": false,
    "ExecuteTime": {
     "end_time": "2024-08-17T19:57:49.243511Z",
     "start_time": "2024-08-17T19:57:48.672537Z"
    }
   },
   "id": "bb98ad896213c686",
   "execution_count": 32
  },
  {
   "cell_type": "code",
   "outputs": [],
   "source": [],
   "metadata": {
    "collapsed": false,
    "ExecuteTime": {
     "end_time": "2024-08-17T19:57:49.245839Z",
     "start_time": "2024-08-17T19:57:49.244283Z"
    }
   },
   "id": "eb983fe278074154",
   "execution_count": 32
  }
 ],
 "metadata": {
  "kernelspec": {
   "display_name": "Python 3",
   "language": "python",
   "name": "python3"
  },
  "language_info": {
   "codemirror_mode": {
    "name": "ipython",
    "version": 2
   },
   "file_extension": ".py",
   "mimetype": "text/x-python",
   "name": "python",
   "nbconvert_exporter": "python",
   "pygments_lexer": "ipython2",
   "version": "2.7.6"
  }
 },
 "nbformat": 4,
 "nbformat_minor": 5
}
