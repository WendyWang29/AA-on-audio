{
 "cells": [
  {
   "cell_type": "code",
   "execution_count": 1,
   "id": "initial_id",
   "metadata": {
    "collapsed": true,
    "ExecuteTime": {
     "end_time": "2024-10-19T09:24:43.657086Z",
     "start_time": "2024-10-19T09:24:40.047235Z"
    }
   },
   "outputs": [],
   "source": [
    "import pandas as pd\n",
    "import os\n",
    "import csv\n",
    "import re\n",
    "import sys\n",
    "import numpy as np\n",
    "import logging\n",
    "import matplotlib.pyplot as plt\n",
    "from sklearn.metrics import roc_curve, auc\n",
    "\n",
    "logging.getLogger('numba').setLevel(logging.WARNING)\n",
    "logging.getLogger('matplotlib.font_manager').disabled = True\n",
    "logging.getLogger('matplotlib.colorbar').disabled = True\n",
    "logging.getLogger('matplotlib.pyplot').disabled = True"
   ]
  },
  {
   "cell_type": "code",
   "outputs": [],
   "source": [
    "# Function to extract the numeric part of the filename (after the last underscore and before the file extension)\n",
    "def extract_numeric_part(path):\n",
    "    # This regex extracts the number after the last underscore and before the file extension (.flac)\n",
    "    match = re.search(r'_(\\d+)\\.flac$', path)\n",
    "    if match:\n",
    "        return match.group(1)  # Return only the numeric part\n",
    "    return None  # Return None if the pattern doesn't match\n",
    "\n",
    "def extract_numeric_part_npy(path):\n",
    "    # This regex extracts the number after the last underscore and before the file extension (.flac)\n",
    "    match = re.search(r'_E_(\\d+)_None\\.npy$', path)\n",
    "    if match:\n",
    "        return match.group(1)  # Return only the numeric part\n",
    "    return None  # Return None if the pattern doesn't match\n",
    "\n",
    "\n",
    "def pred_and_labels_clean(file1_csv, file2_csv, feature):\n",
    "    '''\n",
    "    file1: probabilities list .csv\n",
    "    file2: eval dataset .csv\n",
    "    '''\n",
    "    \n",
    "    prediction_list = []\n",
    "    label_list = []\n",
    "    pred_class1_list = []\n",
    "    \n",
    "    # Step 1: Read file2 into a dictionary for quick look-up based on the numeric part of the file path\n",
    "    file2_dict = {}\n",
    "    with open(file2_csv, mode='r') as file2:\n",
    "        reader = csv.DictReader(file2)\n",
    "        for row in reader:\n",
    "            numeric_file2 = extract_numeric_part(row['path'])\n",
    "            if numeric_file2:\n",
    "                file2_dict[numeric_file2] = row['label']\n",
    "\n",
    "    # Step 2: Traverse file1 and check against file2 dictionary, using tqdm for progress tracking\n",
    "    with open(file1_csv, mode='r') as file1:\n",
    "        reader = csv.DictReader(file1)\n",
    "        total_rows = sum(1 for _ in open(file1_csv)) - 1  # Calculate total rows for the progress bar (excluding header)\n",
    "    \n",
    "        file1.seek(0)  # Reset the reader position back to the start of the file after counting\n",
    "        if feature == 'audio':\n",
    "            for row in reader:\n",
    "                # Extract the numeric part from file1's path\n",
    "                file1_path = row['Filename']\n",
    "                numeric_file1 = extract_numeric_part(file1_path)\n",
    "        \n",
    "                # Step 3: Check if the numeric part exists in the file2 dictionary\n",
    "                if numeric_file1 and numeric_file1 in file2_dict:\n",
    "                    pred_class_0 = float(row['Pred.class 0'])\n",
    "                    pred_class_1 = float(row['Pred.class 1'])\n",
    "            \n",
    "                    # Step 4: Append prediction based on comparison\n",
    "                    prediction_list.append(0 if pred_class_0 > pred_class_1 else 1)\n",
    "            \n",
    "                    # Step 5: Append the corresponding label from file2\n",
    "                    label_list.append(int(file2_dict[numeric_file1]))\n",
    "                \n",
    "                    # Step 6:  Append Pred.class 1 value to the new list\n",
    "                    pred_class1_list.append(pred_class_1)\n",
    "        elif feature == 'spec':\n",
    "            for row in reader:\n",
    "                # Extract the numeric part from file1's path\n",
    "                file1_path = row['Filename']\n",
    "                numeric_file1 = extract_numeric_part_npy(file1_path)\n",
    "        \n",
    "                # Step 3: Check if the numeric part exists in the file2 dictionary\n",
    "                if numeric_file1 and numeric_file1 in file2_dict:\n",
    "                    pred_class_0 = float(row['Pred.class 0'])\n",
    "                    pred_class_1 = float(row['Pred.class 1'])\n",
    "            \n",
    "                    # Step 4: Append prediction based on comparison\n",
    "                    prediction_list.append(0 if pred_class_0 > pred_class_1 else 1)\n",
    "            \n",
    "                    # Step 5: Append the corresponding label from file2\n",
    "                    label_list.append(int(file2_dict[numeric_file1]))\n",
    "                \n",
    "                    # Step 6:  Append Pred.class 1 value to the new list\n",
    "                    pred_class1_list.append(pred_class_1)\n",
    "    \n",
    "    return prediction_list, label_list, pred_class1_list\n",
    "\n",
    "\n",
    "\n",
    "\n",
    "def pred_and_labels_attack(file1_csv, file2_csv):\n",
    "    \n",
    "    def extract_numeric_part(path):\n",
    "        # This regex captures the numeric part following 'LA_E_' and stops at the next underscore or period\n",
    "        match = re.search(r'LA_E_(\\d+)', path)\n",
    "        if match:\n",
    "            return match.group(1)  # Return only the numeric part\n",
    "        return None  # Return None if the pattern doesn't match\n",
    "    \n",
    "    prediction_list = []\n",
    "    label_list = []\n",
    "    pred_class1_list = []\n",
    "    \n",
    "    # Step 1: Read file2 into a dictionary for quick look-up based on the numeric part of the file path\n",
    "    file2_dict = {}\n",
    "    with open(file2_csv, mode='r') as file2:\n",
    "        reader = csv.DictReader(file2)\n",
    "        for row in reader:\n",
    "            numeric_file2 = extract_numeric_part(row['path'])\n",
    "            if numeric_file2:\n",
    "                file2_dict[numeric_file2] = row['label']\n",
    "\n",
    "    # Step 2: Traverse file1 and check against file2 dictionary, using tqdm for progress tracking\n",
    "    with open(file1_csv, mode='r') as file1:\n",
    "        reader = csv.DictReader(file1)\n",
    "        total_rows = sum(1 for _ in open(file1_csv)) - 1  # Calculate total rows for the progress bar (excluding header)\n",
    "    \n",
    "        file1.seek(0)  # Reset the reader position back to the start of the file after counting\n",
    "        for row in reader:\n",
    "            # Extract the numeric part from file1's path\n",
    "            file1_path = row['Filename']\n",
    "            numeric_file1 = extract_numeric_part(file1_path)\n",
    "        \n",
    "            # Step 3: Check if the numeric part exists in the file2 dictionary\n",
    "            if numeric_file1 and numeric_file1 in file2_dict:\n",
    "                pred_class_0 = float(row['Pred.class 0'])\n",
    "                pred_class_1 = float(row['Pred.class 1'])\n",
    "            \n",
    "                # Step 4: Append prediction based on comparison\n",
    "                prediction_list.append(0 if pred_class_0 > pred_class_1 else 1)\n",
    "            \n",
    "                # Step 5: Append the corresponding label from file2\n",
    "                label_list.append(int(file2_dict[numeric_file1]))\n",
    "                \n",
    "                # Step 6:  Append Pred.class 1 value to the new list\n",
    "                pred_class1_list.append(pred_class_1)\n",
    "\n",
    "    \n",
    "    return prediction_list, label_list, pred_class1_list"
   ],
   "metadata": {
    "collapsed": false,
    "ExecuteTime": {
     "end_time": "2024-10-19T09:24:43.683728Z",
     "start_time": "2024-10-19T09:24:43.659450Z"
    }
   },
   "id": "a0a9404b2f1109da",
   "execution_count": 2
  },
  {
   "cell_type": "code",
   "outputs": [],
   "source": [
    "def compute_eer(y_true, y_scores):\n",
    "    # Step 1: Compute the ROC curve\n",
    "    fpr, tpr, thresholds = roc_curve(y_true, y_scores)\n",
    "\n",
    "    # Step 2: Compute FNR (1 - TPR)\n",
    "    fnr = 1 - tpr\n",
    "\n",
    "    # Step 3: Find the threshold where FPR is closest to FNR\n",
    "    eer_threshold = thresholds[np.nanargmin(np.abs(fpr - fnr))]\n",
    "\n",
    "    # Step 4: EER is the value of FPR (or FNR) at that threshold\n",
    "    eer = fpr[np.nanargmin(np.abs(fpr - fnr))]\n",
    "\n",
    "    return eer, eer_threshold\n",
    "\n",
    "\n",
    "def ROC(attack, attack_model, epsilon, eval_model, model_version, dataset, type_of_spec, feature, q_1=None, q_2=None, eps1=None, eps2=None):\n",
    "   \n",
    "    epsilon_str = str(epsilon).replace('.', 'dot')\n",
    "    eps1_str = str(eps1).replace('.', 'dot')\n",
    "    eps2_str = str(eps2).replace('.', 'dot')\n",
    "    \n",
    "    script_dir = os.getcwd()\n",
    "    probs_csv_c = f'probs_{eval_model}_{model_version}_clean_{dataset}_{type_of_spec}_{feature}.csv'\n",
    "    \n",
    "    if attack != 'Ens1D' and attack != 'Ens2D':\n",
    "        probs_csv_p = f'probs_{eval_model}_{model_version}_{attack}_{attack_model}_{dataset}_{epsilon_str}_{type_of_spec}_{feature}.csv'\n",
    "    elif attack == 'Ens1D':\n",
    "        probs_csv_p = f'probs_{eval_model}_{model_version}_Ens1D_{attack_model}_{q_1}_{q_2}_{eps1_str}_{eps2_str}_{type_of_spec}_{feature}.csv'\n",
    "    elif attack == 'Ens2D':\n",
    "        sys.exit('TODO 2D ens')  \n",
    "        \n",
    "    #print(probs_csv_p)\n",
    "    if dataset == '3s':\n",
    "        eval_csv = os.path.join(os.path.dirname(script_dir), 'data', 'df_eval_19_3s.csv' )\n",
    "    else:\n",
    "        eval_csv = os.path.join(os.path.dirname(script_dir), 'data', 'df_eval_19.csv' )\n",
    "    \n",
    "    # get GT labels\n",
    "    pred_list_c, labels_list_c, pred_1_c = pred_and_labels_clean(file1_csv=probs_csv_c, file2_csv=eval_csv, feature=feature)\n",
    "    labels_c = np.array(labels_list_c)\n",
    "    pred_1_c = np.array(pred_1_c)\n",
    "    \n",
    "    pred_list_p, labels_list_p, pred_1_p = pred_and_labels_attack(file1_csv=probs_csv_p, file2_csv=eval_csv)\n",
    "    labels_p = np.array(labels_list_p)\n",
    "    pred_1_p = np.array(pred_1_p)\n",
    "    \n",
    "    if len(pred_list_c) != len(pred_list_p):\n",
    "        sys.exit(f'length of clean is {len(pred_list_c)}, length of pert is {len(pred_list_p)}')\n",
    "    \n",
    "    # CLEAN - compute ROC, AUC, EER\n",
    "    fpr_c, tpr_c, _ = roc_curve(labels_c, pred_1_c)\n",
    "    roc_auc_c = auc(fpr_c, tpr_c)\n",
    "    eer_c, _ = compute_eer(labels_c, pred_1_c)\n",
    "    \n",
    "    # PERTURBED - compute ROC, AUC, EER\n",
    "    fpr_p, tpr_p, _ = roc_curve(labels_p, pred_1_p)\n",
    "    roc_auc_p = auc(fpr_p, tpr_p)\n",
    "    eer_p, _ = compute_eer(labels_p, pred_1_p)\n",
    "    \n",
    "    plt.figure()\n",
    "    plt.plot(fpr_c, tpr_c, color='darkorange', lw=1.5, label='Clean (AUC={:.2f})'.format(roc_auc_c))\n",
    "    plt.plot(fpr_p, tpr_p, color='red', lw=1.5, label='Perturbed (AUC={:.2f})'.format(roc_auc_p))\n",
    "    plt.plot([0, 1], [0, 1], color='navy', lw=1.5, linestyle='--')\n",
    "    # Set axis limits and labels\n",
    "    plt.xlim([0.0, 1.0])\n",
    "    plt.ylim([0.0, 1.05])\n",
    "    plt.xlabel('False Positive Rate')\n",
    "    plt.ylabel('True Positive Rate')\n",
    "    if attack != 'Ens1D' or attack != 'Ens2D':\n",
    "        plt.title(f'ROC - {attack} on {attack_model}, eps={epsilon}, eval model: {eval_model}')\n",
    "    elif attack == 'Ens1D':\n",
    "        plt.title(f'ROC - {attack} on {attack_model}, {eps1}, {eps2}, {q_1}, {q_2}, eval model: {eval_model}')\n",
    "    plt.legend(loc='lower right')\n",
    "    plt.show()\n",
    "    \n",
    "    if attack != 'Ens1D' and attack != 'Ens2D':\n",
    "        print(f'{feature} - {attack} on {attack_model} with eps={epsilon} evaluated on {eval_model}\\nAUC clean: {roc_auc_c:.3f}, EER clean: {eer_c*100:.3f}\\n--> AUC perturbed: {roc_auc_p:.3f}, EER perturbed: {eer_p*100:.3f} <-- \\n------------------------')\n",
    "    elif attack == 'Ens1D':\n",
    "        print(f'{feature} - {attack} on {attack_model} with q1={q_1}, q2={q_2}, eps1={eps1}, eps2={eps2} evaluated on {eval_model}\\nAUC clean: {roc_auc_c:.3f}, EER clean: {eer_c*100:.3f}\\n--> AUC perturbed: {roc_auc_p:.3f}, EER perturbed: {eer_p*100:.3f} <-- \\n------------------------')\n",
    "    elif attack == 'Ens2D':\n",
    "        sys.exit('TODO 2d ens')\n",
    "    \n",
    "    return fpr_c, tpr_c, roc_auc_c, fpr_p, tpr_p, roc_auc_p, eer_c, eer_p\n",
    "    "
   ],
   "metadata": {
    "collapsed": false,
    "ExecuteTime": {
     "end_time": "2024-10-19T10:02:33.417185Z",
     "start_time": "2024-10-19T10:02:33.389914Z"
    }
   },
   "id": "3121f99ee437fb62",
   "execution_count": 27
  },
  {
   "cell_type": "code",
   "outputs": [],
   "source": [],
   "metadata": {
    "collapsed": false
   },
   "id": "b4a83abf840dc167"
  },
  {
   "cell_type": "code",
   "outputs": [],
   "source": [],
   "metadata": {
    "collapsed": false
   },
   "id": "b418e61cb4fb6f1b"
  },
  {
   "cell_type": "markdown",
   "source": [
    "***\n",
    "## Normal attacks"
   ],
   "metadata": {
    "collapsed": false
   },
   "id": "a9cd98d28861f169"
  },
  {
   "cell_type": "code",
   "outputs": [
    {
     "name": "stdout",
     "output_type": "stream",
     "text": [
      "audio - BIM on ResNet2D with eps=3.0 evaluated on ResNet2D\n",
      "AUC clean: 0.954, EER clean: 9.667\n",
      "--> AUC perturbed: 0.004, EER perturbed: 98.151 <-- \n",
      "------------------------\n",
      "spec - BIM on ResNet2D with eps=3.0 evaluated on ResNet2D\n",
      "AUC clean: 0.954, EER clean: 9.667\n",
      "--> AUC perturbed: 0.000, EER perturbed: 100.000 <-- \n",
      "------------------------\n",
      "audio - BIM on ResNet1D with eps=0.025 evaluated on ResNet2D\n",
      "AUC clean: 0.954, EER clean: 9.667\n",
      "--> AUC perturbed: 0.000, EER perturbed: 100.000 <-- \n",
      "------------------------\n",
      "audio - BIM on SENet1D with eps=0.005 evaluated on ResNet2D\n",
      "AUC clean: 0.954, EER clean: 9.667\n",
      "--> AUC perturbed: 0.949, EER perturbed: 11.516 <-- \n",
      "------------------------\n",
      "audio - BIM on SENet2D with eps=3.0 evaluated on ResNet2D\n",
      "AUC clean: 0.954, EER clean: 9.667\n",
      "--> AUC perturbed: 0.946, EER perturbed: 10.687 <-- \n",
      "------------------------\n",
      "audio - BIM on LCNN1D with eps=0.005 evaluated on ResNet2D\n",
      "AUC clean: 0.954, EER clean: 9.667\n",
      "--> AUC perturbed: 0.932, EER perturbed: 13.963 <-- \n",
      "------------------------\n",
      "audio - BIM on LCNN2D with eps=3.0 evaluated on ResNet2D\n",
      "AUC clean: 0.954, EER clean: 9.667\n",
      "--> AUC perturbed: 0.948, EER perturbed: 10.320 <-- \n",
      "------------------------\n"
     ]
    }
   ],
   "source": [
    "# ResNet2D\n",
    "\n",
    "fpr_Res2D_c, tpr_Res2D_c, roc_auc_Res2D_c, fpr_Res2D_BIM_Res2D, tpr_Res2D_BIM_Res2D, roc_auc_Res2D_BIM_Res2D, eer_Res2D_c, eer_Res2D_BIM_Res2D = ROC(attack='BIM', attack_model='ResNet2D', epsilon=3.0, eval_model='ResNet2D', model_version='v0', dataset='whole', type_of_spec='pow', feature='audio', q_1=None, q_2=None)\n",
    "\n",
    "fpr_Res2Ds_c, tpr_Res2Ds_c, roc_auc_Res2Ds_c, fpr_Res2Ds_BIM_Res2D, tpr_Res2Ds_BIM_Res2D, roc_auc_Res2Ds_BIM_Res2D, eer_Res2Ds_c, eer_Res2Ds_BIM_Res2D = ROC(attack='BIM', attack_model='ResNet2D', epsilon=3.0, eval_model='ResNet2D', model_version='v0', dataset='whole', type_of_spec='pow', feature='spec', q_1=None, q_2=None)\n",
    "\n",
    "_,_,_, fpr_Res2D_BIM_Res1D, tpr_Res2D_BIM_Res1D, roc_auc_Res2D_BIM_Res1D, _, eer_Res2D_BIM_Res1D = ROC(attack='BIM', attack_model='ResNet1D', epsilon=0.025, eval_model='ResNet2D', model_version='v0', dataset='whole', type_of_spec='pow', feature='audio', q_1=None, q_2=None)\n",
    "# \n",
    "_,_,_, fpr_Res2D_BIM_SEn1D, tpr_Res2D_BIM_SEn1D, roc_auc_Res2D_BIM_SEn1D, _, eer_Res2D_BIM_SEn1D = ROC(attack='BIM', attack_model='SENet1D', epsilon=0.005, eval_model='ResNet2D', model_version='v0', dataset='whole', type_of_spec='pow', feature='audio', q_1=None, q_2=None)\n",
    "\n",
    "_,_,_, fpr_Res2D_BIM_SEN2D, tpr_Res2D_BIM_SEN2D, roc_auc_Res2D_BIM_SEN2D, _, eer_Res2D_BIM_SEN2D = ROC(attack='BIM', attack_model='SENet2D', epsilon=3.0, eval_model='ResNet2D', model_version='v0', dataset='whole', type_of_spec='pow', feature='audio', q_1=None, q_2=None)\n",
    "\n",
    "_,_,_, fpr_Res2D_BIM_LCNN1D, tpr_Res2D_BIM_LCNN1D, roc_auc_Res2D_BIM_LCNN1D, _, eer_Res2D_BIM_LCNN1D = ROC(attack='BIM', attack_model='LCNN1D', epsilon=0.005, eval_model='ResNet2D', model_version='v0', dataset='whole', type_of_spec='pow', feature='audio', q_1=None, q_2=None)\n",
    "\n",
    "_,_,_, fpr_Res2D_BIM_LCNN2D, tpr_Res2D_BIM_LCNN2D, roc_auc_Res2D_BIM_LCNN2D, _, eer_Res2D_BIM_LCNN2D = ROC(attack='BIM', attack_model='LCNN2D', epsilon=3.0, eval_model='ResNet2D', model_version='v0', dataset='whole', type_of_spec='pow', feature='audio', q_1=None, q_2=None)"
   ],
   "metadata": {
    "collapsed": false,
    "ExecuteTime": {
     "end_time": "2024-10-17T13:34:06.530660Z",
     "start_time": "2024-10-17T13:33:40.787619Z"
    }
   },
   "id": "3648b71157a343c",
   "execution_count": 4
  },
  {
   "cell_type": "code",
   "outputs": [
    {
     "name": "stdout",
     "output_type": "stream",
     "text": [
      "audio - BIM on ResNet1D with eps=0.025 evaluated on ResNet1D\n",
      "AUC clean: 0.968, EER clean: 7.179\n",
      "--> AUC perturbed: 0.000, EER perturbed: 100.000 <-- \n",
      "------------------------\n",
      "audio - BIM on ResNet2D with eps=3.0 evaluated on ResNet1D\n",
      "AUC clean: 0.968, EER clean: 7.179\n",
      "--> AUC perturbed: 0.622, EER perturbed: 36.125 <-- \n",
      "------------------------\n",
      "audio - BIM on SENet1D with eps=0.005 evaluated on ResNet1D\n",
      "AUC clean: 0.968, EER clean: 7.179\n",
      "--> AUC perturbed: 0.951, EER perturbed: 11.244 <-- \n",
      "------------------------\n",
      "audio - BIM on SENet2D with eps=3.0 evaluated on ResNet1D\n",
      "AUC clean: 0.968, EER clean: 7.179\n",
      "--> AUC perturbed: 0.946, EER perturbed: 11.244 <-- \n",
      "------------------------\n",
      "audio - BIM on LCNN1D with eps=0.005 evaluated on ResNet1D\n",
      "AUC clean: 0.968, EER clean: 7.179\n",
      "--> AUC perturbed: 0.905, EER perturbed: 16.111 <-- \n",
      "------------------------\n",
      "audio - BIM on LCNN2D with eps=3.0 evaluated on ResNet1D\n",
      "AUC clean: 0.968, EER clean: 7.179\n",
      "--> AUC perturbed: 0.948, EER perturbed: 10.931 <-- \n",
      "------------------------\n"
     ]
    }
   ],
   "source": [
    "# ResNet1D\n",
    "\n",
    "fpr_Res1D_c, tpr_Res1D_c, roc_auc_Res1D_c, fpr_Res1D_BIM, tpr_Res1D_BIM, roc_auc_Res1D_BIM, eer_Res1D_c, eer_Res1D_BIM = ROC(attack='BIM', attack_model='ResNet1D', epsilon=0.025, eval_model='ResNet1D', model_version='v0', dataset='whole', type_of_spec='pow', feature='audio', q_1=None, q_2=None)\n",
    "\n",
    "_,_,_, fpr_Res1D_BIM_Res2D, tpr_Res1D_BIM_Res2D, roc_auc_Res1D_BIM_Res2D, _, eer_Res1D_BIM_Res2D = ROC(attack='BIM', attack_model='ResNet2D', epsilon=3.0, eval_model='ResNet1D', model_version='v0', dataset='whole', type_of_spec='pow', feature='audio', q_1=None, q_2=None)\n",
    "# \n",
    "_,_,_, fpr_Res1D_BIM_SEn1D, tpr_Res1D_BIM_SEn1D, roc_auc_Res1D_BIM_SEn1D, _, eer_Res1D_BIM_SEn1D = ROC(attack='BIM', attack_model='SENet1D', epsilon=0.005, eval_model='ResNet1D', model_version='v0', dataset='whole', type_of_spec='pow', feature='audio', q_1=None, q_2=None)\n",
    "# \n",
    "_,_,_, fpr_Res1D_BIM_SEn2D, tpr_Res1D_BIM_SEn2D, roc_auc_Res1D_BIM_SEn2D, _, eer_Res1D_BIM_SEn2D = ROC(attack='BIM', attack_model='SENet2D', epsilon=3.0, eval_model='ResNet1D', model_version='v0', dataset='whole', type_of_spec='pow', feature='audio', q_1=None, q_2=None)\n",
    "\n",
    "_,_,_, fpr_Res1D_BIM_LCNN1D, tpr_Res1D_BIM_LCNN1D, roc_auc_Res1D_BIM_LCNN1D, _, eer_Res1D_BIM_LCNN1D = ROC(attack='BIM', attack_model='LCNN1D', epsilon=0.005, eval_model='ResNet1D', model_version='v0', dataset='whole', type_of_spec='pow', feature='audio', q_1=None, q_2=None)\n",
    "\n",
    "_,_,_, fpr_Res1D_BIM_LCNN2D, tpr_Res1D_BIM_LCNN2D, roc_auc_Res1D_BIM_LCNN2D, _, eer_Res1D_BIM_LCNN2D = ROC(attack='BIM', attack_model='LCNN2D', epsilon=3.0, eval_model='ResNet1D', model_version='v0', dataset='whole', type_of_spec='pow', feature='audio', q_1=None, q_2=None)"
   ],
   "metadata": {
    "collapsed": false,
    "ExecuteTime": {
     "end_time": "2024-10-19T09:49:32.293592Z",
     "start_time": "2024-10-19T09:49:17.756880Z"
    }
   },
   "id": "9659dd1827d07897",
   "execution_count": 24
  },
  {
   "cell_type": "code",
   "outputs": [
    {
     "name": "stdout",
     "output_type": "stream",
     "text": [
      "audio - BIM on SENet1D with eps=0.005 evaluated on SENet1D\n",
      "AUC clean: 0.947, EER clean: 10.374\n",
      "--> AUC perturbed: 0.000, EER perturbed: 99.905 <-- \n",
      "------------------------\n",
      "audio - BIM on ResNet2D with eps=3.0 evaluated on SENet1D\n",
      "AUC clean: 0.947, EER clean: 10.374\n",
      "--> AUC perturbed: 0.888, EER perturbed: 17.036 <-- \n",
      "------------------------\n",
      "audio - BIM on ResNet1D with eps=0.02 evaluated on SENet1D\n",
      "AUC clean: 0.947, EER clean: 10.374\n",
      "--> AUC perturbed: 0.285, EER perturbed: 63.249 <-- \n",
      "------------------------\n",
      "audio - BIM on SENet2D with eps=3.0 evaluated on SENet1D\n",
      "AUC clean: 0.947, EER clean: 10.374\n",
      "--> AUC perturbed: 0.922, EER perturbed: 13.107 <-- \n",
      "------------------------\n",
      "audio - BIM on LCNN1D with eps=0.005 evaluated on SENet1D\n",
      "AUC clean: 0.947, EER clean: 10.374\n",
      "--> AUC perturbed: 0.797, EER perturbed: 23.005 <-- \n",
      "------------------------\n",
      "audio - BIM on LCNN2D with eps=3.0 evaluated on SENet1D\n",
      "AUC clean: 0.947, EER clean: 10.374\n",
      "--> AUC perturbed: 0.927, EER perturbed: 12.644 <-- \n",
      "------------------------\n"
     ]
    }
   ],
   "source": [
    "# SENet1D\n",
    "\n",
    "fpr_SEN1D_c, tpr_SEN1D_c, roc_auc_SEN1D_c, fpr_SEN1D_BIM_SEN1D, tpr_SEN1D_BIM_SEN1D, roc_auc_SEN1D_BIM_SEN1D, eer_SEN1D_c, eer_SEN1D_BIM_SEN1D = ROC(attack='BIM', attack_model='SENet1D', epsilon=0.005, eval_model='SENet1D', model_version='v0', dataset='whole', type_of_spec='pow', feature='audio', q_1=None, q_2=None)\n",
    "# \n",
    "_,_,_, fpr_SEN1D_BIM_Res2D, tpr_SEN1D_BIM_Res2D, roc_auc_SEN1D_BIM_Res2D, _, eer_SEN1D_BIM_Res2D = ROC(attack='BIM', attack_model='ResNet2D', epsilon=3.0, eval_model='SENet1D', model_version='v0', dataset='whole', type_of_spec='pow', feature='audio', q_1=None, q_2=None)\n",
    "# \n",
    "_,_,_, fpr_SEN1D_BIM_Res1D, tpr_SEN1D_BIM_Res1D, roc_auc_SEN1D_BIM_Res1D, _, eer_SEN1D_BIM_Res1D = ROC(attack='BIM', attack_model='ResNet1D', epsilon=0.02, eval_model='SENet1D', model_version='v0', dataset='whole', type_of_spec='pow', feature='audio', q_1=None, q_2=None)\n",
    "# \n",
    "_,_,_, fpr_SEN1D_BIM_SEN2D, tpr_SEN1D_BIM_SEN2D, roc_auc_SEN1D_BIM_SEN2D, _, eer_SEN1D_BIM_SEN2D = ROC(attack='BIM', attack_model='SENet2D', epsilon=3.0, eval_model='SENet1D', model_version='v0', dataset='whole', type_of_spec='pow', feature='audio', q_1=None, q_2=None)\n",
    "\n",
    "_,_,_, fpr_SEN1D_BIM_LCNN1D, tpr_SEN1D_BIM_LCNN1D, roc_auc_SEN1D_BIM_LCNN1D, _, eer_SEN1D_BIM_LCNN1D = ROC(attack='BIM', attack_model='LCNN1D', epsilon=0.005, eval_model='SENet1D', model_version='v0', dataset='whole', type_of_spec='pow', feature='audio', q_1=None, q_2=None)\n",
    "\n",
    "_,_,_, fpr_SEN1D_BIM_LCNN2D, tpr_SEN1D_BIM_LCNN2D, roc_auc_SEN1D_BIM_LCNN2D, _, eer_SEN1D_BIM_LCNN2D = ROC(attack='BIM', attack_model='LCNN2D', epsilon=3.0, eval_model='SENet1D', model_version='v0', dataset='whole', type_of_spec='pow', feature='audio', q_1=None, q_2=None)"
   ],
   "metadata": {
    "collapsed": false,
    "ExecuteTime": {
     "end_time": "2024-10-16T08:53:05.160688Z",
     "start_time": "2024-10-16T08:52:59.809462Z"
    }
   },
   "id": "7ea5fa1044b2cb3",
   "execution_count": 7
  },
  {
   "cell_type": "code",
   "outputs": [
    {
     "name": "stdout",
     "output_type": "stream",
     "text": [
      "audio - BIM on SENet2D with eps=3.0 evaluated on SENet2D\n",
      "AUC clean: 0.966, EER clean: 8.158\n",
      "--> AUC perturbed: 0.212, EER perturbed: 71.298 <-- \n",
      "------------------------\n",
      "audio - BIM on ResNet2D with eps=3.0 evaluated on SENet2D\n",
      "AUC clean: 0.966, EER clean: 8.158\n",
      "--> AUC perturbed: 0.875, EER perturbed: 18.137 <-- \n",
      "------------------------\n",
      "audio - BIM on ResNet1D with eps=0.02 evaluated on SENet2D\n",
      "AUC clean: 0.966, EER clean: 8.158\n",
      "--> AUC perturbed: 0.739, EER perturbed: 28.973 <-- \n",
      "------------------------\n",
      "audio - BIM on SENet1D with eps=0.005 evaluated on SENet2D\n",
      "AUC clean: 0.966, EER clean: 8.158\n",
      "--> AUC perturbed: 0.878, EER perturbed: 18.368 <-- \n",
      "------------------------\n",
      "audio - BIM on LCNN1D with eps=0.005 evaluated on SENet2D\n",
      "AUC clean: 0.966, EER clean: 8.158\n",
      "--> AUC perturbed: 0.892, EER perturbed: 16.261 <-- \n",
      "------------------------\n",
      "audio - BIM on LCNN2D with eps=3.0 evaluated on SENet2D\n",
      "AUC clean: 0.966, EER clean: 8.158\n",
      "--> AUC perturbed: 0.961, EER perturbed: 8.294 <-- \n",
      "------------------------\n"
     ]
    }
   ],
   "source": [
    "# SENet2D\n",
    "\n",
    "fpr_SEN2D_c, tpr_SEN2D_c, roc_auc_SEN2D_c, fpr_SEN2D_BIM_SEN2D, tpr_SEN2D_BIM_SEN2D, roc_auc_SEN2D_BIM_SEN2D, eer_SEN2D_c, eer_SEN2D_BIM_SEN2D = ROC(attack='BIM', attack_model='SENet2D', epsilon=3.0, eval_model='SENet2D', model_version='v0', dataset='whole', type_of_spec='pow', feature='audio', q_1=None, q_2=None)\n",
    "# \n",
    "_,_,_, fpr_SEN2D_BIM_Res2D, tpr_SEN2D_BIM_Res2D, roc_auc_SEN2D_BIM_Res2D, _, eer_SEN2D_BIM_Res2D = ROC(attack='BIM', attack_model='ResNet2D', epsilon=3.0, eval_model='SENet2D', model_version='v0', dataset='whole', type_of_spec='pow', feature='audio', q_1=None, q_2=None)\n",
    "\n",
    "_,_,_, fpr_SEN2D_BIM_Res1D, tpr_SEN2D_BIM_Res1D, roc_auc_SEN2D_BIM_Res1D, _, eer_SEN2D_BIM_Res1D = ROC(attack='BIM', attack_model='ResNet1D', epsilon=0.02, eval_model='SENet2D', model_version='v0', dataset='whole', type_of_spec='pow', feature='audio', q_1=None, q_2=None)\n",
    "# \n",
    "_,_,_, fpr_SEN2D_BIM_SEN1D, tpr_SEN2D_BIM_SEN1D, roc_auc_SEN2D_BIM_SEN1D, _, eer_SEN2D_BIM_SEN1D = ROC(attack='BIM', attack_model='SENet1D', epsilon=0.005, eval_model='SENet2D', model_version='v0', dataset='whole', type_of_spec='pow', feature='audio', q_1=None, q_2=None)\n",
    "\n",
    "_,_,_, fpr_SEN2D_BIM_LCNN1D, tpr_SEN2D_BIM_LCNN1D, roc_auc_SEN2D_BIM_LCNN1D, _, eer_SEN2D_BIM_LCNN1D = ROC(attack='BIM', attack_model='LCNN1D', epsilon=0.005, eval_model='SENet2D', model_version='v0', dataset='whole', type_of_spec='pow', feature='audio', q_1=None, q_2=None)\n",
    "\n",
    "_,_,_, fpr_SEN2D_BIM_LCNN2D, tpr_SEN2D_BIM_LCNN2D, roc_auc_SEN2D_BIM_LCNN2D, _, eer_SEN2D_BIM_LCNN2D = ROC(attack='BIM', attack_model='LCNN2D', epsilon=3.0, eval_model='SENet2D', model_version='v0', dataset='whole', type_of_spec='pow', feature='audio', q_1=None, q_2=None)"
   ],
   "metadata": {
    "collapsed": false,
    "ExecuteTime": {
     "end_time": "2024-10-16T09:33:43.374672Z",
     "start_time": "2024-10-16T09:33:38.363381Z"
    }
   },
   "id": "801e9a46e7aeec26",
   "execution_count": 11
  },
  {
   "cell_type": "code",
   "outputs": [
    {
     "name": "stdout",
     "output_type": "stream",
     "text": [
      "audio - BIM on SENet2D with eps=3.0 evaluated on LCNN\n",
      "AUC clean: 0.953, EER clean: 9.341\n",
      "--> AUC perturbed: 0.949, EER perturbed: 9.191 <-- \n",
      "------------------------\n",
      "audio - BIM on ResNet2D with eps=3.0 evaluated on LCNN\n",
      "AUC clean: 0.953, EER clean: 9.341\n",
      "--> AUC perturbed: 0.836, EER perturbed: 20.693 <-- \n",
      "------------------------\n",
      "audio - BIM on ResNet1D with eps=0.02 evaluated on LCNN\n",
      "AUC clean: 0.953, EER clean: 9.341\n",
      "--> AUC perturbed: 0.396, EER perturbed: 56.397 <-- \n",
      "------------------------\n",
      "audio - BIM on SENet1D with eps=0.005 evaluated on LCNN\n",
      "AUC clean: 0.953, EER clean: 9.341\n",
      "--> AUC perturbed: 0.880, EER perturbed: 17.498 <-- \n",
      "------------------------\n",
      "audio - BIM on LCNN2D with eps=3.0 evaluated on LCNN\n",
      "AUC clean: 0.953, EER clean: 9.341\n",
      "--> AUC perturbed: 0.654, EER perturbed: 37.634 <-- \n",
      "------------------------\n",
      "audio - BIM on LCNN1D with eps=0.005 evaluated on LCNN\n",
      "AUC clean: 0.953, EER clean: 9.341\n",
      "--> AUC perturbed: 0.580, EER perturbed: 39.674 <-- \n",
      "------------------------\n"
     ]
    }
   ],
   "source": [
    "# LCNN2D\n",
    "\n",
    "fpr_LCNN2D_c, tpr_LCNN2D_c, roc_auc_LCNN2D_c, fpr_LCNN2D_BIM_SEN2D, tpr_LCNN2D_BIM_SEN2D, roc_auc_LCNN2D_BIM_SEN2D, eer_LCNN2D_c, eer_LCNN_BIM_SEN2D = ROC(attack='BIM', attack_model='SENet2D', epsilon=3.0, eval_model='LCNN', model_version='v0', dataset='whole', type_of_spec='pow', feature='audio', q_1=None, q_2=None)\n",
    "# \n",
    "_,_,_, fpr_LCNN2D_BIM_Res2D, tpr_LCNN2D_BIM_Res2D, roc_auc_LCNN2D_BIM_Res2D, _, eer_LCNN2D_BIM_Res2D = ROC(attack='BIM', attack_model='ResNet2D', epsilon=3.0, eval_model='LCNN', model_version='v0', dataset='whole', type_of_spec='pow', feature='audio', q_1=None, q_2=None)\n",
    "\n",
    "_,_,_, fpr_LCNN2D_BIM_Res1D, tpr_LCNN2D_BIM_Res1D, roc_auc_LCNN2D_BIM_Res1D, _, eer_LCNN2D_BIM_Res1D = ROC(attack='BIM', attack_model='ResNet1D', epsilon=0.02, eval_model='LCNN', model_version='v0', dataset='whole', type_of_spec='pow', feature='audio', q_1=None, q_2=None)\n",
    "# \n",
    "_,_,_, fpr_LCNN2D_BIM_SEN1D, tpr_LCNN2D_BIM_SEN1D, roc_auc_LCNN2D_BIM_SEN1D, _, eer_LCNN2D_BIM_SEN1D = ROC(attack='BIM', attack_model='SENet1D', epsilon=0.005, eval_model='LCNN', model_version='v0', dataset='whole', type_of_spec='pow', feature='audio', q_1=None, q_2=None)\n",
    "\n",
    "_,_,_, fpr_LCNN_BIM_LCNN2D, tpr_LCNN_BIM_LCNN2D, roc_auc_LCNN_BIM_LCNN2D, _, eer_LCNN_BIM_LCNN2D = ROC(attack='BIM', attack_model='LCNN2D', epsilon=3.0, eval_model='LCNN', model_version='v0', dataset='whole', type_of_spec='pow', feature='audio', q_1=None, q_2=None)\n",
    "\n",
    "_,_,_, fpr_LCNN_BIM_LCNN1D, tpr_LCNN_BIM_LCNN1D, roc_auc_LCNN_BIM_LCNN1D, _, eer_LCNN_BIM_LCNN1D = ROC(attack='BIM', attack_model='LCNN1D', epsilon=0.005, eval_model='LCNN', model_version='v0', dataset='whole', type_of_spec='pow', feature='audio', q_1=None, q_2=None)"
   ],
   "metadata": {
    "collapsed": false,
    "ExecuteTime": {
     "end_time": "2024-10-16T08:53:14.136287Z",
     "start_time": "2024-10-16T08:53:08.862535Z"
    }
   },
   "id": "bd63163296122a4d",
   "execution_count": 9
  },
  {
   "cell_type": "code",
   "outputs": [
    {
     "name": "stdout",
     "output_type": "stream",
     "text": [
      "audio - BIM on SENet2D with eps=3.0 evaluated on LCNN1D\n",
      "AUC clean: 0.969, EER clean: 8.226\n",
      "--> AUC perturbed: 0.942, EER perturbed: 13.148 <-- \n",
      "------------------------\n",
      "audio - BIM on ResNet2D with eps=3.0 evaluated on LCNN1D\n",
      "AUC clean: 0.969, EER clean: 8.226\n",
      "--> AUC perturbed: 0.898, EER perturbed: 17.458 <-- \n",
      "------------------------\n",
      "audio - BIM on ResNet1D with eps=0.025 evaluated on LCNN1D\n",
      "AUC clean: 0.969, EER clean: 8.226\n",
      "--> AUC perturbed: 0.510, EER perturbed: 43.086 <-- \n",
      "------------------------\n",
      "audio - BIM on SENet1D with eps=0.005 evaluated on LCNN1D\n",
      "AUC clean: 0.969, EER clean: 8.226\n",
      "--> AUC perturbed: 0.839, EER perturbed: 22.678 <-- \n",
      "------------------------\n",
      "audio - BIM on LCNN2D with eps=3.0 evaluated on LCNN1D\n",
      "AUC clean: 0.969, EER clean: 8.226\n",
      "--> AUC perturbed: 0.934, EER perturbed: 13.787 <-- \n",
      "------------------------\n",
      "audio - BIM on LCNN1D with eps=0.005 evaluated on LCNN1D\n",
      "AUC clean: 0.969, EER clean: 8.226\n",
      "--> AUC perturbed: 0.000, EER perturbed: 100.000 <-- \n",
      "------------------------\n"
     ]
    }
   ],
   "source": [
    "# LCNN1D\n",
    "\n",
    "_,_,_, fpr_LCNN1D_BIM_SEN2D, tpr_LCNN1D_BIM_SEN2D, roc_auc_LCNN1D_BIM_SEN2D, _, eer_LCNN_BIM_SEN2D = ROC(attack='BIM', attack_model='SENet2D', epsilon=3.0, eval_model='LCNN1D', model_version='v0', dataset='whole', type_of_spec='pow', feature='audio', q_1=None, q_2=None)\n",
    "# \n",
    "_,_,_, fpr_LCNN1D_BIM_Res2D, tpr_LCNN1D_BIM_Res2D, roc_auc_LCNN1D_BIM_Res2D, _, eer_LCNN1D_BIM_Res2D = ROC(attack='BIM', attack_model='ResNet2D', epsilon=3.0, eval_model='LCNN1D', model_version='v0', dataset='whole', type_of_spec='pow', feature='audio', q_1=None, q_2=None)\n",
    "# \n",
    "_,_,_, fpr_LCNN1D_BIM_Res1D, tpr_LCNN1D_BIM_Res1D, roc_auc_LCNN1D_BIM_Res1D, _, eer_LCNN1D_BIM_Res1D = ROC(attack='BIM', attack_model='ResNet1D', epsilon=0.025, eval_model='LCNN1D', model_version='v0', dataset='whole', type_of_spec='pow', feature='audio', q_1=None, q_2=None)\n",
    "# # \n",
    "_,_,_, fpr_LCNN1D_BIM_SEN1D, tpr_LCNN1D_BIM_SEN1D, roc_auc_LCNN1D_BIM_SEN1D, _, eer_LCNN1D_BIM_SEN1D = ROC(attack='BIM', attack_model='SENet1D', epsilon=0.005, eval_model='LCNN1D', model_version='v0', dataset='whole', type_of_spec='pow', feature='audio', q_1=None, q_2=None)\n",
    "\n",
    "fpr_LCNN1D_c, tpr_LCNN1D_c, roc_auc_LCNN1D_c, fpr_LCNN1D_BIM_LCNN2D, tpr_LCNN1D_BIM_LCNN2D, roc_auc_LCNN1D_BIM_LCNN2D, eer_LCNN1D_c, eer_LCNN2D_BIM_LCNN2D = ROC(attack='BIM', attack_model='LCNN2D', epsilon=3.0, eval_model='LCNN1D', model_version='v0', dataset='whole', type_of_spec='pow', feature='audio', q_1=None, q_2=None)\n",
    "\n",
    "fpr_LCNN1D_c, tpr_LCNN1D_c, roc_auc_LCNN1D_c, fpr_LCNN1D_BIM_LCNN1D, tpr_LCNN1D_BIM_LCNN1D, roc_auc_LCNN1D_BIM_LCNN1D, eer_LCNN2D_c, eer_LCNN1D_BIM_LCNN1D = ROC(attack='BIM', attack_model='LCNN1D', epsilon=0.005, eval_model='LCNN1D', model_version='v0', dataset='whole', type_of_spec='pow', feature='audio', q_1=None, q_2=None)"
   ],
   "metadata": {
    "collapsed": false,
    "ExecuteTime": {
     "end_time": "2024-10-17T14:34:14.939817Z",
     "start_time": "2024-10-17T14:33:52.612284Z"
    }
   },
   "id": "ebcdd2d9c73d4404",
   "execution_count": 14
  },
  {
   "cell_type": "code",
   "outputs": [],
   "source": [
    "# RawNet2\n",
    "\n",
    "fpr_RawNet2_c, tpr_RawNet2_c, roc_auc_RawNet2_c, fpr_Rawnet2_BIM_Res1D, tpr_RawNet2_BIM_Res1D, roc_auc_RawNet2_BIM_Res1D, eer_RawNet2_c, eer_RawNet2_BIM_Res1D= ROC(attack='BIM', attack_model='ResNet1D', epsilon=0.025, eval_model='Rawnet', model_version='v0', dataset='whole', type_of_spec='pow', feature='audio')"
   ],
   "metadata": {
    "collapsed": false
   },
   "id": "1bb677e9128d89b4"
  },
  {
   "cell_type": "code",
   "outputs": [],
   "source": [],
   "metadata": {
    "collapsed": false
   },
   "id": "e62529e5804b3206"
  },
  {
   "cell_type": "code",
   "outputs": [],
   "source": [],
   "metadata": {
    "collapsed": false
   },
   "id": "7c78407f4d25ff92"
  },
  {
   "cell_type": "markdown",
   "source": [
    "***\n",
    "## Ensemble"
   ],
   "metadata": {
    "collapsed": false
   },
   "id": "aa6ea1eb8415a1f6"
  },
  {
   "cell_type": "code",
   "outputs": [
    {
     "name": "stdout",
     "output_type": "stream",
     "text": [
      "audio - Ens1D on ResRaw with q1=30, q2=50, eps1=0.008, eps2=0.02 evaluated on Rawnet\n",
      "AUC clean: 0.991, EER clean: 4.908\n",
      "--> AUC perturbed: 0.004, EER perturbed: 98.858 <-- \n",
      "------------------------\n"
     ]
    }
   ],
   "source": [
    "_,_,_, fpr_Rawnet2_Ens1D_ResRaw, tpr_Rawnet2_Ens1D_ResRaw, roc_auc_Rawnet2_Ens1D_ResRaw, _, eer_Rawnet2_Ens1D_ResRaw = ROC(attack='Ens1D', attack_model='ResRaw', epsilon=None, eps1=0.008, eps2=0.02, q_1=30, q_2=50,  eval_model='Rawnet', model_version='v0', dataset='whole', type_of_spec='pow', feature='audio')"
   ],
   "metadata": {
    "collapsed": false,
    "ExecuteTime": {
     "end_time": "2024-10-19T09:43:23.779982Z",
     "start_time": "2024-10-19T09:43:21.577972Z"
    }
   },
   "id": "5942346afbeefb92",
   "execution_count": 21
  },
  {
   "cell_type": "code",
   "outputs": [
    {
     "name": "stdout",
     "output_type": "stream",
     "text": [
      "audio - Ens1D on ResRaw with q1=30, q2=50, eps1=0.008, eps2=0.02 evaluated on ResNet1D\n",
      "AUC clean: 0.968, EER clean: 7.179\n",
      "--> AUC perturbed: 0.015, EER perturbed: 97.675 <-- \n",
      "------------------------\n"
     ]
    }
   ],
   "source": [
    "_,_,_, fpr_ResNet1D_Ens1D_ResRaw, tpr_ResNet1D_Ens1D_ResRaw, roc_auc_ResNet1D_Ens1D_ResRaw, _, eer_ResNet1D_Ens1D_ResRaw = ROC(attack='Ens1D', attack_model='ResRaw', epsilon=None, eps1=0.008, eps2=0.02, q_1=30, q_2=50,  eval_model='ResNet1D', model_version='v0', dataset='whole', type_of_spec='pow', feature='audio')"
   ],
   "metadata": {
    "collapsed": false,
    "ExecuteTime": {
     "end_time": "2024-10-19T09:43:25.931618Z",
     "start_time": "2024-10-19T09:43:23.781587Z"
    }
   },
   "id": "ae7fe5b5fcecdc19",
   "execution_count": 22
  },
  {
   "cell_type": "code",
   "outputs": [
    {
     "data": {
      "text/plain": "<Figure size 640x480 with 1 Axes>",
      "image/png": "[encoded data removed]"
     },
     "metadata": {},
     "output_type": "display_data"
    },
    {
     "name": "stdout",
     "output_type": "stream",
     "text": [
      "audio - Ens1D on ResRaw with q1=30, q2=50, eps1=0.008, eps2=0.02 evaluated on SENet1D\n",
      "AUC clean: 0.947, EER clean: 10.374\n",
      "--> AUC perturbed: 0.833, EER perturbed: 21.237 <-- \n",
      "------------------------\n"
     ]
    }
   ],
   "source": [
    "_,_,_, fpr_SENet1D_Ens1D_ResRaw, tpr_SENet1D_Ens1D_ResRaw, roc_auc_SENet1D_Ens1D_ResRaw, _, eer_SENet1D_Ens1D_ResRaw = ROC(attack='Ens1D', attack_model='ResRaw', epsilon=None, eps1=0.008, eps2=0.02, q_1=30, q_2=50,  eval_model='SENet1D', model_version='v0', dataset='whole', type_of_spec='pow', feature='audio')"
   ],
   "metadata": {
    "collapsed": false,
    "ExecuteTime": {
     "end_time": "2024-10-19T10:04:29.512470Z",
     "start_time": "2024-10-19T10:04:26.382451Z"
    }
   },
   "id": "bf2299a8d0b434f4",
   "execution_count": 28
  },
  {
   "cell_type": "code",
   "outputs": [],
   "source": [],
   "metadata": {
    "collapsed": false
   },
   "id": "a36b40fe96d8762f"
  },
  {
   "cell_type": "code",
   "outputs": [
    {
     "data": {
      "text/plain": "<Figure size 600x600 with 1 Axes>",
      "image/png": "[encoded data removed]"
     },
     "metadata": {},
     "output_type": "display_data"
    }
   ],
   "source": [
    "# plot Ensemble\n",
    "plt.figure()\n",
    "plt.gcf().set_size_inches(6, 6)\n",
    "plt.plot(fpr_RawNet2_c, tpr_RawNet2_c, color='darkorange', lw=1.5, label='Clean RawNet2 (AUC={:.2f})'.format(roc_auc_RawNet2_c))\n",
    "plt.plot(fpr_Res1D_c, tpr_Res1D_c, color='cyan', lw=1.5, label='Clean Res1D (AUC={:.2f})'.format(roc_auc_Res1D_c))\n",
    "plt.plot(fpr_Rawnet2_Ens1D_ResRaw, tpr_Rawnet2_Ens1D_ResRaw, color='red', lw=1.5, label='Ens1D on RawNet2 (AUC={:.2f})'.format(roc_auc_Rawnet2_Ens1D_ResRaw))\n",
    "plt.plot(fpr_ResNet1D_Ens1D_ResRaw, tpr_ResNet1D_Ens1D_ResRaw, color='blue', lw=1.5, label='Ens1D on ResNet1D(AUC={:.2f})'.format(roc_auc_ResNet1D_Ens1D_ResRaw) )\n",
    "plt.plot([0, 1], [0, 1], color='navy', lw=1.5, linestyle='--')\n",
    "# Set axis limits and labels\n",
    "plt.xlim([0.0, 1.0])\n",
    "plt.ylim([0.0, 1.05])\n",
    "plt.xlabel('False Positive Rate')\n",
    "plt.ylabel('True Positive Rate')\n",
    "plt.title(f'ROC - Ens1D ResRaw')\n",
    "plt.subplots_adjust(right=1)\n",
    "plt.legend(loc='center left', bbox_to_anchor=(1, 0.5))\n",
    "plt.show()"
   ],
   "metadata": {
    "collapsed": false,
    "ExecuteTime": {
     "end_time": "2024-10-19T10:05:18.822160Z",
     "start_time": "2024-10-19T10:05:18.468774Z"
    }
   },
   "id": "eb4f9e3d4b89ad0a",
   "execution_count": 30
  },
  {
   "cell_type": "code",
   "outputs": [],
   "source": [],
   "metadata": {
    "collapsed": false
   },
   "id": "d44d424ee6fa97"
  }
 ],
 "metadata": {
  "kernelspec": {
   "display_name": "Python 3",
   "language": "python",
   "name": "python3"
  },
  "language_info": {
   "codemirror_mode": {
    "name": "ipython",
    "version": 2
   },
   "file_extension": ".py",
   "mimetype": "text/x-python",
   "name": "python",
   "nbconvert_exporter": "python",
   "pygments_lexer": "ipython2",
   "version": "2.7.6"
  }
 },
 "nbformat": 4,
 "nbformat_minor": 5
}
