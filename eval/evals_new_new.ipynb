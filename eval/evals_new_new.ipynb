{
 "cells": [
  {
   "cell_type": "code",
   "execution_count": 2,
   "id": "initial_id",
   "metadata": {
    "collapsed": true,
    "ExecuteTime": {
     "end_time": "2024-10-02T15:58:05.791314Z",
     "start_time": "2024-10-02T15:58:01.180090Z"
    }
   },
   "outputs": [],
   "source": [
    "from src.utils import *\n",
    "import sys\n",
    "from tqdm import tqdm\n",
    "import csv\n",
    "import re\n",
    "from sklearn.metrics import accuracy_score, balanced_accuracy_score"
   ]
  },
  {
   "cell_type": "code",
   "outputs": [],
   "source": [
    "# Function to extract the numeric part of the filename (after the last underscore and before the file extension)\n",
    "def extract_numeric_part(path):\n",
    "    # This regex extracts the number after the last underscore and before the file extension (.flac)\n",
    "    match = re.search(r'_(\\d+)\\.flac$', path)\n",
    "    if match:\n",
    "        return match.group(1)  # Return only the numeric part\n",
    "    return None  # Return None if the pattern doesn't match\n",
    "\n",
    "\n",
    "def pred_and_labels_clean(file1_csv, file2_csv):\n",
    "    '''\n",
    "    file1: probabilities list .csv\n",
    "    file2: eval dataset .csv\n",
    "    '''\n",
    "    \n",
    "    prediction_list = []\n",
    "    label_list = []\n",
    "    \n",
    "    # Step 1: Read file2 into a dictionary for quick look-up based on the numeric part of the file path\n",
    "    file2_dict = {}\n",
    "    with open(file2_csv, mode='r') as file2:\n",
    "        reader = csv.DictReader(file2)\n",
    "        for row in reader:\n",
    "            numeric_file2 = extract_numeric_part(row['path'])\n",
    "            if numeric_file2:\n",
    "                file2_dict[numeric_file2] = row['label']\n",
    "\n",
    "    # Step 2: Traverse file1 and check against file2 dictionary, using tqdm for progress tracking\n",
    "    with open(file1_csv, mode='r') as file1:\n",
    "        reader = csv.DictReader(file1)\n",
    "        total_rows = sum(1 for _ in open(file1_csv)) - 1  # Calculate total rows for the progress bar (excluding header)\n",
    "    \n",
    "        file1.seek(0)  # Reset the reader position back to the start of the file after counting\n",
    "        for row in reader:\n",
    "            # Extract the numeric part from file1's path\n",
    "            file1_path = row['Filename']\n",
    "            numeric_file1 = extract_numeric_part(file1_path)\n",
    "        \n",
    "            # Step 3: Check if the numeric part exists in the file2 dictionary\n",
    "            if numeric_file1 and numeric_file1 in file2_dict:\n",
    "                pred_class_0 = float(row['Pred.class 0'])\n",
    "                pred_class_1 = float(row['Pred.class 1'])\n",
    "            \n",
    "                # Step 4: Append prediction based on comparison\n",
    "                prediction_list.append(0 if pred_class_0 > pred_class_1 else 1)\n",
    "            \n",
    "                # Step 5: Append the corresponding label from file2\n",
    "                label_list.append(int(file2_dict[numeric_file1]))\n",
    "\n",
    "    \n",
    "    return prediction_list, label_list\n",
    "\n",
    "\n",
    "\n",
    "\n",
    "def pred_and_labels_attack(file1_csv, file2_csv):\n",
    "    \n",
    "    def extract_numeric_part(path):\n",
    "        # This regex captures the numeric part following 'LA_E_' and stops at the next underscore or period\n",
    "        match = re.search(r'LA_E_(\\d+)', path)\n",
    "        if match:\n",
    "            return match.group(1)  # Return only the numeric part\n",
    "        return None  # Return None if the pattern doesn't match\n",
    "    \n",
    "    prediction_list = []\n",
    "    label_list = []\n",
    "    \n",
    "    # Step 1: Read file2 into a dictionary for quick look-up based on the numeric part of the file path\n",
    "    file2_dict = {}\n",
    "    with open(file2_csv, mode='r') as file2:\n",
    "        reader = csv.DictReader(file2)\n",
    "        for row in reader:\n",
    "            numeric_file2 = extract_numeric_part(row['path'])\n",
    "            if numeric_file2:\n",
    "                file2_dict[numeric_file2] = row['label']\n",
    "\n",
    "    # Step 2: Traverse file1 and check against file2 dictionary, using tqdm for progress tracking\n",
    "    with open(file1_csv, mode='r') as file1:\n",
    "        reader = csv.DictReader(file1)\n",
    "        total_rows = sum(1 for _ in open(file1_csv)) - 1  # Calculate total rows for the progress bar (excluding header)\n",
    "    \n",
    "        file1.seek(0)  # Reset the reader position back to the start of the file after counting\n",
    "        for row in reader:\n",
    "            # Extract the numeric part from file1's path\n",
    "            file1_path = row['Filename']\n",
    "            numeric_file1 = extract_numeric_part(file1_path)\n",
    "        \n",
    "            # Step 3: Check if the numeric part exists in the file2 dictionary\n",
    "            if numeric_file1 and numeric_file1 in file2_dict:\n",
    "                pred_class_0 = float(row['Pred.class 0'])\n",
    "                pred_class_1 = float(row['Pred.class 1'])\n",
    "            \n",
    "                # Step 4: Append prediction based on comparison\n",
    "                prediction_list.append(0 if pred_class_0 > pred_class_1 else 1)\n",
    "            \n",
    "                # Step 5: Append the corresponding label from file2\n",
    "                label_list.append(int(file2_dict[numeric_file1]))\n",
    "\n",
    "    \n",
    "    return prediction_list, label_list\n",
    "\n",
    "\n"
   ],
   "metadata": {
    "collapsed": false,
    "ExecuteTime": {
     "end_time": "2024-10-02T15:58:05.800230Z",
     "start_time": "2024-10-02T15:58:05.792680Z"
    }
   },
   "id": "764114fe1a692152",
   "execution_count": 3
  },
  {
   "cell_type": "code",
   "outputs": [],
   "source": [
    "def eval_clean(eval_model, model_version, type_of_spec, feature, dataset):\n",
    "    \n",
    "    script_dir = os.getcwd()  # get directory of current script\n",
    "    print('Evaluating clean dataset...')\n",
    "    probs_csv = f'probs_{eval_model}_{model_version}_clean_{dataset}_{type_of_spec}_{feature}.csv'\n",
    "    #probs = pd.read_csv(os.path.join(script_dir, probs_csv), header=0, engine='python')\n",
    "    \n",
    "    if dataset == '3s':\n",
    "        eval_csv = os.path.join(os.path.dirname(script_dir), 'data', 'df_eval_19_3s.csv' )\n",
    "    else:\n",
    "        eval_csv = os.path.join(os.path.dirname(script_dir), 'data', 'df_eval_19.csv' )\n",
    "\n",
    "\n",
    "    pred_labels, GT_labels = pred_and_labels_clean(file1_csv=probs_csv, file2_csv=eval_csv)\n",
    "    \n",
    "    print(len(pred_labels))\n",
    "    print(len(GT_labels))\n",
    "\n",
    "    # UNBALANCED ACCURACY\n",
    "    UA = accuracy_score(y_true=GT_labels, y_pred=pred_labels)\n",
    "    BA = balanced_accuracy_score(y_true=GT_labels, y_pred=pred_labels)\n",
    "\n",
    "    print(f'Eval model: {eval_model} {model_version}, clean dataset: {dataset}, feature = {feature} --> UA = {UA*100:.2f}%, BA = {BA*100:.2f}% ')\n",
    "    "
   ],
   "metadata": {
    "collapsed": false,
    "ExecuteTime": {
     "end_time": "2024-10-02T15:58:05.947570Z",
     "start_time": "2024-10-02T15:58:05.801232Z"
    }
   },
   "id": "4e29dca2f7faf26b",
   "execution_count": 4
  },
  {
   "cell_type": "code",
   "outputs": [],
   "source": [
    "def eval_attack(attack, eval_model, attack_model, model_version, type_of_spec, feature, dataset, epsilon, q_res, q_sen):\n",
    "    \n",
    "    epsilon_str = str(epsilon).replace('.', 'dot')\n",
    "    script_dir = os.getcwd()  # get directory of current script\n",
    "    \n",
    "    if attack != 'Ensemble' and attack != None:\n",
    "        probs_csv = f'probs_{eval_model}_{model_version}_{attack}_{attack_model}_{dataset}_{epsilon_str}_{type_of_spec}_{feature}.csv'\n",
    "        probs = pd.read_csv(os.path.join(script_dir, probs_csv), header=0, engine='python')\n",
    "    elif attack == 'Ensemble':\n",
    "        probs_csv = f'probs_{eval_model}_{model_version}_Ensemble_{dataset}_{q_res}_{q_sen}_{epsilon_str}_{type_of_spec}_{feature}.csv'\n",
    "        probs = pd.read_csv(os.path.join(script_dir, probs_csv), header=0, engine='python')\n",
    "\n",
    "    # GT labels\n",
    "    if dataset == '3s':\n",
    "        eval_csv = os.path.join(os.path.dirname(script_dir), 'data', 'df_eval_19_3s.csv' )\n",
    "    else:\n",
    "        eval_csv = os.path.join(os.path.dirname(script_dir), 'data', 'df_eval_19.csv' )\n",
    "        \n",
    "\n",
    "    pred_labels, GT_labels = pred_and_labels_attack(file1_csv=probs_csv, file2_csv=eval_csv)\n",
    "    \n",
    "    #print(len(pred_labels))\n",
    "    #print(len(GT_labels))\n",
    "\n",
    "    # UNBALANCED ACCURACY\n",
    "    UA = accuracy_score(y_true=GT_labels, y_pred=pred_labels)\n",
    "    BA = balanced_accuracy_score(y_true=GT_labels, y_pred=pred_labels)\n",
    "    \n",
    "    if attack != 'Ensemble':    \n",
    "        print(f'Eval model: {eval_model} {model_version}, attack: {attack}, attack model: {attack_model} {model_version}, dataset: {dataset}, eps={epsilon}, feature = {feature} --> UA = {UA*100:.2f}%, BA = {BA*100:.2f}% ')\n",
    "    elif attack == 'Ensemble':\n",
    "        print(f'Eval model: {eval_model} {model_version}, attack: Ensemble, q_res = {q_res}, q_sen = {q_sen}, dataset: {dataset}, eps={epsilon}, feature = {feature} --> UA = {UA*100:.2f}%, BA = {BA*100:.2f}% ')"
   ],
   "metadata": {
    "collapsed": false,
    "ExecuteTime": {
     "end_time": "2024-10-02T15:58:06.074770Z",
     "start_time": "2024-10-02T15:58:05.954688Z"
    }
   },
   "id": "f5b9d3e910b3a8f9",
   "execution_count": 5
  },
  {
   "cell_type": "code",
   "outputs": [],
   "source": [
    "def ASR(attack, eval_model, attack_model, model_version, type_of_spec, feature, dataset, epsilon, q_res, q_sen):\n",
    "    epsilon_str = str(epsilon).replace('.', 'dot')\n",
    "    script_dir = os.getcwd()  # get directory of current script\n",
    "    \n",
    "    if attack != 'Ensemble' and attack != 'Ensemble1D' and attack != None:\n",
    "        probs_csv = f'probs_{eval_model}_{model_version}_{attack}_{attack_model}_{dataset}_{epsilon_str}_{type_of_spec}_{feature}.csv'\n",
    "        probs = pd.read_csv(os.path.join(script_dir, probs_csv), header=0, engine='python')\n",
    "    elif attack == 'Ensemble' or attack == 'Ensemble1D':\n",
    "        probs_csv = f'probs_{eval_model}_{model_version}_Ensemble_{dataset}_{q_res}_{q_sen}_{epsilon_str}_{type_of_spec}_{feature}.csv'\n",
    "        probs = pd.read_csv(os.path.join(script_dir, probs_csv), header=0, engine='python')\n",
    "\n",
    "    # GT labels\n",
    "    if dataset == '3s':\n",
    "        eval_csv = os.path.join(os.path.dirname(script_dir), 'data', 'df_eval_19_3s.csv' )\n",
    "    else:\n",
    "        eval_csv = os.path.join(os.path.dirname(script_dir), 'data', 'df_eval_19.csv' )\n",
    "        \n",
    "\n",
    "    pred_labels, GT_labels = pred_and_labels_attack(file1_csv=probs_csv, file2_csv=eval_csv)\n",
    "    pred_labels = np.array(pred_labels)\n",
    "    GT_labels = np.array(GT_labels)\n",
    "    \n",
    "    assert len(pred_labels) == len(GT_labels), print('ouch, different lengths')\n",
    "  \n",
    "    succesful_attacks = np.sum(pred_labels != GT_labels)\n",
    "    print(succesful_attacks)\n",
    "    total_samples = len(pred_labels)\n",
    "    ASR = (succesful_attacks/total_samples)*100\n",
    "    \n",
    "    if attack != 'Ensemble':    \n",
    "        print(f'Eval model: {eval_model} {model_version}, attack: {attack}, attack model: {attack_model} {model_version}, dataset: {dataset}, eps={epsilon}, feature = {feature} --> ASR = {ASR:.2f}%')\n",
    "    elif attack == 'Ensemble':\n",
    "        print(f'Eval model: {eval_model} {model_version}, attack: Ensemble, q_res = {q_res}, q_sen = {q_sen}, dataset: {dataset}, eps={epsilon}, feature = {feature} --> ASR = {ASR:.2f}%')"
   ],
   "metadata": {
    "collapsed": false,
    "ExecuteTime": {
     "end_time": "2024-10-02T15:59:56.517593Z",
     "start_time": "2024-10-02T15:59:56.509570Z"
    }
   },
   "id": "a9cae993f19658e9",
   "execution_count": 10
  },
  {
   "cell_type": "markdown",
   "source": [
    "***\n",
    "## Clean dataset with magnitude"
   ],
   "metadata": {
    "collapsed": false
   },
   "id": "9b693cbb1669d921"
  },
  {
   "cell_type": "code",
   "outputs": [
    {
     "name": "stdout",
     "output_type": "stream",
     "text": [
      "Evaluating clean dataset...\n",
      "71237\n",
      "71237\n",
      "Eval model: ResNet v0, clean dataset: whole, feature = audio --> UA = 89.45%, BA = 49.89% \n"
     ]
    }
   ],
   "source": [
    "eval_clean(eval_model='ResNet', model_version='v0', type_of_spec='mag', feature='audio', dataset='whole')"
   ],
   "metadata": {
    "collapsed": false,
    "ExecuteTime": {
     "end_time": "2024-09-30T09:27:21.430317Z",
     "start_time": "2024-09-30T09:27:19.906940Z"
    }
   },
   "id": "1f93ec7ffe26ef00",
   "execution_count": 13
  },
  {
   "cell_type": "markdown",
   "source": [
    "***\n",
    "## Clean dataset SENet and ResNet"
   ],
   "metadata": {
    "collapsed": false
   },
   "id": "ce5d8c10e8f59010"
  },
  {
   "cell_type": "code",
   "outputs": [
    {
     "name": "stdout",
     "output_type": "stream",
     "text": [
      "Evaluating clean dataset...\n",
      "71237\n",
      "71237\n",
      "Eval model: ResNet v0, clean dataset: whole, feature = audio --> UA = 89.45%, BA = 49.89% \n"
     ]
    }
   ],
   "source": [
    "eval_clean(eval_model='ResNet', model_version='v0', type_of_spec='pow', feature='audio', dataset='whole')"
   ],
   "metadata": {
    "collapsed": false,
    "ExecuteTime": {
     "end_time": "2024-09-30T09:09:25.787660Z",
     "start_time": "2024-09-30T09:09:24.587439Z"
    }
   },
   "id": "e1fbda93ed7cd98e",
   "execution_count": 5
  },
  {
   "cell_type": "code",
   "outputs": [
    {
     "name": "stdout",
     "output_type": "stream",
     "text": [
      "Evaluating clean dataset...\n",
      "71237\n",
      "71237\n",
      "Eval model: SENet v0, clean dataset: whole, feature = audio --> UA = 70.80%, BA = 82.62% \n"
     ]
    }
   ],
   "source": [
    "eval_clean(eval_model='SENet', model_version='v0', type_of_spec='pow', feature='audio', dataset='whole')"
   ],
   "metadata": {
    "collapsed": false,
    "ExecuteTime": {
     "end_time": "2024-09-30T09:31:04.237666Z",
     "start_time": "2024-09-30T09:31:02.515247Z"
    }
   },
   "id": "c761360f57da0d60",
   "execution_count": 16
  },
  {
   "cell_type": "markdown",
   "source": [
    "***\n",
    "## Whole dataset without normalization"
   ],
   "metadata": {
    "collapsed": false
   },
   "id": "109cca32287234fc"
  },
  {
   "cell_type": "code",
   "outputs": [
    {
     "name": "stdout",
     "output_type": "stream",
     "text": [
      "Eval model: ResNet v0, attack: FGSM, attack model: ResNet v0, dataset: whole, eps=3.0, feature = audio --> UA = 1.39%, BA = 0.82% \n",
      "Eval model: ResNet v0, attack: FGSM, attack model: ResNet v0, dataset: whole, eps=3.0, feature = spec --> UA = 0.00%, BA = 0.00% \n"
     ]
    }
   ],
   "source": [
    "eval_attack(attack='FGSM', eval_model='ResNet', attack_model='ResNet', model_version='v0', type_of_spec='pow', feature='audio', dataset='whole', epsilon=3.0, q_res=None, q_sen=None)\n",
    "eval_attack(attack='FGSM', eval_model='ResNet', attack_model='ResNet', model_version='v0', type_of_spec='pow', feature='spec', dataset='whole', epsilon=3.0, q_res=None, q_sen=None)"
   ],
   "metadata": {
    "collapsed": false,
    "ExecuteTime": {
     "end_time": "2024-09-30T09:20:47.097711Z",
     "start_time": "2024-09-30T09:20:44.247011Z"
    }
   },
   "id": "407a676e8625e9f7",
   "execution_count": 11
  },
  {
   "cell_type": "code",
   "outputs": [
    {
     "name": "stdout",
     "output_type": "stream",
     "text": [
      "Eval model: SENet v0, attack: FGSM, attack model: SENet v0, dataset: whole, eps=3.0, feature = audio --> UA = 13.50%, BA = 25.57% \n",
      "Eval model: SENet v0, attack: FGSM, attack model: SENet v0, dataset: whole, eps=3.0, feature = spec --> UA = 9.24%, BA = 5.15% \n"
     ]
    }
   ],
   "source": [
    "eval_attack(attack='FGSM', eval_model='SENet', attack_model='SENet', model_version='v0', type_of_spec='pow', feature='audio', dataset='whole', epsilon=3.0, q_res=None, q_sen=None)\n",
    "eval_attack(attack='FGSM', eval_model='SENet', attack_model='SENet', model_version='v0', type_of_spec='pow', feature='spec', dataset='whole', epsilon=3.0, q_res=None, q_sen=None)"
   ],
   "metadata": {
    "collapsed": false,
    "ExecuteTime": {
     "end_time": "2024-09-30T09:21:06.759324Z",
     "start_time": "2024-09-30T09:21:01.271939Z"
    }
   },
   "id": "41864d41bedf7c69",
   "execution_count": 12
  },
  {
   "cell_type": "markdown",
   "source": [
    "***\n",
    "## Whole dataset with normalization"
   ],
   "metadata": {
    "collapsed": false
   },
   "id": "654bfc1696bfc097"
  },
  {
   "cell_type": "code",
   "outputs": [
    {
     "name": "stdout",
     "output_type": "stream",
     "text": [
      "70250\n",
      "Eval model: ResNet v0, attack: FGSM, attack model: ResNet v0, dataset: whole, eps=3.0, feature = audio --> ASR = 98.61%\n",
      "71237\n",
      "Eval model: ResNet v0, attack: FGSM, attack model: ResNet v0, dataset: whole, eps=3.0, feature = spec --> ASR = 100.00%\n"
     ]
    }
   ],
   "source": [
    "ASR(attack='FGSM', eval_model='ResNet', attack_model='ResNet', model_version='v0', type_of_spec='pow', feature='audio', dataset='whole', epsilon=3.0, q_res=None, q_sen=None)\n",
    "ASR(attack='FGSM', eval_model='ResNet', attack_model='ResNet', model_version='v0', type_of_spec='pow', feature='spec', dataset='whole', epsilon=3.0, q_res=None, q_sen=None)"
   ],
   "metadata": {
    "collapsed": false,
    "ExecuteTime": {
     "end_time": "2024-10-02T12:57:11.013416Z",
     "start_time": "2024-10-02T12:57:08.450714Z"
    }
   },
   "id": "18def04caa2e2ed7",
   "execution_count": 32
  },
  {
   "cell_type": "code",
   "outputs": [
    {
     "name": "stdout",
     "output_type": "stream",
     "text": [
      "53669\n",
      "Eval model: SENet v0, attack: FGSM, attack model: SENet v0, dataset: whole, eps=3.0, feature = audio --> ASR = 75.34%\n",
      "64663\n",
      "Eval model: SENet v0, attack: FGSM, attack model: SENet v0, dataset: whole, eps=3.0, feature = spec --> ASR = 90.77%\n"
     ]
    }
   ],
   "source": [
    "ASR(attack='FGSM', eval_model='SENet', attack_model='SENet', model_version='v0', type_of_spec='pow', feature='audio', dataset='whole', epsilon=3.0, q_res=None, q_sen=None)\n",
    "ASR(attack='FGSM', eval_model='SENet', attack_model='SENet', model_version='v0', type_of_spec='pow', feature='spec', dataset='whole', epsilon=3.0, q_res=None, q_sen=None)"
   ],
   "metadata": {
    "collapsed": false,
    "ExecuteTime": {
     "end_time": "2024-10-02T12:59:24.826235Z",
     "start_time": "2024-10-02T12:59:20.675411Z"
    }
   },
   "id": "b673cbbe944caa81",
   "execution_count": 35
  },
  {
   "cell_type": "markdown",
   "source": [
    "***\n",
    "## Transfer FGSM ResNet and SENet"
   ],
   "metadata": {
    "collapsed": false
   },
   "id": "7f748f1a9bae72ec"
  },
  {
   "cell_type": "code",
   "outputs": [
    {
     "name": "stdout",
     "output_type": "stream",
     "text": [
      "29522\n",
      "Eval model: SENet v0, attack: FGSM, attack model: ResNet v0, dataset: whole, eps=3.0, feature = audio --> ASR = 41.44%\n",
      "12945\n",
      "Eval model: ResNet v0, attack: FGSM, attack model: SENet v0, dataset: whole, eps=3.0, feature = audio --> ASR = 18.17%\n"
     ]
    }
   ],
   "source": [
    "ASR(attack='FGSM', eval_model='SENet', attack_model='ResNet', model_version='v0', type_of_spec='pow', feature='audio', dataset='whole', epsilon=3.0, q_res=None, q_sen=None)\n",
    "ASR(attack='FGSM', eval_model='ResNet', attack_model='SENet', model_version='v0', type_of_spec='pow', feature='audio', dataset='whole', epsilon=3.0, q_res=None, q_sen=None)"
   ],
   "metadata": {
    "collapsed": false,
    "ExecuteTime": {
     "end_time": "2024-10-02T16:50:07.245985Z",
     "start_time": "2024-10-02T16:50:05.502671Z"
    }
   },
   "id": "ca030319412c241b",
   "execution_count": 20
  },
  {
   "cell_type": "markdown",
   "source": [
    "***\n",
    "## ResNet1D on clean whole dataset"
   ],
   "metadata": {
    "collapsed": false
   },
   "id": "493520afe868b870"
  },
  {
   "cell_type": "code",
   "outputs": [
    {
     "name": "stdout",
     "output_type": "stream",
     "text": [
      "Evaluating clean dataset...\n",
      "71237\n",
      "71237\n",
      "Eval model: ResNet1D v0, clean dataset: whole, feature = audio --> UA = 93.32%, BA = 91.72% \n"
     ]
    }
   ],
   "source": [
    "eval_clean(eval_model='ResNet1D', model_version='v0', type_of_spec='pow', feature='audio', dataset='whole')"
   ],
   "metadata": {
    "collapsed": false,
    "ExecuteTime": {
     "end_time": "2024-10-02T11:06:52.206162Z",
     "start_time": "2024-10-02T11:06:50.615252Z"
    }
   },
   "id": "e65cd62cd0b5229e",
   "execution_count": 7
  },
  {
   "cell_type": "markdown",
   "source": [
    "***\n",
    "## ResNet1D BIM attack"
   ],
   "metadata": {
    "collapsed": false
   },
   "id": "ab1499280a288c07"
  },
  {
   "cell_type": "code",
   "outputs": [
    {
     "name": "stdout",
     "output_type": "stream",
     "text": [
      "Eval model: ResNet1D v0, attack: BIM, attack model: ResNet1D v0, dataset: 3s, eps=None, feature = audio --> UA = 31.61%, BA = 18.32% \n"
     ]
    }
   ],
   "source": [
    "eval_attack(attack='BIM', eval_model='ResNet1D', attack_model='ResNet1D', model_version='v0', type_of_spec='pow', feature='audio', dataset='3s', epsilon=None, q_res=None, q_sen=None)"
   ],
   "metadata": {
    "collapsed": false,
    "ExecuteTime": {
     "end_time": "2024-10-01T16:07:55.056231Z",
     "start_time": "2024-10-01T16:07:54.345977Z"
    }
   },
   "id": "fef4824c23c05d64",
   "execution_count": 7
  },
  {
   "cell_type": "code",
   "outputs": [
    {
     "name": "stdout",
     "output_type": "stream",
     "text": [
      "Eval model: ResNet v0, attack: BIM, attack model: ResNet1D v0, dataset: 3s, eps=None, feature = audio --> UA = 3.45%, BA = 2.00% \n"
     ]
    }
   ],
   "source": [
    "eval_attack(attack='BIM', eval_model='ResNet', attack_model='ResNet1D', model_version='v0', type_of_spec='pow', feature='audio', dataset='3s', epsilon=None, q_res=None, q_sen=None)"
   ],
   "metadata": {
    "collapsed": false,
    "ExecuteTime": {
     "end_time": "2024-10-01T16:14:23.720502Z",
     "start_time": "2024-10-01T16:14:22.621522Z"
    }
   },
   "id": "3e3a908800ebba8d",
   "execution_count": 10
  },
  {
   "cell_type": "code",
   "outputs": [
    {
     "name": "stdout",
     "output_type": "stream",
     "text": [
      "Eval model: SENet v0, attack: BIM, attack model: ResNet1D v0, dataset: 3s, eps=None, feature = audio --> UA = 47.14%, BA = 66.51% \n"
     ]
    }
   ],
   "source": [
    "eval_attack(attack='BIM', eval_model='SENet', attack_model='ResNet1D', model_version='v0', type_of_spec='pow', feature='audio', dataset='3s', epsilon=None, q_res=None, q_sen=None)"
   ],
   "metadata": {
    "collapsed": false,
    "ExecuteTime": {
     "end_time": "2024-10-01T16:21:00.321198Z",
     "start_time": "2024-10-01T16:20:59.352964Z"
    }
   },
   "id": "235796615d2673a1",
   "execution_count": 12
  },
  {
   "cell_type": "code",
   "outputs": [
    {
     "name": "stdout",
     "output_type": "stream",
     "text": [
      "Eval model: Rawnet v0, attack: BIM, attack model: ResNet1D v0, dataset: 3s, eps=None, feature = audio --> UA = 95.75%, BA = 93.39% \n"
     ]
    }
   ],
   "source": [
    "eval_attack(attack='BIM', eval_model='Rawnet', attack_model='ResNet1D', model_version='v0', type_of_spec='pow', feature='audio', dataset='3s', epsilon=None, q_res=None, q_sen=None)"
   ],
   "metadata": {
    "collapsed": false,
    "ExecuteTime": {
     "end_time": "2024-10-02T11:15:55.582005Z",
     "start_time": "2024-10-02T11:15:54.602892Z"
    }
   },
   "id": "5fd113032f213a32",
   "execution_count": 9
  },
  {
   "cell_type": "markdown",
   "source": [
    "***\n",
    "## ASR of BIM on all models"
   ],
   "metadata": {
    "collapsed": false
   },
   "id": "9aeea05c10973368"
  },
  {
   "cell_type": "code",
   "outputs": [
    {
     "name": "stdout",
     "output_type": "stream",
     "text": [
      "30403\n",
      "Eval model: ResNet v0, attack: BIM, attack model: ResNet1D v0, dataset: 3s, eps=None, feature = audio --> ASR = 96.55%\n"
     ]
    }
   ],
   "source": [
    "ASR(attack='BIM', eval_model='ResNet', attack_model='ResNet1D', model_version='v0', type_of_spec='pow', feature='audio', dataset='3s', epsilon=None, q_res=None, q_sen=None)"
   ],
   "metadata": {
    "collapsed": false,
    "ExecuteTime": {
     "end_time": "2024-10-02T13:07:04.581772Z",
     "start_time": "2024-10-02T13:07:03.639306Z"
    }
   },
   "id": "8d736e3eae619182",
   "execution_count": 44
  },
  {
   "cell_type": "code",
   "outputs": [
    {
     "name": "stdout",
     "output_type": "stream",
     "text": [
      "16644\n",
      "Eval model: SENet v0, attack: BIM, attack model: ResNet1D v0, dataset: 3s, eps=None, feature = audio --> ASR = 52.86%\n"
     ]
    }
   ],
   "source": [
    "ASR(attack='BIM', eval_model='SENet', attack_model='ResNet1D', model_version='v0', type_of_spec='pow', feature='audio', dataset='3s', epsilon=None, q_res=None, q_sen=None)"
   ],
   "metadata": {
    "collapsed": false,
    "ExecuteTime": {
     "end_time": "2024-10-02T13:07:06.739617Z",
     "start_time": "2024-10-02T13:07:05.840869Z"
    }
   },
   "id": "e408431593c7daf",
   "execution_count": 45
  },
  {
   "cell_type": "code",
   "outputs": [
    {
     "name": "stdout",
     "output_type": "stream",
     "text": [
      "21536\n",
      "Eval model: ResNet1D v0, attack: BIM, attack model: ResNet1D v0, dataset: 3s, eps=None, feature = audio --> ASR = 68.39%\n"
     ]
    }
   ],
   "source": [
    "ASR(attack='BIM', eval_model='ResNet1D', attack_model='ResNet1D', model_version='v0', type_of_spec='pow', feature='audio', dataset='3s', epsilon=None, q_res=None, q_sen=None)"
   ],
   "metadata": {
    "collapsed": false,
    "ExecuteTime": {
     "end_time": "2024-10-02T12:54:46.380291Z",
     "start_time": "2024-10-02T12:54:45.756109Z"
    }
   },
   "id": "98169638ec00a38d",
   "execution_count": 31
  },
  {
   "cell_type": "code",
   "outputs": [
    {
     "name": "stdout",
     "output_type": "stream",
     "text": [
      "1339\n",
      "Eval model: Rawnet v0, attack: BIM, attack model: ResNet1D v0, dataset: 3s, eps=None, feature = audio --> ASR = 4.25%\n"
     ]
    }
   ],
   "source": [
    "ASR(attack='BIM', eval_model='Rawnet', attack_model='ResNet1D', model_version='v0', type_of_spec='pow', feature='audio', dataset='3s', epsilon=None, q_res=None, q_sen=None)"
   ],
   "metadata": {
    "collapsed": false,
    "ExecuteTime": {
     "end_time": "2024-10-02T12:54:44.024393Z",
     "start_time": "2024-10-02T12:54:43.528096Z"
    }
   },
   "id": "b66e6b482208482a",
   "execution_count": 30
  },
  {
   "cell_type": "code",
   "outputs": [],
   "source": [],
   "metadata": {
    "collapsed": false
   },
   "id": "c5ac124e2b0ba644"
  },
  {
   "cell_type": "markdown",
   "source": [
    "***\n",
    "## ASR of Ensemble 2D on all models"
   ],
   "metadata": {
    "collapsed": false
   },
   "id": "6af26db0655c9204"
  },
  {
   "cell_type": "code",
   "outputs": [
    {
     "name": "stdout",
     "output_type": "stream",
     "text": [
      "27560\n",
      "Eval model: ResNet v0, attack: Ensemble, q_res = 10, q_sen = 10, dataset: 3s, eps=3.0, feature = audio --> ASR = 87.53%\n",
      "29165\n",
      "Eval model: ResNet v0, attack: Ensemble, q_res = 10, q_sen = 10, dataset: 3s, eps=3.0, feature = spec --> ASR = 92.62%\n"
     ]
    }
   ],
   "source": [
    "ASR(attack='Ensemble', eval_model='ResNet', attack_model=None, model_version='v0', type_of_spec='pow', feature='audio', dataset='3s', epsilon=3.0, q_res=10, q_sen=10)\n",
    "ASR(attack='Ensemble', eval_model='ResNet', attack_model=None, model_version='v0', type_of_spec='pow', feature='spec', dataset='3s', epsilon=3.0, q_res=10, q_sen=10)"
   ],
   "metadata": {
    "collapsed": false,
    "ExecuteTime": {
     "end_time": "2024-10-02T13:03:39.548983Z",
     "start_time": "2024-10-02T13:03:38.126658Z"
    }
   },
   "id": "525fe6f36202b03",
   "execution_count": 39
  },
  {
   "cell_type": "code",
   "outputs": [
    {
     "name": "stdout",
     "output_type": "stream",
     "text": [
      "22018\n",
      "Eval model: SENet v0, attack: Ensemble, q_res = 10, q_sen = 10, dataset: 3s, eps=3.0, feature = audio --> ASR = 69.93%\n",
      "29180\n",
      "Eval model: SENet v0, attack: Ensemble, q_res = 10, q_sen = 10, dataset: 3s, eps=3.0, feature = spec --> ASR = 92.67%\n"
     ]
    }
   ],
   "source": [
    "ASR(attack='Ensemble', eval_model='SENet', attack_model=None, model_version='v0', type_of_spec='pow', feature='audio', dataset='3s', epsilon=3.0, q_res=10, q_sen=10)\n",
    "ASR(attack='Ensemble', eval_model='SENet', attack_model=None, model_version='v0', type_of_spec='pow', feature='spec', dataset='3s', epsilon=3.0, q_res=10, q_sen=10)"
   ],
   "metadata": {
    "collapsed": false,
    "ExecuteTime": {
     "end_time": "2024-10-02T13:04:13.351030Z",
     "start_time": "2024-10-02T13:04:11.468660Z"
    }
   },
   "id": "21736ed16b2bb40f",
   "execution_count": 40
  },
  {
   "cell_type": "code",
   "outputs": [],
   "source": [],
   "metadata": {
    "collapsed": false
   },
   "id": "4f7fce9dd69153b"
  },
  {
   "cell_type": "code",
   "outputs": [],
   "source": [],
   "metadata": {
    "collapsed": false
   },
   "id": "d12130c42e86ce3c"
  },
  {
   "cell_type": "markdown",
   "source": [
    "***\n",
    "## ASR of ensemble 1D on all models"
   ],
   "metadata": {
    "collapsed": false
   },
   "id": "e2c8fd5b272a5162"
  },
  {
   "cell_type": "code",
   "outputs": [
    {
     "name": "stdout",
     "output_type": "stream",
     "text": [
      "9683\n",
      "Eval model: ResNet1D v0, attack: Ensemble1D, attack model: None v0, dataset: 3s, eps=3.0, feature = audio --> ASR = 30.75%\n"
     ]
    }
   ],
   "source": [
    "ASR(attack='Ensemble1D', eval_model='ResNet1D', attack_model=None, model_version='v0', type_of_spec='pow', feature='audio', dataset='3s', epsilon=3.0, q_res=10, q_sen=10)"
   ],
   "metadata": {
    "collapsed": false,
    "ExecuteTime": {
     "end_time": "2024-10-02T16:00:49.837188Z",
     "start_time": "2024-10-02T16:00:49.354068Z"
    }
   },
   "id": "d283b6c3347dd438",
   "execution_count": 12
  },
  {
   "cell_type": "code",
   "outputs": [
    {
     "name": "stdout",
     "output_type": "stream",
     "text": [
      "3797\n",
      "Eval model: Rawnet v0, attack: Ensemble1D, attack model: None v0, dataset: 3s, eps=3.0, feature = audio --> ASR = 12.06%\n"
     ]
    }
   ],
   "source": [
    "ASR(attack='Ensemble1D', eval_model='Rawnet', attack_model=None, model_version='v0', type_of_spec='pow', feature='audio', dataset='3s', epsilon=3.0, q_res=10, q_sen=10)"
   ],
   "metadata": {
    "collapsed": false,
    "ExecuteTime": {
     "end_time": "2024-10-02T16:06:10.071017Z",
     "start_time": "2024-10-02T16:06:09.752269Z"
    }
   },
   "id": "cf2d37dafdf2603b",
   "execution_count": 13
  },
  {
   "cell_type": "code",
   "outputs": [
    {
     "name": "stdout",
     "output_type": "stream",
     "text": [
      "27560\n",
      "Eval model: ResNet v0, attack: Ensemble1D, attack model: None v0, dataset: 3s, eps=3.0, feature = audio --> ASR = 87.53%\n"
     ]
    }
   ],
   "source": [
    "ASR(attack='Ensemble1D', eval_model='ResNet', attack_model=None, model_version='v0', type_of_spec='pow', feature='audio', dataset='3s', epsilon=3.0, q_res=10, q_sen=10)"
   ],
   "metadata": {
    "collapsed": false,
    "ExecuteTime": {
     "end_time": "2024-10-02T16:10:22.665484Z",
     "start_time": "2024-10-02T16:10:22.204741Z"
    }
   },
   "id": "c20606d1b365968c",
   "execution_count": 14
  },
  {
   "cell_type": "code",
   "outputs": [
    {
     "name": "stdout",
     "output_type": "stream",
     "text": [
      "22018\n",
      "Eval model: SENet v0, attack: Ensemble1D, attack model: None v0, dataset: 3s, eps=3.0, feature = audio --> ASR = 69.93%\n"
     ]
    }
   ],
   "source": [
    "ASR(attack='Ensemble1D', eval_model='SENet', attack_model=None, model_version='v0', type_of_spec='pow', feature='audio', dataset='3s', epsilon=3.0, q_res=10, q_sen=10)"
   ],
   "metadata": {
    "collapsed": false,
    "ExecuteTime": {
     "end_time": "2024-10-02T16:16:27.940417Z",
     "start_time": "2024-10-02T16:16:27.693093Z"
    }
   },
   "id": "634b9b411d053749",
   "execution_count": 15
  },
  {
   "cell_type": "code",
   "outputs": [],
   "source": [],
   "metadata": {
    "collapsed": false
   },
   "id": "e1443cb8d1ca0944"
  },
  {
   "cell_type": "code",
   "outputs": [],
   "source": [],
   "metadata": {
    "collapsed": false
   },
   "id": "f106fe1c24b9302a"
  },
  {
   "cell_type": "code",
   "outputs": [],
   "source": [],
   "metadata": {
    "collapsed": false
   },
   "id": "d49115b46c4f9e24"
  },
  {
   "cell_type": "markdown",
   "source": [
    "***\n",
    "## ResNet1D reaction to FGSM on ResNet and SENet"
   ],
   "metadata": {
    "collapsed": false
   },
   "id": "26d87e69e8f69b59"
  },
  {
   "cell_type": "code",
   "outputs": [
    {
     "name": "stdout",
     "output_type": "stream",
     "text": [
      "20868\n",
      "Eval model: ResNet1D v0, attack: FGSM, attack model: ResNet v0, dataset: whole, eps=3.0, feature = audio --> ASR = 29.29%\n"
     ]
    }
   ],
   "source": [
    "ASR(attack='FGSM', eval_model='ResNet1D', attack_model='ResNet', model_version='v0', type_of_spec='pow', feature='audio', dataset='whole', epsilon=3.0, q_res=10, q_sen=10)"
   ],
   "metadata": {
    "collapsed": false,
    "ExecuteTime": {
     "end_time": "2024-10-02T16:56:41.214132Z",
     "start_time": "2024-10-02T16:56:40.453474Z"
    }
   },
   "id": "bea23971d7ae4608",
   "execution_count": 21
  },
  {
   "cell_type": "code",
   "outputs": [],
   "source": [],
   "metadata": {
    "collapsed": false
   },
   "id": "a55e841e1d564eb0"
  }
 ],
 "metadata": {
  "kernelspec": {
   "display_name": "Python 3",
   "language": "python",
   "name": "python3"
  },
  "language_info": {
   "codemirror_mode": {
    "name": "ipython",
    "version": 2
   },
   "file_extension": ".py",
   "mimetype": "text/x-python",
   "name": "python",
   "nbconvert_exporter": "python",
   "pygments_lexer": "ipython2",
   "version": "2.7.6"
  }
 },
 "nbformat": 4,
 "nbformat_minor": 5
}
