{
 "cells": [
  {
   "cell_type": "markdown",
   "source": [
    "# EVALUATIONS ON THE ENSEMBLE ATTACK + FGSM\n",
    "Models used: ResNet, SENet"
   ],
   "metadata": {
    "collapsed": false
   },
   "id": "dffa53fb0f744248"
  },
  {
   "cell_type": "code",
   "outputs": [],
   "source": [
    "import pandas as pd\n",
    "\n",
    "from src.utils import *\n",
    "import sys\n",
    "import csv\n",
    "import re\n",
    "from sklearn.metrics import accuracy_score, balanced_accuracy_score, roc_curve, auc"
   ],
   "metadata": {
    "collapsed": false,
    "ExecuteTime": {
     "end_time": "2024-09-16T12:09:37.627570Z",
     "start_time": "2024-09-16T12:09:29.641853Z"
    }
   },
   "id": "869ea9a43c0110c2",
   "execution_count": 1
  },
  {
   "cell_type": "code",
   "outputs": [],
   "source": [
    "probs_res_ens1010_3_csv = '../eval/prob_ResNet_Ensemble_10_10_3dot0.csv'\n",
    "probs_res_ens1010_3 = pd.read_csv(probs_res_ens1010_3_csv, header=0, engine='python')\n",
    "\n",
    "probs_sen_ens1010_3_csv = '../eval/prob_SENet_Ensemble_10_10_3dot0.csv'\n",
    "probs_sen_ens1010_3 = pd.read_csv(probs_sen_ens1010_3_csv, header=0, engine='python')\n",
    "\n",
    "# AUDIO --------------------\n",
    "#ResNet on ResNet audio\n",
    "probs_res_FGSM_3s_ResNet_3_AUDIO_csv = '../eval/prob_ResNet_FGSM_ResNet_3s_3dot0_AUDIO.csv'\n",
    "probs_res_FGSM_3s_ResNet_3_AUDIO = pd.read_csv(probs_res_FGSM_3s_ResNet_3_AUDIO_csv, header=0, engine='python')\n",
    "\n",
    "#ResNet on SENet audio\n",
    "probs_res_FGSM_3s_SENet_3_AUDIO_csv = '../eval/prob_ResNet_FGSM_SENet_3s_3dot0_AUDIO.csv'\n",
    "probs_res_FGSM_3s_SEsNet_3_AUDIO = pd.read_csv(probs_res_FGSM_3s_SENet_3_AUDIO_csv, header=0, engine='python')\n",
    "\n",
    "#SENet on SENet audio\n",
    "probs_sen_FGSM_3s_SENet_3_AUDIO_csv = '../eval/prob_SENet_FGSM_SENet_3s_3dot0_AUDIO.csv'\n",
    "probs_sen_FGSM_3s_SENet_3_AUDIO = pd.read_csv(probs_sen_FGSM_3s_SENet_3_AUDIO_csv, header=0, engine='python')\n",
    "\n",
    "#SENet on ResNet audio\n",
    "probs_sen_FGSM_3s_ResNet_3_AUDIO_csv = '../eval/prob_SENet_FGSM_ResNet_3s_3dot0_AUDIO.csv'\n",
    "probs_sen_FGSM_3s_ResNet_3_AUDIO = pd.read_csv(probs_sen_FGSM_3s_ResNet_3_AUDIO_csv, header=0, engine='python')\n",
    "\n",
    "# SPECTROGRAMS ------------------------\n",
    "#ResNet on ResNet\n",
    "probs_res_FGSM_3s_ResNet_3_SPEC_csv = '../eval/prob_ResNet_FGSM_ResNet_3s_3dot0_SPEC.csv'\n",
    "probs_res_FGSM_3s_ResNet_3_SPEC = pd.read_csv(probs_res_FGSM_3s_ResNet_3_SPEC_csv, header=0, engine='python')\n",
    "\n",
    "#ResNet on SENet spec\n",
    "probs_res_FGSM_3s_SENet_3_SPEC_csv = '../eval/prob_ResNet_FGSM_SENet_3s_3dot0_SPEC.csv'\n",
    "probs_res_FGSM_3s_SEsNet_3_SPEC = pd.read_csv(probs_res_FGSM_3s_SENet_3_SPEC_csv, header=0, engine='python')\n",
    "\n",
    "#SENet on SENet\n",
    "probs_sen_FGSM_3s_SENet_3_SPEC_csv = '../eval/prob_SENet_FGSM_SENet_3s_3dot0_SPEC.csv'\n",
    "probs_sen_FGSM_3s_SENet_3_SPEC = pd.read_csv(probs_sen_FGSM_3s_SENet_3_SPEC_csv, header=0, engine='python')\n",
    "\n",
    "#SENet on ResNet spec\n",
    "probs_sen_FGSM_3s_ResNet_3_SPEC_csv = '../eval/prob_SENet_FGSM_ResNet_3s_3dot0_SPEC.csv'\n",
    "probs_sen_FGSM_3s_ResNet_3_SPEC = pd.read_csv(probs_sen_FGSM_3s_ResNet_3_SPEC_csv, header=0, engine='python')"
   ],
   "metadata": {
    "collapsed": false,
    "ExecuteTime": {
     "end_time": "2024-09-16T12:09:39.382953Z",
     "start_time": "2024-09-16T12:09:37.631623Z"
    }
   },
   "id": "a5d456e850d16cfc",
   "execution_count": 2
  },
  {
   "cell_type": "code",
   "outputs": [
    {
     "name": "stdout",
     "output_type": "stream",
     "text": [
      "length of probs_res_ens1010_3: 31488\n",
      "length of probs_sen_ens1010_3: 31488\n",
      "length of probs_res_FGSM_3s_ResNet_3_AUDIO: 31488\n",
      "length of probs_sen_FGSM_3s_SENet_3_AUDIO: 31488\n",
      "length of probs_res_FGSM_3s_ResNet_3_SPEC: 31488\n",
      "length of probs_sen_FGSM_3s_SENet_3_SPEC: 31488\n"
     ]
    }
   ],
   "source": [
    "# they all work on the same dataset so they should all have the same length\n",
    "print(f'length of probs_res_ens1010_3: {len(probs_res_ens1010_3)}\\n'\n",
    "      f'length of probs_sen_ens1010_3: {len(probs_sen_ens1010_3)}\\n'\n",
    "      f'length of probs_res_FGSM_3s_ResNet_3_AUDIO: {len(probs_res_FGSM_3s_ResNet_3_AUDIO)}\\n'\n",
    "      f'length of probs_sen_FGSM_3s_SENet_3_AUDIO: {len(probs_sen_FGSM_3s_SENet_3_AUDIO)}\\n'\n",
    "      f'length of probs_res_FGSM_3s_ResNet_3_SPEC: {len(probs_res_FGSM_3s_ResNet_3_SPEC)}\\n'\n",
    "      f'length of probs_sen_FGSM_3s_SENet_3_SPEC: {len(probs_sen_FGSM_3s_SENet_3_SPEC)}')"
   ],
   "metadata": {
    "collapsed": false,
    "ExecuteTime": {
     "end_time": "2024-09-16T12:09:39.394230Z",
     "start_time": "2024-09-16T12:09:39.386649Z"
    }
   },
   "id": "dee70908c667d84",
   "execution_count": 3
  },
  {
   "cell_type": "code",
   "outputs": [
    {
     "name": "stdout",
     "output_type": "stream",
     "text": [
      "Length of GT labels list: 31489\n"
     ]
    }
   ],
   "source": [
    "# GT labels\n",
    "eval_csv = '../data/df_eval_19_3s.csv'\n",
    "df_eval = pd.read_csv(eval_csv)\n",
    "GT_labels = df_eval.iloc[:,-1].tolist()\n",
    "print(f'Length of GT labels list: {len(GT_labels)}')"
   ],
   "metadata": {
    "collapsed": false,
    "ExecuteTime": {
     "end_time": "2024-09-16T12:09:39.474787Z",
     "start_time": "2024-09-16T12:09:39.398746Z"
    }
   },
   "id": "87270cc7e73304c3",
   "execution_count": 4
  },
  {
   "cell_type": "markdown",
   "source": [
    "***\n",
    "## Extract predicted labels in the same order as in df_eval_19_3s"
   ],
   "metadata": {
    "collapsed": false
   },
   "id": "4b03f0b223af48d5"
  },
  {
   "cell_type": "code",
   "outputs": [],
   "source": [
    "# Function to extract the file number from a given filename\n",
    "def extract_file_number(filename):\n",
    "    match = re.search(r\"LA_E_(\\d+)\", filename)\n",
    "    if match:\n",
    "        return match.group(1)\n",
    "    return None\n",
    "\n",
    "def GT_and_predicted_labels(file2_path):\n",
    "    # Read file 1 and store the file number and label in a dictionary\n",
    "    file1_dict = {}\n",
    "    with open('../data/df_eval_19_3s.csv', 'r') as file1:\n",
    "        reader = csv.reader(file1)\n",
    "        next(reader)  # Skip header\n",
    "        for row in reader:\n",
    "            # Extract file number from the path (assuming path contains 'LA_E_xxxxxxx.flac')\n",
    "            match = re.search(r\"LA_E_(\\d+)\", row[1])\n",
    "            if match:\n",
    "                file_number = match.group(1)\n",
    "                label = int(row[2])  # Convert label to integer\n",
    "                file1_dict[file_number] = label  # Store file number and corresponding label\n",
    "    \n",
    "    # Initialize arrays for predicted classes and true labels\n",
    "    predicted_classes = []\n",
    "    true_labels = []\n",
    "    \n",
    "    # Read file 2 and process the data\n",
    "    with open(file2_path, 'r') as file2:\n",
    "        reader = csv.reader(file2)\n",
    "        next(reader)  # Skip header\n",
    "        for row in reader:\n",
    "            filename = row[0]  # Filename is in the first column\n",
    "            pred_class_0 = float(row[1])  # Prediction for class 0\n",
    "            pred_class_1 = float(row[2])  # Prediction for class 1\n",
    "        \n",
    "            # Determine predicted class: 0 if Pred.class 0 > Pred.class 1, else 1\n",
    "            if pred_class_0 > pred_class_1:\n",
    "                predicted_classes.append(0)\n",
    "            else:\n",
    "                predicted_classes.append(1)\n",
    "\n",
    "            # Extract the file number\n",
    "            file_number = extract_file_number(filename)\n",
    "\n",
    "            # Get the true label from file1_dict if the file number exists\n",
    "            if file_number in file1_dict:\n",
    "                true_labels.append(file1_dict[file_number])\n",
    "            else:\n",
    "                true_labels.append(None)  # If no matching file number is found in file 1\n",
    "    return predicted_classes, true_labels\n",
    "\n"
   ],
   "metadata": {
    "collapsed": false,
    "ExecuteTime": {
     "end_time": "2024-09-16T12:09:39.490874Z",
     "start_time": "2024-09-16T12:09:39.476736Z"
    }
   },
   "id": "c1f598e508d8954e",
   "execution_count": 5
  },
  {
   "cell_type": "markdown",
   "source": [
    "***\n",
    "## Labels and GT"
   ],
   "metadata": {
    "collapsed": false
   },
   "id": "ab1598a9039f7503"
  },
  {
   "cell_type": "code",
   "outputs": [],
   "source": [
    "pred_labels_res_ens1010_3, GT_res_ens1010_3 = GT_and_predicted_labels(file2_path=probs_res_ens1010_3_csv)\n",
    "pred_labels_sen_ens1010_3, GT_sen_ens1010_3 = GT_and_predicted_labels(file2_path=probs_sen_ens1010_3_csv)\n",
    "\n",
    "pred_labels_res_FGSM_ResNet_3s_3_AUDIO, GT_res_FGSM_ResNet_3s_3_AUDIO = GT_and_predicted_labels(file2_path=probs_res_FGSM_3s_ResNet_3_AUDIO_csv)\n",
    "pred_labels_sen_FGSM_SENet_3s_3_AUDIO, GT_sen_FGSM_SENet_3s_3_AUDIO = GT_and_predicted_labels(file2_path=probs_sen_FGSM_3s_SENet_3_AUDIO_csv)\n",
    "\n",
    "pred_labels_res_FGSM_SENet_3s_3_AUDIO, GT_res_FGSM_SENet_3s_3_AUDIO = GT_and_predicted_labels(file2_path=probs_res_FGSM_3s_SENet_3_AUDIO_csv)\n",
    "pred_labels_sen_FGSM_ResNet_3s_3_AUDIO, GT_sen_FGSM_ResNet_3s_3_AUDIO = GT_and_predicted_labels(file2_path=probs_sen_FGSM_3s_ResNet_3_AUDIO_csv)\n",
    "\n",
    "pred_labels_res_FGSM_ResNet_3s_3_SPEC, GT_res_FGSM_ResNet_3s_3_SPEC = GT_and_predicted_labels(file2_path=probs_res_FGSM_3s_ResNet_3_SPEC_csv)\n",
    "pred_labels_sen_FGSM_SENet_3s_3_SPEC, GT_sen_FGSM_SENet_3s_3_SPEC = GT_and_predicted_labels(file2_path=probs_sen_FGSM_3s_SENet_3_SPEC_csv)\n",
    "\n",
    "pred_labels_res_FGSM_SENet_3s_3_SPEC, GT_res_FGSM_SENet_3s_3_SPEC = GT_and_predicted_labels(file2_path=probs_res_FGSM_3s_SENet_3_SPEC_csv)\n",
    "pred_labels_sen_FGSM_ResNet_3s_3_SPEC, GT_sen_FGSM_ResNet_3s_3_SPEC = GT_and_predicted_labels(file2_path=probs_sen_FGSM_3s_ResNet_3_SPEC_csv)"
   ],
   "metadata": {
    "collapsed": false,
    "ExecuteTime": {
     "end_time": "2024-09-16T12:09:41.521186Z",
     "start_time": "2024-09-16T12:09:39.492268Z"
    }
   },
   "id": "ae29b001f47632c1",
   "execution_count": 6
  },
  {
   "cell_type": "markdown",
   "source": [
    "***\n",
    "## Unbalanced accuracy"
   ],
   "metadata": {
    "collapsed": false
   },
   "id": "a9719e07a3b32e9a"
  },
  {
   "cell_type": "code",
   "outputs": [
    {
     "name": "stdout",
     "output_type": "stream",
     "text": [
      "AUDIO -- The unbalanced accuracy for ResNet on the ensemble attack 10 10 epsilon=3.0 is 32.47%\n",
      "AUDIO -- The unbalanced accuracy for SENet on the ensemble attack 10 10 epsilon=3.0 is 54.64%\n"
     ]
    }
   ],
   "source": [
    "UA_res_ens1010_3 = accuracy_score(y_true=GT_res_ens1010_3, y_pred=pred_labels_res_ens1010_3)\n",
    "UA_sen_ens1010_3 = accuracy_score(y_true=GT_sen_ens1010_3, y_pred=pred_labels_sen_ens1010_3)\n",
    "\n",
    "print(\n",
    "    f'AUDIO -- The unbalanced accuracy for ResNet on the ensemble attack 10 10 epsilon=3.0 is {UA_res_ens1010_3*100:.2f}%\\n'\n",
    "    f'AUDIO -- The unbalanced accuracy for SENet on the ensemble attack 10 10 epsilon=3.0 is {UA_sen_ens1010_3*100:.2f}%')"
   ],
   "metadata": {
    "collapsed": false,
    "ExecuteTime": {
     "end_time": "2024-09-16T12:09:41.555975Z",
     "start_time": "2024-09-16T12:09:41.522688Z"
    }
   },
   "id": "5c5ba17d44445925",
   "execution_count": 7
  },
  {
   "cell_type": "code",
   "outputs": [
    {
     "name": "stdout",
     "output_type": "stream",
     "text": [
      "AUDIO -- The unbalanced accuracy for ResNet on FGSM ResNet 3s and epsilon=3.0 is 12.20%\n",
      "AUDIO -- The unbalanced accuracy for SENet on FGSM SENet 3s and epsilon=3.0 is 49.94%\n",
      "AUDIO -- The unbalanced accuracy for ResNet on FGSM SENet 3s and epsilon=3.0 is 84.87%\n",
      "AUDIO -- The unbalanced accuracy for SENet on FGSM ResNet 3s and epsilon=3.0 is 69.59%\n"
     ]
    }
   ],
   "source": [
    "UA_res_FGSM_ResNet_3s_3_AUDIO = accuracy_score(y_true=GT_res_FGSM_ResNet_3s_3_AUDIO, y_pred=pred_labels_res_FGSM_ResNet_3s_3_AUDIO)\n",
    "UA_sen_FGSM_SENet_3s_3_AUDIO = accuracy_score(y_true=GT_sen_FGSM_SENet_3s_3_AUDIO, y_pred=pred_labels_sen_FGSM_SENet_3s_3_AUDIO)\n",
    "\n",
    "UA_res_FGSM_SENet_3s_3_AUDIO = accuracy_score(y_true=GT_res_FGSM_SENet_3s_3_AUDIO, y_pred=pred_labels_res_FGSM_SENet_3s_3_AUDIO)\n",
    "UA_sen_FGSM_ResNet_3s_3_AUDIO = accuracy_score(y_true=GT_sen_FGSM_ResNet_3s_3_AUDIO, y_pred=pred_labels_sen_FGSM_ResNet_3s_3_AUDIO)\n",
    "\n",
    "print(f'AUDIO -- The unbalanced accuracy for ResNet on FGSM ResNet 3s and epsilon=3.0 is {UA_res_FGSM_ResNet_3s_3_AUDIO*100:.2f}%\\n'\n",
    "      f'AUDIO -- The unbalanced accuracy for SENet on FGSM SENet 3s and epsilon=3.0 is {UA_sen_FGSM_SENet_3s_3_AUDIO*100:.2f}%\\n'\n",
    "      f'AUDIO -- The unbalanced accuracy for ResNet on FGSM SENet 3s and epsilon=3.0 is {UA_res_FGSM_SENet_3s_3_AUDIO*100:.2f}%\\n'\n",
    "      f'AUDIO -- The unbalanced accuracy for SENet on FGSM ResNet 3s and epsilon=3.0 is {UA_sen_FGSM_ResNet_3s_3_AUDIO*100:.2f}%')"
   ],
   "metadata": {
    "collapsed": false,
    "ExecuteTime": {
     "end_time": "2024-09-16T12:09:41.618814Z",
     "start_time": "2024-09-16T12:09:41.557401Z"
    }
   },
   "id": "2b9cea77947d9d3b",
   "execution_count": 8
  },
  {
   "cell_type": "code",
   "outputs": [
    {
     "name": "stdout",
     "output_type": "stream",
     "text": [
      "SPEC -- The unbalanced accuracy for ResNet on FGSM ResNet 3s and epsilon=3.0 is 0.00%\n",
      "SPEC -- The unbalanced accuracy for ResNet on FGSM ResNet 3s and epsilon=3.0 is 11.28%\n",
      "SPEC -- The unbalanced accuracy for ResNet on FGSM SENet 3s and epsilon=3.0 is 84.48%\n",
      "SPEC -- The unbalanced accuracy for SENet on FGSM ResNet 3s and epsilon=3.0 is 75.87%\n"
     ]
    }
   ],
   "source": [
    "UA_res_FGSM_ResNet_3s_3_SPEC = accuracy_score(y_true=GT_res_FGSM_ResNet_3s_3_SPEC, y_pred=pred_labels_res_FGSM_ResNet_3s_3_SPEC)\n",
    "UA_sen_FGSM_SENet_3s_3_SPEC = accuracy_score(y_true=GT_sen_FGSM_SENet_3s_3_SPEC, y_pred=pred_labels_sen_FGSM_SENet_3s_3_SPEC)\n",
    "\n",
    "UA_res_FGSM_SENet_3s_3_SPEC = accuracy_score(y_true=GT_res_FGSM_SENet_3s_3_SPEC, y_pred=pred_labels_res_FGSM_SENet_3s_3_SPEC)\n",
    "UA_sen_FGSM_ResNet_3s_3_SPEC = accuracy_score(y_true=GT_sen_FGSM_ResNet_3s_3_SPEC, y_pred=pred_labels_sen_FGSM_ResNet_3s_3_SPEC)\n",
    "\n",
    "print(f'SPEC -- The unbalanced accuracy for ResNet on FGSM ResNet 3s and epsilon=3.0 is {UA_res_FGSM_ResNet_3s_3_SPEC*100:.2f}%\\n'\n",
    "      f'SPEC -- The unbalanced accuracy for ResNet on FGSM ResNet 3s and epsilon=3.0 is {UA_sen_FGSM_SENet_3s_3_SPEC*100:.2f}%\\n'\n",
    "      f'SPEC -- The unbalanced accuracy for ResNet on FGSM SENet 3s and epsilon=3.0 is {UA_res_FGSM_SENet_3s_3_SPEC*100:.2f}%\\n'\n",
    "      f'SPEC -- The unbalanced accuracy for SENet on FGSM ResNet 3s and epsilon=3.0 is {UA_sen_FGSM_ResNet_3s_3_SPEC*100:.2f}%')"
   ],
   "metadata": {
    "collapsed": false,
    "ExecuteTime": {
     "end_time": "2024-09-16T12:09:41.680754Z",
     "start_time": "2024-09-16T12:09:41.620425Z"
    }
   },
   "id": "def24987427bcff4",
   "execution_count": 9
  },
  {
   "cell_type": "markdown",
   "source": [
    "***\n",
    "## Balanced accuracy"
   ],
   "metadata": {
    "collapsed": false
   },
   "id": "7cec3a5b1f9ff436"
  },
  {
   "cell_type": "code",
   "outputs": [
    {
     "name": "stdout",
     "output_type": "stream",
     "text": [
      "AUDIO -- The balanced accuracy for ResNet on the ensemble attack 10 10 epsilon=3.0 is 22.28%\n",
      "AUDIO -- The balanced accuracy for SENet on the ensemble attack 10 10 epsilon=3.0 is 64.09%\n"
     ]
    }
   ],
   "source": [
    "BA_res_ens1010_3 = balanced_accuracy_score(y_true=GT_res_ens1010_3, y_pred=pred_labels_res_ens1010_3)\n",
    "BA_sen_ens1010_3 = balanced_accuracy_score(y_true=GT_sen_ens1010_3, y_pred=pred_labels_sen_ens1010_3)\n",
    "\n",
    "print(\n",
    "    f'AUDIO -- The balanced accuracy for ResNet on the ensemble attack 10 10 epsilon=3.0 is {BA_res_ens1010_3*100:.2f}%\\n'\n",
    "    f'AUDIO -- The balanced accuracy for SENet on the ensemble attack 10 10 epsilon=3.0 is {BA_sen_ens1010_3*100:.2f}%')"
   ],
   "metadata": {
    "collapsed": false,
    "ExecuteTime": {
     "end_time": "2024-09-16T12:09:41.721671Z",
     "start_time": "2024-09-16T12:09:41.683472Z"
    }
   },
   "id": "3704427624a170c",
   "execution_count": 10
  },
  {
   "cell_type": "code",
   "outputs": [
    {
     "name": "stdout",
     "output_type": "stream",
     "text": [
      "AUDIO -- The balanced accuracy for ResNet on FGSM ResNet 3s and epsilon=3.0 is 7.17%\n",
      "AUDIO -- The balanced accuracy for SENet on FGSM SENet 3s and epsilon=3.0 is 60.23%\n",
      "AUDIO -- The balanced accuracy for ResNet on FGSM SENet 3s and epsilon=3.0 is 88.03%\n",
      "AUDIO -- The balanced accuracy for SENet on FGSM ResNet 3s and epsilon=3.0 is 76.72%\n"
     ]
    }
   ],
   "source": [
    "BA_res_FGSM_ResNet_3s_3_AUDIO = balanced_accuracy_score(y_true=GT_res_FGSM_ResNet_3s_3_AUDIO, y_pred=pred_labels_res_FGSM_ResNet_3s_3_AUDIO)\n",
    "BA_sen_FGSM_SENet_3s_3_AUDIO = balanced_accuracy_score(y_true=GT_sen_FGSM_SENet_3s_3_AUDIO, y_pred=pred_labels_sen_FGSM_SENet_3s_3_AUDIO)\n",
    "\n",
    "BA_res_FGSM_SENet_3s_3_AUDIO = balanced_accuracy_score(y_true=GT_res_FGSM_SENet_3s_3_AUDIO, y_pred=pred_labels_res_FGSM_SENet_3s_3_AUDIO)\n",
    "BA_sen_FGSM_ResNet_3s_3_AUDIO = balanced_accuracy_score(y_true=GT_sen_FGSM_ResNet_3s_3_AUDIO, y_pred=pred_labels_sen_FGSM_ResNet_3s_3_AUDIO)\n",
    "\n",
    "print(f'AUDIO -- The balanced accuracy for ResNet on FGSM ResNet 3s and epsilon=3.0 is {BA_res_FGSM_ResNet_3s_3_AUDIO*100:.2f}%\\n'\n",
    "      f'AUDIO -- The balanced accuracy for SENet on FGSM SENet 3s and epsilon=3.0 is {BA_sen_FGSM_SENet_3s_3_AUDIO*100:.2f}%\\n'\n",
    "      f'AUDIO -- The balanced accuracy for ResNet on FGSM SENet 3s and epsilon=3.0 is {BA_res_FGSM_SENet_3s_3_AUDIO*100:.2f}%\\n'\n",
    "      f'AUDIO -- The balanced accuracy for SENet on FGSM ResNet 3s and epsilon=3.0 is {BA_sen_FGSM_ResNet_3s_3_AUDIO*100:.2f}%')"
   ],
   "metadata": {
    "collapsed": false,
    "ExecuteTime": {
     "end_time": "2024-09-16T12:09:41.794597Z",
     "start_time": "2024-09-16T12:09:41.723194Z"
    }
   },
   "id": "8a35c5cdebd78e15",
   "execution_count": 11
  },
  {
   "cell_type": "code",
   "outputs": [
    {
     "name": "stdout",
     "output_type": "stream",
     "text": [
      "SPEC -- The balanced accuracy for ResNet on FGSM ResNet 3s and epsilon=3.0 is 0.00%\n",
      "SPEC -- The balanced accuracy for SENet on FGSM SENet 3s and epsilon=3.0 is 6.54%\n",
      "SPEC -- The balanced accuracy for ResNet on FGSM SENet 3s and epsilon=3.0 is 88.01%\n",
      "SPEC -- The balanced accuracy for SENet on FGSM ResNet 3s and epsilon=3.0 is 78.62%\n"
     ]
    }
   ],
   "source": [
    "BA_res_FGSM_ResNet_3s_3_SPEC = balanced_accuracy_score(y_true=GT_res_FGSM_ResNet_3s_3_SPEC, y_pred=pred_labels_res_FGSM_ResNet_3s_3_SPEC)\n",
    "BA_sen_FGSM_SENet_3s_3_SPEC = balanced_accuracy_score(y_true=GT_sen_FGSM_SENet_3s_3_SPEC, y_pred=pred_labels_sen_FGSM_SENet_3s_3_SPEC)\n",
    "\n",
    "BA_res_FGSM_SENet_3s_3_SPEC = balanced_accuracy_score(y_true=GT_res_FGSM_SENet_3s_3_SPEC, y_pred=pred_labels_res_FGSM_SENet_3s_3_SPEC)\n",
    "BA_sen_FGSM_ResNet_3s_3_SPEC = balanced_accuracy_score(y_true=GT_sen_FGSM_ResNet_3s_3_SPEC, y_pred=pred_labels_sen_FGSM_ResNet_3s_3_SPEC)\n",
    "\n",
    "print(f'SPEC -- The balanced accuracy for ResNet on FGSM ResNet 3s and epsilon=3.0 is {BA_res_FGSM_ResNet_3s_3_SPEC*100:.2f}%\\n'\n",
    "      f'SPEC -- The balanced accuracy for SENet on FGSM SENet 3s and epsilon=3.0 is {BA_sen_FGSM_SENet_3s_3_SPEC*100:.2f}%\\n'\n",
    "      f'SPEC -- The balanced accuracy for ResNet on FGSM SENet 3s and epsilon=3.0 is {BA_res_FGSM_SENet_3s_3_SPEC*100:.2f}%\\n'\n",
    "      f'SPEC -- The balanced accuracy for SENet on FGSM ResNet 3s and epsilon=3.0 is {BA_sen_FGSM_ResNet_3s_3_SPEC*100:.2f}%')"
   ],
   "metadata": {
    "collapsed": false,
    "ExecuteTime": {
     "end_time": "2024-09-16T12:09:41.886960Z",
     "start_time": "2024-09-16T12:09:41.796132Z"
    }
   },
   "id": "538d4403244a3fe1",
   "execution_count": 12
  },
  {
   "cell_type": "code",
   "outputs": [],
   "source": [],
   "metadata": {
    "collapsed": false,
    "ExecuteTime": {
     "end_time": "2024-09-16T12:09:41.890483Z",
     "start_time": "2024-09-16T12:09:41.888399Z"
    }
   },
   "id": "6f7f309c23111ff7",
   "execution_count": 12
  }
 ],
 "metadata": {
  "kernelspec": {
   "display_name": "Python 3",
   "language": "python",
   "name": "python3"
  },
  "language_info": {
   "codemirror_mode": {
    "name": "ipython",
    "version": 2
   },
   "file_extension": ".py",
   "mimetype": "text/x-python",
   "name": "python",
   "nbconvert_exporter": "python",
   "pygments_lexer": "ipython2",
   "version": "2.7.6"
  }
 },
 "nbformat": 4,
 "nbformat_minor": 5
}
