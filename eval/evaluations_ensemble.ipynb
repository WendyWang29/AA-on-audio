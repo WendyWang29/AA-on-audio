{
 "cells": [
  {
   "cell_type": "markdown",
   "source": [
    "# EVALUATIONS ON THE ENSEMBLE ATTACK + FGSM\n",
    "Models used: ResNet, SENet"
   ],
   "metadata": {
    "collapsed": false
   },
   "id": "dffa53fb0f744248"
  },
  {
   "cell_type": "code",
   "outputs": [],
   "source": [
    "import pandas as pd\n",
    "\n",
    "from src.utils import *\n",
    "import sys\n",
    "import csv\n",
    "import re\n",
    "from sklearn.metrics import accuracy_score, balanced_accuracy_score, roc_curve, auc"
   ],
   "metadata": {
    "collapsed": false,
    "ExecuteTime": {
     "end_time": "2024-09-17T21:30:13.158040Z",
     "start_time": "2024-09-17T21:29:53.760446Z"
    }
   },
   "id": "869ea9a43c0110c2",
   "execution_count": 1
  },
  {
   "cell_type": "code",
   "outputs": [],
   "source": [
    "probs_res_ens1010_3_csv = '../eval/prob_ResNet_Ensemble_10_10_3dot0.csv'\n",
    "probs_res_ens1010_3 = pd.read_csv(probs_res_ens1010_3_csv, header=0, engine='python')\n",
    "\n",
    "probs_sen_ens1010_3_csv = '../eval/prob_SENet_Ensemble_10_10_3dot0.csv'\n",
    "probs_sen_ens1010_3 = pd.read_csv(probs_sen_ens1010_3_csv, header=0, engine='python')\n",
    "\n",
    "probs_lcnn_ens1010_3_csv = '../eval/prob_LCNN_Ensemble_10_10_3dot0.csv'\n",
    "probs_lcnn_ens1010_3 = pd.read_csv(probs_lcnn_ens1010_3_csv, header=0, engine='python')\n",
    "\n",
    "# AUDIO --------------------\n",
    "\n",
    "#clean dataset (FGSM ResNet with eps=0.0)\n",
    "probs_res_FGSM_3s_ResNet_clean_AUDIO_csv = '../eval/prob_ResNet_FGSM_ResNet_3s_0dot0_AUDIO.csv'\n",
    "probs_res_FGSM_3s_ResNet_clean_AUDIO = pd.read_csv(probs_res_FGSM_3s_ResNet_clean_AUDIO_csv, header=0, engine='python')\n",
    "probs_sen_FGSM_3s_ResNet_clean_AUDIO_csv = '../eval/prob_SENet_FGSM_ResNet_3s_0dot0_AUDIO.csv'\n",
    "probs_sen_FGSM_3s_ResNet_clean_AUDIO = pd.read_csv(probs_sen_FGSM_3s_ResNet_clean_AUDIO_csv, header=0, engine='python')\n",
    "\n",
    "#ResNet on ResNet audio\n",
    "probs_res_FGSM_3s_ResNet_3_AUDIO_csv = '../eval/prob_ResNet_FGSM_ResNet_3s_3dot0_AUDIO.csv'\n",
    "probs_res_FGSM_3s_ResNet_3_AUDIO = pd.read_csv(probs_res_FGSM_3s_ResNet_3_AUDIO_csv, header=0, engine='python')\n",
    "\n",
    "#ResNet on SENet audio\n",
    "probs_res_FGSM_3s_SENet_3_AUDIO_csv = '../eval/prob_ResNet_FGSM_SENet_3s_3dot0_AUDIO.csv'\n",
    "probs_res_FGSM_3s_SEsNet_3_AUDIO = pd.read_csv(probs_res_FGSM_3s_SENet_3_AUDIO_csv, header=0, engine='python')\n",
    "\n",
    "#SENet on SENet audio\n",
    "probs_sen_FGSM_3s_SENet_3_AUDIO_csv = '../eval/prob_SENet_FGSM_SENet_3s_3dot0_AUDIO.csv'\n",
    "probs_sen_FGSM_3s_SENet_3_AUDIO = pd.read_csv(probs_sen_FGSM_3s_SENet_3_AUDIO_csv, header=0, engine='python')\n",
    "\n",
    "#SENet on ResNet audio\n",
    "probs_sen_FGSM_3s_ResNet_3_AUDIO_csv = '../eval/prob_SENet_FGSM_ResNet_3s_3dot0_AUDIO.csv'\n",
    "probs_sen_FGSM_3s_ResNet_3_AUDIO = pd.read_csv(probs_sen_FGSM_3s_ResNet_3_AUDIO_csv, header=0, engine='python')\n",
    "\n",
    "# SPECTROGRAMS ------------------------\n",
    "\n",
    "#clean dataset (FGSM ResNet with eps=0.0)\n",
    "probs_res_FGSM_3s_ResNet_clean_SPEC_csv = '../eval/prob_ResNet_FGSM_ResNet_3s_0dot0_SPEC.csv'\n",
    "probs_res_FGSM_3s_ResNet_clean_SPEC = pd.read_csv(probs_res_FGSM_3s_ResNet_clean_SPEC_csv, header=0, engine='python')\n",
    "probs_sen_FGSM_3s_ResNet_clean_SPEC_csv = '../eval/prob_SENet_FGSM_ResNet_3s_0dot0_SPEC.csv'\n",
    "probs_sen_FGSM_3s_ResNet_clean_SPEC = pd.read_csv(probs_sen_FGSM_3s_ResNet_clean_SPEC_csv, header=0, engine='python')\n",
    "\n",
    "#ResNet on ResNet\n",
    "probs_res_FGSM_3s_ResNet_3_SPEC_csv = '../eval/prob_ResNet_FGSM_ResNet_3s_3dot0_SPEC.csv'\n",
    "probs_res_FGSM_3s_ResNet_3_SPEC = pd.read_csv(probs_res_FGSM_3s_ResNet_3_SPEC_csv, header=0, engine='python')\n",
    "\n",
    "#ResNet on SENet spec\n",
    "probs_res_FGSM_3s_SENet_3_SPEC_csv = '../eval/prob_ResNet_FGSM_SENet_3s_3dot0_SPEC.csv'\n",
    "probs_res_FGSM_3s_SEsNet_3_SPEC = pd.read_csv(probs_res_FGSM_3s_SENet_3_SPEC_csv, header=0, engine='python')\n",
    "\n",
    "#SENet on SENet\n",
    "probs_sen_FGSM_3s_SENet_3_SPEC_csv = '../eval/prob_SENet_FGSM_SENet_3s_3dot0_SPEC.csv'\n",
    "probs_sen_FGSM_3s_SENet_3_SPEC = pd.read_csv(probs_sen_FGSM_3s_SENet_3_SPEC_csv, header=0, engine='python')\n",
    "\n",
    "#SENet on ResNet spec\n",
    "probs_sen_FGSM_3s_ResNet_3_SPEC_csv = '../eval/prob_SENet_FGSM_ResNet_3s_3dot0_SPEC.csv'\n",
    "probs_sen_FGSM_3s_ResNet_3_SPEC = pd.read_csv(probs_sen_FGSM_3s_ResNet_3_SPEC_csv, header=0, engine='python')\n",
    "\n",
    "#LCNN\n",
    "probs_lcnn_FGSM_3s_ResNet_3_SPEC_csv = '../eval/prob_LCNN_FGSM_ResNet_3s_3dot0_SPEC.csv'\n",
    "probs_lcnn_FGSM_3s_SENet_3_SPEC_csv = '../eval/prob_LCNN_FGSM_SENet_3s_3dot0_SPEC.csv'"
   ],
   "metadata": {
    "collapsed": false,
    "ExecuteTime": {
     "end_time": "2024-09-17T21:30:16.442501Z",
     "start_time": "2024-09-17T21:30:13.162872Z"
    }
   },
   "id": "a5d456e850d16cfc",
   "execution_count": 2
  },
  {
   "cell_type": "code",
   "outputs": [
    {
     "name": "stdout",
     "output_type": "stream",
     "text": [
      "length of probs_res_ens1010_3: 31488\n",
      "length of probs_sen_ens1010_3: 31488\n",
      "length of probs_res_FGSM_3s_ResNet_3_AUDIO: 31488\n",
      "length of probs_sen_FGSM_3s_SENet_3_AUDIO: 31488\n",
      "length of probs_res_FGSM_3s_ResNet_3_SPEC: 31488\n",
      "length of probs_sen_FGSM_3s_SENet_3_SPEC: 31488\n"
     ]
    }
   ],
   "source": [
    "# they all work on the same dataset so they should all have the same length\n",
    "print(f'length of probs_res_ens1010_3: {len(probs_res_ens1010_3)}\\n'\n",
    "      f'length of probs_sen_ens1010_3: {len(probs_sen_ens1010_3)}\\n'\n",
    "      f'length of probs_res_FGSM_3s_ResNet_3_AUDIO: {len(probs_res_FGSM_3s_ResNet_3_AUDIO)}\\n'\n",
    "      f'length of probs_sen_FGSM_3s_SENet_3_AUDIO: {len(probs_sen_FGSM_3s_SENet_3_AUDIO)}\\n'\n",
    "      f'length of probs_res_FGSM_3s_ResNet_3_SPEC: {len(probs_res_FGSM_3s_ResNet_3_SPEC)}\\n'\n",
    "      f'length of probs_sen_FGSM_3s_SENet_3_SPEC: {len(probs_sen_FGSM_3s_SENet_3_SPEC)}')"
   ],
   "metadata": {
    "collapsed": false,
    "ExecuteTime": {
     "end_time": "2024-09-17T21:30:16.447816Z",
     "start_time": "2024-09-17T21:30:16.443952Z"
    }
   },
   "id": "dee70908c667d84",
   "execution_count": 3
  },
  {
   "cell_type": "code",
   "outputs": [
    {
     "name": "stdout",
     "output_type": "stream",
     "text": [
      "Length of GT labels list: 31489\n"
     ]
    }
   ],
   "source": [
    "# GT labels\n",
    "eval_csv = '../data/df_eval_19_3s.csv'\n",
    "df_eval = pd.read_csv(eval_csv)\n",
    "GT_labels = df_eval.iloc[:,-1].tolist()\n",
    "print(f'Length of GT labels list: {len(GT_labels)}')"
   ],
   "metadata": {
    "collapsed": false,
    "ExecuteTime": {
     "end_time": "2024-09-17T21:30:16.499503Z",
     "start_time": "2024-09-17T21:30:16.449893Z"
    }
   },
   "id": "87270cc7e73304c3",
   "execution_count": 4
  },
  {
   "cell_type": "markdown",
   "source": [
    "***\n",
    "## Extract predicted labels in the same order as in df_eval_19_3s"
   ],
   "metadata": {
    "collapsed": false
   },
   "id": "4b03f0b223af48d5"
  },
  {
   "cell_type": "code",
   "outputs": [],
   "source": [
    "# Function to extract the file number from a given filename\n",
    "def extract_file_number(filename):\n",
    "    match = re.search(r\"LA_E_(\\d+)\", filename)\n",
    "    if match:\n",
    "        return match.group(1)\n",
    "    return None\n",
    "\n",
    "def GT_and_predicted_labels(file2_path):\n",
    "    # Read file 1 and store the file number and label in a dictionary\n",
    "    file1_dict = {}\n",
    "    with open('../data/df_eval_19_3s.csv', 'r') as file1:\n",
    "        reader = csv.reader(file1)\n",
    "        next(reader)  # Skip header\n",
    "        for row in reader:\n",
    "            # Extract file number from the path (assuming path contains 'LA_E_xxxxxxx.flac')\n",
    "            match = re.search(r\"LA_E_(\\d+)\", row[1])\n",
    "            if match:\n",
    "                file_number = match.group(1)\n",
    "                label = int(row[2])  # Convert label to integer\n",
    "                file1_dict[file_number] = label  # Store file number and corresponding label\n",
    "    \n",
    "    # Initialize arrays for predicted classes and true labels\n",
    "    predicted_classes = []\n",
    "    true_labels = []\n",
    "    \n",
    "    # Read file 2 and process the data\n",
    "    with open(file2_path, 'r') as file2:\n",
    "        reader = csv.reader(file2)\n",
    "        next(reader)  # Skip header\n",
    "        for row in reader:\n",
    "            filename = row[0]  # Filename is in the first column\n",
    "            pred_class_0 = float(row[1])  # Prediction for class 0\n",
    "            pred_class_1 = float(row[2])  # Prediction for class 1\n",
    "        \n",
    "            # Determine predicted class: 0 if Pred.class 0 > Pred.class 1, else 1\n",
    "            if pred_class_0 > pred_class_1:\n",
    "                predicted_classes.append(0)\n",
    "            else:\n",
    "                predicted_classes.append(1)\n",
    "\n",
    "            # Extract the file number\n",
    "            file_number = extract_file_number(filename)\n",
    "\n",
    "            # Get the true label from file1_dict if the file number exists\n",
    "            if file_number in file1_dict:\n",
    "                true_labels.append(file1_dict[file_number])\n",
    "            else:\n",
    "                true_labels.append(None)  # If no matching file number is found in file 1\n",
    "    return predicted_classes, true_labels\n",
    "\n"
   ],
   "metadata": {
    "collapsed": false,
    "ExecuteTime": {
     "end_time": "2024-09-17T21:30:16.508430Z",
     "start_time": "2024-09-17T21:30:16.500988Z"
    }
   },
   "id": "c1f598e508d8954e",
   "execution_count": 5
  },
  {
   "cell_type": "markdown",
   "source": [
    "***\n",
    "## Labels and GT"
   ],
   "metadata": {
    "collapsed": false
   },
   "id": "ab1598a9039f7503"
  },
  {
   "cell_type": "code",
   "outputs": [],
   "source": [
    "pred_labels_res_ens1010_3, GT_res_ens1010_3 = GT_and_predicted_labels(file2_path=probs_res_ens1010_3_csv)\n",
    "pred_labels_sen_ens1010_3, GT_sen_ens1010_3 = GT_and_predicted_labels(file2_path=probs_sen_ens1010_3_csv)\n",
    "pred_labels_lcnn_ens1010_3, GT_lcnn_ens1010_3 = GT_and_predicted_labels(file2_path=probs_lcnn_ens1010_3_csv)\n",
    "\n",
    "# clean\n",
    "pred_labels_res_FGSM_ResNet_3s_clean_SPEC, GT_res_FGSM_ResNet_3s_clean_SPEC = GT_and_predicted_labels(file2_path=probs_res_FGSM_3s_ResNet_clean_SPEC_csv)\n",
    "pred_labels_sen_FGSM_ResNet_3s_clean_SPEC, GT_sen_FGSM_ResNet_3s_clean_SPEC = GT_and_predicted_labels(file2_path=probs_sen_FGSM_3s_ResNet_clean_SPEC_csv)\n",
    "pred_labels_res_FGSM_ResNet_3s_clean_AUDIO, GT_res_FGSM_ResNet_3s_clean_AUDIO = GT_and_predicted_labels(file2_path=probs_res_FGSM_3s_ResNet_clean_AUDIO_csv)\n",
    "pred_labels_sen_FGSM_ResNet_3s_clean_AUDIO, GT_sen_FGSM_ResNet_3s_clean_AUDIO = GT_and_predicted_labels(file2_path=probs_sen_FGSM_3s_ResNet_clean_AUDIO_csv)\n",
    "\n",
    "#----------------\n",
    "\n",
    "pred_labels_res_FGSM_ResNet_3s_3_AUDIO, GT_res_FGSM_ResNet_3s_3_AUDIO = GT_and_predicted_labels(file2_path=probs_res_FGSM_3s_ResNet_3_AUDIO_csv)\n",
    "pred_labels_sen_FGSM_SENet_3s_3_AUDIO, GT_sen_FGSM_SENet_3s_3_AUDIO = GT_and_predicted_labels(file2_path=probs_sen_FGSM_3s_SENet_3_AUDIO_csv)\n",
    "\n",
    "pred_labels_res_FGSM_SENet_3s_3_AUDIO, GT_res_FGSM_SENet_3s_3_AUDIO = GT_and_predicted_labels(file2_path=probs_res_FGSM_3s_SENet_3_AUDIO_csv)\n",
    "pred_labels_sen_FGSM_ResNet_3s_3_AUDIO, GT_sen_FGSM_ResNet_3s_3_AUDIO = GT_and_predicted_labels(file2_path=probs_sen_FGSM_3s_ResNet_3_AUDIO_csv)\n",
    "\n",
    "pred_labels_res_FGSM_ResNet_3s_3_SPEC, GT_res_FGSM_ResNet_3s_3_SPEC = GT_and_predicted_labels(file2_path=probs_res_FGSM_3s_ResNet_3_SPEC_csv)\n",
    "pred_labels_sen_FGSM_SENet_3s_3_SPEC, GT_sen_FGSM_SENet_3s_3_SPEC = GT_and_predicted_labels(file2_path=probs_sen_FGSM_3s_SENet_3_SPEC_csv)\n",
    "\n",
    "pred_labels_res_FGSM_SENet_3s_3_SPEC, GT_res_FGSM_SENet_3s_3_SPEC = GT_and_predicted_labels(file2_path=probs_res_FGSM_3s_SENet_3_SPEC_csv)\n",
    "pred_labels_sen_FGSM_ResNet_3s_3_SPEC, GT_sen_FGSM_ResNet_3s_3_SPEC = GT_and_predicted_labels(file2_path=probs_sen_FGSM_3s_ResNet_3_SPEC_csv)\n",
    "\n",
    "#LCNN\n",
    "pred_labels_lcnn_FGSM_SENet_3s_3_SPEC, GT_lcnn_FGSM_SENet_3s_3_SPEC = GT_and_predicted_labels(file2_path=probs_lcnn_FGSM_3s_SENet_3_SPEC_csv)\n",
    "pred_labels_lcnn_FGSM_ResNet_3s_3_SPEC, GT_lcnn_FGSM_ResNet_3s_3_SPEC = GT_and_predicted_labels(file2_path=probs_lcnn_FGSM_3s_ResNet_3_SPEC_csv)"
   ],
   "metadata": {
    "collapsed": false,
    "ExecuteTime": {
     "end_time": "2024-09-17T21:30:20.198936Z",
     "start_time": "2024-09-17T21:30:16.509947Z"
    }
   },
   "id": "ae29b001f47632c1",
   "execution_count": 6
  },
  {
   "cell_type": "markdown",
   "source": [
    "***\n",
    "## Unbalanced accuracy"
   ],
   "metadata": {
    "collapsed": false
   },
   "id": "a9719e07a3b32e9a"
  },
  {
   "cell_type": "code",
   "outputs": [
    {
     "name": "stdout",
     "output_type": "stream",
     "text": [
      "AUDIO -- The unbalanced accuracy for ResNet on the ensemble attack 10 10 epsilon=3.0 is 32.47%\n",
      "AUDIO -- The unbalanced accuracy for SENet on the ensemble attack 10 10 epsilon=3.0 is 54.64%\n",
      "AUDIO -- The unbalanced accuracy for LCNN on the ensemble attack 10 10 epsilon=3.0 is 40.95%\n"
     ]
    }
   ],
   "source": [
    "UA_res_ens1010_3 = accuracy_score(y_true=GT_res_ens1010_3, y_pred=pred_labels_res_ens1010_3)\n",
    "UA_sen_ens1010_3 = accuracy_score(y_true=GT_sen_ens1010_3, y_pred=pred_labels_sen_ens1010_3)\n",
    "UA_lcnn_ens1010_3 = accuracy_score(y_true=GT_lcnn_ens1010_3, y_pred=pred_labels_lcnn_ens1010_3)\n",
    "\n",
    "print(\n",
    "    f'AUDIO -- The unbalanced accuracy for ResNet on the ensemble attack 10 10 epsilon=3.0 is {UA_res_ens1010_3*100:.2f}%\\n'\n",
    "    f'AUDIO -- The unbalanced accuracy for SENet on the ensemble attack 10 10 epsilon=3.0 is {UA_sen_ens1010_3*100:.2f}%\\n'\n",
    "    f'AUDIO -- The unbalanced accuracy for LCNN on the ensemble attack 10 10 epsilon=3.0 is {UA_lcnn_ens1010_3*100:.2f}%')"
   ],
   "metadata": {
    "collapsed": false,
    "ExecuteTime": {
     "end_time": "2024-09-17T21:30:20.246579Z",
     "start_time": "2024-09-17T21:30:20.200332Z"
    }
   },
   "id": "5c5ba17d44445925",
   "execution_count": 7
  },
  {
   "cell_type": "code",
   "outputs": [
    {
     "name": "stdout",
     "output_type": "stream",
     "text": [
      "AUDIO -- The unbalanced accuracy for ResNet on FGSM ResNet 3s and epsilon=3.0 is 12.20%\n",
      "AUDIO -- The unbalanced accuracy for SENet on FGSM SENet 3s and epsilon=3.0 is 49.94%\n",
      "AUDIO -- The unbalanced accuracy for ResNet on FGSM SENet 3s and epsilon=3.0 is 84.87%\n",
      "AUDIO -- The unbalanced accuracy for SENet on FGSM ResNet 3s and epsilon=3.0 is 69.59%\n"
     ]
    }
   ],
   "source": [
    "UA_res_FGSM_ResNet_3s_3_AUDIO = accuracy_score(y_true=GT_res_FGSM_ResNet_3s_3_AUDIO, y_pred=pred_labels_res_FGSM_ResNet_3s_3_AUDIO)\n",
    "UA_sen_FGSM_SENet_3s_3_AUDIO = accuracy_score(y_true=GT_sen_FGSM_SENet_3s_3_AUDIO, y_pred=pred_labels_sen_FGSM_SENet_3s_3_AUDIO)\n",
    "\n",
    "UA_res_FGSM_SENet_3s_3_AUDIO = accuracy_score(y_true=GT_res_FGSM_SENet_3s_3_AUDIO, y_pred=pred_labels_res_FGSM_SENet_3s_3_AUDIO)\n",
    "UA_sen_FGSM_ResNet_3s_3_AUDIO = accuracy_score(y_true=GT_sen_FGSM_ResNet_3s_3_AUDIO, y_pred=pred_labels_sen_FGSM_ResNet_3s_3_AUDIO)\n",
    "\n",
    "print(f'AUDIO -- The unbalanced accuracy for ResNet on FGSM ResNet 3s and epsilon=3.0 is {UA_res_FGSM_ResNet_3s_3_AUDIO*100:.2f}%\\n'\n",
    "      f'AUDIO -- The unbalanced accuracy for SENet on FGSM SENet 3s and epsilon=3.0 is {UA_sen_FGSM_SENet_3s_3_AUDIO*100:.2f}%\\n'\n",
    "      f'AUDIO -- The unbalanced accuracy for ResNet on FGSM SENet 3s and epsilon=3.0 is {UA_res_FGSM_SENet_3s_3_AUDIO*100:.2f}%\\n'\n",
    "      f'AUDIO -- The unbalanced accuracy for SENet on FGSM ResNet 3s and epsilon=3.0 is {UA_sen_FGSM_ResNet_3s_3_AUDIO*100:.2f}%')"
   ],
   "metadata": {
    "collapsed": false,
    "ExecuteTime": {
     "end_time": "2024-09-17T21:30:20.307643Z",
     "start_time": "2024-09-17T21:30:20.247817Z"
    }
   },
   "id": "2b9cea77947d9d3b",
   "execution_count": 8
  },
  {
   "cell_type": "code",
   "outputs": [
    {
     "name": "stdout",
     "output_type": "stream",
     "text": [
      "AUDIO -- The unbalanced accuracy for ResNet on clean 3s dataset is 85.60%\n",
      "AUDIO -- The unbalanced accuracy for SENet on clean 3s dataset is 81.21%\n"
     ]
    }
   ],
   "source": [
    "UA_res_FGSM_ResNet_3s_clean_AUDIO = accuracy_score(y_true=GT_res_FGSM_ResNet_3s_clean_AUDIO, y_pred=pred_labels_res_FGSM_ResNet_3s_clean_AUDIO)\n",
    "UA_sen_FGSM_ResNet_3s_clean_AUDIO = accuracy_score(y_true=GT_sen_FGSM_ResNet_3s_clean_AUDIO, y_pred=pred_labels_sen_FGSM_ResNet_3s_clean_AUDIO)\n",
    "\n",
    "print(f'AUDIO -- The unbalanced accuracy for ResNet on clean 3s dataset is {UA_res_FGSM_ResNet_3s_clean_AUDIO*100:.2f}%\\n'\n",
    "      f'AUDIO -- The unbalanced accuracy for SENet on clean 3s dataset is {UA_sen_FGSM_ResNet_3s_clean_AUDIO*100:.2f}%')"
   ],
   "metadata": {
    "collapsed": false,
    "ExecuteTime": {
     "end_time": "2024-09-17T21:30:20.340079Z",
     "start_time": "2024-09-17T21:30:20.308969Z"
    }
   },
   "id": "e0c56ebc1aace34",
   "execution_count": 9
  },
  {
   "cell_type": "code",
   "outputs": [
    {
     "name": "stdout",
     "output_type": "stream",
     "text": [
      "SPEC -- The unbalanced accuracy for ResNet on FGSM ResNet 3s and epsilon=3.0 is 0.00%\n",
      "SPEC -- The unbalanced accuracy for ResNet on FGSM ResNet 3s and epsilon=3.0 is 11.28%\n",
      "SPEC -- The unbalanced accuracy for ResNet on FGSM SENet 3s and epsilon=3.0 is 84.48%\n",
      "SPEC -- The unbalanced accuracy for SENet on FGSM ResNet 3s and epsilon=3.0 is 75.87%\n",
      "SPEC -- The unbalanced accuracy for LCNN on FGSM ResNet 3s and epsilon=3.0 is 33.51%\n",
      "SPEC -- The unbalanced accuracy for LCNN on FGSM SENet 3s and epsilon=3.0 is 25.70%\n"
     ]
    }
   ],
   "source": [
    "UA_res_FGSM_ResNet_3s_3_SPEC = accuracy_score(y_true=GT_res_FGSM_ResNet_3s_3_SPEC, y_pred=pred_labels_res_FGSM_ResNet_3s_3_SPEC)\n",
    "UA_sen_FGSM_SENet_3s_3_SPEC = accuracy_score(y_true=GT_sen_FGSM_SENet_3s_3_SPEC, y_pred=pred_labels_sen_FGSM_SENet_3s_3_SPEC)\n",
    "\n",
    "UA_res_FGSM_SENet_3s_3_SPEC = accuracy_score(y_true=GT_res_FGSM_SENet_3s_3_SPEC, y_pred=pred_labels_res_FGSM_SENet_3s_3_SPEC)\n",
    "UA_sen_FGSM_ResNet_3s_3_SPEC = accuracy_score(y_true=GT_sen_FGSM_ResNet_3s_3_SPEC, y_pred=pred_labels_sen_FGSM_ResNet_3s_3_SPEC)\n",
    "\n",
    "#LCNN\n",
    "UA_lcnn_FGSM_SENet_3s_3_SPEC = accuracy_score(y_true=GT_lcnn_FGSM_SENet_3s_3_SPEC, y_pred=pred_labels_lcnn_FGSM_SENet_3s_3_SPEC)\n",
    "UA_lcnn_FGSM_ResNet_3s_3_SPEC = accuracy_score(y_true=GT_lcnn_FGSM_ResNet_3s_3_SPEC, y_pred=pred_labels_lcnn_FGSM_ResNet_3s_3_SPEC)\n",
    "\n",
    "print(f'SPEC -- The unbalanced accuracy for ResNet on FGSM ResNet 3s and epsilon=3.0 is {UA_res_FGSM_ResNet_3s_3_SPEC*100:.2f}%\\n'\n",
    "      f'SPEC -- The unbalanced accuracy for ResNet on FGSM ResNet 3s and epsilon=3.0 is {UA_sen_FGSM_SENet_3s_3_SPEC*100:.2f}%\\n'\n",
    "      f'SPEC -- The unbalanced accuracy for ResNet on FGSM SENet 3s and epsilon=3.0 is {UA_res_FGSM_SENet_3s_3_SPEC*100:.2f}%\\n'\n",
    "      f'SPEC -- The unbalanced accuracy for SENet on FGSM ResNet 3s and epsilon=3.0 is {UA_sen_FGSM_ResNet_3s_3_SPEC*100:.2f}%\\n'\n",
    "      f'SPEC -- The unbalanced accuracy for LCNN on FGSM ResNet 3s and epsilon=3.0 is {UA_lcnn_FGSM_ResNet_3s_3_SPEC*100:.2f}%\\n'\n",
    "      f'SPEC -- The unbalanced accuracy for LCNN on FGSM SENet 3s and epsilon=3.0 is {UA_lcnn_FGSM_SENet_3s_3_SPEC*100:.2f}%')"
   ],
   "metadata": {
    "collapsed": false,
    "ExecuteTime": {
     "end_time": "2024-09-17T21:30:20.429873Z",
     "start_time": "2024-09-17T21:30:20.342867Z"
    }
   },
   "id": "def24987427bcff4",
   "execution_count": 10
  },
  {
   "cell_type": "code",
   "outputs": [
    {
     "name": "stdout",
     "output_type": "stream",
     "text": [
      "SPEC -- The unbalanced accuracy for ResNet on clean 3s dataset is 85.57%\n",
      "SPEC -- The unbalanced accuracy for SENet on clean 3s dataset is 80.96%\n"
     ]
    }
   ],
   "source": [
    "UA_res_FGSM_ResNet_3s_clean_SPEC = accuracy_score(y_true=GT_res_FGSM_ResNet_3s_clean_SPEC, y_pred=pred_labels_res_FGSM_ResNet_3s_clean_SPEC)\n",
    "UA_sen_FGSM_ResNet_3s_clean_SPEC = accuracy_score(y_true=GT_sen_FGSM_ResNet_3s_clean_SPEC, y_pred=pred_labels_sen_FGSM_ResNet_3s_clean_SPEC)\n",
    "\n",
    "print(f'SPEC -- The unbalanced accuracy for ResNet on clean 3s dataset is {UA_res_FGSM_ResNet_3s_clean_SPEC*100:.2f}%\\n'\n",
    "      f'SPEC -- The unbalanced accuracy for SENet on clean 3s dataset is {UA_sen_FGSM_ResNet_3s_clean_SPEC*100:.2f}%')"
   ],
   "metadata": {
    "collapsed": false,
    "ExecuteTime": {
     "end_time": "2024-09-17T21:30:20.463316Z",
     "start_time": "2024-09-17T21:30:20.431197Z"
    }
   },
   "id": "bdfcbaa2aa37863b",
   "execution_count": 11
  },
  {
   "cell_type": "markdown",
   "source": [
    "***\n",
    "## Balanced accuracy"
   ],
   "metadata": {
    "collapsed": false
   },
   "id": "7cec3a5b1f9ff436"
  },
  {
   "cell_type": "code",
   "outputs": [
    {
     "name": "stdout",
     "output_type": "stream",
     "text": [
      "AUDIO -- The balanced accuracy for ResNet on the ensemble attack 10 10 epsilon=3.0 is 22.28%\n",
      "AUDIO -- The balanced accuracy for SENet on the ensemble attack 10 10 epsilon=3.0 is 64.09%\n",
      "AUDIO -- The balanced accuracy for LCNN on the ensemble attack 10 10 epsilon=3.0 is 65.60%\n"
     ]
    }
   ],
   "source": [
    "BA_res_ens1010_3 = balanced_accuracy_score(y_true=GT_res_ens1010_3, y_pred=pred_labels_res_ens1010_3)\n",
    "BA_sen_ens1010_3 = balanced_accuracy_score(y_true=GT_sen_ens1010_3, y_pred=pred_labels_sen_ens1010_3)\n",
    "BA_lcnn_ens1010_3 = balanced_accuracy_score(y_true=GT_lcnn_ens1010_3, y_pred=pred_labels_lcnn_ens1010_3)\n",
    "\n",
    "print(\n",
    "    f'AUDIO -- The balanced accuracy for ResNet on the ensemble attack 10 10 epsilon=3.0 is {BA_res_ens1010_3*100:.2f}%\\n'\n",
    "    f'AUDIO -- The balanced accuracy for SENet on the ensemble attack 10 10 epsilon=3.0 is {BA_sen_ens1010_3*100:.2f}%\\n'\n",
    "    f'AUDIO -- The balanced accuracy for LCNN on the ensemble attack 10 10 epsilon=3.0 is {BA_lcnn_ens1010_3*100:.2f}%')"
   ],
   "metadata": {
    "collapsed": false,
    "ExecuteTime": {
     "end_time": "2024-09-17T21:30:20.520215Z",
     "start_time": "2024-09-17T21:30:20.464696Z"
    }
   },
   "id": "3704427624a170c",
   "execution_count": 12
  },
  {
   "cell_type": "code",
   "outputs": [
    {
     "name": "stdout",
     "output_type": "stream",
     "text": [
      "AUDIO -- The balanced accuracy for ResNet on FGSM ResNet 3s and epsilon=3.0 is 7.17%\n",
      "AUDIO -- The balanced accuracy for SENet on FGSM SENet 3s and epsilon=3.0 is 60.23%\n",
      "AUDIO -- The balanced accuracy for ResNet on FGSM SENet 3s and epsilon=3.0 is 88.03%\n",
      "AUDIO -- The balanced accuracy for SENet on FGSM ResNet 3s and epsilon=3.0 is 76.72%\n"
     ]
    }
   ],
   "source": [
    "BA_res_FGSM_ResNet_3s_3_AUDIO = balanced_accuracy_score(y_true=GT_res_FGSM_ResNet_3s_3_AUDIO, y_pred=pred_labels_res_FGSM_ResNet_3s_3_AUDIO)\n",
    "BA_sen_FGSM_SENet_3s_3_AUDIO = balanced_accuracy_score(y_true=GT_sen_FGSM_SENet_3s_3_AUDIO, y_pred=pred_labels_sen_FGSM_SENet_3s_3_AUDIO)\n",
    "\n",
    "BA_res_FGSM_SENet_3s_3_AUDIO = balanced_accuracy_score(y_true=GT_res_FGSM_SENet_3s_3_AUDIO, y_pred=pred_labels_res_FGSM_SENet_3s_3_AUDIO)\n",
    "BA_sen_FGSM_ResNet_3s_3_AUDIO = balanced_accuracy_score(y_true=GT_sen_FGSM_ResNet_3s_3_AUDIO, y_pred=pred_labels_sen_FGSM_ResNet_3s_3_AUDIO)\n",
    "\n",
    "print(f'AUDIO -- The balanced accuracy for ResNet on FGSM ResNet 3s and epsilon=3.0 is {BA_res_FGSM_ResNet_3s_3_AUDIO*100:.2f}%\\n'\n",
    "      f'AUDIO -- The balanced accuracy for SENet on FGSM SENet 3s and epsilon=3.0 is {BA_sen_FGSM_SENet_3s_3_AUDIO*100:.2f}%\\n'\n",
    "      f'AUDIO -- The balanced accuracy for ResNet on FGSM SENet 3s and epsilon=3.0 is {BA_res_FGSM_SENet_3s_3_AUDIO*100:.2f}%\\n'\n",
    "      f'AUDIO -- The balanced accuracy for SENet on FGSM ResNet 3s and epsilon=3.0 is {BA_sen_FGSM_ResNet_3s_3_AUDIO*100:.2f}%')"
   ],
   "metadata": {
    "collapsed": false,
    "ExecuteTime": {
     "end_time": "2024-09-17T21:30:20.598206Z",
     "start_time": "2024-09-17T21:30:20.521605Z"
    }
   },
   "id": "8a35c5cdebd78e15",
   "execution_count": 13
  },
  {
   "cell_type": "code",
   "outputs": [
    {
     "name": "stdout",
     "output_type": "stream",
     "text": [
      "AUDIO -- The balanced accuracy for ResNet on clean 3s dataset is 88.83%\n",
      "AUDIO -- The balanced accuracy for SENet on clean 3s dataset is 87.60%\n"
     ]
    }
   ],
   "source": [
    "BA_res_FGSM_ResNet_3s_clean_AUDIO = balanced_accuracy_score(y_true=GT_res_FGSM_ResNet_3s_clean_AUDIO, y_pred=pred_labels_res_FGSM_ResNet_3s_clean_AUDIO)\n",
    "BA_sen_FGSM_ResNet_3s_clean_AUDIO = balanced_accuracy_score(y_true=GT_sen_FGSM_ResNet_3s_clean_AUDIO, y_pred=pred_labels_sen_FGSM_ResNet_3s_clean_AUDIO)\n",
    "\n",
    "print(f'AUDIO -- The balanced accuracy for ResNet on clean 3s dataset is {BA_res_FGSM_ResNet_3s_clean_AUDIO*100:.2f}%\\n'\n",
    "      f'AUDIO -- The balanced accuracy for SENet on clean 3s dataset is {BA_sen_FGSM_ResNet_3s_clean_AUDIO*100:.2f}%')"
   ],
   "metadata": {
    "collapsed": false,
    "ExecuteTime": {
     "end_time": "2024-09-17T21:30:20.635822Z",
     "start_time": "2024-09-17T21:30:20.599507Z"
    }
   },
   "id": "4dc6a9714ee56cd3",
   "execution_count": 14
  },
  {
   "cell_type": "code",
   "outputs": [
    {
     "name": "stdout",
     "output_type": "stream",
     "text": [
      "SPEC -- The balanced accuracy for ResNet on FGSM ResNet 3s and epsilon=3.0 is 0.00%\n",
      "SPEC -- The balanced accuracy for SENet on FGSM SENet 3s and epsilon=3.0 is 6.54%\n",
      "SPEC -- The balanced accuracy for ResNet on FGSM SENet 3s and epsilon=3.0 is 88.01%\n",
      "SPEC -- The balanced accuracy for SENet on FGSM ResNet 3s and epsilon=3.0 is 78.62%\n",
      "SPEC -- The balanced accuracy for LCNN on FGSM ResNet 3s and epsilon=3.0 is 61.40%\n",
      "SPEC -- The balanced accuracy for LCNN on FGSM SENet 3s and epsilon=3.0 is 56.91%\n"
     ]
    }
   ],
   "source": [
    "BA_res_FGSM_ResNet_3s_3_SPEC = balanced_accuracy_score(y_true=GT_res_FGSM_ResNet_3s_3_SPEC, y_pred=pred_labels_res_FGSM_ResNet_3s_3_SPEC)\n",
    "BA_sen_FGSM_SENet_3s_3_SPEC = balanced_accuracy_score(y_true=GT_sen_FGSM_SENet_3s_3_SPEC, y_pred=pred_labels_sen_FGSM_SENet_3s_3_SPEC)\n",
    "\n",
    "BA_res_FGSM_SENet_3s_3_SPEC = balanced_accuracy_score(y_true=GT_res_FGSM_SENet_3s_3_SPEC, y_pred=pred_labels_res_FGSM_SENet_3s_3_SPEC)\n",
    "BA_sen_FGSM_ResNet_3s_3_SPEC = balanced_accuracy_score(y_true=GT_sen_FGSM_ResNet_3s_3_SPEC, y_pred=pred_labels_sen_FGSM_ResNet_3s_3_SPEC)\n",
    "\n",
    "BA_lcnn_FGSM_SENet_3s_3_SPEC = balanced_accuracy_score(y_true=GT_lcnn_FGSM_SENet_3s_3_SPEC, y_pred=pred_labels_lcnn_FGSM_SENet_3s_3_SPEC)\n",
    "BA_lcnn_FGSM_ResNet_3s_3_SPEC = balanced_accuracy_score(y_true=GT_lcnn_FGSM_ResNet_3s_3_SPEC, y_pred=pred_labels_lcnn_FGSM_ResNet_3s_3_SPEC)\n",
    "\n",
    "print(f'SPEC -- The balanced accuracy for ResNet on FGSM ResNet 3s and epsilon=3.0 is {BA_res_FGSM_ResNet_3s_3_SPEC*100:.2f}%\\n'\n",
    "      f'SPEC -- The balanced accuracy for SENet on FGSM SENet 3s and epsilon=3.0 is {BA_sen_FGSM_SENet_3s_3_SPEC*100:.2f}%\\n'\n",
    "      f'SPEC -- The balanced accuracy for ResNet on FGSM SENet 3s and epsilon=3.0 is {BA_res_FGSM_SENet_3s_3_SPEC*100:.2f}%\\n'\n",
    "      f'SPEC -- The balanced accuracy for SENet on FGSM ResNet 3s and epsilon=3.0 is {BA_sen_FGSM_ResNet_3s_3_SPEC*100:.2f}%\\n'\n",
    "      f'SPEC -- The balanced accuracy for LCNN on FGSM ResNet 3s and epsilon=3.0 is {BA_lcnn_FGSM_ResNet_3s_3_SPEC*100:.2f}%\\n'\n",
    "      f'SPEC -- The balanced accuracy for LCNN on FGSM SENet 3s and epsilon=3.0 is {BA_lcnn_FGSM_SENet_3s_3_SPEC*100:.2f}%\\n')"
   ],
   "metadata": {
    "collapsed": false,
    "ExecuteTime": {
     "end_time": "2024-09-17T21:30:20.744963Z",
     "start_time": "2024-09-17T21:30:20.637237Z"
    }
   },
   "id": "538d4403244a3fe1",
   "execution_count": 15
  },
  {
   "cell_type": "code",
   "outputs": [
    {
     "name": "stdout",
     "output_type": "stream",
     "text": [
      "SPEC -- The balanced accuracy for ResNet on clean 3s dataset is 88.78%\n",
      "SPEC -- The balanced accuracy for SENet on clean 3s dataset is 86.79%\n"
     ]
    }
   ],
   "source": [
    "BA_res_FGSM_ResNet_3s_clean_SPEC = balanced_accuracy_score(y_true=GT_res_FGSM_ResNet_3s_clean_SPEC, y_pred=pred_labels_res_FGSM_ResNet_3s_clean_SPEC)\n",
    "BA_sen_FGSM_ResNet_3s_clean_SPEC = balanced_accuracy_score(y_true=GT_sen_FGSM_ResNet_3s_clean_SPEC, y_pred=pred_labels_sen_FGSM_ResNet_3s_clean_SPEC)\n",
    "\n",
    "print(f'SPEC -- The balanced accuracy for ResNet on clean 3s dataset is {BA_res_FGSM_ResNet_3s_clean_SPEC*100:.2f}%\\n'\n",
    "      f'SPEC -- The balanced accuracy for SENet on clean 3s dataset is {BA_sen_FGSM_ResNet_3s_clean_SPEC*100:.2f}%')"
   ],
   "metadata": {
    "collapsed": false,
    "ExecuteTime": {
     "end_time": "2024-09-17T21:30:20.782469Z",
     "start_time": "2024-09-17T21:30:20.746340Z"
    }
   },
   "id": "6f7f309c23111ff7",
   "execution_count": 16
  },
  {
   "cell_type": "code",
   "outputs": [],
   "source": [],
   "metadata": {
    "collapsed": false,
    "ExecuteTime": {
     "end_time": "2024-09-17T21:30:20.785924Z",
     "start_time": "2024-09-17T21:30:20.783777Z"
    }
   },
   "id": "8f9bac3129f28b25",
   "execution_count": 16
  }
 ],
 "metadata": {
  "kernelspec": {
   "display_name": "Python 3",
   "language": "python",
   "name": "python3"
  },
  "language_info": {
   "codemirror_mode": {
    "name": "ipython",
    "version": 2
   },
   "file_extension": ".py",
   "mimetype": "text/x-python",
   "name": "python",
   "nbconvert_exporter": "python",
   "pygments_lexer": "ipython2",
   "version": "2.7.6"
  }
 },
 "nbformat": 4,
 "nbformat_minor": 5
}
