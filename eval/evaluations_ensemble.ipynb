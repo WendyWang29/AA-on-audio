{
 "cells": [
  {
   "cell_type": "markdown",
   "source": [
    "# EVALUATIONS ON THE ENSEMBLE ATTACK\n",
    "Models used: ResNet, SENet"
   ],
   "metadata": {
    "collapsed": false
   },
   "id": "dffa53fb0f744248"
  },
  {
   "cell_type": "code",
   "outputs": [],
   "source": [
    "import pandas as pd\n",
    "\n",
    "from src.utils import *\n",
    "import sys\n",
    "import csv\n",
    "import re\n",
    "from sklearn.metrics import accuracy_score, balanced_accuracy_score, roc_curve, auc"
   ],
   "metadata": {
    "collapsed": false,
    "ExecuteTime": {
     "end_time": "2024-09-13T09:57:40.593015Z",
     "start_time": "2024-09-13T09:57:40.587105Z"
    }
   },
   "id": "869ea9a43c0110c2",
   "execution_count": 32
  },
  {
   "cell_type": "code",
   "outputs": [],
   "source": [
    "probs_res_ens1010_3_csv = '../eval/prob_ResNet_Ensemble_10_10_3dot0.csv'\n",
    "probs_res_ens1010_3 = pd.read_csv(probs_res_ens1010_3_csv, header=0, engine='python')\n",
    "\n",
    "probs_sen_ens1010_3_csv = '../eval/prob_SENet_Ensemble_10_10_3dot0.csv'\n",
    "probs_sen_ens1010_3 = pd.read_csv(probs_sen_ens1010_3_csv, header=0, engine='python')"
   ],
   "metadata": {
    "collapsed": false,
    "ExecuteTime": {
     "end_time": "2024-09-13T09:57:41.261394Z",
     "start_time": "2024-09-13T09:57:41.016782Z"
    }
   },
   "id": "a5d456e850d16cfc",
   "execution_count": 33
  },
  {
   "cell_type": "code",
   "outputs": [
    {
     "data": {
      "text/plain": "31488"
     },
     "execution_count": 34,
     "metadata": {},
     "output_type": "execute_result"
    }
   ],
   "source": [
    "len(probs_res_ens1010_3)"
   ],
   "metadata": {
    "collapsed": false,
    "ExecuteTime": {
     "end_time": "2024-09-13T09:57:41.857709Z",
     "start_time": "2024-09-13T09:57:41.853738Z"
    }
   },
   "id": "dee70908c667d84",
   "execution_count": 34
  },
  {
   "cell_type": "code",
   "outputs": [
    {
     "data": {
      "text/plain": "31488"
     },
     "execution_count": 35,
     "metadata": {},
     "output_type": "execute_result"
    }
   ],
   "source": [
    "len(probs_sen_ens1010_3)"
   ],
   "metadata": {
    "collapsed": false,
    "ExecuteTime": {
     "end_time": "2024-09-13T09:57:42.382849Z",
     "start_time": "2024-09-13T09:57:42.375485Z"
    }
   },
   "id": "13f709c75b0d6dd4",
   "execution_count": 35
  },
  {
   "cell_type": "code",
   "outputs": [
    {
     "name": "stdout",
     "output_type": "stream",
     "text": [
      "31489\n"
     ]
    }
   ],
   "source": [
    "# GT labels\n",
    "eval_csv = '../data/df_eval_19_3s.csv'\n",
    "df_eval = pd.read_csv(eval_csv)\n",
    "GT_labels = df_eval.iloc[:,-1].tolist()\n",
    "print(len(GT_labels))"
   ],
   "metadata": {
    "collapsed": false,
    "ExecuteTime": {
     "end_time": "2024-09-13T09:57:43.152452Z",
     "start_time": "2024-09-13T09:57:43.072747Z"
    }
   },
   "id": "87270cc7e73304c3",
   "execution_count": 36
  },
  {
   "cell_type": "markdown",
   "source": [
    "***\n",
    "## Extract predicted labels in the same order as in df_eval_19_3s"
   ],
   "metadata": {
    "collapsed": false
   },
   "id": "4b03f0b223af48d5"
  },
  {
   "cell_type": "code",
   "outputs": [],
   "source": [
    "def extract_id(file_path):\n",
    "    match = re.search(r'LA_E_(\\d+)', file_path)\n",
    "    if match:\n",
    "        return match.group(1)\n",
    "    return None\n",
    "    \n",
    "    \n",
    "def pred_probabilities(file2_path):\n",
    "    # read df_eval_19\n",
    "    file1_path = '../data/df_eval_19_3s.csv'\n",
    "    \n",
    "    file1_ids = []\n",
    "    missing_idx = []\n",
    "    with open(file1_path, 'r') as file1:\n",
    "        csv_reader = csv.reader(file1)\n",
    "        for index, row in enumerate(csv_reader):\n",
    "            file_id = extract_id(row[1])\n",
    "            if file_id:\n",
    "                file1_ids.append((index, file_id))\n",
    "    \n",
    "    # read second file and store data in a dictionary\n",
    "    file2_data = {}\n",
    "    with open(file2_path, 'r') as file2:\n",
    "        csv_reader = csv.reader(file2)\n",
    "        for row in csv_reader:\n",
    "            file_id = extract_id(row[0])\n",
    "            if file_id:\n",
    "                file2_data[file_id] = (float(row[1]), float(row[2]))\n",
    "                \n",
    "    output_array = []\n",
    "    for index, file_id in file1_ids:\n",
    "        if file_id in file2_data:\n",
    "            col2, col3 = file2_data[file_id]\n",
    "            output_array.append(0 if col2>col3 else 1)\n",
    "        else:\n",
    "            missing_idx.append(index)\n",
    "                \n",
    "    return output_array, missing_idx"
   ],
   "metadata": {
    "collapsed": false,
    "ExecuteTime": {
     "end_time": "2024-09-13T09:57:44.139755Z",
     "start_time": "2024-09-13T09:57:44.127646Z"
    }
   },
   "id": "3c97770f47b4ba48",
   "execution_count": 37
  },
  {
   "cell_type": "markdown",
   "source": [
    "***\n",
    "## Unbalanced accuracy"
   ],
   "metadata": {
    "collapsed": false
   },
   "id": "ab1598a9039f7503"
  },
  {
   "cell_type": "code",
   "outputs": [],
   "source": [
    "pred_labels_res_ens1010_3, missing_res = pred_probabilities(file2_path=probs_res_ens1010_3_csv)"
   ],
   "metadata": {
    "collapsed": false,
    "ExecuteTime": {
     "end_time": "2024-09-13T10:00:51.105520Z",
     "start_time": "2024-09-13T10:00:50.878778Z"
    }
   },
   "id": "ae29b001f47632c1",
   "execution_count": 51
  },
  {
   "cell_type": "code",
   "outputs": [],
   "source": [
    "pred_labels_sen_ens1010_3, missing_sen = pred_probabilities(file2_path=probs_sen_ens1010_3_csv)"
   ],
   "metadata": {
    "collapsed": false,
    "ExecuteTime": {
     "end_time": "2024-09-13T10:00:51.617287Z",
     "start_time": "2024-09-13T10:00:51.410836Z"
    }
   },
   "id": "bd43f085bed8364",
   "execution_count": 52
  },
  {
   "cell_type": "code",
   "outputs": [
    {
     "name": "stdout",
     "output_type": "stream",
     "text": [
      "The unbalanced accuracy for ResNet on the ensemble attack 10 10 epsilon=3.0 is 32.47%\n",
      "The unbalanced accuracy for SENet on the ensemble attack 10 10 epsilon=3.0 is 54.64%\n"
     ]
    }
   ],
   "source": [
    "UA_res_ens1010_3 = accuracy_score(y_true=GT_labels[:-1], y_pred=pred_labels_res_ens1010_3)\n",
    "\n",
    "UA_sen_ens1010_3 = accuracy_score(y_true=GT_labels[:-1], y_pred=pred_labels_sen_ens1010_3)\n",
    "\n",
    "print(\n",
    "    f'The unbalanced accuracy for ResNet on the ensemble attack 10 10 epsilon=3.0 is {UA_res_ens1010_3*100:.2f}%\\n'\n",
    "    f'The unbalanced accuracy for SENet on the ensemble attack 10 10 epsilon=3.0 is {UA_sen_ens1010_3*100:.2f}%')"
   ],
   "metadata": {
    "collapsed": false,
    "ExecuteTime": {
     "end_time": "2024-09-13T10:01:51.624518Z",
     "start_time": "2024-09-13T10:01:51.561817Z"
    }
   },
   "id": "5c5ba17d44445925",
   "execution_count": 55
  },
  {
   "cell_type": "code",
   "outputs": [
    {
     "name": "stdout",
     "output_type": "stream",
     "text": [
      "The balanced accuracy for ResNet on the ensemble attack 10 10 epsilon=3.0 is 22.28%\n",
      "The balanced accuracy for SENet on the ensemble attack 10 10 epsilon=3.0 is 64.09%\n"
     ]
    }
   ],
   "source": [
    "BA_res_ens1010_3 = balanced_accuracy_score(y_true=GT_labels[:-1], y_pred=pred_labels_res_ens1010_3)\n",
    "\n",
    "BA_sen_ens1010_3 = balanced_accuracy_score(y_true=GT_labels[:-1], y_pred=pred_labels_sen_ens1010_3)\n",
    "\n",
    "print(\n",
    "    f'The balanced accuracy for ResNet on the ensemble attack 10 10 epsilon=3.0 is {BA_res_ens1010_3*100:.2f}%\\n'\n",
    "    f'The balanced accuracy for SENet on the ensemble attack 10 10 epsilon=3.0 is {BA_sen_ens1010_3*100:.2f}%')"
   ],
   "metadata": {
    "collapsed": false,
    "ExecuteTime": {
     "end_time": "2024-09-13T10:01:45.499479Z",
     "start_time": "2024-09-13T10:01:45.428539Z"
    }
   },
   "id": "3704427624a170c",
   "execution_count": 54
  },
  {
   "cell_type": "code",
   "outputs": [],
   "source": [],
   "metadata": {
    "collapsed": false
   },
   "id": "538d4403244a3fe1"
  }
 ],
 "metadata": {
  "kernelspec": {
   "display_name": "Python 3",
   "language": "python",
   "name": "python3"
  },
  "language_info": {
   "codemirror_mode": {
    "name": "ipython",
    "version": 2
   },
   "file_extension": ".py",
   "mimetype": "text/x-python",
   "name": "python",
   "nbconvert_exporter": "python",
   "pygments_lexer": "ipython2",
   "version": "2.7.6"
  }
 },
 "nbformat": 4,
 "nbformat_minor": 5
}
