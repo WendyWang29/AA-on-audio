{
 "cells": [
  {
   "cell_type": "markdown",
   "source": [
    "***\n",
    "# EVALUATIONS "
   ],
   "metadata": {
    "collapsed": false
   },
   "id": "201111645d8917dd"
  },
  {
   "cell_type": "code",
   "outputs": [],
   "source": [
    "from src.utils import *\n",
    "import sys\n",
    "import csv\n",
    "import re\n",
    "from sklearn.metrics import accuracy_score, balanced_accuracy_score, roc_curve, auc"
   ],
   "metadata": {
    "collapsed": false,
    "ExecuteTime": {
     "end_time": "2024-09-21T19:13:15.152526Z",
     "start_time": "2024-09-21T19:13:06.101309Z"
    }
   },
   "id": "c778f4701b2178ae",
   "execution_count": 1
  },
  {
   "cell_type": "code",
   "outputs": [],
   "source": [
    "# Function to extract the file number from a given filename\n",
    "def extract_file_number(filename):\n",
    "    match = re.search(r\"LA_E_(\\d+)\", filename)\n",
    "    if match:\n",
    "        return match.group(1)\n",
    "    return None\n",
    "\n",
    "def GT_and_predicted_labels(file2_path):\n",
    "    # Read file 1 and store the file number and label in a dictionary\n",
    "    file1_dict = {}\n",
    "    with open('../data/df_eval_19_3s.csv', 'r') as file1:\n",
    "        reader = csv.reader(file1)\n",
    "        next(reader)  # Skip header\n",
    "        for row in reader:\n",
    "            # Extract file number from the path (assuming path contains 'LA_E_xxxxxxx.flac')\n",
    "            match = re.search(r\"LA_E_(\\d+)\", row[1])\n",
    "            if match:\n",
    "                file_number = match.group(1)\n",
    "                label = int(row[2])  # Convert label to integer\n",
    "                file1_dict[file_number] = label  # Store file number and corresponding label\n",
    "    \n",
    "    # Initialize arrays for predicted classes and true labels\n",
    "    predicted_classes = []\n",
    "    true_labels = []\n",
    "    \n",
    "    # Read file 2 and process the data\n",
    "    with open(file2_path, 'r') as file2:\n",
    "        reader = csv.reader(file2)\n",
    "        next(reader)  # Skip header\n",
    "        for row in reader:\n",
    "            filename = row[0]  # Filename is in the first column\n",
    "            pred_class_0 = float(row[1])  # Prediction for class 0\n",
    "            pred_class_1 = float(row[2])  # Prediction for class 1\n",
    "        \n",
    "            # Determine predicted class: 0 if Pred.class 0 > Pred.class 1, else 1\n",
    "            if pred_class_0 > pred_class_1:\n",
    "                predicted_classes.append(0)\n",
    "            else:\n",
    "                predicted_classes.append(1)\n",
    "\n",
    "            # Extract the file number\n",
    "            file_number = extract_file_number(filename)\n",
    "\n",
    "            # Get the true label from file1_dict if the file number exists\n",
    "            if file_number in file1_dict:\n",
    "                true_labels.append(file1_dict[file_number])\n",
    "            else:\n",
    "                true_labels.append(None)  # If no matching file number is found in file 1\n",
    "    return predicted_classes, true_labels\n"
   ],
   "metadata": {
    "collapsed": false,
    "ExecuteTime": {
     "end_time": "2024-09-21T19:13:15.173636Z",
     "start_time": "2024-09-21T19:13:15.157334Z"
    }
   },
   "id": "e7f3b6d0aecae963",
   "execution_count": 2
  },
  {
   "cell_type": "code",
   "outputs": [],
   "source": [
    "def eval_attack(attack, eval_model, attack_model, model_version, type_of_spec, feature, dataset, epsilon, q_res, q_sen):\n",
    "    \n",
    "    epsilon_str = str(epsilon).replace('.', 'dot')\n",
    "    script_dir = os.getcwd()  # get directory of current script\n",
    "    \n",
    "    if attack != 'Ensemble':\n",
    "        probs_csv = f'probs_{eval_model}_{model_version}_{attack}_{attack_model}_{dataset}_{epsilon_str}_{type_of_spec}_{feature}.csv'\n",
    "        probs = pd.read_csv(os.path.join(script_dir, probs_csv), header=0, engine='python')\n",
    "    \n",
    "        #print(f'The probability list is {len(probs)} samples long')\n",
    "    \n",
    "        # GT labels\n",
    "        if dataset == '3s':\n",
    "            eval_csv = os.path.join(os.path.dirname(script_dir), 'data', 'df_eval_19_3s.csv' )\n",
    "        else:\n",
    "            eval_csv = os.path.join(os.path.dirname(script_dir), 'data', 'df_eval_19.csv' )\n",
    "        \n",
    "        df_eval = pd.read_csv(eval_csv)\n",
    "        GT_labels = df_eval.iloc[:, -1].tolist()\n",
    "        #print(f'Length of GT labels list is {len(GT_labels)}')\n",
    "    \n",
    "        pred_labels, GT_labels = GT_and_predicted_labels(file2_path=probs_csv)\n",
    "    \n",
    "        # UNBALANCED ACCURACY\n",
    "        UA = accuracy_score(y_true=GT_labels, y_pred=pred_labels)\n",
    "        BA = balanced_accuracy_score(y_true=GT_labels, y_pred=pred_labels)\n",
    "    \n",
    "        print(f'Eval model: {eval_model} {model_version}, attack: {attack}, attack model: {attack_model} {model_version}, dataset: {dataset}, eps={epsilon}, feature={feature} --> UA = {UA*100:.2f}%, BA = {BA*100:.2f}% ')\n",
    "    \n",
    "    "
   ],
   "metadata": {
    "collapsed": false,
    "ExecuteTime": {
     "end_time": "2024-09-21T19:13:15.191145Z",
     "start_time": "2024-09-21T19:13:15.176638Z"
    }
   },
   "id": "b3c3ea36aa6e4c86",
   "execution_count": 3
  },
  {
   "cell_type": "code",
   "outputs": [
    {
     "name": "stdout",
     "output_type": "stream",
     "text": [
      "Eval model: ResNet v0, attack: FGSM, attack model: ResNet v0, dataset: 3s, eps=3.0, feature=audio --> UA = 0.67%, BA = 0.39% \n"
     ]
    }
   ],
   "source": [
    "eval_attack(attack='FGSM', eval_model='ResNet', attack_model='ResNet', model_version='v0', type_of_spec='pow', feature='audio', dataset='3s', epsilon=3.0, q_res=None, q_sen=None)"
   ],
   "metadata": {
    "collapsed": false,
    "ExecuteTime": {
     "end_time": "2024-09-21T19:13:15.797940Z",
     "start_time": "2024-09-21T19:13:15.195760Z"
    }
   },
   "id": "1a5fe8fece71a298",
   "execution_count": 4
  },
  {
   "cell_type": "code",
   "outputs": [
    {
     "name": "stdout",
     "output_type": "stream",
     "text": [
      "Eval model: ResNet v0, attack: FGSM, attack model: ResNet v0, dataset: 3s, eps=3.0, feature=spec --> UA = 0.00%, BA = 0.00% \n"
     ]
    }
   ],
   "source": [
    "eval_attack(attack='FGSM', eval_model='ResNet', attack_model='ResNet', model_version='v0', type_of_spec='pow', feature='spec', dataset='3s', epsilon=3.0, q_res=None, q_sen=None)"
   ],
   "metadata": {
    "collapsed": false,
    "ExecuteTime": {
     "end_time": "2024-09-21T19:13:16.269957Z",
     "start_time": "2024-09-21T19:13:15.799499Z"
    }
   },
   "id": "569efe752eb095f7",
   "execution_count": 5
  },
  {
   "cell_type": "code",
   "outputs": [
    {
     "name": "stdout",
     "output_type": "stream",
     "text": [
      "Eval model: ResNet v0, attack: FGSM, attack model: ResNet v0, dataset: 3s, eps=0.0, feature=audio --> UA = 79.10%, BA = 86.86% \n"
     ]
    }
   ],
   "source": [
    "eval_attack(attack='FGSM', eval_model='ResNet', attack_model='ResNet', model_version='v0', type_of_spec='pow', feature='audio', dataset='3s', epsilon=0.0, q_res=None, q_sen=None)"
   ],
   "metadata": {
    "collapsed": false,
    "ExecuteTime": {
     "end_time": "2024-09-21T19:13:16.726338Z",
     "start_time": "2024-09-21T19:13:16.271488Z"
    }
   },
   "id": "2dd4f7269aa1450a",
   "execution_count": 6
  },
  {
   "cell_type": "code",
   "outputs": [
    {
     "name": "stdout",
     "output_type": "stream",
     "text": [
      "Eval model: ResNet v0, attack: FGSM, attack model: ResNet v0, dataset: 3s, eps=0.0, feature=spec --> UA = 79.81%, BA = 87.11% \n"
     ]
    }
   ],
   "source": [
    "eval_attack(attack='FGSM', eval_model='ResNet', attack_model='ResNet', model_version='v0', type_of_spec='pow', feature='spec', dataset='3s', epsilon=0.0, q_res=None, q_sen=None)"
   ],
   "metadata": {
    "collapsed": false,
    "ExecuteTime": {
     "end_time": "2024-09-21T19:13:17.299917Z",
     "start_time": "2024-09-21T19:13:16.727830Z"
    }
   },
   "id": "33ad150fd8491475",
   "execution_count": 7
  }
 ],
 "metadata": {
  "kernelspec": {
   "display_name": "Python 3",
   "language": "python",
   "name": "python3"
  },
  "language_info": {
   "codemirror_mode": {
    "name": "ipython",
    "version": 2
   },
   "file_extension": ".py",
   "mimetype": "text/x-python",
   "name": "python",
   "nbconvert_exporter": "python",
   "pygments_lexer": "ipython2",
   "version": "2.7.6"
  }
 },
 "nbformat": 4,
 "nbformat_minor": 5
}
