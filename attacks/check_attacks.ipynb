{
 "cells": [
  {
   "cell_type": "markdown",
   "source": [
    "# 22/05/2024\n",
    "Notebook for listening to the attacks etc."
   ],
   "metadata": {
    "collapsed": false
   },
   "id": "ce04482d194d98ce"
  },
  {
   "cell_type": "code",
   "outputs": [],
   "source": [
    "import IPython.display as ipd\n",
    "import numpy as np\n",
    "import librosa\n",
    "from src.audio_utils import read_audio\n",
    "from src.utils import *\n",
    "from sp_utils import spectrogram_inversion, get_spectrogram_from_audio\n",
    "from attacks_utils import retrieve_single_cached_spec, load_spec_model, evaluate_spec, get_pred_class"
   ],
   "metadata": {
    "collapsed": false,
    "ExecuteTime": {
     "end_time": "2024-05-28T20:28:44.542275Z",
     "start_time": "2024-05-28T20:28:41.651845600Z"
    }
   },
   "id": "871575a3242609fe",
   "execution_count": 1
  },
  {
   "cell_type": "code",
   "outputs": [],
   "source": [
    "device = 'cuda' if torch.cuda.is_available() else 'cpu'\n",
    "\n",
    "config_path = '../config/residualnet_train_config.yaml'\n",
    "config = read_yaml(config_path)\n",
    "\n",
    "rate = 16000"
   ],
   "metadata": {
    "collapsed": false,
    "ExecuteTime": {
     "end_time": "2024-05-28T20:21:54.063089900Z",
     "start_time": "2024-05-28T20:21:54.058089800Z"
    }
   },
   "id": "894de04ac1b145f6",
   "execution_count": 3
  },
  {
   "cell_type": "markdown",
   "source": [
    "***\n",
    "## Testing the audio pipeline\n",
    "### Original phase available"
   ],
   "metadata": {
    "collapsed": false
   },
   "id": "81c0fd0f66d6a40d"
  },
  {
   "cell_type": "code",
   "outputs": [],
   "source": [
    "# index = 5\n",
    "# file, label, spec = retrieve_single_cached_spec(config, index)\n",
    "# audio, phase = spectrogram_inversion(config, index, spec, phase_info=True, phase_to_use=None)\n",
    "# ipd.Audio(audio, rate=rate)"
   ],
   "metadata": {
    "collapsed": false,
    "ExecuteTime": {
     "start_time": "2024-05-28T20:14:49.891057Z"
    }
   },
   "id": "af446f0da39aac43",
   "execution_count": null
  },
  {
   "cell_type": "markdown",
   "source": [
    "### Original phase not available\n",
    "SPSI + Griffin_Lim"
   ],
   "metadata": {
    "collapsed": false
   },
   "id": "72227ab7faac5728"
  },
  {
   "cell_type": "code",
   "outputs": [],
   "source": [
    "# file, label, spec = retrieve_single_cached_spec(config, index)\n",
    "# audio, phase = spectrogram_inversion(config, index, spec, phase_info=False, phase_to_use=None)\n",
    "# ipd.Audio(audio, rate=rate)"
   ],
   "metadata": {
    "collapsed": false,
    "ExecuteTime": {
     "end_time": "2024-05-28T20:14:49.896057100Z",
     "start_time": "2024-05-28T20:14:49.892057200Z"
    }
   },
   "id": "fa8c215d181b1fed",
   "execution_count": null
  },
  {
   "cell_type": "markdown",
   "source": [
    "***\n",
    "## Check the cached spectrograms"
   ],
   "metadata": {
    "collapsed": false
   },
   "id": "dd5cba94df8455a1"
  },
  {
   "cell_type": "code",
   "outputs": [],
   "source": [
    "import librosa\n",
    "\n",
    "def plot_cached_spec(index, config):\n",
    "    file, label, spec = retrieve_single_cached_spec(config, index)\n",
    "    print(f'The spectrogram is {spec.shape}')\n",
    "    audio, phase = spectrogram_inversion(config, index=index, spec=spec, phase_info=True, phase_to_use=None)\n",
    "    print(f'Retrieved {file}, with label {label}')\n",
    "    plt.figure()\n",
    "    sr=16000\n",
    "    librosa.display.specshow(spec, x_axis='time', sr=sr, y_axis='linear')\n",
    "    plt.colorbar()\n",
    "    return audio\n"
   ],
   "metadata": {
    "collapsed": false,
    "ExecuteTime": {
     "start_time": "2024-05-28T20:14:49.892057200Z"
    }
   },
   "id": "6d112b1d009633a9",
   "execution_count": null
  },
  {
   "cell_type": "code",
   "outputs": [],
   "source": [
    "def plot_spec(spec):\n",
    "    plt.figure()\n",
    "    sr=16000\n",
    "    librosa.display.specshow(spec, x_axis='time', sr=sr, y_axis='linear')\n",
    "    plt.colorbar()\n",
    "    plt.show()"
   ],
   "metadata": {
    "collapsed": false,
    "ExecuteTime": {
     "start_time": "2024-05-28T20:14:49.893056900Z"
    }
   },
   "id": "887cc34a8898d182",
   "execution_count": null
  },
  {
   "cell_type": "code",
   "outputs": [],
   "source": [
    "audio= plot_cached_spec(index=1, config=config)"
   ],
   "metadata": {
    "collapsed": false,
    "ExecuteTime": {
     "start_time": "2024-05-28T20:14:49.893056900Z"
    }
   },
   "id": "39fc80fd9732e39b",
   "execution_count": null
  },
  {
   "cell_type": "code",
   "outputs": [],
   "source": [],
   "metadata": {
    "collapsed": false,
    "ExecuteTime": {
     "start_time": "2024-05-28T20:14:49.893056900Z"
    }
   },
   "id": "83fba1a0d8996986",
   "execution_count": null
  },
  {
   "cell_type": "markdown",
   "source": [
    "*** \n",
    "## Check the audios\n",
    "Function for getting whatever type of audio file (evaluation or perturbed + the class label and the model prediction in all cases)"
   ],
   "metadata": {
    "collapsed": false
   },
   "id": "78ca5d4fb2c155af"
  },
  {
   "cell_type": "code",
   "outputs": [],
   "source": [
    "def get_audio_file(config, index, attack=False, epsilon=None):\n",
    "    '''\n",
    "    Get any audio file, either from the evaluation dataset or from the perturbed audio folders.\n",
    "    Also check the model prediction on the audio file.\n",
    "    :param config: path to config file\n",
    "    :param index: index of audio wrt evaluation list\n",
    "    :param attack: None, or 'FGSM' \n",
    "    :param epsilon: epsilon value if attack is not None\n",
    "    :return: audio file and its sample rate\n",
    "    '''\n",
    "    df_eval = pd.read_csv(os.path.join('..', config[\"df_eval_path\"]))\n",
    "    file_eval = list(df_eval['path'])\n",
    "    label_eval = list(df_eval['label'])\n",
    "    file = file_eval[index]\n",
    "    label = label_eval[index]\n",
    "    \n",
    "    model = load_spec_model(device=device, config=config)\n",
    "    model.eval()\n",
    "\n",
    "    if attack:\n",
    "        split_file = os.path.splitext(os.path.basename(file))[0]\n",
    "        epsilon_str = str(epsilon).replace('.', 'dot')\n",
    "\n",
    "        if attack == 'FGSM':\n",
    "            folder = f'FGSM_data/FGSM_dataset_{epsilon_str}'\n",
    "        else:\n",
    "            pass\n",
    "\n",
    "        p_file = os.path.join(folder, f'{attack}_{split_file}_{epsilon_str}.flac')\n",
    "        spec = get_spectrogram_from_audio(p_file)\n",
    "        out = evaluate_spec(spec, model, device)\n",
    "        print(f'\\n{out}')\n",
    "        pred_class = get_pred_class(out)\n",
    "\n",
    "        print(f'Got the perturbed AUDIO {p_file}.\\nGT label = {label}.\\nEspilon = {epsilon}.\\nModel prediction is {pred_class}\\n')\n",
    "        X, sr = read_audio(p_file)\n",
    "\n",
    "    else:\n",
    "        spec = get_spectrogram_from_audio(file)\n",
    "        out = evaluate_spec(spec, model, device)\n",
    "        pred_class = get_pred_class(out)\n",
    "        print(out)\n",
    "        print(f'Got the original AUDIO {file}.\\nGT label = {label}.\\nEpsilon = {epsilon}\\nModel prediction is {pred_class}\\n')\n",
    "        X, sr = read_audio(file)\n",
    "\n",
    "    return X, sr, spec"
   ],
   "metadata": {
    "collapsed": false,
    "ExecuteTime": {
     "start_time": "2024-05-28T20:14:49.893056900Z"
    }
   },
   "id": "ce4aaf5924ff6b9f",
   "execution_count": null
  },
  {
   "cell_type": "markdown",
   "source": [
    "***\n",
    "## Check the spectrograms"
   ],
   "metadata": {
    "collapsed": false
   },
   "id": "8c6607f1c6c30c71"
  },
  {
   "cell_type": "code",
   "outputs": [],
   "source": [
    "# def get_spectrograms(config, index, attack=False, epsilon=None):\n",
    "#     # TODO not yet modified for whole perturbed datasets\n",
    "#     '''\n",
    "#     Get the cached spectrogram, either clean or perturbed\n",
    "#     :param config: path to config file\n",
    "#     :param index: index of the file wrt evaluation dataset\n",
    "#     :param attack: None, or 'FGSM' or 'FGSM_1'\n",
    "#     :param epsilon: epsilon value\n",
    "#     :return: None\n",
    "#     '''\n",
    "#     model = load_spec_model(device=device, config=config)\n",
    "#     model.eval()\n",
    "# \n",
    "#     if attack:\n",
    "#         df_eval = pd.read_csv(os.path.join('..', config[\"df_eval_path\"]))\n",
    "#         file_eval = list(df_eval['path'])\n",
    "#         label_eval = list(df_eval['label'])\n",
    "#         file = file_eval[index]\n",
    "#         label = label_eval[index]\n",
    "# \n",
    "#         split_file = os.path.splitext(os.path.basename(file))[0]\n",
    "#         epsilon_str = str(epsilon).replace('.', 'dot')\n",
    "# \n",
    "#         if attack == 'FGSM':\n",
    "#             folder = 'FGSM_data/p_specs'\n",
    "#         else:\n",
    "#             pass\n",
    "# \n",
    "#         p_spec_path = os.path.join(folder, f'{attack}_{split_file}_{epsilon_str}.npy')\n",
    "#         p_spec = np.load(p_spec_path)\n",
    "#         out = evaluate_spec(p_spec, model, device)\n",
    "#         print(f'\\n{out}')\n",
    "#         pred_class = get_pred_class(out)\n",
    "#         print(f'Got the perturbed spectrogram {p_spec_path}.\\nGT label = {label}.\\nEpsilon = {epsilon}\\nModel prediction is {pred_class}')\n",
    "#         \n",
    "# \n",
    "#     else:\n",
    "#         file, label, spec = retrieve_single_cached_spec(config, index)\n",
    "#         out = evaluate_spec(spec, model, device)\n",
    "#         pred_class = get_pred_class(out)\n",
    "#         print(f'Got the original spectrogram {file}.\\nGT label = {label}.\\nEpsilon = {epsilon}\\nModel prediction is {pred_class}')\n",
    "#         \n",
    "#    \n",
    "\n",
    "\n"
   ],
   "metadata": {
    "collapsed": false,
    "ExecuteTime": {
     "start_time": "2024-05-28T20:14:49.894057100Z"
    }
   },
   "id": "233891f52cb711bc",
   "execution_count": null
  },
  {
   "cell_type": "markdown",
   "source": [
    "### Check the files"
   ],
   "metadata": {
    "collapsed": false
   },
   "id": "7d98536ac9428adc"
  },
  {
   "cell_type": "code",
   "outputs": [],
   "source": [
    "# model prediction on SPECTROGRAM (non reconverted)  that has gotten through eps=0.0\n",
    "path = 'FGSM_data/FGSM_dataset_0dot0_specs/FGSM_LA_E_2834763_0dot0.npy'\n",
    "spect = np.load(path)\n",
    "model = load_spec_model(device=device, config=config)\n",
    "model.eval()\n",
    "out = evaluate_spec(spect, model, device)\n",
    "out"
   ],
   "metadata": {
    "collapsed": false,
    "ExecuteTime": {
     "start_time": "2024-05-28T20:14:49.894057100Z"
    }
   },
   "id": "3c0e3da0a21d7bff",
   "execution_count": null
  },
  {
   "cell_type": "code",
   "outputs": [],
   "source": [
    "# model evaluation on original spect of file (no modification whatsoever)\n",
    "_, _, spectt= retrieve_single_cached_spec(config, 0)\n",
    "outt = evaluate_spec(spectt, model, device)\n",
    "outt"
   ],
   "metadata": {
    "collapsed": false,
    "ExecuteTime": {
     "start_time": "2024-05-28T20:14:49.894057100Z"
    }
   },
   "id": "32171922beb0769f",
   "execution_count": null
  },
  {
   "cell_type": "code",
   "outputs": [],
   "source": [
    "index = 12\n",
    "epsilon = 1.0\n",
    "\n",
    "X, sr, spec = get_audio_file(config, index=index, attack=None, epsilon=None)\n",
    "X_p, sr, p_spec = get_audio_file(config, index=index, attack='FGSM', epsilon=epsilon)"
   ],
   "metadata": {
    "collapsed": false,
    "ExecuteTime": {
     "start_time": "2024-05-28T20:14:49.894057100Z"
    }
   },
   "id": "a307fc8c353194fc",
   "execution_count": null
  },
  {
   "cell_type": "code",
   "outputs": [],
   "source": [
    "plot_spec(spec)"
   ],
   "metadata": {
    "collapsed": false,
    "ExecuteTime": {
     "start_time": "2024-05-28T20:14:49.894057100Z"
    }
   },
   "id": "7da5a30888716d1d",
   "execution_count": null
  },
  {
   "cell_type": "code",
   "outputs": [],
   "source": [
    "ipd.Audio(X, rate=rate)"
   ],
   "metadata": {
    "collapsed": false,
    "ExecuteTime": {
     "start_time": "2024-05-28T20:14:49.894057100Z"
    }
   },
   "id": "34f2053bf50fb854",
   "execution_count": null
  },
  {
   "cell_type": "code",
   "outputs": [],
   "source": [
    "plot_spec(p_spec)"
   ],
   "metadata": {
    "collapsed": false,
    "ExecuteTime": {
     "start_time": "2024-05-28T20:14:49.894057100Z"
    }
   },
   "id": "13f4c2a865f2fea",
   "execution_count": null
  },
  {
   "cell_type": "code",
   "outputs": [],
   "source": [
    "ipd.Audio(X_p, rate=rate)"
   ],
   "metadata": {
    "collapsed": false,
    "ExecuteTime": {
     "start_time": "2024-05-28T20:14:49.910056500Z"
    }
   },
   "id": "feffe6fca625a07b",
   "execution_count": null
  },
  {
   "cell_type": "code",
   "outputs": [],
   "source": [],
   "metadata": {
    "collapsed": false,
    "ExecuteTime": {
     "start_time": "2024-05-28T20:14:49.910056500Z"
    }
   },
   "id": "1deb9fb7bc1ee797",
   "execution_count": null
  }
 ],
 "metadata": {
  "kernelspec": {
   "display_name": "Python 3",
   "language": "python",
   "name": "python3"
  },
  "language_info": {
   "codemirror_mode": {
    "name": "ipython",
    "version": 2
   },
   "file_extension": ".py",
   "mimetype": "text/x-python",
   "name": "python",
   "nbconvert_exporter": "python",
   "pygments_lexer": "ipython2",
   "version": "2.7.6"
  }
 },
 "nbformat": 4,
 "nbformat_minor": 5
}
