{
 "cells": [
  {
   "cell_type": "markdown",
   "source": [
    "# CHECK ATTACK (PERTURBED) FILES"
   ],
   "metadata": {
    "collapsed": false
   },
   "id": "ce04482d194d98ce"
  },
  {
   "cell_type": "code",
   "outputs": [],
   "source": [
    "import IPython.display as ipd\n",
    "import logging\n",
    "import numpy as np\n",
    "import librosa\n",
    "from src.audio_utils import read_audio\n",
    "from src.utils import *\n",
    "# from sp_utils import spectrogram_inversion, get_spectrogram_from_audio\n",
    "# from attacks_utils import retrieve_single_cached_spec, load_spec_model, evaluate_spec, get_pred_class\n",
    "from check_attacks_utils import check_attack\n",
    "\n",
    "logging.getLogger('numba').setLevel(logging.WARNING)\n",
    "logging.getLogger('matplotlib.font_manager').disabled = True\n",
    "logging.getLogger('matplotlib.colorbar').disabled = True\n",
    "logging.getLogger('matplotlib.pyplot').disabled = True\n"
   ],
   "metadata": {
    "collapsed": false,
    "ExecuteTime": {
     "end_time": "2024-09-17T12:10:44.706270Z",
     "start_time": "2024-09-17T12:10:21.902324Z"
    }
   },
   "id": "871575a3242609fe",
   "execution_count": 1
  },
  {
   "cell_type": "code",
   "outputs": [
    {
     "name": "stdout",
     "output_type": "stream",
     "text": [
      "GPU selected: 0 - NVIDIA TITAN X (Pascal)\n"
     ]
    }
   ],
   "source": [
    "seed_everything(1234)\n",
    "set_gpu(-1)\n",
    "device = 'cuda' if torch.cuda.is_available() else 'cpu'\n",
    "plt.style.use('dark_background')\n",
    "rate = 16000"
   ],
   "metadata": {
    "collapsed": false,
    "ExecuteTime": {
     "end_time": "2024-09-13T13:16:50.255462Z",
     "start_time": "2024-09-13T13:16:50.159162Z"
    }
   },
   "id": "b3d4306ef21afa28",
   "execution_count": 2
  },
  {
   "cell_type": "code",
   "outputs": [],
   "source": [
    "def compute_snr(file_number, perturbed_audio):\n",
    "    clean_audio_path = f'FGSM_ResNet/FGSM_ResNet_dataset_0dot0/FGSM_ResNet_LA_E_{file_number}_0dot0.flac' \n",
    "    clean_audio, _ = librosa.load(clean_audio_path, sr=16000)\n",
    "    noise = perturbed_audio - clean_audio\n",
    "    signal_power = np.mean(clean_audio**2)\n",
    "    noise_power = np.mean(noise**2) \n",
    "    snr = 10 * np.log10(signal_power/noise_power)\n",
    "    return snr\n",
    "\n",
    "   \n",
    "def check_and_plot(eval_model, attack_model, attack, file_number, epsilon, type_of_spec, rate):\n",
    "    perturbed_audio, original_audio, perturbed_spec, original_spec = check_attack(eval_model=eval_model,                                                   attack_model=attack_model, attack=attack, file_number=file_number,  epsilon=epsilon,type_of_spec=type_of_spec,\n",
    "                                                                 device=device)\n",
    "    print(f'SNR: {compute_snr(file_number, perturbed_audio):.2f} dB')\n",
    "    \n",
    "    plt.figure(figsize=(12,8))\n",
    "    plt.subplot(2,1,1)\n",
    "    librosa.display.specshow(original_spec, sr=rate, x_axis='time', y_axis='hz')\n",
    "    if type_of_spec == 'mag':\n",
    "        plt.colorbar(format='%+2.0f lin.')\n",
    "    elif type_of_spec == 'pow':\n",
    "        plt.colorbar(format='%+2.0f dB')\n",
    "    plt.title(f'Original signal for file {file_number}')\n",
    "    plt.subplot(2,1,2)\n",
    "    librosa.display.specshow(perturbed_spec, sr=rate, x_axis='time', y_axis='hz')\n",
    "    if type_of_spec == 'mag':\n",
    "        plt.colorbar(format='%+2.0f lin.')\n",
    "    elif type_of_spec == 'pow':\n",
    "        plt.colorbar(format='%+2.0f dB')\n",
    "    \n",
    "    plt.title(f'Perturbed signal with {attack} attack on {attack_model} eps={epsilon}')\n",
    "    plt.tight_layout()\n",
    "    plt.show()\n",
    "    \n",
    "    return perturbed_audio, original_audio\n",
    "    "
   ],
   "metadata": {
    "collapsed": false,
    "ExecuteTime": {
     "end_time": "2024-10-11T18:41:00.083410Z",
     "start_time": "2024-10-11T18:41:00.071884Z"
    }
   },
   "id": "e52b97c20b60ff64",
   "execution_count": 1
  },
  {
   "cell_type": "code",
   "outputs": [
    {
     "ename": "NameError",
     "evalue": "name 'check_attack' is not defined",
     "output_type": "error",
     "traceback": [
      "\u001B[0;31m---------------------------------------------------------------------------\u001B[0m",
      "\u001B[0;31mNameError\u001B[0m                                 Traceback (most recent call last)",
      "Cell \u001B[0;32mIn[2], line 8\u001B[0m\n\u001B[1;32m      6\u001B[0m epsilon \u001B[38;5;241m=\u001B[39m \u001B[38;5;241m3.0\u001B[39m\n\u001B[1;32m      7\u001B[0m rate \u001B[38;5;241m=\u001B[39m \u001B[38;5;241m16000\u001B[39m\n\u001B[0;32m----> 8\u001B[0m perturbed_audioB, original_audioB \u001B[38;5;241m=\u001B[39m \u001B[43mcheck_and_plot\u001B[49m\u001B[43m(\u001B[49m\u001B[43meval_model\u001B[49m\u001B[43m,\u001B[49m\u001B[43m \u001B[49m\u001B[43mattack_model\u001B[49m\u001B[43m,\u001B[49m\u001B[43m \u001B[49m\u001B[43mattack\u001B[49m\u001B[43m,\u001B[49m\u001B[43m \u001B[49m\u001B[43mfile_number\u001B[49m\u001B[43m,\u001B[49m\u001B[43m \u001B[49m\u001B[43mepsilon\u001B[49m\u001B[43m,\u001B[49m\u001B[43m \u001B[49m\u001B[43mtype_of_spec\u001B[49m\u001B[43m,\u001B[49m\u001B[43m \u001B[49m\u001B[43mrate\u001B[49m\u001B[43m)\u001B[49m\n",
      "Cell \u001B[0;32mIn[1], line 12\u001B[0m, in \u001B[0;36mcheck_and_plot\u001B[0;34m(eval_model, attack_model, attack, file_number, epsilon, type_of_spec, rate)\u001B[0m\n\u001B[1;32m     11\u001B[0m \u001B[38;5;28;01mdef\u001B[39;00m \u001B[38;5;21mcheck_and_plot\u001B[39m(eval_model, attack_model, attack, file_number, epsilon, type_of_spec, rate):\n\u001B[0;32m---> 12\u001B[0m     perturbed_audio, original_audio, perturbed_spec, original_spec \u001B[38;5;241m=\u001B[39m \u001B[43mcheck_attack\u001B[49m(eval_model\u001B[38;5;241m=\u001B[39meval_model,                                                   attack_model\u001B[38;5;241m=\u001B[39mattack_model, attack\u001B[38;5;241m=\u001B[39mattack, file_number\u001B[38;5;241m=\u001B[39mfile_number,  epsilon\u001B[38;5;241m=\u001B[39mepsilon,type_of_spec\u001B[38;5;241m=\u001B[39mtype_of_spec,\n\u001B[1;32m     13\u001B[0m                                                                  device\u001B[38;5;241m=\u001B[39mdevice)\n\u001B[1;32m     14\u001B[0m     \u001B[38;5;28mprint\u001B[39m(\u001B[38;5;124mf\u001B[39m\u001B[38;5;124m'\u001B[39m\u001B[38;5;124mSNR: \u001B[39m\u001B[38;5;132;01m{\u001B[39;00mcompute_snr(file_number,\u001B[38;5;250m \u001B[39mperturbed_audio)\u001B[38;5;132;01m:\u001B[39;00m\u001B[38;5;124m.2f\u001B[39m\u001B[38;5;132;01m}\u001B[39;00m\u001B[38;5;124m dB\u001B[39m\u001B[38;5;124m'\u001B[39m)\n\u001B[1;32m     16\u001B[0m     plt\u001B[38;5;241m.\u001B[39mfigure(figsize\u001B[38;5;241m=\u001B[39m(\u001B[38;5;241m12\u001B[39m,\u001B[38;5;241m8\u001B[39m))\n",
      "\u001B[0;31mNameError\u001B[0m: name 'check_attack' is not defined"
     ]
    }
   ],
   "source": [
    "eval_model = 'SENet'\n",
    "attack_model = 'SENet'\n",
    "attack = 'FGSM'\n",
    "type_of_spec = 'pow'\n",
    "file_number = 1000147\n",
    "epsilon = 3.0\n",
    "rate = 16000\n",
    "perturbed_audioB, original_audioB = check_and_plot(eval_model, attack_model, attack, file_number, epsilon, type_of_spec, rate)"
   ],
   "metadata": {
    "collapsed": false,
    "ExecuteTime": {
     "end_time": "2024-10-11T18:41:00.346959Z",
     "start_time": "2024-10-11T18:41:00.085077Z"
    }
   },
   "id": "6063b1c5c1b43bdd",
   "execution_count": 2
  },
  {
   "cell_type": "code",
   "outputs": [],
   "source": [
    "ipd.Audio(original_audioB, rate=16000)"
   ],
   "metadata": {
    "collapsed": false
   },
   "id": "9c061e47dc2e508f",
   "execution_count": null
  },
  {
   "cell_type": "code",
   "outputs": [],
   "source": [
    "ipd.Audio(perturbed_audioB, rate=16000)"
   ],
   "metadata": {
    "collapsed": false
   },
   "id": "e3c145cd11cc77b8",
   "execution_count": null
  },
  {
   "cell_type": "markdown",
   "source": [
    "***\n",
    "## Spectrogram inspections"
   ],
   "metadata": {
    "collapsed": false
   },
   "id": "4146f3839814d087"
  },
  {
   "cell_type": "code",
   "outputs": [],
   "source": [
    "from src.resnet_features import compute_spectrum\n",
    "file_number = 8877452\n",
    "path_to_original = f'/nas/public/dataset/asvspoof2019/LA/ASVspoof2019_LA_eval/flac/LA_E_{file_number}.flac'\n",
    "path_to_pertspec_3dot0 = f'FGSM_3s_ResNet/FGSM_ResNet_3s_dataset_3dot0/spec/FGSM_ResNet_3s_LA_E_{file_number}_3dot0.npy'\n",
    "\n",
    "clean_audio, _ = librosa.load(path_to_original, sr=16000)\n",
    "clean_spec = compute_spectrum(x=clean_audio, type_of_spec='pow')[:,:84]\n",
    "pert_spec = np.load(path_to_pertspec_3dot0)"
   ],
   "metadata": {
    "collapsed": false
   },
   "id": "b395008b6a30a1a7",
   "execution_count": null
  },
  {
   "cell_type": "code",
   "outputs": [],
   "source": [
    "y = pert_spec - clean_spec\n",
    "len(y)"
   ],
   "metadata": {
    "collapsed": false
   },
   "id": "608606f31cc8b5f5",
   "execution_count": null
  },
  {
   "cell_type": "code",
   "outputs": [],
   "source": [
    "plt.figure(figsize=(12,6))\n",
    "librosa.display.specshow(y, sr=16000)\n",
    "plt.colorbar()\n",
    "plt.show()"
   ],
   "metadata": {
    "collapsed": false
   },
   "id": "a41c8035d0089db7",
   "execution_count": null
  },
  {
   "cell_type": "code",
   "outputs": [],
   "source": [],
   "metadata": {
    "collapsed": false
   },
   "id": "c18aecdaaa3dac0d"
  }
 ],
 "metadata": {
  "kernelspec": {
   "display_name": "Python 3",
   "language": "python",
   "name": "python3"
  },
  "language_info": {
   "codemirror_mode": {
    "name": "ipython",
    "version": 2
   },
   "file_extension": ".py",
   "mimetype": "text/x-python",
   "name": "python",
   "nbconvert_exporter": "python",
   "pygments_lexer": "ipython2",
   "version": "2.7.6"
  }
 },
 "nbformat": 4,
 "nbformat_minor": 5
}
