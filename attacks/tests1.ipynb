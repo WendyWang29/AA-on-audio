{
 "cells": [
  {
   "cell_type": "code",
   "execution_count": null,
   "id": "initial_id",
   "metadata": {
    "collapsed": true
   },
   "outputs": [],
   "source": [
    "from src.utils import *\n",
    "import os\n",
    "import gc\n",
    "from src.resnet_model import SpectrogramModel\n",
    "from src.resnet_utils import LoadAttackData_ResNet\n",
    "from src.resnet_features import compute_spectrum\n",
    "from sp_utils import recover_mag_spec, retrieve_single_audio\n",
    "from torch.utils.data import DataLoader\n",
    "from tqdm import tqdm\n",
    "import torch.nn as nn\n",
    "import librosa\n",
    "import time\n",
    "import sys\n",
    "from attacks.sp_utils import spectrogram_inversion_batch\n",
    "from attacks_utils import save_perturbed_audio, save_perturbed_spec"
   ]
  },
  {
   "cell_type": "code",
   "outputs": [],
   "source": [
    "seed_everything(1234)\n",
    "set_gpu(-1)\n",
    "device = 'cuda' if torch.cuda.is_available() else 'cpu'\n",
    "\n",
    "config_path = '../config/residualnet_train_config.yaml'\n",
    "config = read_yaml(config_path)"
   ],
   "metadata": {
    "collapsed": false
   },
   "id": "a697e8f5eeb9d5c6"
  },
  {
   "cell_type": "code",
   "outputs": [],
   "source": [
    "df_eval = pd.read_csv(os.path.join('..', config['df_eval_path_3s']))"
   ],
   "metadata": {
    "collapsed": false
   },
   "id": "e5ce24ae86720b21"
  },
  {
   "cell_type": "code",
   "outputs": [],
   "source": [
    "model = SpectrogramModel().to(device)\n",
    "model.load_state_dict(torch.load(os.path.join('..', config['model_path_spec_pow_v0']), map_location=device))"
   ],
   "metadata": {
    "collapsed": false
   },
   "id": "2920872e45f66992"
  },
  {
   "cell_type": "code",
   "outputs": [],
   "source": [
    "model.eval()"
   ],
   "metadata": {
    "collapsed": false
   },
   "id": "92661564f6e9b0d2"
  },
  {
   "cell_type": "code",
   "outputs": [],
   "source": [
    "epsilon = 3.0\n",
    "epsilon_str = str(epsilon).replace('.', 'dot')\n",
    "current_dir = os.path.dirname(os.path.abspath(__file__))"
   ],
   "metadata": {
    "collapsed": false
   },
   "id": "738f1a75fcd26faf"
  },
  {
   "cell_type": "code",
   "outputs": [],
   "source": [
    "attack = 'FGSM'   #'FGSM_3s' or 'FGSM'\n",
    "epsilon = 3.0\n",
    "dataset = '3s'  # '3s' or 'whole'\n",
    "model_version = 'v0' # or 'old'\n",
    "type_of_spec = 'pow'   # 'pow' or 'mag'"
   ],
   "metadata": {
    "collapsed": false
   },
   "id": "7a316f6d0081c2b0"
  },
  {
   "cell_type": "code",
   "outputs": [],
   "source": [
    "audio_folder = f'FGSM_ResNet_{model_version}_{dataset}_{type_of_spec}_{epsilon_str}'\n",
    "audio_folder = os.path.join(current_dir, f'FGSM_ResNet_{model_version}_{type_of_spec}', audio_folder)\n",
    "spec_folder = os.path.join(current_dir, f'FGSM_ResNet_{model_version}_{type_of_spec}', audio_folder, 'spec')\n",
    "\n",
    "os.makedirs(audio_folder, exist_ok=True)\n",
    "print(f'Saving the perturbed audio in {audio_folder}...\\n')\n",
    "\n",
    "# data loader\n",
    "file_eval = list(df_eval['path'])\n",
    "labels_eval = dict(zip(df_eval['path'], df_eval['label']))"
   ],
   "metadata": {
    "collapsed": false
   },
   "id": "7080529876ba8a26"
  },
  {
   "cell_type": "code",
   "outputs": [],
   "source": [
    "feat_set = LoadAttackData_ResNet(list_IDs=file_eval,\n",
    "                                     labels=labels_eval,\n",
    "                                     win_len=config['win_len'],\n",
    "                                     config=config,\n",
    "                                     type_of_spec=type_of_spec)\n",
    "data_loader = DataLoader(feat_set,\n",
    "                             batch_size=config['eval_batch_size'],\n",
    "                             shuffle=False,\n",
    "                             num_workers=15)"
   ],
   "metadata": {
    "collapsed": false
   },
   "id": "7b18e2ee1e96fd8b"
  },
  {
   "cell_type": "code",
   "outputs": [],
   "source": [
    "for batch_x, batch_y, phase, audio_len, index in tqdm(data_loader, total=len(data_loader)):\n"
   ],
   "metadata": {
    "collapsed": false
   },
   "id": "2574a3f742716021"
  }
 ],
 "metadata": {
  "kernelspec": {
   "display_name": "Python 3",
   "language": "python",
   "name": "python3"
  },
  "language_info": {
   "codemirror_mode": {
    "name": "ipython",
    "version": 2
   },
   "file_extension": ".py",
   "mimetype": "text/x-python",
   "name": "python",
   "nbconvert_exporter": "python",
   "pygments_lexer": "ipython2",
   "version": "2.7.6"
  }
 },
 "nbformat": 4,
 "nbformat_minor": 5
}
